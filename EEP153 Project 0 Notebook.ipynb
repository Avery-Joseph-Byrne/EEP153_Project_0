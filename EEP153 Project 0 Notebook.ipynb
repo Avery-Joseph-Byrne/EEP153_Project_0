{
 "cells": [
  {
   "cell_type": "markdown",
   "metadata": {},
   "source": [
    "## EEP153 Project 0 - Team Greville"
   ]
  },
  {
   "cell_type": "markdown",
   "metadata": {},
   "source": [
    "### Import necessary libraries"
   ]
  },
  {
   "cell_type": "code",
   "execution_count": 1,
   "metadata": {
    "scrolled": true
   },
   "outputs": [
    {
     "name": "stdout",
     "output_type": "stream",
     "text": [
      "Collecting wbdata\n",
      "  Using cached wbdata-0.3.0-py3-none-any.whl (14 kB)\n",
      "Requirement already satisfied: appdirs<2.0,>=1.4 in /opt/conda/lib/python3.8/site-packages (from wbdata) (1.4.4)\n",
      "Collecting tabulate>=0.8.5\n",
      "  Using cached tabulate-0.8.7-py3-none-any.whl (24 kB)\n",
      "Requirement already satisfied: requests>=2.0 in /opt/conda/lib/python3.8/site-packages (from wbdata) (2.25.1)\n",
      "Requirement already satisfied: decorator>=4.0 in /opt/conda/lib/python3.8/site-packages (from wbdata) (4.4.2)\n",
      "Requirement already satisfied: idna<3,>=2.5 in /opt/conda/lib/python3.8/site-packages (from requests>=2.0->wbdata) (2.8)\n",
      "Requirement already satisfied: certifi>=2017.4.17 in /opt/conda/lib/python3.8/site-packages (from requests>=2.0->wbdata) (2019.11.28)\n",
      "Requirement already satisfied: urllib3<1.27,>=1.21.1 in /opt/conda/lib/python3.8/site-packages (from requests>=2.0->wbdata) (1.25.7)\n",
      "Requirement already satisfied: chardet<5,>=3.0.2 in /opt/conda/lib/python3.8/site-packages (from requests>=2.0->wbdata) (3.0.4)\n",
      "Installing collected packages: tabulate, wbdata\n",
      "Successfully installed tabulate-0.8.7 wbdata-0.3.0\n"
     ]
    },
    {
     "name": "stderr",
     "output_type": "stream",
     "text": [
      "/opt/conda/lib/python3.8/site-packages/geopandas/_compat.py:84: UserWarning:\n",
      "\n",
      "The Shapely GEOS version (3.8.0-CAPI-1.13.1 ) is incompatible with the GEOS version PyGEOS was compiled with (3.9.0-CAPI-1.16.2). Conversions between both will be slow.\n",
      "\n",
      "Error importing optional module geopandas\n",
      "Traceback (most recent call last):\n",
      "  File \"/opt/conda/lib/python3.8/site-packages/_plotly_utils/optional_imports.py\", line 30, in get_module\n",
      "    return import_module(name)\n",
      "  File \"/opt/conda/lib/python3.8/importlib/__init__.py\", line 127, in import_module\n",
      "    return _bootstrap._gcd_import(name[level:], package, level)\n",
      "  File \"<frozen importlib._bootstrap>\", line 1014, in _gcd_import\n",
      "  File \"<frozen importlib._bootstrap>\", line 991, in _find_and_load\n",
      "  File \"<frozen importlib._bootstrap>\", line 975, in _find_and_load_unlocked\n",
      "  File \"<frozen importlib._bootstrap>\", line 671, in _load_unlocked\n",
      "  File \"<frozen importlib._bootstrap_external>\", line 783, in exec_module\n",
      "  File \"<frozen importlib._bootstrap>\", line 219, in _call_with_frames_removed\n",
      "  File \"/opt/conda/lib/python3.8/site-packages/geopandas/__init__.py\", line 3, in <module>\n",
      "    from geopandas.geoseries import GeoSeries  # noqa\n",
      "  File \"/opt/conda/lib/python3.8/site-packages/geopandas/geoseries.py\", line 12, in <module>\n",
      "    from geopandas.base import GeoPandasBase, _delegate_property\n",
      "  File \"/opt/conda/lib/python3.8/site-packages/geopandas/base.py\", line 13, in <module>\n",
      "    from .array import GeometryArray, GeometryDtype\n",
      "  File \"/opt/conda/lib/python3.8/site-packages/geopandas/array.py\", line 25, in <module>\n",
      "    from . import _vectorized as vectorized\n",
      "  File \"/opt/conda/lib/python3.8/site-packages/geopandas/_vectorized.py\", line 39, in <module>\n",
      "    type_mapping = {p.value: _names[p.name] for p in pygeos.GeometryType}\n",
      "  File \"/opt/conda/lib/python3.8/site-packages/geopandas/_vectorized.py\", line 39, in <dictcomp>\n",
      "    type_mapping = {p.value: _names[p.name] for p in pygeos.GeometryType}\n",
      "KeyError: 'MISSING'\n"
     ]
    },
    {
     "data": {
      "text/html": [
       "        <script type=\"text/javascript\">\n",
       "        window.PlotlyConfig = {MathJaxConfig: 'local'};\n",
       "        if (window.MathJax) {MathJax.Hub.Config({SVG: {font: \"STIX-Web\"}});}\n",
       "        if (typeof require !== 'undefined') {\n",
       "        require.undef(\"plotly\");\n",
       "        requirejs.config({\n",
       "            paths: {\n",
       "                'plotly': ['https://cdn.plot.ly/plotly-latest.min']\n",
       "            }\n",
       "        });\n",
       "        require(['plotly'], function(Plotly) {\n",
       "            window._Plotly = Plotly;\n",
       "        });\n",
       "        }\n",
       "        </script>\n",
       "        "
      ]
     },
     "metadata": {},
     "output_type": "display_data"
    }
   ],
   "source": [
    "!pip install wbdata\n",
    "import wbdata\n",
    "import numpy as np\n",
    "import pandas as pd\n",
    "import cufflinks as cf\n",
    "cf.go_offline()"
   ]
  },
  {
   "cell_type": "markdown",
   "metadata": {},
   "source": [
    "### Create population function \n",
    "        \n",
    "Takes in a given year, population parameter (\"Male\", \"Female\", \"Everyone\"), the minimum age, the maximum age, and the desired country (ex \"USA\" or \"WLD\" for world) an returns the counts of the given age groups aggregated in 5 year intervals"
   ]
  },
  {
   "cell_type": "code",
   "execution_count": 2,
   "metadata": {},
   "outputs": [
    {
     "name": "stdout",
     "output_type": "stream",
     "text": [
      "Males 1519      2055526.0\n",
      "Males 2024      2107117.0\n",
      "Males 2529      2029664.0\n",
      "Males 3034      1993729.0\n",
      "Males 3539      2167269.0\n",
      "Males 4044      2329149.0\n",
      "Males 4549      2183220.0\n",
      "Males 5054      1877733.0\n",
      "Males 5559      1834642.0\n",
      "Males 6064      1764858.0\n",
      "Males 6569      1353073.0\n",
      "Males 7074      1132283.0\n",
      "Males 7579       894554.0\n",
      "Males 80UP      1020399.0\n",
      "Females 1519    1972199.0\n",
      "Females 2024    2067185.0\n",
      "Females 2529    2028566.0\n",
      "Females 3034    2011134.0\n",
      "Females 3539    2207305.0\n",
      "Females 4044    2382044.0\n",
      "Females 4549    2228958.0\n",
      "Females 5054    1909715.0\n",
      "Females 5559    1879547.0\n",
      "Females 6064    1830024.0\n",
      "Females 6569    1448740.0\n",
      "Females 7074    1276464.0\n",
      "Females 7579    1108272.0\n",
      "Females 80UP    1810474.0\n",
      "dtype: float64\n"
     ]
    }
   ],
   "source": [
    "def population(year, population, low, high, location):\n",
    "    age_ranges = []\n",
    "    if high > 80:\n",
    "        for i in range(low,80,5):\n",
    "            age_ranges.append(f\"{i:02d}\"+f\"{i+4:02d}\")\n",
    "        age_ranges.append(\"80UP\")\n",
    "    else:\n",
    "        if high % 5 == 0:\n",
    "            for i in range(low,high,5):\n",
    "                age_ranges.append(f\"{i:02d}\"+f\"{i+4:02d}\")\n",
    "        else:\n",
    "            for i in range(low,high,5):\n",
    "                age_ranges.append(f\"{i:02d}\"+f\"{i+4:02d}\")\n",
    "    \n",
    "    if population == \"Male\" or population == \"Males\":\n",
    "        male_variables = {\"SP.POP.\"+age_range+\".MA\":\"Males \"+age_range for age_range in age_ranges}\n",
    "        variables = male_variables\n",
    "    elif population == \"Female\" or population == \"Females\":\n",
    "        female_variables = {\"SP.POP.\"+age_range+\".FE\":\"Females \"+age_range for age_range in age_ranges}\n",
    "        variables = female_variables\n",
    "    else:\n",
    "        male_variables = {\"SP.POP.\"+age_range+\".MA\":\"Males \"+age_range for age_range in age_ranges}\n",
    "        female_variables = {\"SP.POP.\"+age_range+\".FE\":\"Females \"+age_range for age_range in age_ranges}\n",
    "        variables = male_variables\n",
    "        variables.update(female_variables)\n",
    "        \n",
    "    data = wbdata.get_dataframe(variables,country=location)\n",
    "    data.reset_index(inplace=True)\n",
    "    data['date'] = data['date'].astype(int)\n",
    "    data.set_index(['date'],inplace=True)\n",
    "    df = data.query(\"date==\"+str(year))\n",
    "    date_str = \"date==\" + str(year)\n",
    "    print(df.query(date_str).sum(axis=0))\n",
    "    \n",
    "population(2008, \"All\", 15, 85, \"GBR\")"
   ]
  },
  {
   "cell_type": "markdown",
   "metadata": {},
   "source": [
    "### Create population_df function \n",
    "        \n",
    "Takes in a given year and the desired country (ex \"USA\" or \"WLD\" for world) and returns a one row dataframe of the counts of all ages aggreagted in 5 year groups"
   ]
  },
  {
   "cell_type": "code",
   "execution_count": 3,
   "metadata": {},
   "outputs": [
    {
     "data": {
      "text/html": [
       "<div>\n",
       "<style scoped>\n",
       "    .dataframe tbody tr th:only-of-type {\n",
       "        vertical-align: middle;\n",
       "    }\n",
       "\n",
       "    .dataframe tbody tr th {\n",
       "        vertical-align: top;\n",
       "    }\n",
       "\n",
       "    .dataframe thead th {\n",
       "        text-align: right;\n",
       "    }\n",
       "</style>\n",
       "<table border=\"1\" class=\"dataframe\">\n",
       "  <thead>\n",
       "    <tr style=\"text-align: right;\">\n",
       "      <th></th>\n",
       "      <th>Males 0004</th>\n",
       "      <th>Males 0509</th>\n",
       "      <th>Males 1014</th>\n",
       "      <th>Males 1519</th>\n",
       "      <th>Males 2024</th>\n",
       "      <th>Males 2529</th>\n",
       "      <th>Males 3034</th>\n",
       "      <th>Males 3539</th>\n",
       "      <th>Males 4044</th>\n",
       "      <th>Males 4549</th>\n",
       "      <th>...</th>\n",
       "      <th>Females 3539</th>\n",
       "      <th>Females 4044</th>\n",
       "      <th>Females 4549</th>\n",
       "      <th>Females 5054</th>\n",
       "      <th>Females 5559</th>\n",
       "      <th>Females 6064</th>\n",
       "      <th>Females 6569</th>\n",
       "      <th>Females 7074</th>\n",
       "      <th>Females 7579</th>\n",
       "      <th>Females 80UP</th>\n",
       "    </tr>\n",
       "    <tr>\n",
       "      <th>date</th>\n",
       "      <th></th>\n",
       "      <th></th>\n",
       "      <th></th>\n",
       "      <th></th>\n",
       "      <th></th>\n",
       "      <th></th>\n",
       "      <th></th>\n",
       "      <th></th>\n",
       "      <th></th>\n",
       "      <th></th>\n",
       "      <th></th>\n",
       "      <th></th>\n",
       "      <th></th>\n",
       "      <th></th>\n",
       "      <th></th>\n",
       "      <th></th>\n",
       "      <th></th>\n",
       "      <th></th>\n",
       "      <th></th>\n",
       "      <th></th>\n",
       "      <th></th>\n",
       "    </tr>\n",
       "  </thead>\n",
       "  <tbody>\n",
       "    <tr>\n",
       "      <th>2008</th>\n",
       "      <td>330870369.0</td>\n",
       "      <td>316287094.0</td>\n",
       "      <td>309906090.0</td>\n",
       "      <td>313386351.0</td>\n",
       "      <td>304771450.0</td>\n",
       "      <td>270286669.0</td>\n",
       "      <td>253155153.0</td>\n",
       "      <td>245625510.0</td>\n",
       "      <td>225156305.0</td>\n",
       "      <td>195970798.0</td>\n",
       "      <td>...</td>\n",
       "      <td>239607155.0</td>\n",
       "      <td>221241964.0</td>\n",
       "      <td>193690900.0</td>\n",
       "      <td>170498344.0</td>\n",
       "      <td>146017181.0</td>\n",
       "      <td>110758552.0</td>\n",
       "      <td>89109625.0</td>\n",
       "      <td>74622378.0</td>\n",
       "      <td>54260962.0</td>\n",
       "      <td>62058514.0</td>\n",
       "    </tr>\n",
       "  </tbody>\n",
       "</table>\n",
       "<p>1 rows × 34 columns</p>\n",
       "</div>"
      ],
      "text/plain": [
       "       Males 0004   Males 0509   Males 1014   Males 1519   Males 2024  \\\n",
       "date                                                                    \n",
       "2008  330870369.0  316287094.0  309906090.0  313386351.0  304771450.0   \n",
       "\n",
       "       Males 2529   Males 3034   Males 3539   Males 4044   Males 4549  ...  \\\n",
       "date                                                                   ...   \n",
       "2008  270286669.0  253155153.0  245625510.0  225156305.0  195970798.0  ...   \n",
       "\n",
       "      Females 3539  Females 4044  Females 4549  Females 5054  Females 5559  \\\n",
       "date                                                                         \n",
       "2008   239607155.0   221241964.0   193690900.0   170498344.0   146017181.0   \n",
       "\n",
       "      Females 6064  Females 6569  Females 7074  Females 7579  Females 80UP  \n",
       "date                                                                        \n",
       "2008   110758552.0    89109625.0    74622378.0    54260962.0    62058514.0  \n",
       "\n",
       "[1 rows x 34 columns]"
      ]
     },
     "execution_count": 3,
     "metadata": {},
     "output_type": "execute_result"
    }
   ],
   "source": [
    "def population_df(year, location):\n",
    "    age_ranges = []\n",
    "    for i in range(0,80,5):\n",
    "        age_ranges.append(f\"{i:02d}\"+f\"{i+4:02d}\")\n",
    "    age_ranges.append(\"80UP\")\n",
    "\n",
    "    male_variables = {\"SP.POP.\"+age_range+\".MA\":\"Males \"+age_range for age_range in age_ranges}\n",
    "    female_variables = {\"SP.POP.\"+age_range+\".FE\":\"Females \"+age_range for age_range in age_ranges}\n",
    "    variables = male_variables\n",
    "    variables.update(female_variables)\n",
    "        \n",
    "    df = wbdata.get_dataframe(variables,country=\"WLD\")\n",
    "    #final_df = pd.DataFrame(df, columns=[\"Population Age Range\", \"Population Count\"])\n",
    "    return df.loc[[str(year)],:]\n",
    "\n",
    "population_df(2008, \"GBR\")"
   ]
  },
  {
   "cell_type": "markdown",
   "metadata": {},
   "source": [
    "### Construct setup variables for population_pyramid\n",
    "        \n",
    "Creates a list of possible age ranges aggreagted at 5 year interval with the final group being 80 years and over, as well as creating the necessary male and female variables for the API"
   ]
  },
  {
   "cell_type": "code",
   "execution_count": 4,
   "metadata": {},
   "outputs": [
    {
     "data": {
      "text/html": [
       "<div>\n",
       "<style scoped>\n",
       "    .dataframe tbody tr th:only-of-type {\n",
       "        vertical-align: middle;\n",
       "    }\n",
       "\n",
       "    .dataframe tbody tr th {\n",
       "        vertical-align: top;\n",
       "    }\n",
       "\n",
       "    .dataframe thead th {\n",
       "        text-align: right;\n",
       "    }\n",
       "</style>\n",
       "<table border=\"1\" class=\"dataframe\">\n",
       "  <thead>\n",
       "    <tr style=\"text-align: right;\">\n",
       "      <th></th>\n",
       "      <th>Males 0004</th>\n",
       "      <th>Males 0509</th>\n",
       "      <th>Males 1014</th>\n",
       "      <th>Males 1519</th>\n",
       "      <th>Males 2024</th>\n",
       "      <th>Males 2529</th>\n",
       "      <th>Males 3034</th>\n",
       "      <th>Males 3539</th>\n",
       "      <th>Males 4044</th>\n",
       "      <th>Males 4549</th>\n",
       "      <th>...</th>\n",
       "      <th>Females 3539</th>\n",
       "      <th>Females 4044</th>\n",
       "      <th>Females 4549</th>\n",
       "      <th>Females 5054</th>\n",
       "      <th>Females 5559</th>\n",
       "      <th>Females 6064</th>\n",
       "      <th>Females 6569</th>\n",
       "      <th>Females 7074</th>\n",
       "      <th>Females 7579</th>\n",
       "      <th>Females 80UP</th>\n",
       "    </tr>\n",
       "    <tr>\n",
       "      <th>date</th>\n",
       "      <th></th>\n",
       "      <th></th>\n",
       "      <th></th>\n",
       "      <th></th>\n",
       "      <th></th>\n",
       "      <th></th>\n",
       "      <th></th>\n",
       "      <th></th>\n",
       "      <th></th>\n",
       "      <th></th>\n",
       "      <th></th>\n",
       "      <th></th>\n",
       "      <th></th>\n",
       "      <th></th>\n",
       "      <th></th>\n",
       "      <th></th>\n",
       "      <th></th>\n",
       "      <th></th>\n",
       "      <th></th>\n",
       "      <th></th>\n",
       "      <th></th>\n",
       "    </tr>\n",
       "  </thead>\n",
       "  <tbody>\n",
       "    <tr>\n",
       "      <th>2020</th>\n",
       "      <td>NaN</td>\n",
       "      <td>NaN</td>\n",
       "      <td>NaN</td>\n",
       "      <td>NaN</td>\n",
       "      <td>NaN</td>\n",
       "      <td>NaN</td>\n",
       "      <td>NaN</td>\n",
       "      <td>NaN</td>\n",
       "      <td>NaN</td>\n",
       "      <td>NaN</td>\n",
       "      <td>...</td>\n",
       "      <td>NaN</td>\n",
       "      <td>NaN</td>\n",
       "      <td>NaN</td>\n",
       "      <td>NaN</td>\n",
       "      <td>NaN</td>\n",
       "      <td>NaN</td>\n",
       "      <td>NaN</td>\n",
       "      <td>NaN</td>\n",
       "      <td>NaN</td>\n",
       "      <td>NaN</td>\n",
       "    </tr>\n",
       "    <tr>\n",
       "      <th>2019</th>\n",
       "      <td>2002151.0</td>\n",
       "      <td>2083573.0</td>\n",
       "      <td>1964877.0</td>\n",
       "      <td>1860465.0</td>\n",
       "      <td>2074980.0</td>\n",
       "      <td>2261807.0</td>\n",
       "      <td>2319836.0</td>\n",
       "      <td>2222680.0</td>\n",
       "      <td>2107164.0</td>\n",
       "      <td>2131817.0</td>\n",
       "      <td>...</td>\n",
       "      <td>2250685.0</td>\n",
       "      <td>2119619.0</td>\n",
       "      <td>2177219.0</td>\n",
       "      <td>2349587.0</td>\n",
       "      <td>2243179.0</td>\n",
       "      <td>1911026.0</td>\n",
       "      <td>1730542.0</td>\n",
       "      <td>1716036.0</td>\n",
       "      <td>1242301.0</td>\n",
       "      <td>2003644.0</td>\n",
       "    </tr>\n",
       "    <tr>\n",
       "      <th>2018</th>\n",
       "      <td>2015968.0</td>\n",
       "      <td>2076882.0</td>\n",
       "      <td>1917793.0</td>\n",
       "      <td>1873417.0</td>\n",
       "      <td>2095259.0</td>\n",
       "      <td>2268214.0</td>\n",
       "      <td>2297014.0</td>\n",
       "      <td>2188332.0</td>\n",
       "      <td>2092905.0</td>\n",
       "      <td>2168240.0</td>\n",
       "      <td>...</td>\n",
       "      <td>2211818.0</td>\n",
       "      <td>2109059.0</td>\n",
       "      <td>2219689.0</td>\n",
       "      <td>2358858.0</td>\n",
       "      <td>2190603.0</td>\n",
       "      <td>1858746.0</td>\n",
       "      <td>1770028.0</td>\n",
       "      <td>1654634.0</td>\n",
       "      <td>1209696.0</td>\n",
       "      <td>1991688.0</td>\n",
       "    </tr>\n",
       "    <tr>\n",
       "      <th>2017</th>\n",
       "      <td>2031768.0</td>\n",
       "      <td>2060487.0</td>\n",
       "      <td>1867936.0</td>\n",
       "      <td>1894805.0</td>\n",
       "      <td>2112753.0</td>\n",
       "      <td>2270083.0</td>\n",
       "      <td>2269216.0</td>\n",
       "      <td>2154975.0</td>\n",
       "      <td>2085423.0</td>\n",
       "      <td>2209684.0</td>\n",
       "      <td>...</td>\n",
       "      <td>2171731.0</td>\n",
       "      <td>2107285.0</td>\n",
       "      <td>2266416.0</td>\n",
       "      <td>2355574.0</td>\n",
       "      <td>2129646.0</td>\n",
       "      <td>1814041.0</td>\n",
       "      <td>1819689.0</td>\n",
       "      <td>1573916.0</td>\n",
       "      <td>1190379.0</td>\n",
       "      <td>1977415.0</td>\n",
       "    </tr>\n",
       "    <tr>\n",
       "      <th>2016</th>\n",
       "      <td>2049855.0</td>\n",
       "      <td>2030476.0</td>\n",
       "      <td>1824762.0</td>\n",
       "      <td>1915762.0</td>\n",
       "      <td>2127340.0</td>\n",
       "      <td>2265635.0</td>\n",
       "      <td>2237577.0</td>\n",
       "      <td>2124331.0</td>\n",
       "      <td>2087212.0</td>\n",
       "      <td>2246486.0</td>\n",
       "      <td>...</td>\n",
       "      <td>2135432.0</td>\n",
       "      <td>2115294.0</td>\n",
       "      <td>2307100.0</td>\n",
       "      <td>2338474.0</td>\n",
       "      <td>2066638.0</td>\n",
       "      <td>1785700.0</td>\n",
       "      <td>1853528.0</td>\n",
       "      <td>1495948.0</td>\n",
       "      <td>1177005.0</td>\n",
       "      <td>1958023.0</td>\n",
       "    </tr>\n",
       "    <tr>\n",
       "      <th>...</th>\n",
       "      <td>...</td>\n",
       "      <td>...</td>\n",
       "      <td>...</td>\n",
       "      <td>...</td>\n",
       "      <td>...</td>\n",
       "      <td>...</td>\n",
       "      <td>...</td>\n",
       "      <td>...</td>\n",
       "      <td>...</td>\n",
       "      <td>...</td>\n",
       "      <td>...</td>\n",
       "      <td>...</td>\n",
       "      <td>...</td>\n",
       "      <td>...</td>\n",
       "      <td>...</td>\n",
       "      <td>...</td>\n",
       "      <td>...</td>\n",
       "      <td>...</td>\n",
       "      <td>...</td>\n",
       "      <td>...</td>\n",
       "      <td>...</td>\n",
       "    </tr>\n",
       "    <tr>\n",
       "      <th>1964</th>\n",
       "      <td>2424299.0</td>\n",
       "      <td>2038602.0</td>\n",
       "      <td>1975872.0</td>\n",
       "      <td>2135784.0</td>\n",
       "      <td>1756696.0</td>\n",
       "      <td>1674812.0</td>\n",
       "      <td>1673939.0</td>\n",
       "      <td>1751103.0</td>\n",
       "      <td>1828729.0</td>\n",
       "      <td>1629697.0</td>\n",
       "      <td>...</td>\n",
       "      <td>1748410.0</td>\n",
       "      <td>1862950.0</td>\n",
       "      <td>1695815.0</td>\n",
       "      <td>1866507.0</td>\n",
       "      <td>1789035.0</td>\n",
       "      <td>1619527.0</td>\n",
       "      <td>1364130.0</td>\n",
       "      <td>1095953.0</td>\n",
       "      <td>812072.0</td>\n",
       "      <td>780908.0</td>\n",
       "    </tr>\n",
       "    <tr>\n",
       "      <th>1963</th>\n",
       "      <td>2388729.0</td>\n",
       "      <td>1967594.0</td>\n",
       "      <td>2043087.0</td>\n",
       "      <td>2073240.0</td>\n",
       "      <td>1724941.0</td>\n",
       "      <td>1661051.0</td>\n",
       "      <td>1678312.0</td>\n",
       "      <td>1793079.0</td>\n",
       "      <td>1780592.0</td>\n",
       "      <td>1665763.0</td>\n",
       "      <td>...</td>\n",
       "      <td>1798093.0</td>\n",
       "      <td>1819463.0</td>\n",
       "      <td>1739030.0</td>\n",
       "      <td>1874658.0</td>\n",
       "      <td>1776188.0</td>\n",
       "      <td>1592256.0</td>\n",
       "      <td>1341530.0</td>\n",
       "      <td>1084094.0</td>\n",
       "      <td>796477.0</td>\n",
       "      <td>768176.0</td>\n",
       "    </tr>\n",
       "    <tr>\n",
       "      <th>1962</th>\n",
       "      <td>2333842.0</td>\n",
       "      <td>1916887.0</td>\n",
       "      <td>2115562.0</td>\n",
       "      <td>1984936.0</td>\n",
       "      <td>1696996.0</td>\n",
       "      <td>1653593.0</td>\n",
       "      <td>1682542.0</td>\n",
       "      <td>1834635.0</td>\n",
       "      <td>1719962.0</td>\n",
       "      <td>1715725.0</td>\n",
       "      <td>...</td>\n",
       "      <td>1845988.0</td>\n",
       "      <td>1764443.0</td>\n",
       "      <td>1796954.0</td>\n",
       "      <td>1869410.0</td>\n",
       "      <td>1760713.0</td>\n",
       "      <td>1564118.0</td>\n",
       "      <td>1322460.0</td>\n",
       "      <td>1073873.0</td>\n",
       "      <td>780927.0</td>\n",
       "      <td>747601.0</td>\n",
       "    </tr>\n",
       "    <tr>\n",
       "      <th>1961</th>\n",
       "      <td>2240434.0</td>\n",
       "      <td>1902596.0</td>\n",
       "      <td>2165198.0</td>\n",
       "      <td>1898161.0</td>\n",
       "      <td>1667854.0</td>\n",
       "      <td>1653174.0</td>\n",
       "      <td>1692422.0</td>\n",
       "      <td>1860774.0</td>\n",
       "      <td>1673088.0</td>\n",
       "      <td>1761756.0</td>\n",
       "      <td>...</td>\n",
       "      <td>1877221.0</td>\n",
       "      <td>1723881.0</td>\n",
       "      <td>1849740.0</td>\n",
       "      <td>1858721.0</td>\n",
       "      <td>1742705.0</td>\n",
       "      <td>1537811.0</td>\n",
       "      <td>1307208.0</td>\n",
       "      <td>1063877.0</td>\n",
       "      <td>766592.0</td>\n",
       "      <td>718982.0</td>\n",
       "    </tr>\n",
       "    <tr>\n",
       "      <th>1960</th>\n",
       "      <td>2107361.0</td>\n",
       "      <td>1928378.0</td>\n",
       "      <td>2183048.0</td>\n",
       "      <td>1831575.0</td>\n",
       "      <td>1641752.0</td>\n",
       "      <td>1660183.0</td>\n",
       "      <td>1715383.0</td>\n",
       "      <td>1866286.0</td>\n",
       "      <td>1658617.0</td>\n",
       "      <td>1796632.0</td>\n",
       "      <td>...</td>\n",
       "      <td>1887089.0</td>\n",
       "      <td>1715991.0</td>\n",
       "      <td>1888345.0</td>\n",
       "      <td>1851406.0</td>\n",
       "      <td>1725543.0</td>\n",
       "      <td>1518023.0</td>\n",
       "      <td>1297792.0</td>\n",
       "      <td>1055363.0</td>\n",
       "      <td>755149.0</td>\n",
       "      <td>683435.0</td>\n",
       "    </tr>\n",
       "  </tbody>\n",
       "</table>\n",
       "<p>61 rows × 34 columns</p>\n",
       "</div>"
      ],
      "text/plain": [
       "      Males 0004  Males 0509  Males 1014  Males 1519  Males 2024  Males 2529  \\\n",
       "date                                                                           \n",
       "2020         NaN         NaN         NaN         NaN         NaN         NaN   \n",
       "2019   2002151.0   2083573.0   1964877.0   1860465.0   2074980.0   2261807.0   \n",
       "2018   2015968.0   2076882.0   1917793.0   1873417.0   2095259.0   2268214.0   \n",
       "2017   2031768.0   2060487.0   1867936.0   1894805.0   2112753.0   2270083.0   \n",
       "2016   2049855.0   2030476.0   1824762.0   1915762.0   2127340.0   2265635.0   \n",
       "...          ...         ...         ...         ...         ...         ...   \n",
       "1964   2424299.0   2038602.0   1975872.0   2135784.0   1756696.0   1674812.0   \n",
       "1963   2388729.0   1967594.0   2043087.0   2073240.0   1724941.0   1661051.0   \n",
       "1962   2333842.0   1916887.0   2115562.0   1984936.0   1696996.0   1653593.0   \n",
       "1961   2240434.0   1902596.0   2165198.0   1898161.0   1667854.0   1653174.0   \n",
       "1960   2107361.0   1928378.0   2183048.0   1831575.0   1641752.0   1660183.0   \n",
       "\n",
       "      Males 3034  Males 3539  Males 4044  Males 4549  ...  Females 3539  \\\n",
       "date                                                  ...                 \n",
       "2020         NaN         NaN         NaN         NaN  ...           NaN   \n",
       "2019   2319836.0   2222680.0   2107164.0   2131817.0  ...     2250685.0   \n",
       "2018   2297014.0   2188332.0   2092905.0   2168240.0  ...     2211818.0   \n",
       "2017   2269216.0   2154975.0   2085423.0   2209684.0  ...     2171731.0   \n",
       "2016   2237577.0   2124331.0   2087212.0   2246486.0  ...     2135432.0   \n",
       "...          ...         ...         ...         ...  ...           ...   \n",
       "1964   1673939.0   1751103.0   1828729.0   1629697.0  ...     1748410.0   \n",
       "1963   1678312.0   1793079.0   1780592.0   1665763.0  ...     1798093.0   \n",
       "1962   1682542.0   1834635.0   1719962.0   1715725.0  ...     1845988.0   \n",
       "1961   1692422.0   1860774.0   1673088.0   1761756.0  ...     1877221.0   \n",
       "1960   1715383.0   1866286.0   1658617.0   1796632.0  ...     1887089.0   \n",
       "\n",
       "      Females 4044  Females 4549  Females 5054  Females 5559  Females 6064  \\\n",
       "date                                                                         \n",
       "2020           NaN           NaN           NaN           NaN           NaN   \n",
       "2019     2119619.0     2177219.0     2349587.0     2243179.0     1911026.0   \n",
       "2018     2109059.0     2219689.0     2358858.0     2190603.0     1858746.0   \n",
       "2017     2107285.0     2266416.0     2355574.0     2129646.0     1814041.0   \n",
       "2016     2115294.0     2307100.0     2338474.0     2066638.0     1785700.0   \n",
       "...            ...           ...           ...           ...           ...   \n",
       "1964     1862950.0     1695815.0     1866507.0     1789035.0     1619527.0   \n",
       "1963     1819463.0     1739030.0     1874658.0     1776188.0     1592256.0   \n",
       "1962     1764443.0     1796954.0     1869410.0     1760713.0     1564118.0   \n",
       "1961     1723881.0     1849740.0     1858721.0     1742705.0     1537811.0   \n",
       "1960     1715991.0     1888345.0     1851406.0     1725543.0     1518023.0   \n",
       "\n",
       "      Females 6569  Females 7074  Females 7579  Females 80UP  \n",
       "date                                                          \n",
       "2020           NaN           NaN           NaN           NaN  \n",
       "2019     1730542.0     1716036.0     1242301.0     2003644.0  \n",
       "2018     1770028.0     1654634.0     1209696.0     1991688.0  \n",
       "2017     1819689.0     1573916.0     1190379.0     1977415.0  \n",
       "2016     1853528.0     1495948.0     1177005.0     1958023.0  \n",
       "...            ...           ...           ...           ...  \n",
       "1964     1364130.0     1095953.0      812072.0      780908.0  \n",
       "1963     1341530.0     1084094.0      796477.0      768176.0  \n",
       "1962     1322460.0     1073873.0      780927.0      747601.0  \n",
       "1961     1307208.0     1063877.0      766592.0      718982.0  \n",
       "1960     1297792.0     1055363.0      755149.0      683435.0  \n",
       "\n",
       "[61 rows x 34 columns]"
      ]
     },
     "execution_count": 4,
     "metadata": {},
     "output_type": "execute_result"
    }
   ],
   "source": [
    "age_ranges = []\n",
    "for i in range(0,80,5):\n",
    "    age_ranges.append(f\"{i:02d}\"+f\"{i+4:02d}\")\n",
    "\n",
    "age_ranges.append(\"80UP\")\n",
    "\n",
    "male_variables = {\"SP.POP.\"+age_range+\".MA\":\"Males \"+age_range for age_range in age_ranges}\n",
    "female_variables = {\"SP.POP.\"+age_range+\".FE\":\"Females \"+age_range for age_range in age_ranges}\n",
    "\n",
    "variables = male_variables\n",
    "variables.update(female_variables)\n",
    "\n",
    "df = wbdata.get_dataframe(variables,country=\"GBR\")\n",
    "df"
   ]
  },
  {
   "cell_type": "markdown",
   "metadata": {},
   "source": [
    "### Create population_pyramid function\n",
    "        \n",
    "Creates a population pyramid using a dataframe corresponding to a given year and country or the world population"
   ]
  },
  {
   "cell_type": "code",
   "execution_count": 5,
   "metadata": {
    "scrolled": true
   },
   "outputs": [
    {
     "data": {
      "text/html": [
       "        <script type=\"text/javascript\">\n",
       "        window.PlotlyConfig = {MathJaxConfig: 'local'};\n",
       "        if (window.MathJax) {MathJax.Hub.Config({SVG: {font: \"STIX-Web\"}});}\n",
       "        if (typeof require !== 'undefined') {\n",
       "        require.undef(\"plotly\");\n",
       "        requirejs.config({\n",
       "            paths: {\n",
       "                'plotly': ['https://cdn.plot.ly/plotly-latest.min']\n",
       "            }\n",
       "        });\n",
       "        require(['plotly'], function(Plotly) {\n",
       "            window._Plotly = Plotly;\n",
       "        });\n",
       "        }\n",
       "        </script>\n",
       "        "
      ]
     },
     "metadata": {},
     "output_type": "display_data"
    },
    {
     "data": {
      "application/vnd.plotly.v1+json": {
       "config": {
        "linkText": "Export to plot.ly",
        "plotlyServerURL": "https://plot.ly",
        "showLink": false
       },
       "data": [
        {
         "hoverinfo": "skip",
         "marker": {
          "color": "purple"
         },
         "name": "Men",
         "orientation": "h",
         "type": "bar",
         "x": [
          330870369,
          316287094,
          309906090,
          313386351,
          304771450,
          270286669,
          253155153,
          245625510,
          225156305,
          195970798,
          170000557,
          142495477,
          104742036,
          80970457,
          63261656,
          41513465,
          36356215
         ],
         "y": [
          1,
          6,
          11,
          16,
          21,
          26,
          31,
          36,
          41,
          46,
          51,
          56,
          61,
          66,
          71,
          76,
          81
         ]
        },
        {
         "hoverinfo": "skip",
         "marker": {
          "color": "pink"
         },
         "name": "Women",
         "orientation": "h",
         "type": "bar",
         "x": [
          -308601599,
          -295214541,
          -290232318,
          -295954046,
          -291383915,
          -260721686,
          -245461887,
          -239607155,
          -221241964,
          -193690900,
          -170498344,
          -146017181,
          -110758552,
          -89109625,
          -74622378,
          -54260962,
          -62058514
         ],
         "y": [
          1,
          6,
          11,
          16,
          21,
          26,
          31,
          36,
          41,
          46,
          51,
          56,
          61,
          66,
          71,
          76,
          81
         ]
        }
       ],
       "layout": {
        "barmode": "overlay",
        "template": {
         "data": {
          "bar": [
           {
            "error_x": {
             "color": "#2a3f5f"
            },
            "error_y": {
             "color": "#2a3f5f"
            },
            "marker": {
             "line": {
              "color": "#E5ECF6",
              "width": 0.5
             }
            },
            "type": "bar"
           }
          ],
          "barpolar": [
           {
            "marker": {
             "line": {
              "color": "#E5ECF6",
              "width": 0.5
             }
            },
            "type": "barpolar"
           }
          ],
          "carpet": [
           {
            "aaxis": {
             "endlinecolor": "#2a3f5f",
             "gridcolor": "white",
             "linecolor": "white",
             "minorgridcolor": "white",
             "startlinecolor": "#2a3f5f"
            },
            "baxis": {
             "endlinecolor": "#2a3f5f",
             "gridcolor": "white",
             "linecolor": "white",
             "minorgridcolor": "white",
             "startlinecolor": "#2a3f5f"
            },
            "type": "carpet"
           }
          ],
          "choropleth": [
           {
            "colorbar": {
             "outlinewidth": 0,
             "ticks": ""
            },
            "type": "choropleth"
           }
          ],
          "contour": [
           {
            "colorbar": {
             "outlinewidth": 0,
             "ticks": ""
            },
            "colorscale": [
             [
              0,
              "#0d0887"
             ],
             [
              0.1111111111111111,
              "#46039f"
             ],
             [
              0.2222222222222222,
              "#7201a8"
             ],
             [
              0.3333333333333333,
              "#9c179e"
             ],
             [
              0.4444444444444444,
              "#bd3786"
             ],
             [
              0.5555555555555556,
              "#d8576b"
             ],
             [
              0.6666666666666666,
              "#ed7953"
             ],
             [
              0.7777777777777778,
              "#fb9f3a"
             ],
             [
              0.8888888888888888,
              "#fdca26"
             ],
             [
              1,
              "#f0f921"
             ]
            ],
            "type": "contour"
           }
          ],
          "contourcarpet": [
           {
            "colorbar": {
             "outlinewidth": 0,
             "ticks": ""
            },
            "type": "contourcarpet"
           }
          ],
          "heatmap": [
           {
            "colorbar": {
             "outlinewidth": 0,
             "ticks": ""
            },
            "colorscale": [
             [
              0,
              "#0d0887"
             ],
             [
              0.1111111111111111,
              "#46039f"
             ],
             [
              0.2222222222222222,
              "#7201a8"
             ],
             [
              0.3333333333333333,
              "#9c179e"
             ],
             [
              0.4444444444444444,
              "#bd3786"
             ],
             [
              0.5555555555555556,
              "#d8576b"
             ],
             [
              0.6666666666666666,
              "#ed7953"
             ],
             [
              0.7777777777777778,
              "#fb9f3a"
             ],
             [
              0.8888888888888888,
              "#fdca26"
             ],
             [
              1,
              "#f0f921"
             ]
            ],
            "type": "heatmap"
           }
          ],
          "heatmapgl": [
           {
            "colorbar": {
             "outlinewidth": 0,
             "ticks": ""
            },
            "colorscale": [
             [
              0,
              "#0d0887"
             ],
             [
              0.1111111111111111,
              "#46039f"
             ],
             [
              0.2222222222222222,
              "#7201a8"
             ],
             [
              0.3333333333333333,
              "#9c179e"
             ],
             [
              0.4444444444444444,
              "#bd3786"
             ],
             [
              0.5555555555555556,
              "#d8576b"
             ],
             [
              0.6666666666666666,
              "#ed7953"
             ],
             [
              0.7777777777777778,
              "#fb9f3a"
             ],
             [
              0.8888888888888888,
              "#fdca26"
             ],
             [
              1,
              "#f0f921"
             ]
            ],
            "type": "heatmapgl"
           }
          ],
          "histogram": [
           {
            "marker": {
             "colorbar": {
              "outlinewidth": 0,
              "ticks": ""
             }
            },
            "type": "histogram"
           }
          ],
          "histogram2d": [
           {
            "colorbar": {
             "outlinewidth": 0,
             "ticks": ""
            },
            "colorscale": [
             [
              0,
              "#0d0887"
             ],
             [
              0.1111111111111111,
              "#46039f"
             ],
             [
              0.2222222222222222,
              "#7201a8"
             ],
             [
              0.3333333333333333,
              "#9c179e"
             ],
             [
              0.4444444444444444,
              "#bd3786"
             ],
             [
              0.5555555555555556,
              "#d8576b"
             ],
             [
              0.6666666666666666,
              "#ed7953"
             ],
             [
              0.7777777777777778,
              "#fb9f3a"
             ],
             [
              0.8888888888888888,
              "#fdca26"
             ],
             [
              1,
              "#f0f921"
             ]
            ],
            "type": "histogram2d"
           }
          ],
          "histogram2dcontour": [
           {
            "colorbar": {
             "outlinewidth": 0,
             "ticks": ""
            },
            "colorscale": [
             [
              0,
              "#0d0887"
             ],
             [
              0.1111111111111111,
              "#46039f"
             ],
             [
              0.2222222222222222,
              "#7201a8"
             ],
             [
              0.3333333333333333,
              "#9c179e"
             ],
             [
              0.4444444444444444,
              "#bd3786"
             ],
             [
              0.5555555555555556,
              "#d8576b"
             ],
             [
              0.6666666666666666,
              "#ed7953"
             ],
             [
              0.7777777777777778,
              "#fb9f3a"
             ],
             [
              0.8888888888888888,
              "#fdca26"
             ],
             [
              1,
              "#f0f921"
             ]
            ],
            "type": "histogram2dcontour"
           }
          ],
          "mesh3d": [
           {
            "colorbar": {
             "outlinewidth": 0,
             "ticks": ""
            },
            "type": "mesh3d"
           }
          ],
          "parcoords": [
           {
            "line": {
             "colorbar": {
              "outlinewidth": 0,
              "ticks": ""
             }
            },
            "type": "parcoords"
           }
          ],
          "pie": [
           {
            "automargin": true,
            "type": "pie"
           }
          ],
          "scatter": [
           {
            "marker": {
             "colorbar": {
              "outlinewidth": 0,
              "ticks": ""
             }
            },
            "type": "scatter"
           }
          ],
          "scatter3d": [
           {
            "line": {
             "colorbar": {
              "outlinewidth": 0,
              "ticks": ""
             }
            },
            "marker": {
             "colorbar": {
              "outlinewidth": 0,
              "ticks": ""
             }
            },
            "type": "scatter3d"
           }
          ],
          "scattercarpet": [
           {
            "marker": {
             "colorbar": {
              "outlinewidth": 0,
              "ticks": ""
             }
            },
            "type": "scattercarpet"
           }
          ],
          "scattergeo": [
           {
            "marker": {
             "colorbar": {
              "outlinewidth": 0,
              "ticks": ""
             }
            },
            "type": "scattergeo"
           }
          ],
          "scattergl": [
           {
            "marker": {
             "colorbar": {
              "outlinewidth": 0,
              "ticks": ""
             }
            },
            "type": "scattergl"
           }
          ],
          "scattermapbox": [
           {
            "marker": {
             "colorbar": {
              "outlinewidth": 0,
              "ticks": ""
             }
            },
            "type": "scattermapbox"
           }
          ],
          "scatterpolar": [
           {
            "marker": {
             "colorbar": {
              "outlinewidth": 0,
              "ticks": ""
             }
            },
            "type": "scatterpolar"
           }
          ],
          "scatterpolargl": [
           {
            "marker": {
             "colorbar": {
              "outlinewidth": 0,
              "ticks": ""
             }
            },
            "type": "scatterpolargl"
           }
          ],
          "scatterternary": [
           {
            "marker": {
             "colorbar": {
              "outlinewidth": 0,
              "ticks": ""
             }
            },
            "type": "scatterternary"
           }
          ],
          "surface": [
           {
            "colorbar": {
             "outlinewidth": 0,
             "ticks": ""
            },
            "colorscale": [
             [
              0,
              "#0d0887"
             ],
             [
              0.1111111111111111,
              "#46039f"
             ],
             [
              0.2222222222222222,
              "#7201a8"
             ],
             [
              0.3333333333333333,
              "#9c179e"
             ],
             [
              0.4444444444444444,
              "#bd3786"
             ],
             [
              0.5555555555555556,
              "#d8576b"
             ],
             [
              0.6666666666666666,
              "#ed7953"
             ],
             [
              0.7777777777777778,
              "#fb9f3a"
             ],
             [
              0.8888888888888888,
              "#fdca26"
             ],
             [
              1,
              "#f0f921"
             ]
            ],
            "type": "surface"
           }
          ],
          "table": [
           {
            "cells": {
             "fill": {
              "color": "#EBF0F8"
             },
             "line": {
              "color": "white"
             }
            },
            "header": {
             "fill": {
              "color": "#C8D4E3"
             },
             "line": {
              "color": "white"
             }
            },
            "type": "table"
           }
          ]
         },
         "layout": {
          "annotationdefaults": {
           "arrowcolor": "#2a3f5f",
           "arrowhead": 0,
           "arrowwidth": 1
          },
          "autotypenumbers": "strict",
          "coloraxis": {
           "colorbar": {
            "outlinewidth": 0,
            "ticks": ""
           }
          },
          "colorscale": {
           "diverging": [
            [
             0,
             "#8e0152"
            ],
            [
             0.1,
             "#c51b7d"
            ],
            [
             0.2,
             "#de77ae"
            ],
            [
             0.3,
             "#f1b6da"
            ],
            [
             0.4,
             "#fde0ef"
            ],
            [
             0.5,
             "#f7f7f7"
            ],
            [
             0.6,
             "#e6f5d0"
            ],
            [
             0.7,
             "#b8e186"
            ],
            [
             0.8,
             "#7fbc41"
            ],
            [
             0.9,
             "#4d9221"
            ],
            [
             1,
             "#276419"
            ]
           ],
           "sequential": [
            [
             0,
             "#0d0887"
            ],
            [
             0.1111111111111111,
             "#46039f"
            ],
            [
             0.2222222222222222,
             "#7201a8"
            ],
            [
             0.3333333333333333,
             "#9c179e"
            ],
            [
             0.4444444444444444,
             "#bd3786"
            ],
            [
             0.5555555555555556,
             "#d8576b"
            ],
            [
             0.6666666666666666,
             "#ed7953"
            ],
            [
             0.7777777777777778,
             "#fb9f3a"
            ],
            [
             0.8888888888888888,
             "#fdca26"
            ],
            [
             1,
             "#f0f921"
            ]
           ],
           "sequentialminus": [
            [
             0,
             "#0d0887"
            ],
            [
             0.1111111111111111,
             "#46039f"
            ],
            [
             0.2222222222222222,
             "#7201a8"
            ],
            [
             0.3333333333333333,
             "#9c179e"
            ],
            [
             0.4444444444444444,
             "#bd3786"
            ],
            [
             0.5555555555555556,
             "#d8576b"
            ],
            [
             0.6666666666666666,
             "#ed7953"
            ],
            [
             0.7777777777777778,
             "#fb9f3a"
            ],
            [
             0.8888888888888888,
             "#fdca26"
            ],
            [
             1,
             "#f0f921"
            ]
           ]
          },
          "colorway": [
           "#636efa",
           "#EF553B",
           "#00cc96",
           "#ab63fa",
           "#FFA15A",
           "#19d3f3",
           "#FF6692",
           "#B6E880",
           "#FF97FF",
           "#FECB52"
          ],
          "font": {
           "color": "#2a3f5f"
          },
          "geo": {
           "bgcolor": "white",
           "lakecolor": "white",
           "landcolor": "#E5ECF6",
           "showlakes": true,
           "showland": true,
           "subunitcolor": "white"
          },
          "hoverlabel": {
           "align": "left"
          },
          "hovermode": "closest",
          "mapbox": {
           "style": "light"
          },
          "paper_bgcolor": "white",
          "plot_bgcolor": "#E5ECF6",
          "polar": {
           "angularaxis": {
            "gridcolor": "white",
            "linecolor": "white",
            "ticks": ""
           },
           "bgcolor": "#E5ECF6",
           "radialaxis": {
            "gridcolor": "white",
            "linecolor": "white",
            "ticks": ""
           }
          },
          "scene": {
           "xaxis": {
            "backgroundcolor": "#E5ECF6",
            "gridcolor": "white",
            "gridwidth": 2,
            "linecolor": "white",
            "showbackground": true,
            "ticks": "",
            "zerolinecolor": "white"
           },
           "yaxis": {
            "backgroundcolor": "#E5ECF6",
            "gridcolor": "white",
            "gridwidth": 2,
            "linecolor": "white",
            "showbackground": true,
            "ticks": "",
            "zerolinecolor": "white"
           },
           "zaxis": {
            "backgroundcolor": "#E5ECF6",
            "gridcolor": "white",
            "gridwidth": 2,
            "linecolor": "white",
            "showbackground": true,
            "ticks": "",
            "zerolinecolor": "white"
           }
          },
          "shapedefaults": {
           "line": {
            "color": "#2a3f5f"
           }
          },
          "ternary": {
           "aaxis": {
            "gridcolor": "white",
            "linecolor": "white",
            "ticks": ""
           },
           "baxis": {
            "gridcolor": "white",
            "linecolor": "white",
            "ticks": ""
           },
           "bgcolor": "#E5ECF6",
           "caxis": {
            "gridcolor": "white",
            "linecolor": "white",
            "ticks": ""
           }
          },
          "title": {
           "x": 0.05
          },
          "xaxis": {
           "automargin": true,
           "gridcolor": "white",
           "linecolor": "white",
           "ticks": "",
           "title": {
            "standoff": 15
           },
           "zerolinecolor": "white",
           "zerolinewidth": 2
          },
          "yaxis": {
           "automargin": true,
           "gridcolor": "white",
           "linecolor": "white",
           "ticks": "",
           "title": {
            "standoff": 15
           },
           "zerolinecolor": "white",
           "zerolinewidth": 2
          }
         }
        },
        "xaxis": {
         "title": {
          "text": "Number"
         }
        },
        "yaxis": {
         "range": [
          0,
          90
         ],
         "title": {
          "text": "Age"
         }
        }
       }
      },
      "text/html": [
       "<div>                            <div id=\"2e592a2a-ee57-406b-9742-39a2eeb0e2d5\" class=\"plotly-graph-div\" style=\"height:525px; width:100%;\"></div>            <script type=\"text/javascript\">                require([\"plotly\"], function(Plotly) {                    window.PLOTLYENV=window.PLOTLYENV || {};                                    if (document.getElementById(\"2e592a2a-ee57-406b-9742-39a2eeb0e2d5\")) {                    Plotly.newPlot(                        \"2e592a2a-ee57-406b-9742-39a2eeb0e2d5\",                        [{\"hoverinfo\": \"skip\", \"marker\": {\"color\": \"purple\"}, \"name\": \"Men\", \"orientation\": \"h\", \"type\": \"bar\", \"x\": [330870369.0, 316287094.0, 309906090.0, 313386351.0, 304771450.0, 270286669.0, 253155153.0, 245625510.0, 225156305.0, 195970798.0, 170000557.0, 142495477.0, 104742036.0, 80970457.0, 63261656.0, 41513465.0, 36356215.0], \"y\": [1, 6, 11, 16, 21, 26, 31, 36, 41, 46, 51, 56, 61, 66, 71, 76, 81]}, {\"hoverinfo\": \"skip\", \"marker\": {\"color\": \"pink\"}, \"name\": \"Women\", \"orientation\": \"h\", \"type\": \"bar\", \"x\": [-308601599.0, -295214541.0, -290232318.0, -295954046.0, -291383915.0, -260721686.0, -245461887.0, -239607155.0, -221241964.0, -193690900.0, -170498344.0, -146017181.0, -110758552.0, -89109625.0, -74622378.0, -54260962.0, -62058514.0], \"y\": [1, 6, 11, 16, 21, 26, 31, 36, 41, 46, 51, 56, 61, 66, 71, 76, 81]}],                        {\"barmode\": \"overlay\", \"template\": {\"data\": {\"bar\": [{\"error_x\": {\"color\": \"#2a3f5f\"}, \"error_y\": {\"color\": \"#2a3f5f\"}, \"marker\": {\"line\": {\"color\": \"#E5ECF6\", \"width\": 0.5}}, \"type\": \"bar\"}], \"barpolar\": [{\"marker\": {\"line\": {\"color\": \"#E5ECF6\", \"width\": 0.5}}, \"type\": \"barpolar\"}], \"carpet\": [{\"aaxis\": {\"endlinecolor\": \"#2a3f5f\", \"gridcolor\": \"white\", \"linecolor\": \"white\", \"minorgridcolor\": \"white\", \"startlinecolor\": \"#2a3f5f\"}, \"baxis\": {\"endlinecolor\": \"#2a3f5f\", \"gridcolor\": \"white\", \"linecolor\": \"white\", \"minorgridcolor\": \"white\", \"startlinecolor\": \"#2a3f5f\"}, \"type\": \"carpet\"}], \"choropleth\": [{\"colorbar\": {\"outlinewidth\": 0, \"ticks\": \"\"}, \"type\": \"choropleth\"}], \"contour\": [{\"colorbar\": {\"outlinewidth\": 0, \"ticks\": \"\"}, \"colorscale\": [[0.0, \"#0d0887\"], [0.1111111111111111, \"#46039f\"], [0.2222222222222222, \"#7201a8\"], [0.3333333333333333, \"#9c179e\"], [0.4444444444444444, \"#bd3786\"], [0.5555555555555556, \"#d8576b\"], [0.6666666666666666, \"#ed7953\"], [0.7777777777777778, \"#fb9f3a\"], [0.8888888888888888, \"#fdca26\"], [1.0, \"#f0f921\"]], \"type\": \"contour\"}], \"contourcarpet\": [{\"colorbar\": {\"outlinewidth\": 0, \"ticks\": \"\"}, \"type\": \"contourcarpet\"}], \"heatmap\": [{\"colorbar\": {\"outlinewidth\": 0, \"ticks\": \"\"}, \"colorscale\": [[0.0, \"#0d0887\"], [0.1111111111111111, \"#46039f\"], [0.2222222222222222, \"#7201a8\"], [0.3333333333333333, \"#9c179e\"], [0.4444444444444444, \"#bd3786\"], [0.5555555555555556, \"#d8576b\"], [0.6666666666666666, \"#ed7953\"], [0.7777777777777778, \"#fb9f3a\"], [0.8888888888888888, \"#fdca26\"], [1.0, \"#f0f921\"]], \"type\": \"heatmap\"}], \"heatmapgl\": [{\"colorbar\": {\"outlinewidth\": 0, \"ticks\": \"\"}, \"colorscale\": [[0.0, \"#0d0887\"], [0.1111111111111111, \"#46039f\"], [0.2222222222222222, \"#7201a8\"], [0.3333333333333333, \"#9c179e\"], [0.4444444444444444, \"#bd3786\"], [0.5555555555555556, \"#d8576b\"], [0.6666666666666666, \"#ed7953\"], [0.7777777777777778, \"#fb9f3a\"], [0.8888888888888888, \"#fdca26\"], [1.0, \"#f0f921\"]], \"type\": \"heatmapgl\"}], \"histogram\": [{\"marker\": {\"colorbar\": {\"outlinewidth\": 0, \"ticks\": \"\"}}, \"type\": \"histogram\"}], \"histogram2d\": [{\"colorbar\": {\"outlinewidth\": 0, \"ticks\": \"\"}, \"colorscale\": [[0.0, \"#0d0887\"], [0.1111111111111111, \"#46039f\"], [0.2222222222222222, \"#7201a8\"], [0.3333333333333333, \"#9c179e\"], [0.4444444444444444, \"#bd3786\"], [0.5555555555555556, \"#d8576b\"], [0.6666666666666666, \"#ed7953\"], [0.7777777777777778, \"#fb9f3a\"], [0.8888888888888888, \"#fdca26\"], [1.0, \"#f0f921\"]], \"type\": \"histogram2d\"}], \"histogram2dcontour\": [{\"colorbar\": {\"outlinewidth\": 0, \"ticks\": \"\"}, \"colorscale\": [[0.0, \"#0d0887\"], [0.1111111111111111, \"#46039f\"], [0.2222222222222222, \"#7201a8\"], [0.3333333333333333, \"#9c179e\"], [0.4444444444444444, \"#bd3786\"], [0.5555555555555556, \"#d8576b\"], [0.6666666666666666, \"#ed7953\"], [0.7777777777777778, \"#fb9f3a\"], [0.8888888888888888, \"#fdca26\"], [1.0, \"#f0f921\"]], \"type\": \"histogram2dcontour\"}], \"mesh3d\": [{\"colorbar\": {\"outlinewidth\": 0, \"ticks\": \"\"}, \"type\": \"mesh3d\"}], \"parcoords\": [{\"line\": {\"colorbar\": {\"outlinewidth\": 0, \"ticks\": \"\"}}, \"type\": \"parcoords\"}], \"pie\": [{\"automargin\": true, \"type\": \"pie\"}], \"scatter\": [{\"marker\": {\"colorbar\": {\"outlinewidth\": 0, \"ticks\": \"\"}}, \"type\": \"scatter\"}], \"scatter3d\": [{\"line\": {\"colorbar\": {\"outlinewidth\": 0, \"ticks\": \"\"}}, \"marker\": {\"colorbar\": {\"outlinewidth\": 0, \"ticks\": \"\"}}, \"type\": \"scatter3d\"}], \"scattercarpet\": [{\"marker\": {\"colorbar\": {\"outlinewidth\": 0, \"ticks\": \"\"}}, \"type\": \"scattercarpet\"}], \"scattergeo\": [{\"marker\": {\"colorbar\": {\"outlinewidth\": 0, \"ticks\": \"\"}}, \"type\": \"scattergeo\"}], \"scattergl\": [{\"marker\": {\"colorbar\": {\"outlinewidth\": 0, \"ticks\": \"\"}}, \"type\": \"scattergl\"}], \"scattermapbox\": [{\"marker\": {\"colorbar\": {\"outlinewidth\": 0, \"ticks\": \"\"}}, \"type\": \"scattermapbox\"}], \"scatterpolar\": [{\"marker\": {\"colorbar\": {\"outlinewidth\": 0, \"ticks\": \"\"}}, \"type\": \"scatterpolar\"}], \"scatterpolargl\": [{\"marker\": {\"colorbar\": {\"outlinewidth\": 0, \"ticks\": \"\"}}, \"type\": \"scatterpolargl\"}], \"scatterternary\": [{\"marker\": {\"colorbar\": {\"outlinewidth\": 0, \"ticks\": \"\"}}, \"type\": \"scatterternary\"}], \"surface\": [{\"colorbar\": {\"outlinewidth\": 0, \"ticks\": \"\"}, \"colorscale\": [[0.0, \"#0d0887\"], [0.1111111111111111, \"#46039f\"], [0.2222222222222222, \"#7201a8\"], [0.3333333333333333, \"#9c179e\"], [0.4444444444444444, \"#bd3786\"], [0.5555555555555556, \"#d8576b\"], [0.6666666666666666, \"#ed7953\"], [0.7777777777777778, \"#fb9f3a\"], [0.8888888888888888, \"#fdca26\"], [1.0, \"#f0f921\"]], \"type\": \"surface\"}], \"table\": [{\"cells\": {\"fill\": {\"color\": \"#EBF0F8\"}, \"line\": {\"color\": \"white\"}}, \"header\": {\"fill\": {\"color\": \"#C8D4E3\"}, \"line\": {\"color\": \"white\"}}, \"type\": \"table\"}]}, \"layout\": {\"annotationdefaults\": {\"arrowcolor\": \"#2a3f5f\", \"arrowhead\": 0, \"arrowwidth\": 1}, \"autotypenumbers\": \"strict\", \"coloraxis\": {\"colorbar\": {\"outlinewidth\": 0, \"ticks\": \"\"}}, \"colorscale\": {\"diverging\": [[0, \"#8e0152\"], [0.1, \"#c51b7d\"], [0.2, \"#de77ae\"], [0.3, \"#f1b6da\"], [0.4, \"#fde0ef\"], [0.5, \"#f7f7f7\"], [0.6, \"#e6f5d0\"], [0.7, \"#b8e186\"], [0.8, \"#7fbc41\"], [0.9, \"#4d9221\"], [1, \"#276419\"]], \"sequential\": [[0.0, \"#0d0887\"], [0.1111111111111111, \"#46039f\"], [0.2222222222222222, \"#7201a8\"], [0.3333333333333333, \"#9c179e\"], [0.4444444444444444, \"#bd3786\"], [0.5555555555555556, \"#d8576b\"], [0.6666666666666666, \"#ed7953\"], [0.7777777777777778, \"#fb9f3a\"], [0.8888888888888888, \"#fdca26\"], [1.0, \"#f0f921\"]], \"sequentialminus\": [[0.0, \"#0d0887\"], [0.1111111111111111, \"#46039f\"], [0.2222222222222222, \"#7201a8\"], [0.3333333333333333, \"#9c179e\"], [0.4444444444444444, \"#bd3786\"], [0.5555555555555556, \"#d8576b\"], [0.6666666666666666, \"#ed7953\"], [0.7777777777777778, \"#fb9f3a\"], [0.8888888888888888, \"#fdca26\"], [1.0, \"#f0f921\"]]}, \"colorway\": [\"#636efa\", \"#EF553B\", \"#00cc96\", \"#ab63fa\", \"#FFA15A\", \"#19d3f3\", \"#FF6692\", \"#B6E880\", \"#FF97FF\", \"#FECB52\"], \"font\": {\"color\": \"#2a3f5f\"}, \"geo\": {\"bgcolor\": \"white\", \"lakecolor\": \"white\", \"landcolor\": \"#E5ECF6\", \"showlakes\": true, \"showland\": true, \"subunitcolor\": \"white\"}, \"hoverlabel\": {\"align\": \"left\"}, \"hovermode\": \"closest\", \"mapbox\": {\"style\": \"light\"}, \"paper_bgcolor\": \"white\", \"plot_bgcolor\": \"#E5ECF6\", \"polar\": {\"angularaxis\": {\"gridcolor\": \"white\", \"linecolor\": \"white\", \"ticks\": \"\"}, \"bgcolor\": \"#E5ECF6\", \"radialaxis\": {\"gridcolor\": \"white\", \"linecolor\": \"white\", \"ticks\": \"\"}}, \"scene\": {\"xaxis\": {\"backgroundcolor\": \"#E5ECF6\", \"gridcolor\": \"white\", \"gridwidth\": 2, \"linecolor\": \"white\", \"showbackground\": true, \"ticks\": \"\", \"zerolinecolor\": \"white\"}, \"yaxis\": {\"backgroundcolor\": \"#E5ECF6\", \"gridcolor\": \"white\", \"gridwidth\": 2, \"linecolor\": \"white\", \"showbackground\": true, \"ticks\": \"\", \"zerolinecolor\": \"white\"}, \"zaxis\": {\"backgroundcolor\": \"#E5ECF6\", \"gridcolor\": \"white\", \"gridwidth\": 2, \"linecolor\": \"white\", \"showbackground\": true, \"ticks\": \"\", \"zerolinecolor\": \"white\"}}, \"shapedefaults\": {\"line\": {\"color\": \"#2a3f5f\"}}, \"ternary\": {\"aaxis\": {\"gridcolor\": \"white\", \"linecolor\": \"white\", \"ticks\": \"\"}, \"baxis\": {\"gridcolor\": \"white\", \"linecolor\": \"white\", \"ticks\": \"\"}, \"bgcolor\": \"#E5ECF6\", \"caxis\": {\"gridcolor\": \"white\", \"linecolor\": \"white\", \"ticks\": \"\"}}, \"title\": {\"x\": 0.05}, \"xaxis\": {\"automargin\": true, \"gridcolor\": \"white\", \"linecolor\": \"white\", \"ticks\": \"\", \"title\": {\"standoff\": 15}, \"zerolinecolor\": \"white\", \"zerolinewidth\": 2}, \"yaxis\": {\"automargin\": true, \"gridcolor\": \"white\", \"linecolor\": \"white\", \"ticks\": \"\", \"title\": {\"standoff\": 15}, \"zerolinecolor\": \"white\", \"zerolinewidth\": 2}}}, \"xaxis\": {\"title\": {\"text\": \"Number\"}}, \"yaxis\": {\"range\": [0, 90], \"title\": {\"text\": \"Age\"}}},                        {\"responsive\": true}                    ).then(function(){\n",
       "                            \n",
       "var gd = document.getElementById('2e592a2a-ee57-406b-9742-39a2eeb0e2d5');\n",
       "var x = new MutationObserver(function (mutations, observer) {{\n",
       "        var display = window.getComputedStyle(gd).display;\n",
       "        if (!display || display === 'none') {{\n",
       "            console.log([gd, 'removed!']);\n",
       "            Plotly.purge(gd);\n",
       "            observer.disconnect();\n",
       "        }}\n",
       "}});\n",
       "\n",
       "// Listen for the removal of the full notebook cells\n",
       "var notebookContainer = gd.closest('#notebook-container');\n",
       "if (notebookContainer) {{\n",
       "    x.observe(notebookContainer, {childList: true});\n",
       "}}\n",
       "\n",
       "// Listen for the clearing of the current output cell\n",
       "var outputEl = gd.closest('.output');\n",
       "if (outputEl) {{\n",
       "    x.observe(outputEl, {childList: true});\n",
       "}}\n",
       "\n",
       "                        })                };                });            </script>        </div>"
      ]
     },
     "metadata": {},
     "output_type": "display_data"
    }
   ],
   "source": [
    "import plotly.offline as py\n",
    "import plotly.graph_objs as go\n",
    "\n",
    "py.init_notebook_mode(connected=True)\n",
    "\n",
    "\n",
    "def population_pyramid(dataframe):\n",
    "    layout = go.Layout(barmode='overlay',\n",
    "                   yaxis=go.layout.YAxis(range=[0, 90], title='Age'),\n",
    "                   xaxis=go.layout.XAxis(title='Number'))\n",
    "\n",
    "    year = dataframe.index[0]\n",
    "\n",
    "    bins = [go.Bar(x = dataframe.loc[str(year),:].filter(regex=\"Male\").values,\n",
    "               y = [int(s[:2])+1 for s in age_ranges],\n",
    "               orientation='h',\n",
    "               name='Men',\n",
    "               marker=dict(color='purple'),\n",
    "               hoverinfo='skip'\n",
    "               ),\n",
    "\n",
    "    go.Bar(x = -dataframe.loc[str(year),:].filter(regex=\"Female\").values,\n",
    "               y=[int(s[:2])+1 for s in age_ranges],\n",
    "               orientation='h',\n",
    "               name='Women',\n",
    "               marker=dict(color='pink'),\n",
    "               hoverinfo='skip',\n",
    "               )\n",
    "        ]\n",
    "    py.iplot(dict(data=bins, layout=layout))\n",
    "    \n",
    "population_pyramid(population_df(2008, \"GBR\"))"
   ]
  },
  {
   "cell_type": "markdown",
   "metadata": {},
   "source": [
    "### Construct animated_population_pyramid function\n",
    "        \n",
    "Takes in a dataframe and creates an animated population pyramid showing the change in population over time in each decade from 1960 to 2018"
   ]
  },
  {
   "cell_type": "code",
   "execution_count": 6,
   "metadata": {},
   "outputs": [
    {
     "data": {
      "application/vnd.plotly.v1+json": {
       "config": {
        "linkText": "Export to plot.ly",
        "plotlyServerURL": "https://plot.ly",
        "showLink": false
       },
       "data": [
        {
         "hoverinfo": "skip",
         "name": "Men 2018",
         "orientation": "h",
         "type": "bar",
         "x": [
          2015968,
          2076882,
          1917793,
          1873417,
          2095259,
          2268214,
          2297014,
          2188332,
          2092905,
          2168240,
          2287007,
          2127632,
          1799291,
          1677298,
          1521073,
          1044047,
          1357594
         ],
         "y": [
          1,
          6,
          11,
          16,
          21,
          26,
          31,
          36,
          41,
          46,
          51,
          56,
          61,
          66,
          71,
          76,
          81
         ]
        },
        {
         "hoverinfo": "skip",
         "name": "Men 2008",
         "orientation": "h",
         "type": "bar",
         "x": [
          1885888,
          1786701,
          1909808,
          2055526,
          2107117,
          2029664,
          1993729,
          2167269,
          2329149,
          2183220,
          1877733,
          1834642,
          1764858,
          1353073,
          1132283,
          894554,
          1020399
         ],
         "y": [
          1,
          6,
          11,
          16,
          21,
          26,
          31,
          36,
          41,
          46,
          51,
          56,
          61,
          66,
          71,
          76,
          81
         ]
        },
        {
         "hoverinfo": "skip",
         "name": "Men 1998",
         "orientation": "h",
         "type": "bar",
         "x": [
          1873353,
          1974004,
          1928691,
          1779083,
          1803715,
          2123399,
          2340661,
          2195754,
          1884591,
          1905445,
          1890103,
          1527587,
          1383271,
          1240514,
          1073130,
          787888,
          753199
         ],
         "y": [
          1,
          6,
          11,
          16,
          21,
          26,
          31,
          36,
          41,
          46,
          51,
          56,
          61,
          66,
          71,
          76,
          81
         ]
        },
        {
         "hoverinfo": "skip",
         "name": "Men 1988",
         "orientation": "h",
         "type": "bar",
         "x": [
          1941298,
          1766789,
          1801219,
          2123030,
          2390636,
          2254750,
          1907242,
          1947205,
          1958014,
          1615642,
          1521025,
          1472246,
          1449583,
          1259535,
          942500,
          732064,
          589118
         ],
         "y": [
          1,
          6,
          11,
          16,
          21,
          26,
          31,
          36,
          41,
          46,
          51,
          56,
          61,
          66,
          71,
          76,
          81
         ]
        },
        {
         "hoverinfo": "skip",
         "name": "Men 1978",
         "orientation": "h",
         "type": "bar",
         "x": [
          1799563,
          2153725,
          2427283,
          2307110,
          1972746,
          2003301,
          2008812,
          1673289,
          1597157,
          1586397,
          1658422,
          1568652,
          1353515,
          1287743,
          962068,
          573378,
          413649
         ],
         "y": [
          1,
          6,
          11,
          16,
          21,
          26,
          31,
          36,
          41,
          46,
          51,
          56,
          61,
          66,
          71,
          76,
          81
         ]
        },
        {
         "hoverinfo": "skip",
         "name": "Men 1968",
         "orientation": "h",
         "type": "bar",
         "x": [
          2476800,
          2300556,
          1992632,
          2029083,
          2047919,
          1720012,
          1657409,
          1655168,
          1765430,
          1732260,
          1595676,
          1666766,
          1470296,
          1113323,
          719301,
          459372,
          386839
         ],
         "y": [
          1,
          6,
          11,
          16,
          21,
          26,
          31,
          36,
          41,
          46,
          51,
          56,
          61,
          66,
          71,
          76,
          81
         ]
        },
        {
         "hoverinfo": "skip",
         "name": "Women 2018",
         "orientation": "h",
         "type": "bar",
         "x": [
          -1920537,
          -1983172,
          -1834526,
          -1798232,
          -2020552,
          -2216947,
          -2303593,
          -2211818,
          -2109059,
          -2219689,
          -2358858,
          -2190603,
          -1858746,
          -1770028,
          -1654634,
          -1209696,
          -1991688
         ],
         "y": [
          1,
          6,
          11,
          16,
          21,
          26,
          31,
          36,
          41,
          46,
          51,
          56,
          61,
          66,
          71,
          76,
          81
         ]
        },
        {
         "hoverinfo": "skip",
         "name": "Women 2008",
         "orientation": "h",
         "type": "bar",
         "x": [
          -1797781,
          -1703831,
          -1819141,
          -1972199,
          -2067185,
          -2028566,
          -2011134,
          -2207305,
          -2382044,
          -2228958,
          -1909715,
          -1879547,
          -1830024,
          -1448740,
          -1276464,
          -1108272,
          -1810474
         ],
         "y": [
          1,
          6,
          11,
          16,
          21,
          26,
          31,
          36,
          41,
          46,
          51,
          56,
          61,
          66,
          71,
          76,
          81
         ]
        },
        {
         "hoverinfo": "skip",
         "name": "Women 1998",
         "orientation": "h",
         "type": "bar",
         "x": [
          -1783551,
          -1882225,
          -1844071,
          -1730099,
          -1799216,
          -2140785,
          -2378834,
          -2237371,
          -1914088,
          -1931167,
          -1917430,
          -1565806,
          -1448822,
          -1368199,
          -1328854,
          -1135192,
          -1617042
         ],
         "y": [
          1,
          6,
          11,
          16,
          21,
          26,
          31,
          36,
          41,
          46,
          51,
          56,
          61,
          66,
          71,
          76,
          81
         ]
        },
        {
         "hoverinfo": "skip",
         "name": "Women 1988",
         "orientation": "h",
         "type": "bar",
         "x": [
          -1855553,
          -1683438,
          -1711289,
          -2039996,
          -2348154,
          -2245448,
          -1903544,
          -1943815,
          -1956396,
          -1614154,
          -1529829,
          -1508037,
          -1581417,
          -1494770,
          -1271517,
          -1155202,
          -1413872
         ],
         "y": [
          1,
          6,
          11,
          16,
          21,
          26,
          31,
          36,
          41,
          46,
          51,
          56,
          61,
          66,
          71,
          76,
          81
         ]
        },
        {
         "hoverinfo": "skip",
         "name": "Women 1978",
         "orientation": "h",
         "type": "bar",
         "x": [
          -1701291,
          -2039225,
          -2304030,
          -2205287,
          -1909683,
          -1959868,
          -1972225,
          -1643684,
          -1570916,
          -1576169,
          -1707535,
          -1683877,
          -1545585,
          -1580678,
          -1355865,
          -1014672,
          -1079102
         ],
         "y": [
          1,
          6,
          11,
          16,
          21,
          26,
          31,
          36,
          41,
          46,
          51,
          56,
          61,
          66,
          71,
          76,
          81
         ]
        },
        {
         "hoverinfo": "skip",
         "name": "Women 1968",
         "orientation": "h",
         "type": "bar",
         "x": [
          -2378844,
          -2179020,
          -1873277,
          -1952689,
          -2009707,
          -1695894,
          -1614528,
          -1622895,
          -1782426,
          -1789294,
          -1689268,
          -1808831,
          -1687059,
          -1461305,
          -1156026,
          -842530,
          -879264
         ],
         "y": [
          1,
          6,
          11,
          16,
          21,
          26,
          31,
          36,
          41,
          46,
          51,
          56,
          61,
          66,
          71,
          76,
          81
         ]
        }
       ],
       "layout": {
        "barmode": "overlay",
        "template": {
         "data": {
          "bar": [
           {
            "error_x": {
             "color": "#2a3f5f"
            },
            "error_y": {
             "color": "#2a3f5f"
            },
            "marker": {
             "line": {
              "color": "#E5ECF6",
              "width": 0.5
             }
            },
            "type": "bar"
           }
          ],
          "barpolar": [
           {
            "marker": {
             "line": {
              "color": "#E5ECF6",
              "width": 0.5
             }
            },
            "type": "barpolar"
           }
          ],
          "carpet": [
           {
            "aaxis": {
             "endlinecolor": "#2a3f5f",
             "gridcolor": "white",
             "linecolor": "white",
             "minorgridcolor": "white",
             "startlinecolor": "#2a3f5f"
            },
            "baxis": {
             "endlinecolor": "#2a3f5f",
             "gridcolor": "white",
             "linecolor": "white",
             "minorgridcolor": "white",
             "startlinecolor": "#2a3f5f"
            },
            "type": "carpet"
           }
          ],
          "choropleth": [
           {
            "colorbar": {
             "outlinewidth": 0,
             "ticks": ""
            },
            "type": "choropleth"
           }
          ],
          "contour": [
           {
            "colorbar": {
             "outlinewidth": 0,
             "ticks": ""
            },
            "colorscale": [
             [
              0,
              "#0d0887"
             ],
             [
              0.1111111111111111,
              "#46039f"
             ],
             [
              0.2222222222222222,
              "#7201a8"
             ],
             [
              0.3333333333333333,
              "#9c179e"
             ],
             [
              0.4444444444444444,
              "#bd3786"
             ],
             [
              0.5555555555555556,
              "#d8576b"
             ],
             [
              0.6666666666666666,
              "#ed7953"
             ],
             [
              0.7777777777777778,
              "#fb9f3a"
             ],
             [
              0.8888888888888888,
              "#fdca26"
             ],
             [
              1,
              "#f0f921"
             ]
            ],
            "type": "contour"
           }
          ],
          "contourcarpet": [
           {
            "colorbar": {
             "outlinewidth": 0,
             "ticks": ""
            },
            "type": "contourcarpet"
           }
          ],
          "heatmap": [
           {
            "colorbar": {
             "outlinewidth": 0,
             "ticks": ""
            },
            "colorscale": [
             [
              0,
              "#0d0887"
             ],
             [
              0.1111111111111111,
              "#46039f"
             ],
             [
              0.2222222222222222,
              "#7201a8"
             ],
             [
              0.3333333333333333,
              "#9c179e"
             ],
             [
              0.4444444444444444,
              "#bd3786"
             ],
             [
              0.5555555555555556,
              "#d8576b"
             ],
             [
              0.6666666666666666,
              "#ed7953"
             ],
             [
              0.7777777777777778,
              "#fb9f3a"
             ],
             [
              0.8888888888888888,
              "#fdca26"
             ],
             [
              1,
              "#f0f921"
             ]
            ],
            "type": "heatmap"
           }
          ],
          "heatmapgl": [
           {
            "colorbar": {
             "outlinewidth": 0,
             "ticks": ""
            },
            "colorscale": [
             [
              0,
              "#0d0887"
             ],
             [
              0.1111111111111111,
              "#46039f"
             ],
             [
              0.2222222222222222,
              "#7201a8"
             ],
             [
              0.3333333333333333,
              "#9c179e"
             ],
             [
              0.4444444444444444,
              "#bd3786"
             ],
             [
              0.5555555555555556,
              "#d8576b"
             ],
             [
              0.6666666666666666,
              "#ed7953"
             ],
             [
              0.7777777777777778,
              "#fb9f3a"
             ],
             [
              0.8888888888888888,
              "#fdca26"
             ],
             [
              1,
              "#f0f921"
             ]
            ],
            "type": "heatmapgl"
           }
          ],
          "histogram": [
           {
            "marker": {
             "colorbar": {
              "outlinewidth": 0,
              "ticks": ""
             }
            },
            "type": "histogram"
           }
          ],
          "histogram2d": [
           {
            "colorbar": {
             "outlinewidth": 0,
             "ticks": ""
            },
            "colorscale": [
             [
              0,
              "#0d0887"
             ],
             [
              0.1111111111111111,
              "#46039f"
             ],
             [
              0.2222222222222222,
              "#7201a8"
             ],
             [
              0.3333333333333333,
              "#9c179e"
             ],
             [
              0.4444444444444444,
              "#bd3786"
             ],
             [
              0.5555555555555556,
              "#d8576b"
             ],
             [
              0.6666666666666666,
              "#ed7953"
             ],
             [
              0.7777777777777778,
              "#fb9f3a"
             ],
             [
              0.8888888888888888,
              "#fdca26"
             ],
             [
              1,
              "#f0f921"
             ]
            ],
            "type": "histogram2d"
           }
          ],
          "histogram2dcontour": [
           {
            "colorbar": {
             "outlinewidth": 0,
             "ticks": ""
            },
            "colorscale": [
             [
              0,
              "#0d0887"
             ],
             [
              0.1111111111111111,
              "#46039f"
             ],
             [
              0.2222222222222222,
              "#7201a8"
             ],
             [
              0.3333333333333333,
              "#9c179e"
             ],
             [
              0.4444444444444444,
              "#bd3786"
             ],
             [
              0.5555555555555556,
              "#d8576b"
             ],
             [
              0.6666666666666666,
              "#ed7953"
             ],
             [
              0.7777777777777778,
              "#fb9f3a"
             ],
             [
              0.8888888888888888,
              "#fdca26"
             ],
             [
              1,
              "#f0f921"
             ]
            ],
            "type": "histogram2dcontour"
           }
          ],
          "mesh3d": [
           {
            "colorbar": {
             "outlinewidth": 0,
             "ticks": ""
            },
            "type": "mesh3d"
           }
          ],
          "parcoords": [
           {
            "line": {
             "colorbar": {
              "outlinewidth": 0,
              "ticks": ""
             }
            },
            "type": "parcoords"
           }
          ],
          "pie": [
           {
            "automargin": true,
            "type": "pie"
           }
          ],
          "scatter": [
           {
            "marker": {
             "colorbar": {
              "outlinewidth": 0,
              "ticks": ""
             }
            },
            "type": "scatter"
           }
          ],
          "scatter3d": [
           {
            "line": {
             "colorbar": {
              "outlinewidth": 0,
              "ticks": ""
             }
            },
            "marker": {
             "colorbar": {
              "outlinewidth": 0,
              "ticks": ""
             }
            },
            "type": "scatter3d"
           }
          ],
          "scattercarpet": [
           {
            "marker": {
             "colorbar": {
              "outlinewidth": 0,
              "ticks": ""
             }
            },
            "type": "scattercarpet"
           }
          ],
          "scattergeo": [
           {
            "marker": {
             "colorbar": {
              "outlinewidth": 0,
              "ticks": ""
             }
            },
            "type": "scattergeo"
           }
          ],
          "scattergl": [
           {
            "marker": {
             "colorbar": {
              "outlinewidth": 0,
              "ticks": ""
             }
            },
            "type": "scattergl"
           }
          ],
          "scattermapbox": [
           {
            "marker": {
             "colorbar": {
              "outlinewidth": 0,
              "ticks": ""
             }
            },
            "type": "scattermapbox"
           }
          ],
          "scatterpolar": [
           {
            "marker": {
             "colorbar": {
              "outlinewidth": 0,
              "ticks": ""
             }
            },
            "type": "scatterpolar"
           }
          ],
          "scatterpolargl": [
           {
            "marker": {
             "colorbar": {
              "outlinewidth": 0,
              "ticks": ""
             }
            },
            "type": "scatterpolargl"
           }
          ],
          "scatterternary": [
           {
            "marker": {
             "colorbar": {
              "outlinewidth": 0,
              "ticks": ""
             }
            },
            "type": "scatterternary"
           }
          ],
          "surface": [
           {
            "colorbar": {
             "outlinewidth": 0,
             "ticks": ""
            },
            "colorscale": [
             [
              0,
              "#0d0887"
             ],
             [
              0.1111111111111111,
              "#46039f"
             ],
             [
              0.2222222222222222,
              "#7201a8"
             ],
             [
              0.3333333333333333,
              "#9c179e"
             ],
             [
              0.4444444444444444,
              "#bd3786"
             ],
             [
              0.5555555555555556,
              "#d8576b"
             ],
             [
              0.6666666666666666,
              "#ed7953"
             ],
             [
              0.7777777777777778,
              "#fb9f3a"
             ],
             [
              0.8888888888888888,
              "#fdca26"
             ],
             [
              1,
              "#f0f921"
             ]
            ],
            "type": "surface"
           }
          ],
          "table": [
           {
            "cells": {
             "fill": {
              "color": "#EBF0F8"
             },
             "line": {
              "color": "white"
             }
            },
            "header": {
             "fill": {
              "color": "#C8D4E3"
             },
             "line": {
              "color": "white"
             }
            },
            "type": "table"
           }
          ]
         },
         "layout": {
          "annotationdefaults": {
           "arrowcolor": "#2a3f5f",
           "arrowhead": 0,
           "arrowwidth": 1
          },
          "autotypenumbers": "strict",
          "coloraxis": {
           "colorbar": {
            "outlinewidth": 0,
            "ticks": ""
           }
          },
          "colorscale": {
           "diverging": [
            [
             0,
             "#8e0152"
            ],
            [
             0.1,
             "#c51b7d"
            ],
            [
             0.2,
             "#de77ae"
            ],
            [
             0.3,
             "#f1b6da"
            ],
            [
             0.4,
             "#fde0ef"
            ],
            [
             0.5,
             "#f7f7f7"
            ],
            [
             0.6,
             "#e6f5d0"
            ],
            [
             0.7,
             "#b8e186"
            ],
            [
             0.8,
             "#7fbc41"
            ],
            [
             0.9,
             "#4d9221"
            ],
            [
             1,
             "#276419"
            ]
           ],
           "sequential": [
            [
             0,
             "#0d0887"
            ],
            [
             0.1111111111111111,
             "#46039f"
            ],
            [
             0.2222222222222222,
             "#7201a8"
            ],
            [
             0.3333333333333333,
             "#9c179e"
            ],
            [
             0.4444444444444444,
             "#bd3786"
            ],
            [
             0.5555555555555556,
             "#d8576b"
            ],
            [
             0.6666666666666666,
             "#ed7953"
            ],
            [
             0.7777777777777778,
             "#fb9f3a"
            ],
            [
             0.8888888888888888,
             "#fdca26"
            ],
            [
             1,
             "#f0f921"
            ]
           ],
           "sequentialminus": [
            [
             0,
             "#0d0887"
            ],
            [
             0.1111111111111111,
             "#46039f"
            ],
            [
             0.2222222222222222,
             "#7201a8"
            ],
            [
             0.3333333333333333,
             "#9c179e"
            ],
            [
             0.4444444444444444,
             "#bd3786"
            ],
            [
             0.5555555555555556,
             "#d8576b"
            ],
            [
             0.6666666666666666,
             "#ed7953"
            ],
            [
             0.7777777777777778,
             "#fb9f3a"
            ],
            [
             0.8888888888888888,
             "#fdca26"
            ],
            [
             1,
             "#f0f921"
            ]
           ]
          },
          "colorway": [
           "#636efa",
           "#EF553B",
           "#00cc96",
           "#ab63fa",
           "#FFA15A",
           "#19d3f3",
           "#FF6692",
           "#B6E880",
           "#FF97FF",
           "#FECB52"
          ],
          "font": {
           "color": "#2a3f5f"
          },
          "geo": {
           "bgcolor": "white",
           "lakecolor": "white",
           "landcolor": "#E5ECF6",
           "showlakes": true,
           "showland": true,
           "subunitcolor": "white"
          },
          "hoverlabel": {
           "align": "left"
          },
          "hovermode": "closest",
          "mapbox": {
           "style": "light"
          },
          "paper_bgcolor": "white",
          "plot_bgcolor": "#E5ECF6",
          "polar": {
           "angularaxis": {
            "gridcolor": "white",
            "linecolor": "white",
            "ticks": ""
           },
           "bgcolor": "#E5ECF6",
           "radialaxis": {
            "gridcolor": "white",
            "linecolor": "white",
            "ticks": ""
           }
          },
          "scene": {
           "xaxis": {
            "backgroundcolor": "#E5ECF6",
            "gridcolor": "white",
            "gridwidth": 2,
            "linecolor": "white",
            "showbackground": true,
            "ticks": "",
            "zerolinecolor": "white"
           },
           "yaxis": {
            "backgroundcolor": "#E5ECF6",
            "gridcolor": "white",
            "gridwidth": 2,
            "linecolor": "white",
            "showbackground": true,
            "ticks": "",
            "zerolinecolor": "white"
           },
           "zaxis": {
            "backgroundcolor": "#E5ECF6",
            "gridcolor": "white",
            "gridwidth": 2,
            "linecolor": "white",
            "showbackground": true,
            "ticks": "",
            "zerolinecolor": "white"
           }
          },
          "shapedefaults": {
           "line": {
            "color": "#2a3f5f"
           }
          },
          "ternary": {
           "aaxis": {
            "gridcolor": "white",
            "linecolor": "white",
            "ticks": ""
           },
           "baxis": {
            "gridcolor": "white",
            "linecolor": "white",
            "ticks": ""
           },
           "bgcolor": "#E5ECF6",
           "caxis": {
            "gridcolor": "white",
            "linecolor": "white",
            "ticks": ""
           }
          },
          "title": {
           "x": 0.05
          },
          "xaxis": {
           "automargin": true,
           "gridcolor": "white",
           "linecolor": "white",
           "ticks": "",
           "title": {
            "standoff": 15
           },
           "zerolinecolor": "white",
           "zerolinewidth": 2
          },
          "yaxis": {
           "automargin": true,
           "gridcolor": "white",
           "linecolor": "white",
           "ticks": "",
           "title": {
            "standoff": 15
           },
           "zerolinecolor": "white",
           "zerolinewidth": 2
          }
         }
        },
        "xaxis": {
         "title": {
          "text": "Number"
         }
        },
        "yaxis": {
         "range": [
          0,
          90
         ],
         "title": {
          "text": "Age"
         }
        }
       }
      },
      "text/html": [
       "<div>                            <div id=\"96cff1ef-8266-4137-a92f-33aa969159bb\" class=\"plotly-graph-div\" style=\"height:525px; width:100%;\"></div>            <script type=\"text/javascript\">                require([\"plotly\"], function(Plotly) {                    window.PLOTLYENV=window.PLOTLYENV || {};                                    if (document.getElementById(\"96cff1ef-8266-4137-a92f-33aa969159bb\")) {                    Plotly.newPlot(                        \"96cff1ef-8266-4137-a92f-33aa969159bb\",                        [{\"hoverinfo\": \"skip\", \"name\": \"Men 2018\", \"orientation\": \"h\", \"type\": \"bar\", \"x\": [2015968.0, 2076882.0, 1917793.0, 1873417.0, 2095259.0, 2268214.0, 2297014.0, 2188332.0, 2092905.0, 2168240.0, 2287007.0, 2127632.0, 1799291.0, 1677298.0, 1521073.0, 1044047.0, 1357594.0], \"y\": [1, 6, 11, 16, 21, 26, 31, 36, 41, 46, 51, 56, 61, 66, 71, 76, 81]}, {\"hoverinfo\": \"skip\", \"name\": \"Men 2008\", \"orientation\": \"h\", \"type\": \"bar\", \"x\": [1885888.0, 1786701.0, 1909808.0, 2055526.0, 2107117.0, 2029664.0, 1993729.0, 2167269.0, 2329149.0, 2183220.0, 1877733.0, 1834642.0, 1764858.0, 1353073.0, 1132283.0, 894554.0, 1020399.0], \"y\": [1, 6, 11, 16, 21, 26, 31, 36, 41, 46, 51, 56, 61, 66, 71, 76, 81]}, {\"hoverinfo\": \"skip\", \"name\": \"Men 1998\", \"orientation\": \"h\", \"type\": \"bar\", \"x\": [1873353.0, 1974004.0, 1928691.0, 1779083.0, 1803715.0, 2123399.0, 2340661.0, 2195754.0, 1884591.0, 1905445.0, 1890103.0, 1527587.0, 1383271.0, 1240514.0, 1073130.0, 787888.0, 753199.0], \"y\": [1, 6, 11, 16, 21, 26, 31, 36, 41, 46, 51, 56, 61, 66, 71, 76, 81]}, {\"hoverinfo\": \"skip\", \"name\": \"Men 1988\", \"orientation\": \"h\", \"type\": \"bar\", \"x\": [1941298.0, 1766789.0, 1801219.0, 2123030.0, 2390636.0, 2254750.0, 1907242.0, 1947205.0, 1958014.0, 1615642.0, 1521025.0, 1472246.0, 1449583.0, 1259535.0, 942500.0, 732064.0, 589118.0], \"y\": [1, 6, 11, 16, 21, 26, 31, 36, 41, 46, 51, 56, 61, 66, 71, 76, 81]}, {\"hoverinfo\": \"skip\", \"name\": \"Men 1978\", \"orientation\": \"h\", \"type\": \"bar\", \"x\": [1799563.0, 2153725.0, 2427283.0, 2307110.0, 1972746.0, 2003301.0, 2008812.0, 1673289.0, 1597157.0, 1586397.0, 1658422.0, 1568652.0, 1353515.0, 1287743.0, 962068.0, 573378.0, 413649.0], \"y\": [1, 6, 11, 16, 21, 26, 31, 36, 41, 46, 51, 56, 61, 66, 71, 76, 81]}, {\"hoverinfo\": \"skip\", \"name\": \"Men 1968\", \"orientation\": \"h\", \"type\": \"bar\", \"x\": [2476800.0, 2300556.0, 1992632.0, 2029083.0, 2047919.0, 1720012.0, 1657409.0, 1655168.0, 1765430.0, 1732260.0, 1595676.0, 1666766.0, 1470296.0, 1113323.0, 719301.0, 459372.0, 386839.0], \"y\": [1, 6, 11, 16, 21, 26, 31, 36, 41, 46, 51, 56, 61, 66, 71, 76, 81]}, {\"hoverinfo\": \"skip\", \"name\": \"Women 2018\", \"orientation\": \"h\", \"type\": \"bar\", \"x\": [-1920537.0, -1983172.0, -1834526.0, -1798232.0, -2020552.0, -2216947.0, -2303593.0, -2211818.0, -2109059.0, -2219689.0, -2358858.0, -2190603.0, -1858746.0, -1770028.0, -1654634.0, -1209696.0, -1991688.0], \"y\": [1, 6, 11, 16, 21, 26, 31, 36, 41, 46, 51, 56, 61, 66, 71, 76, 81]}, {\"hoverinfo\": \"skip\", \"name\": \"Women 2008\", \"orientation\": \"h\", \"type\": \"bar\", \"x\": [-1797781.0, -1703831.0, -1819141.0, -1972199.0, -2067185.0, -2028566.0, -2011134.0, -2207305.0, -2382044.0, -2228958.0, -1909715.0, -1879547.0, -1830024.0, -1448740.0, -1276464.0, -1108272.0, -1810474.0], \"y\": [1, 6, 11, 16, 21, 26, 31, 36, 41, 46, 51, 56, 61, 66, 71, 76, 81]}, {\"hoverinfo\": \"skip\", \"name\": \"Women 1998\", \"orientation\": \"h\", \"type\": \"bar\", \"x\": [-1783551.0, -1882225.0, -1844071.0, -1730099.0, -1799216.0, -2140785.0, -2378834.0, -2237371.0, -1914088.0, -1931167.0, -1917430.0, -1565806.0, -1448822.0, -1368199.0, -1328854.0, -1135192.0, -1617042.0], \"y\": [1, 6, 11, 16, 21, 26, 31, 36, 41, 46, 51, 56, 61, 66, 71, 76, 81]}, {\"hoverinfo\": \"skip\", \"name\": \"Women 1988\", \"orientation\": \"h\", \"type\": \"bar\", \"x\": [-1855553.0, -1683438.0, -1711289.0, -2039996.0, -2348154.0, -2245448.0, -1903544.0, -1943815.0, -1956396.0, -1614154.0, -1529829.0, -1508037.0, -1581417.0, -1494770.0, -1271517.0, -1155202.0, -1413872.0], \"y\": [1, 6, 11, 16, 21, 26, 31, 36, 41, 46, 51, 56, 61, 66, 71, 76, 81]}, {\"hoverinfo\": \"skip\", \"name\": \"Women 1978\", \"orientation\": \"h\", \"type\": \"bar\", \"x\": [-1701291.0, -2039225.0, -2304030.0, -2205287.0, -1909683.0, -1959868.0, -1972225.0, -1643684.0, -1570916.0, -1576169.0, -1707535.0, -1683877.0, -1545585.0, -1580678.0, -1355865.0, -1014672.0, -1079102.0], \"y\": [1, 6, 11, 16, 21, 26, 31, 36, 41, 46, 51, 56, 61, 66, 71, 76, 81]}, {\"hoverinfo\": \"skip\", \"name\": \"Women 1968\", \"orientation\": \"h\", \"type\": \"bar\", \"x\": [-2378844.0, -2179020.0, -1873277.0, -1952689.0, -2009707.0, -1695894.0, -1614528.0, -1622895.0, -1782426.0, -1789294.0, -1689268.0, -1808831.0, -1687059.0, -1461305.0, -1156026.0, -842530.0, -879264.0], \"y\": [1, 6, 11, 16, 21, 26, 31, 36, 41, 46, 51, 56, 61, 66, 71, 76, 81]}],                        {\"barmode\": \"overlay\", \"template\": {\"data\": {\"bar\": [{\"error_x\": {\"color\": \"#2a3f5f\"}, \"error_y\": {\"color\": \"#2a3f5f\"}, \"marker\": {\"line\": {\"color\": \"#E5ECF6\", \"width\": 0.5}}, \"type\": \"bar\"}], \"barpolar\": [{\"marker\": {\"line\": {\"color\": \"#E5ECF6\", \"width\": 0.5}}, \"type\": \"barpolar\"}], \"carpet\": [{\"aaxis\": {\"endlinecolor\": \"#2a3f5f\", \"gridcolor\": \"white\", \"linecolor\": \"white\", \"minorgridcolor\": \"white\", \"startlinecolor\": \"#2a3f5f\"}, \"baxis\": {\"endlinecolor\": \"#2a3f5f\", \"gridcolor\": \"white\", \"linecolor\": \"white\", \"minorgridcolor\": \"white\", \"startlinecolor\": \"#2a3f5f\"}, \"type\": \"carpet\"}], \"choropleth\": [{\"colorbar\": {\"outlinewidth\": 0, \"ticks\": \"\"}, \"type\": \"choropleth\"}], \"contour\": [{\"colorbar\": {\"outlinewidth\": 0, \"ticks\": \"\"}, \"colorscale\": [[0.0, \"#0d0887\"], [0.1111111111111111, \"#46039f\"], [0.2222222222222222, \"#7201a8\"], [0.3333333333333333, \"#9c179e\"], [0.4444444444444444, \"#bd3786\"], [0.5555555555555556, \"#d8576b\"], [0.6666666666666666, \"#ed7953\"], [0.7777777777777778, \"#fb9f3a\"], [0.8888888888888888, \"#fdca26\"], [1.0, \"#f0f921\"]], \"type\": \"contour\"}], \"contourcarpet\": [{\"colorbar\": {\"outlinewidth\": 0, \"ticks\": \"\"}, \"type\": \"contourcarpet\"}], \"heatmap\": [{\"colorbar\": {\"outlinewidth\": 0, \"ticks\": \"\"}, \"colorscale\": [[0.0, \"#0d0887\"], [0.1111111111111111, \"#46039f\"], [0.2222222222222222, \"#7201a8\"], [0.3333333333333333, \"#9c179e\"], [0.4444444444444444, \"#bd3786\"], [0.5555555555555556, \"#d8576b\"], [0.6666666666666666, \"#ed7953\"], [0.7777777777777778, \"#fb9f3a\"], [0.8888888888888888, \"#fdca26\"], [1.0, \"#f0f921\"]], \"type\": \"heatmap\"}], \"heatmapgl\": [{\"colorbar\": {\"outlinewidth\": 0, \"ticks\": \"\"}, \"colorscale\": [[0.0, \"#0d0887\"], [0.1111111111111111, \"#46039f\"], [0.2222222222222222, \"#7201a8\"], [0.3333333333333333, \"#9c179e\"], [0.4444444444444444, \"#bd3786\"], [0.5555555555555556, \"#d8576b\"], [0.6666666666666666, \"#ed7953\"], [0.7777777777777778, \"#fb9f3a\"], [0.8888888888888888, \"#fdca26\"], [1.0, \"#f0f921\"]], \"type\": \"heatmapgl\"}], \"histogram\": [{\"marker\": {\"colorbar\": {\"outlinewidth\": 0, \"ticks\": \"\"}}, \"type\": \"histogram\"}], \"histogram2d\": [{\"colorbar\": {\"outlinewidth\": 0, \"ticks\": \"\"}, \"colorscale\": [[0.0, \"#0d0887\"], [0.1111111111111111, \"#46039f\"], [0.2222222222222222, \"#7201a8\"], [0.3333333333333333, \"#9c179e\"], [0.4444444444444444, \"#bd3786\"], [0.5555555555555556, \"#d8576b\"], [0.6666666666666666, \"#ed7953\"], [0.7777777777777778, \"#fb9f3a\"], [0.8888888888888888, \"#fdca26\"], [1.0, \"#f0f921\"]], \"type\": \"histogram2d\"}], \"histogram2dcontour\": [{\"colorbar\": {\"outlinewidth\": 0, \"ticks\": \"\"}, \"colorscale\": [[0.0, \"#0d0887\"], [0.1111111111111111, \"#46039f\"], [0.2222222222222222, \"#7201a8\"], [0.3333333333333333, \"#9c179e\"], [0.4444444444444444, \"#bd3786\"], [0.5555555555555556, \"#d8576b\"], [0.6666666666666666, \"#ed7953\"], [0.7777777777777778, \"#fb9f3a\"], [0.8888888888888888, \"#fdca26\"], [1.0, \"#f0f921\"]], \"type\": \"histogram2dcontour\"}], \"mesh3d\": [{\"colorbar\": {\"outlinewidth\": 0, \"ticks\": \"\"}, \"type\": \"mesh3d\"}], \"parcoords\": [{\"line\": {\"colorbar\": {\"outlinewidth\": 0, \"ticks\": \"\"}}, \"type\": \"parcoords\"}], \"pie\": [{\"automargin\": true, \"type\": \"pie\"}], \"scatter\": [{\"marker\": {\"colorbar\": {\"outlinewidth\": 0, \"ticks\": \"\"}}, \"type\": \"scatter\"}], \"scatter3d\": [{\"line\": {\"colorbar\": {\"outlinewidth\": 0, \"ticks\": \"\"}}, \"marker\": {\"colorbar\": {\"outlinewidth\": 0, \"ticks\": \"\"}}, \"type\": \"scatter3d\"}], \"scattercarpet\": [{\"marker\": {\"colorbar\": {\"outlinewidth\": 0, \"ticks\": \"\"}}, \"type\": \"scattercarpet\"}], \"scattergeo\": [{\"marker\": {\"colorbar\": {\"outlinewidth\": 0, \"ticks\": \"\"}}, \"type\": \"scattergeo\"}], \"scattergl\": [{\"marker\": {\"colorbar\": {\"outlinewidth\": 0, \"ticks\": \"\"}}, \"type\": \"scattergl\"}], \"scattermapbox\": [{\"marker\": {\"colorbar\": {\"outlinewidth\": 0, \"ticks\": \"\"}}, \"type\": \"scattermapbox\"}], \"scatterpolar\": [{\"marker\": {\"colorbar\": {\"outlinewidth\": 0, \"ticks\": \"\"}}, \"type\": \"scatterpolar\"}], \"scatterpolargl\": [{\"marker\": {\"colorbar\": {\"outlinewidth\": 0, \"ticks\": \"\"}}, \"type\": \"scatterpolargl\"}], \"scatterternary\": [{\"marker\": {\"colorbar\": {\"outlinewidth\": 0, \"ticks\": \"\"}}, \"type\": \"scatterternary\"}], \"surface\": [{\"colorbar\": {\"outlinewidth\": 0, \"ticks\": \"\"}, \"colorscale\": [[0.0, \"#0d0887\"], [0.1111111111111111, \"#46039f\"], [0.2222222222222222, \"#7201a8\"], [0.3333333333333333, \"#9c179e\"], [0.4444444444444444, \"#bd3786\"], [0.5555555555555556, \"#d8576b\"], [0.6666666666666666, \"#ed7953\"], [0.7777777777777778, \"#fb9f3a\"], [0.8888888888888888, \"#fdca26\"], [1.0, \"#f0f921\"]], \"type\": \"surface\"}], \"table\": [{\"cells\": {\"fill\": {\"color\": \"#EBF0F8\"}, \"line\": {\"color\": \"white\"}}, \"header\": {\"fill\": {\"color\": \"#C8D4E3\"}, \"line\": {\"color\": \"white\"}}, \"type\": \"table\"}]}, \"layout\": {\"annotationdefaults\": {\"arrowcolor\": \"#2a3f5f\", \"arrowhead\": 0, \"arrowwidth\": 1}, \"autotypenumbers\": \"strict\", \"coloraxis\": {\"colorbar\": {\"outlinewidth\": 0, \"ticks\": \"\"}}, \"colorscale\": {\"diverging\": [[0, \"#8e0152\"], [0.1, \"#c51b7d\"], [0.2, \"#de77ae\"], [0.3, \"#f1b6da\"], [0.4, \"#fde0ef\"], [0.5, \"#f7f7f7\"], [0.6, \"#e6f5d0\"], [0.7, \"#b8e186\"], [0.8, \"#7fbc41\"], [0.9, \"#4d9221\"], [1, \"#276419\"]], \"sequential\": [[0.0, \"#0d0887\"], [0.1111111111111111, \"#46039f\"], [0.2222222222222222, \"#7201a8\"], [0.3333333333333333, \"#9c179e\"], [0.4444444444444444, \"#bd3786\"], [0.5555555555555556, \"#d8576b\"], [0.6666666666666666, \"#ed7953\"], [0.7777777777777778, \"#fb9f3a\"], [0.8888888888888888, \"#fdca26\"], [1.0, \"#f0f921\"]], \"sequentialminus\": [[0.0, \"#0d0887\"], [0.1111111111111111, \"#46039f\"], [0.2222222222222222, \"#7201a8\"], [0.3333333333333333, \"#9c179e\"], [0.4444444444444444, \"#bd3786\"], [0.5555555555555556, \"#d8576b\"], [0.6666666666666666, \"#ed7953\"], [0.7777777777777778, \"#fb9f3a\"], [0.8888888888888888, \"#fdca26\"], [1.0, \"#f0f921\"]]}, \"colorway\": [\"#636efa\", \"#EF553B\", \"#00cc96\", \"#ab63fa\", \"#FFA15A\", \"#19d3f3\", \"#FF6692\", \"#B6E880\", \"#FF97FF\", \"#FECB52\"], \"font\": {\"color\": \"#2a3f5f\"}, \"geo\": {\"bgcolor\": \"white\", \"lakecolor\": \"white\", \"landcolor\": \"#E5ECF6\", \"showlakes\": true, \"showland\": true, \"subunitcolor\": \"white\"}, \"hoverlabel\": {\"align\": \"left\"}, \"hovermode\": \"closest\", \"mapbox\": {\"style\": \"light\"}, \"paper_bgcolor\": \"white\", \"plot_bgcolor\": \"#E5ECF6\", \"polar\": {\"angularaxis\": {\"gridcolor\": \"white\", \"linecolor\": \"white\", \"ticks\": \"\"}, \"bgcolor\": \"#E5ECF6\", \"radialaxis\": {\"gridcolor\": \"white\", \"linecolor\": \"white\", \"ticks\": \"\"}}, \"scene\": {\"xaxis\": {\"backgroundcolor\": \"#E5ECF6\", \"gridcolor\": \"white\", \"gridwidth\": 2, \"linecolor\": \"white\", \"showbackground\": true, \"ticks\": \"\", \"zerolinecolor\": \"white\"}, \"yaxis\": {\"backgroundcolor\": \"#E5ECF6\", \"gridcolor\": \"white\", \"gridwidth\": 2, \"linecolor\": \"white\", \"showbackground\": true, \"ticks\": \"\", \"zerolinecolor\": \"white\"}, \"zaxis\": {\"backgroundcolor\": \"#E5ECF6\", \"gridcolor\": \"white\", \"gridwidth\": 2, \"linecolor\": \"white\", \"showbackground\": true, \"ticks\": \"\", \"zerolinecolor\": \"white\"}}, \"shapedefaults\": {\"line\": {\"color\": \"#2a3f5f\"}}, \"ternary\": {\"aaxis\": {\"gridcolor\": \"white\", \"linecolor\": \"white\", \"ticks\": \"\"}, \"baxis\": {\"gridcolor\": \"white\", \"linecolor\": \"white\", \"ticks\": \"\"}, \"bgcolor\": \"#E5ECF6\", \"caxis\": {\"gridcolor\": \"white\", \"linecolor\": \"white\", \"ticks\": \"\"}}, \"title\": {\"x\": 0.05}, \"xaxis\": {\"automargin\": true, \"gridcolor\": \"white\", \"linecolor\": \"white\", \"ticks\": \"\", \"title\": {\"standoff\": 15}, \"zerolinecolor\": \"white\", \"zerolinewidth\": 2}, \"yaxis\": {\"automargin\": true, \"gridcolor\": \"white\", \"linecolor\": \"white\", \"ticks\": \"\", \"title\": {\"standoff\": 15}, \"zerolinecolor\": \"white\", \"zerolinewidth\": 2}}}, \"xaxis\": {\"title\": {\"text\": \"Number\"}}, \"yaxis\": {\"range\": [0, 90], \"title\": {\"text\": \"Age\"}}},                        {\"responsive\": true}                    ).then(function(){\n",
       "                            \n",
       "var gd = document.getElementById('96cff1ef-8266-4137-a92f-33aa969159bb');\n",
       "var x = new MutationObserver(function (mutations, observer) {{\n",
       "        var display = window.getComputedStyle(gd).display;\n",
       "        if (!display || display === 'none') {{\n",
       "            console.log([gd, 'removed!']);\n",
       "            Plotly.purge(gd);\n",
       "            observer.disconnect();\n",
       "        }}\n",
       "}});\n",
       "\n",
       "// Listen for the removal of the full notebook cells\n",
       "var notebookContainer = gd.closest('#notebook-container');\n",
       "if (notebookContainer) {{\n",
       "    x.observe(notebookContainer, {childList: true});\n",
       "}}\n",
       "\n",
       "// Listen for the clearing of the current output cell\n",
       "var outputEl = gd.closest('.output');\n",
       "if (outputEl) {{\n",
       "    x.observe(outputEl, {childList: true});\n",
       "}}\n",
       "\n",
       "                        })                };                });            </script>        </div>"
      ]
     },
     "metadata": {},
     "output_type": "display_data"
    }
   ],
   "source": [
    "\n",
    "def animated_population_pyramid(dataframe):\n",
    "\n",
    "    # Count down by increments of 20 years\n",
    "    years = range(2018,1960,-10)\n",
    "    \n",
    "    layout = go.Layout(barmode='overlay',\n",
    "                   yaxis=go.layout.YAxis(range=[0, 90], title='Age'),\n",
    "                   xaxis=go.layout.XAxis(title='Number'))\n",
    "\n",
    "    # This makes a list of graphs, year by year\n",
    "    bins = [go.Bar(x = df.loc[str(year),:].filter(regex=\"Male\").values,\n",
    "               y = [int(s[:2])+1 for s in age_ranges],\n",
    "               orientation='h',\n",
    "               name='Men {:d}'.format(year),\n",
    "               hoverinfo='skip'\n",
    "              )\n",
    "            for year in years]\n",
    "          \n",
    "    bins += [go.Bar(x = -df.loc[str(year),:].filter(regex=\"Female\").values,\n",
    "                y=[int(s[:2])+1 for s in age_ranges],\n",
    "                orientation='h',\n",
    "                name='Women {:d}'.format(year),\n",
    "                hoverinfo='skip',\n",
    "               )\n",
    "             for year in years]\n",
    "\n",
    "    return py.iplot(dict(data=bins, layout=layout))\n",
    "         \n",
    "animated_population_pyramid(df)"
   ]
  },
  {
   "cell_type": "code",
   "execution_count": null,
   "metadata": {},
   "outputs": [],
   "source": []
  }
 ],
 "metadata": {
  "history": [
   {
    "code": "year = 2008\ndate_str = \"date==\" + str(year) + \"\"\ndate_str",
    "id": "83e0198ee6e84ffda56f3a3e7cf4698a",
    "idx": 4,
    "time": "2021-01-25T23:42:35.556Z",
    "type": "execution"
   },
   {
    "id": "83e0198ee6e84ffda56f3a3e7cf4698a",
    "time": "2021-01-25T23:42:36.533Z",
    "type": "completion"
   },
   {
    "code": "import wbdata\nimport numpy as np\nimport cufflinks as cf\ncf.go_offline()",
    "id": "223b7d823504494593185ee453edacb0",
    "idx": 0,
    "time": "2021-01-25T23:42:54.840Z",
    "type": "execution"
   },
   {
    "id": "223b7d823504494593185ee453edacb0",
    "time": "2021-01-25T23:42:55.067Z",
    "type": "completion"
   },
   {
    "code": "!pip install wbdata\nimport numpy as np\nimport cufflinks as cf\ncf.go_offline()",
    "id": "223b7d823504494593185ee453edacb0",
    "idx": 0,
    "time": "2021-01-25T23:43:20.152Z",
    "type": "execution"
   },
   {
    "id": "223b7d823504494593185ee453edacb0",
    "time": "2021-01-25T23:43:26.765Z",
    "type": "completion"
   },
   {
    "code": "wbdata.get_country() ",
    "id": "2993e3a9f3054ed094af45d8b6b756dc",
    "idx": 1,
    "time": "2021-01-25T23:43:40.368Z",
    "type": "execution"
   },
   {
    "id": "2993e3a9f3054ed094af45d8b6b756dc",
    "time": "2021-01-25T23:43:40.577Z",
    "type": "completion"
   },
   {
    "code": "!pip install wbdata\nimport wbdata\nimport numpy as np\nimport cufflinks as cf\ncf.go_offline()",
    "id": "223b7d823504494593185ee453edacb0",
    "idx": 0,
    "time": "2021-01-25T23:43:54.281Z",
    "type": "execution"
   },
   {
    "id": "223b7d823504494593185ee453edacb0",
    "time": "2021-01-25T23:43:58.186Z",
    "type": "completion"
   },
   {
    "code": "wbdata.get_country() ",
    "id": "2993e3a9f3054ed094af45d8b6b756dc",
    "idx": 1,
    "time": "2021-01-25T23:44:02.550Z",
    "type": "execution"
   },
   {
    "id": "2993e3a9f3054ed094af45d8b6b756dc",
    "time": "2021-01-25T23:44:02.986Z",
    "type": "completion"
   },
   {
    "code": "wbdata.get_source()",
    "id": "95380d3c209d452e83152d46589f8c73",
    "idx": 2,
    "time": "2021-01-25T23:44:05.252Z",
    "type": "execution"
   },
   {
    "id": "95380d3c209d452e83152d46589f8c73",
    "time": "2021-01-25T23:44:05.491Z",
    "type": "completion"
   },
   {
    "code": "year = 2008\ndate_str = \"date==\" + str(year) + \"\"\ndate_str",
    "id": "83e0198ee6e84ffda56f3a3e7cf4698a",
    "idx": 4,
    "time": "2021-01-25T23:44:10.497Z",
    "type": "execution"
   },
   {
    "id": "83e0198ee6e84ffda56f3a3e7cf4698a",
    "time": "2021-01-25T23:44:10.580Z",
    "type": "completion"
   },
   {
    "code": "age_ranges = []\n\n# Ranges top out at 80, and go in five year increments\nfor i in range(0,80,5):\n    age_ranges.append(f\"{i:02d}\"+f\"{i+4:02d}\")\n\nage_ranges.append(\"80UP\")",
    "id": "120329da659649a4bafcd50090152a91",
    "idx": 5,
    "time": "2021-01-25T23:46:05.535Z",
    "type": "execution"
   },
   {
    "id": "120329da659649a4bafcd50090152a91",
    "time": "2021-01-25T23:46:05.600Z",
    "type": "completion"
   },
   {
    "code": "male_variables = {\"SP.POP.\"+age_range+\".MA\":\"Males \"+age_range for age_range in age_ranges}\nfemale_variables = {\"SP.POP.\"+age_range+\".FE\":\"Females \"+age_range for age_range in age_ranges}\n\nvariables = male_variables\nvariables.update(female_variables)",
    "id": "2bdbe93c1c7c48e18cedc9fdd68bd656",
    "idx": 6,
    "time": "2021-01-25T23:46:06.612Z",
    "type": "execution"
   },
   {
    "id": "2bdbe93c1c7c48e18cedc9fdd68bd656",
    "time": "2021-01-25T23:46:06.675Z",
    "type": "completion"
   },
   {
    "code": "df = wbdata.get_dataframe(variables,country=\"WLD\")\nprint(df.query(\"date=='2018'\").sum(axis=0))",
    "id": "af1387e2c2b04f7c9f37656a7e1522e7",
    "idx": 7,
    "time": "2021-01-25T23:46:07.997Z",
    "type": "execution"
   },
   {
    "id": "af1387e2c2b04f7c9f37656a7e1522e7",
    "time": "2021-01-25T23:46:14.409Z",
    "type": "completion"
   },
   {
    "code": "df = wbdata.get_dataframe(variables,country=\"WLD\")\nprint(df.query(\"date==2018\").sum(axis=0))",
    "id": "af1387e2c2b04f7c9f37656a7e1522e7",
    "idx": 7,
    "time": "2021-01-25T23:46:28.219Z",
    "type": "execution"
   },
   {
    "id": "af1387e2c2b04f7c9f37656a7e1522e7",
    "time": "2021-01-25T23:46:28.460Z",
    "type": "completion"
   },
   {
    "code": "def func(year, population, low, high, location):\n    age_ranges = []\n    for i in range(low,high,5):\n        age_ranges.append(f\"{i:02d}\"+f\"{i+4:02d}\")\n        #age_ranges.append(\"80UP\")\n    \n    if population == \"Male\":\n        male_variables = {\"SP.POP.\"+age_range+\".MA\":\"Males \"+age_range for age_range in age_ranges}\n        variables = male_variables\n    elif population == \"Female\":\n        female_variables = {\"SP.POP.\"+age_range+\".FE\":\"Females \"+age_range for age_range in age_ranges}\n        variables = female_variables\n    else:\n        male_variables = {\"SP.POP.\"+age_range+\".MA\":\"Males \"+age_range for age_range in age_ranges}\n        female_variables = {\"SP.POP.\"+age_range+\".FE\":\"Females \"+age_range for age_range in age_ranges}\n        variables = male_variables\n        variables.update(female_variables)\n        \n    df = wbdata.get_dataframe(variables,country=location)\n    date_str = \"date==\" + str(year) + \"\"\n    print(df.query(\"date=='2018'\").sum(axis=0))\n    \nfunc(2008, \"Male\", 50, 70, \"WLD\")",
    "id": "99b2d02149b543ec90386db853bb25bc",
    "idx": 3,
    "time": "2021-01-25T23:48:27.894Z",
    "type": "execution"
   },
   {
    "id": "99b2d02149b543ec90386db853bb25bc",
    "time": "2021-01-25T23:48:27.990Z",
    "type": "completion"
   },
   {
    "code": "def func(year, population, low, high, location):\n    age_ranges = []\n    for i in range(low,high,5):\n        age_ranges.append(f\"{i:02d}\"+f\"{i+4:02d}\")\n        #age_ranges.append(\"80UP\")\n    \n    if population == \"Male\":\n        male_variables = {\"SP.POP.\"+age_range+\".MA\":\"Males \"+age_range for age_range in age_ranges}\n        variables = male_variables\n    elif population == \"Female\":\n        female_variables = {\"SP.POP.\"+age_range+\".FE\":\"Females \"+age_range for age_range in age_ranges}\n        variables = female_variables\n    else:\n        male_variables = {\"SP.POP.\"+age_range+\".MA\":\"Males \"+age_range for age_range in age_ranges}\n        female_variables = {\"SP.POP.\"+age_range+\".FE\":\"Females \"+age_range for age_range in age_ranges}\n        variables = male_variables\n        variables.update(female_variables)\n        \n    df = wbdata.get_dataframe(variables,country=location)\n    date_str = \"date==\" + str(year) + \"\"\n    print(df.query(\"date=='2018'\").sum(axis=0))\n    \nfunc(2008, \"Male\", 50, 70, \"US\")",
    "id": "99b2d02149b543ec90386db853bb25bc",
    "idx": 3,
    "time": "2021-01-25T23:48:43.346Z",
    "type": "execution"
   },
   {
    "id": "99b2d02149b543ec90386db853bb25bc",
    "time": "2021-01-25T23:48:45.329Z",
    "type": "completion"
   },
   {
    "code": "def func(year, population, low, high, location):\n    age_ranges = []\n    for i in range(low,high,5):\n        age_ranges.append(f\"{i:02d}\"+f\"{i+4:02d}\")\n        if high > 80:\n            age_ranges.append(\"80UP\")\n    \n    if population == \"Male\":\n        male_variables = {\"SP.POP.\"+age_range+\".MA\":\"Males \"+age_range for age_range in age_ranges}\n        variables = male_variables\n    elif population == \"Female\":\n        female_variables = {\"SP.POP.\"+age_range+\".FE\":\"Females \"+age_range for age_range in age_ranges}\n        variables = female_variables\n    else:\n        male_variables = {\"SP.POP.\"+age_range+\".MA\":\"Males \"+age_range for age_range in age_ranges}\n        female_variables = {\"SP.POP.\"+age_range+\".FE\":\"Females \"+age_range for age_range in age_ranges}\n        variables = male_variables\n        variables.update(female_variables)\n        \n    df = wbdata.get_dataframe(variables,country=location)\n    date_str = \"date==\" + str(year) + \"\"\n    print(df.query(date_str).sum(axis=0))\n    \nfunc(2008, \"Male\", 50, 70, \"US\")",
    "id": "99b2d02149b543ec90386db853bb25bc",
    "idx": 3,
    "time": "2021-01-25T23:52:27.970Z",
    "type": "execution"
   },
   {
    "id": "99b2d02149b543ec90386db853bb25bc",
    "time": "2021-01-25T23:52:28.430Z",
    "type": "completion"
   },
   {
    "code": "def func(year, population, low, high, location):\n    age_ranges = []\n    for i in range(low,high,5):\n        age_ranges.append(f\"{i:02d}\"+f\"{i+4:02d}\")\n        #if high > 80:\n            #age_ranges.append(\"80UP\")\n    \n    if population == \"Male\":\n        male_variables = {\"SP.POP.\"+age_range+\".MA\":\"Males \"+age_range for age_range in age_ranges}\n        variables = male_variables\n    elif population == \"Female\":\n        female_variables = {\"SP.POP.\"+age_range+\".FE\":\"Females \"+age_range for age_range in age_ranges}\n        variables = female_variables\n    else:\n        male_variables = {\"SP.POP.\"+age_range+\".MA\":\"Males \"+age_range for age_range in age_ranges}\n        female_variables = {\"SP.POP.\"+age_range+\".FE\":\"Females \"+age_range for age_range in age_ranges}\n        variables = male_variables\n        variables.update(female_variables)\n        \n    df = wbdata.get_dataframe(variables,country=location)\n    date_str = \"date==\" + str(year) + \"\"\n    print(df.query(date_str).sum(axis=0))\n    \nfunc(2008, \"Male\", 50, 70, \"US\")",
    "id": "99b2d02149b543ec90386db853bb25bc",
    "idx": 3,
    "time": "2021-01-25T23:52:39.636Z",
    "type": "execution"
   },
   {
    "id": "99b2d02149b543ec90386db853bb25bc",
    "time": "2021-01-25T23:52:39.744Z",
    "type": "completion"
   },
   {
    "code": "def func(year, population, low, high, location):\n    age_ranges = []\n    for i in range(low,high,5):\n        age_ranges.append(f\"{i:02d}\"+f\"{i+4:02d}\")\n        #if high > 80:\n            #age_ranges.append(\"80UP\")\n    \n    if population == \"Male\":\n        male_variables = {\"SP.POP.\"+age_range+\".MA\":\"Males \"+age_range for age_range in age_ranges}\n        variables = male_variables\n    elif population == \"Female\":\n        female_variables = {\"SP.POP.\"+age_range+\".FE\":\"Females \"+age_range for age_range in age_ranges}\n        variables = female_variables\n    else:\n        male_variables = {\"SP.POP.\"+age_range+\".MA\":\"Males \"+age_range for age_range in age_ranges}\n        female_variables = {\"SP.POP.\"+age_range+\".FE\":\"Females \"+age_range for age_range in age_ranges}\n        variables = male_variables\n        variables.update(female_variables)\n        \n    df = wbdata.get_dataframe(variables,country=location)\n    date_str = \"date==\" + str(year) + \"\"\n    print(df.query(\"date==2008\").sum(axis=0))\n    \nfunc(2008, \"Male\", 50, 70, \"US\")",
    "id": "99b2d02149b543ec90386db853bb25bc",
    "idx": 3,
    "time": "2021-01-25T23:52:56.183Z",
    "type": "execution"
   },
   {
    "id": "99b2d02149b543ec90386db853bb25bc",
    "time": "2021-01-25T23:52:56.327Z",
    "type": "completion"
   },
   {
    "code": "def func(year, population, low, high, location):\n    age_ranges = []\n    for i in range(low,high,5):\n        age_ranges.append(f\"{i:02d}\"+f\"{i+4:02d}\")\n        #if high > 80:\n            #age_ranges.append(\"80UP\")\n    \n    if population == \"Male\":\n        male_variables = {\"SP.POP.\"+age_range+\".MA\":\"Males \"+age_range for age_range in age_ranges}\n        variables = male_variables\n    elif population == \"Female\":\n        female_variables = {\"SP.POP.\"+age_range+\".FE\":\"Females \"+age_range for age_range in age_ranges}\n        variables = female_variables\n    else:\n        male_variables = {\"SP.POP.\"+age_range+\".MA\":\"Males \"+age_range for age_range in age_ranges}\n        female_variables = {\"SP.POP.\"+age_range+\".FE\":\"Females \"+age_range for age_range in age_ranges}\n        variables = male_variables\n        variables.update(female_variables)\n        \n    df = wbdata.get_dataframe(variables,country=location)\n    date_str = \"date==\" + str(year) + \"\"\n    print(df.query(\"date==2018\").sum(axis=0))\n    \nfunc(2008, \"Male\", 50, 70, \"US\")",
    "id": "99b2d02149b543ec90386db853bb25bc",
    "idx": 3,
    "time": "2021-01-25T23:52:59.538Z",
    "type": "execution"
   },
   {
    "id": "99b2d02149b543ec90386db853bb25bc",
    "time": "2021-01-25T23:52:59.632Z",
    "type": "completion"
   },
   {
    "code": "year = \"2008\"\ndate_str = str(date==year)\ndate_str",
    "id": "83e0198ee6e84ffda56f3a3e7cf4698a",
    "idx": 4,
    "time": "2021-01-25T23:56:43.579Z",
    "type": "execution"
   },
   {
    "id": "83e0198ee6e84ffda56f3a3e7cf4698a",
    "time": "2021-01-25T23:56:43.786Z",
    "type": "completion"
   },
   {
    "code": "date = date\nyear = \"2008\"\ndate_str = str(date==year)\ndate_str",
    "id": "83e0198ee6e84ffda56f3a3e7cf4698a",
    "idx": 4,
    "time": "2021-01-25T23:57:05.714Z",
    "type": "execution"
   },
   {
    "id": "83e0198ee6e84ffda56f3a3e7cf4698a",
    "time": "2021-01-25T23:57:06.085Z",
    "type": "completion"
   },
   {
    "code": "date = \"date\"\nyear = \"2008\"\ndate_str = str(date==year)\ndate_str",
    "id": "83e0198ee6e84ffda56f3a3e7cf4698a",
    "idx": 4,
    "time": "2021-01-25T23:57:11.393Z",
    "type": "execution"
   },
   {
    "id": "83e0198ee6e84ffda56f3a3e7cf4698a",
    "time": "2021-01-25T23:57:11.504Z",
    "type": "completion"
   },
   {
    "code": "def insert_string_middle(string, word):\n    return str[:6] + str(word) + str[1:]\n\ninsert_string_middle(\"date==\", 2008)",
    "id": "f74bed52f55e42ac96d65500b6299a4a",
    "idx": 8,
    "time": "2021-01-26T00:15:03.780Z",
    "type": "execution"
   },
   {
    "id": "f74bed52f55e42ac96d65500b6299a4a",
    "time": "2021-01-26T00:15:04.410Z",
    "type": "completion"
   },
   {
    "code": "def insert_string_middle(string, word):\n    return str[:5] + str(word) + str[1:]\n\ninsert_string_middle(\"date==\", 2008)",
    "id": "f74bed52f55e42ac96d65500b6299a4a",
    "idx": 8,
    "time": "2021-01-26T00:15:29.313Z",
    "type": "execution"
   },
   {
    "id": "f74bed52f55e42ac96d65500b6299a4a",
    "time": "2021-01-26T00:15:29.442Z",
    "type": "completion"
   },
   {
    "code": "def insert_string_middle(string, word):\n    return str[:6] + word + str[1:]\n\ninsert_string_middle(\"date==\", \"2008\")",
    "id": "f74bed52f55e42ac96d65500b6299a4a",
    "idx": 8,
    "time": "2021-01-26T00:16:08.524Z",
    "type": "execution"
   },
   {
    "id": "f74bed52f55e42ac96d65500b6299a4a",
    "time": "2021-01-26T00:16:08.615Z",
    "type": "completion"
   },
   {
    "code": "def insert_string_middle(string, word):\n    return str[:6] + word + str[1:]\n\ninsert_string_middle(\"date==\", \"2008\")",
    "id": "f74bed52f55e42ac96d65500b6299a4a",
    "idx": 8,
    "time": "2021-01-26T00:17:15.729Z",
    "type": "execution"
   },
   {
    "id": "f74bed52f55e42ac96d65500b6299a4a",
    "time": "2021-01-26T00:17:15.848Z",
    "type": "completion"
   },
   {
    "code": "df = wbdata.get_dataframe(variables,country=\"WLD\")\nprint(df.query(\"date==2018\").sum(axis=0))",
    "id": "af1387e2c2b04f7c9f37656a7e1522e7",
    "idx": 7,
    "time": "2021-01-26T00:19:30.834Z",
    "type": "execution"
   },
   {
    "id": "af1387e2c2b04f7c9f37656a7e1522e7",
    "time": "2021-01-26T00:19:31.493Z",
    "type": "completion"
   },
   {
    "code": "df = wbdata.get_dataframe(variables,country=\"WLD\")\nprint(df.query(\"date==2018\").sum(axis=0))",
    "id": "af1387e2c2b04f7c9f37656a7e1522e7",
    "idx": 7,
    "time": "2021-01-26T00:20:58.946Z",
    "type": "execution"
   },
   {
    "id": "af1387e2c2b04f7c9f37656a7e1522e7",
    "time": "2021-01-26T00:20:59.411Z",
    "type": "completion"
   },
   {
    "code": "def func(year, population, low, high, location):\n    age_ranges = []\n    for i in range(low,high,5):\n        age_ranges.append(f\"{i:02d}\"+f\"{i+4:02d}\")\n        #if high > 80:\n            #age_ranges.append(\"80UP\")\n    \n    if population == \"Male\":\n        male_variables = {\"SP.POP.\"+age_range+\".MA\":\"Males \"+age_range for age_range in age_ranges}\n        variables = male_variables\n    elif population == \"Female\":\n        female_variables = {\"SP.POP.\"+age_range+\".FE\":\"Females \"+age_range for age_range in age_ranges}\n        variables = female_variables\n    else:\n        male_variables = {\"SP.POP.\"+age_range+\".MA\":\"Males \"+age_range for age_range in age_ranges}\n        female_variables = {\"SP.POP.\"+age_range+\".FE\":\"Females \"+age_range for age_range in age_ranges}\n        variables = male_variables\n        variables.update(female_variables)\n        \n    df = wbdata.get_dataframe(variables,country=location)\n    date_str = \"date==\" + str(year) + \"\"\n    print(df.query(\"date==2018\").sum(axis=0))\n    \nfunc(2008, \"Male\", 50, 70, \"US\")",
    "id": "99b2d02149b543ec90386db853bb25bc",
    "idx": 3,
    "time": "2021-01-26T00:21:08.435Z",
    "type": "execution"
   },
   {
    "id": "99b2d02149b543ec90386db853bb25bc",
    "time": "2021-01-26T00:21:08.625Z",
    "type": "completion"
   },
   {
    "code": "def func(year, population, low, high, location):\n    age_ranges = []\n    for i in range(low,high,5):\n        age_ranges.append(f\"{i:02d}\"+f\"{i+4:02d}\")\n        #if high > 80:\n            #age_ranges.append(\"80UP\")\n    \n    if population == \"Male\":\n        male_variables = {\"SP.POP.\"+age_range+\".MA\":\"Males \"+age_range for age_range in age_ranges}\n        variables = male_variables\n    elif population == \"Female\":\n        female_variables = {\"SP.POP.\"+age_range+\".FE\":\"Females \"+age_range for age_range in age_ranges}\n        variables = female_variables\n    else:\n        male_variables = {\"SP.POP.\"+age_range+\".MA\":\"Males \"+age_range for age_range in age_ranges}\n        female_variables = {\"SP.POP.\"+age_range+\".FE\":\"Females \"+age_range for age_range in age_ranges}\n        variables = male_variables\n        variables.update(female_variables)\n        \n    df = wbdata.get_dataframe(variables,country=location)\n    date_str = \"date==\" + str(year) + \"\"\n    print(df.query(\"date=='2018'\").sum(axis=0))\n    \nfunc(2008, \"Male\", 50, 70, \"US\")",
    "id": "99b2d02149b543ec90386db853bb25bc",
    "idx": 3,
    "time": "2021-01-26T00:21:25.447Z",
    "type": "execution"
   },
   {
    "id": "99b2d02149b543ec90386db853bb25bc",
    "time": "2021-01-26T00:21:25.619Z",
    "type": "completion"
   },
   {
    "code": "def func(year, population, low, high, location):\n    age_ranges = []\n    for i in range(low,high,5):\n        age_ranges.append(f\"{i:02d}\"+f\"{i+4:02d}\")\n        #if high > 80:\n            #age_ranges.append(\"80UP\")\n    \n    if population == \"Male\":\n        male_variables = {\"SP.POP.\"+age_range+\".MA\":\"Males \"+age_range for age_range in age_ranges}\n        variables = male_variables\n    elif population == \"Female\":\n        female_variables = {\"SP.POP.\"+age_range+\".FE\":\"Females \"+age_range for age_range in age_ranges}\n        variables = female_variables\n    else:\n        male_variables = {\"SP.POP.\"+age_range+\".MA\":\"Males \"+age_range for age_range in age_ranges}\n        female_variables = {\"SP.POP.\"+age_range+\".FE\":\"Females \"+age_range for age_range in age_ranges}\n        variables = male_variables\n        variables.update(female_variables)\n        \n    df = wbdata.get_dataframe(variables,country=location)\n    date_str = \"date==\" + str(year) + \"\"\n    print(df.query(\"date==2018\").sum(axis=0))\n    \nfunc(2008, \"Male\", 50, 70, \"US\")",
    "id": "99b2d02149b543ec90386db853bb25bc",
    "idx": 3,
    "time": "2021-01-26T00:21:55.218Z",
    "type": "execution"
   },
   {
    "id": "99b2d02149b543ec90386db853bb25bc",
    "time": "2021-01-26T00:21:55.410Z",
    "type": "completion"
   },
   {
    "code": "def func(year, population, low, high, location):\n    age_ranges = []\n    for i in range(low,high,5):\n        age_ranges.append(f\"{i:02d}\"+f\"{i+4:02d}\")\n        #if high > 80:\n            #age_ranges.append(\"80UP\")\n    \n    if population == \"Male\":\n        male_variables = {\"SP.POP.\"+age_range+\".MA\":\"Males \"+age_range for age_range in age_ranges}\n        variables = male_variables\n    elif population == \"Female\":\n        female_variables = {\"SP.POP.\"+age_range+\".FE\":\"Females \"+age_range for age_range in age_ranges}\n        variables = female_variables\n    else:\n        male_variables = {\"SP.POP.\"+age_range+\".MA\":\"Males \"+age_range for age_range in age_ranges}\n        female_variables = {\"SP.POP.\"+age_range+\".FE\":\"Females \"+age_range for age_range in age_ranges}\n        variables = male_variables\n        variables.update(female_variables)\n        \n    df = wbdata.get_dataframe(variables,country=location)\n    date_str = \"date==\" + str(year) + \"\"\n    print(df.query(\"date==2018\").sum(axis=0))\n    \nfunc(2008, \"Male\", 50, 70, \"WLD\")",
    "id": "99b2d02149b543ec90386db853bb25bc",
    "idx": 3,
    "time": "2021-01-26T00:22:15.462Z",
    "type": "execution"
   },
   {
    "id": "99b2d02149b543ec90386db853bb25bc",
    "time": "2021-01-26T00:22:15.859Z",
    "type": "completion"
   },
   {
    "code": "def func(year, population, low, high, location):\n    age_ranges = []\n    for i in range(low,high,5):\n        age_ranges.append(f\"{i:02d}\"+f\"{i+4:02d}\")\n        #if high > 80:\n            #age_ranges.append(\"80UP\")\n    \n    if population == \"Male\":\n        male_variables = {\"SP.POP.\"+age_range+\".MA\":\"Males \"+age_range for age_range in age_ranges}\n        variables = male_variables\n    elif population == \"Female\":\n        female_variables = {\"SP.POP.\"+age_range+\".FE\":\"Females \"+age_range for age_range in age_ranges}\n        variables = female_variables\n    else:\n        male_variables = {\"SP.POP.\"+age_range+\".MA\":\"Males \"+age_range for age_range in age_ranges}\n        female_variables = {\"SP.POP.\"+age_range+\".FE\":\"Females \"+age_range for age_range in age_ranges}\n        variables = male_variables\n        variables.update(female_variables)\n        \n    df = wbdata.get_dataframe(variables,country=location)\n    date_str = \"date==\" + str(year) + \"\"\n    print(df.query(\"date=='2018'\").sum(axis=0))\n    \nfunc(2008, \"Male\", 50, 70, \"WLD\")",
    "id": "99b2d02149b543ec90386db853bb25bc",
    "idx": 3,
    "time": "2021-01-26T00:22:20.058Z",
    "type": "execution"
   },
   {
    "id": "99b2d02149b543ec90386db853bb25bc",
    "time": "2021-01-26T00:22:20.157Z",
    "type": "completion"
   },
   {
    "code": "!pip install wbdata\nimport wbdata\nimport numpy as np\nimport cufflinks as cf\ncf.go_offline()",
    "id": "223b7d823504494593185ee453edacb0",
    "idx": 0,
    "time": "2021-01-26T00:22:35.093Z",
    "type": "execution"
   },
   {
    "code": "wbdata.get_country() ",
    "id": "2993e3a9f3054ed094af45d8b6b756dc",
    "idx": 1,
    "time": "2021-01-26T00:22:35.400Z",
    "type": "execution"
   },
   {
    "code": "wbdata.get_source()",
    "id": "95380d3c209d452e83152d46589f8c73",
    "idx": 2,
    "time": "2021-01-26T00:22:35.798Z",
    "type": "execution"
   },
   {
    "code": "def func(year, population, low, high, location):\n    age_ranges = []\n    for i in range(low,high,5):\n        age_ranges.append(f\"{i:02d}\"+f\"{i+4:02d}\")\n        #if high > 80:\n            #age_ranges.append(\"80UP\")\n    \n    if population == \"Male\":\n        male_variables = {\"SP.POP.\"+age_range+\".MA\":\"Males \"+age_range for age_range in age_ranges}\n        variables = male_variables\n    elif population == \"Female\":\n        female_variables = {\"SP.POP.\"+age_range+\".FE\":\"Females \"+age_range for age_range in age_ranges}\n        variables = female_variables\n    else:\n        male_variables = {\"SP.POP.\"+age_range+\".MA\":\"Males \"+age_range for age_range in age_ranges}\n        female_variables = {\"SP.POP.\"+age_range+\".FE\":\"Females \"+age_range for age_range in age_ranges}\n        variables = male_variables\n        variables.update(female_variables)\n        \n    df = wbdata.get_dataframe(variables,country=location)\n    date_str = \"date==\" + str(year) + \"\"\n    print(df.query(\"date=='2018'\").sum(axis=0))\n    \nfunc(2008, \"Male\", 50, 70, \"WLD\")",
    "id": "99b2d02149b543ec90386db853bb25bc",
    "idx": 3,
    "time": "2021-01-26T00:22:36.380Z",
    "type": "execution"
   },
   {
    "id": "223b7d823504494593185ee453edacb0",
    "time": "2021-01-26T00:22:40.899Z",
    "type": "completion"
   },
   {
    "id": "2993e3a9f3054ed094af45d8b6b756dc",
    "time": "2021-01-26T00:22:40.923Z",
    "type": "completion"
   },
   {
    "id": "95380d3c209d452e83152d46589f8c73",
    "time": "2021-01-26T00:22:40.935Z",
    "type": "completion"
   },
   {
    "id": "99b2d02149b543ec90386db853bb25bc",
    "time": "2021-01-26T00:22:41.123Z",
    "type": "completion"
   },
   {
    "code": "def func(year, population, low, high, location):\n    age_ranges = []\n    for i in range(low,high,5):\n        age_ranges.append(f\"{i:02d}\"+f\"{i+4:02d}\")\n        #if high > 80:\n            #age_ranges.append(\"80UP\")\n    \n    if population == \"Male\":\n        male_variables = {\"SP.POP.\"+age_range+\".MA\":\"Males \"+age_range for age_range in age_ranges}\n        variables = male_variables\n    elif population == \"Female\":\n        female_variables = {\"SP.POP.\"+age_range+\".FE\":\"Females \"+age_range for age_range in age_ranges}\n        variables = female_variables\n    else:\n        male_variables = {\"SP.POP.\"+age_range+\".MA\":\"Males \"+age_range for age_range in age_ranges}\n        female_variables = {\"SP.POP.\"+age_range+\".FE\":\"Females \"+age_range for age_range in age_ranges}\n        variables = male_variables\n        variables.update(female_variables)\n        \n    df = wbdata.get_dataframe(variables,country=location)\n    date_str = \"date==\" + str(year) + \"\"\n    print(df.query(\"date==2018\").sum(axis=0))\n    \nfunc(2008, \"Male\", 50, 70, \"WLD\")",
    "id": "99b2d02149b543ec90386db853bb25bc",
    "idx": 3,
    "time": "2021-01-26T00:22:49.951Z",
    "type": "execution"
   },
   {
    "id": "99b2d02149b543ec90386db853bb25bc",
    "time": "2021-01-26T00:22:50.077Z",
    "type": "completion"
   },
   {
    "code": "func = 'my_func'\nf\"{f'{func}'()}\"",
    "id": "b72d87f7e42a417abbba9cf8551c3120",
    "idx": 9,
    "time": "2021-01-26T00:28:05.142Z",
    "type": "execution"
   },
   {
    "id": "b72d87f7e42a417abbba9cf8551c3120",
    "time": "2021-01-26T00:28:05.427Z",
    "type": "completion"
   },
   {
    "code": "df = wbdata.get_dataframe(variables,country=\"WLD\")\nprint(df.query(\"date==2018\").sum(axis=0))",
    "id": "af1387e2c2b04f7c9f37656a7e1522e7",
    "idx": 7,
    "time": "2021-01-26T00:31:38.410Z",
    "type": "execution"
   },
   {
    "id": "af1387e2c2b04f7c9f37656a7e1522e7",
    "time": "2021-01-26T00:31:38.544Z",
    "type": "completion"
   },
   {
    "code": "def func(year, population, low, high, location):\n    age_ranges = []\n    for i in range(low,high,5):\n        age_ranges.append(f\"{i:02d}\"+f\"{i+4:02d}\")\n        #if high > 80:\n            #age_ranges.append(\"80UP\")\n    \n    if population == \"Male\":\n        male_variables = {\"SP.POP.\"+age_range+\".MA\":\"Males \"+age_range for age_range in age_ranges}\n        variables = male_variables\n    elif population == \"Female\":\n        female_variables = {\"SP.POP.\"+age_range+\".FE\":\"Females \"+age_range for age_range in age_ranges}\n        variables = female_variables\n    else:\n        male_variables = {\"SP.POP.\"+age_range+\".MA\":\"Males \"+age_range for age_range in age_ranges}\n        female_variables = {\"SP.POP.\"+age_range+\".FE\":\"Females \"+age_range for age_range in age_ranges}\n        variables = male_variables\n        variables.update(female_variables)\n        \n    df = wbdata.get_dataframe(variables,country=location)\n    date_str = \"date==\" + str(year) + \"\"\n    print(df.query(\"date=='2018'\").sum(axis=0))\n    \nfunc(2008, \"Male\", 50, 70, \"WLD\")",
    "id": "99b2d02149b543ec90386db853bb25bc",
    "idx": 3,
    "time": "2021-01-26T00:31:46.577Z",
    "type": "execution"
   },
   {
    "id": "99b2d02149b543ec90386db853bb25bc",
    "time": "2021-01-26T00:31:46.684Z",
    "type": "completion"
   },
   {
    "code": "year = \"2008\"\ndate_str = str(date==year)\ndate_str",
    "id": "83e0198ee6e84ffda56f3a3e7cf4698a",
    "idx": 4,
    "time": "2021-01-26T00:31:47.479Z",
    "type": "execution"
   },
   {
    "id": "83e0198ee6e84ffda56f3a3e7cf4698a",
    "time": "2021-01-26T00:31:47.573Z",
    "type": "completion"
   },
   {
    "code": "age_ranges = []\n\n# Ranges top out at 80, and go in five year increments\nfor i in range(0,80,5):\n    age_ranges.append(f\"{i:02d}\"+f\"{i+4:02d}\")\n\nage_ranges.append(\"80UP\")",
    "id": "120329da659649a4bafcd50090152a91",
    "idx": 4,
    "time": "2021-01-26T00:31:54.326Z",
    "type": "execution"
   },
   {
    "id": "120329da659649a4bafcd50090152a91",
    "time": "2021-01-26T00:31:54.408Z",
    "type": "completion"
   },
   {
    "code": "male_variables = {\"SP.POP.\"+age_range+\".MA\":\"Males \"+age_range for age_range in age_ranges}\nfemale_variables = {\"SP.POP.\"+age_range+\".FE\":\"Females \"+age_range for age_range in age_ranges}\n\nvariables = male_variables\nvariables.update(female_variables)",
    "id": "2bdbe93c1c7c48e18cedc9fdd68bd656",
    "idx": 5,
    "time": "2021-01-26T00:31:54.770Z",
    "type": "execution"
   },
   {
    "id": "2bdbe93c1c7c48e18cedc9fdd68bd656",
    "time": "2021-01-26T00:31:54.838Z",
    "type": "completion"
   },
   {
    "code": "df = wbdata.get_dataframe(variables,country=\"WLD\")\nprint(df.query(\"date==2018\").sum(axis=0))",
    "id": "af1387e2c2b04f7c9f37656a7e1522e7",
    "idx": 6,
    "time": "2021-01-26T00:31:55.127Z",
    "type": "execution"
   },
   {
    "id": "af1387e2c2b04f7c9f37656a7e1522e7",
    "time": "2021-01-26T00:31:55.347Z",
    "type": "completion"
   },
   {
    "code": "df = wbdata.get_dataframe(variables,country=\"WLD\")\nprint(df.query(\"date=='2018'\").sum(axis=0))",
    "id": "af1387e2c2b04f7c9f37656a7e1522e7",
    "idx": 6,
    "time": "2021-01-26T00:32:02.160Z",
    "type": "execution"
   },
   {
    "id": "af1387e2c2b04f7c9f37656a7e1522e7",
    "time": "2021-01-26T00:32:02.404Z",
    "type": "completion"
   },
   {
    "code": "year = 2008\nstr(data)",
    "id": "fa42f56aa04d4d00a6e2d7cd70be312a",
    "idx": 6,
    "time": "2021-01-26T00:32:58.973Z",
    "type": "execution"
   },
   {
    "id": "fa42f56aa04d4d00a6e2d7cd70be312a",
    "time": "2021-01-26T00:32:59.075Z",
    "type": "completion"
   },
   {
    "code": "year = 2008\nstr(\"data\")",
    "id": "fa42f56aa04d4d00a6e2d7cd70be312a",
    "idx": 6,
    "time": "2021-01-26T00:33:05.469Z",
    "type": "execution"
   },
   {
    "id": "fa42f56aa04d4d00a6e2d7cd70be312a",
    "time": "2021-01-26T00:33:05.580Z",
    "type": "completion"
   },
   {
    "code": "year = 2008\nstr(\"data\" + str(year))",
    "id": "fa42f56aa04d4d00a6e2d7cd70be312a",
    "idx": 6,
    "time": "2021-01-26T00:33:14.660Z",
    "type": "execution"
   },
   {
    "id": "fa42f56aa04d4d00a6e2d7cd70be312a",
    "time": "2021-01-26T00:33:14.725Z",
    "type": "completion"
   },
   {
    "code": "year = 2008\nstr(str(\"data\" + str(year)))",
    "id": "fa42f56aa04d4d00a6e2d7cd70be312a",
    "idx": 6,
    "time": "2021-01-26T00:33:32.125Z",
    "type": "execution"
   },
   {
    "id": "fa42f56aa04d4d00a6e2d7cd70be312a",
    "time": "2021-01-26T00:33:32.194Z",
    "type": "completion"
   },
   {
    "code": "year = 2008\nstr(\"data\" + str(\"year\"))",
    "id": "fa42f56aa04d4d00a6e2d7cd70be312a",
    "idx": 6,
    "time": "2021-01-26T00:33:44.798Z",
    "type": "execution"
   },
   {
    "id": "fa42f56aa04d4d00a6e2d7cd70be312a",
    "time": "2021-01-26T00:33:44.872Z",
    "type": "completion"
   },
   {
    "code": "year = 2008\ndata = wbdata.get_dataframe(variables,country=\"WLD\")\ndf = data.query(\"date==\"+str(year))\nprint(df.sum(axis=0))",
    "id": "af1387e2c2b04f7c9f37656a7e1522e7",
    "idx": 7,
    "time": "2021-01-26T00:36:03.991Z",
    "type": "execution"
   },
   {
    "id": "af1387e2c2b04f7c9f37656a7e1522e7",
    "time": "2021-01-26T00:36:04.213Z",
    "type": "completion"
   },
   {
    "code": "year = 2008\ndata = wbdata.get_dataframe(variables,country=\"WLD\")\ndf = data.query(\"date==2018\")\nprint(df.sum(axis=0))",
    "id": "af1387e2c2b04f7c9f37656a7e1522e7",
    "idx": 7,
    "time": "2021-01-26T00:36:19.949Z",
    "type": "execution"
   },
   {
    "id": "af1387e2c2b04f7c9f37656a7e1522e7",
    "time": "2021-01-26T00:36:20.351Z",
    "type": "completion"
   },
   {
    "code": "year = 2008\ndata = wbdata.get_dataframe(variables,country=\"WLD\")\ndf = data.query(\"date=='2018'\")\nprint(df.sum(axis=0))",
    "id": "af1387e2c2b04f7c9f37656a7e1522e7",
    "idx": 7,
    "time": "2021-01-26T00:36:26.520Z",
    "type": "execution"
   },
   {
    "id": "af1387e2c2b04f7c9f37656a7e1522e7",
    "time": "2021-01-26T00:36:26.765Z",
    "type": "completion"
   },
   {
    "code": "year = 2008\ndata = wbdata.get_dataframe(variables,country=\"WLD\")\ndf = data.query(\"date==2018\")\nprint(df.sum(axis=0))",
    "id": "af1387e2c2b04f7c9f37656a7e1522e7",
    "idx": 7,
    "time": "2021-01-26T00:38:15.041Z",
    "type": "execution"
   },
   {
    "id": "af1387e2c2b04f7c9f37656a7e1522e7",
    "time": "2021-01-26T00:38:15.507Z",
    "type": "completion"
   },
   {
    "code": "year = 2008\ndata = wbdata.get_dataframe(variables,country=\"WLD\")\ndf = data.query(\"date=='2018'\")\nprint(df.sum(axis=0))",
    "id": "af1387e2c2b04f7c9f37656a7e1522e7",
    "idx": 7,
    "time": "2021-01-26T00:38:23.551Z",
    "type": "execution"
   },
   {
    "id": "af1387e2c2b04f7c9f37656a7e1522e7",
    "time": "2021-01-26T00:38:24.008Z",
    "type": "completion"
   },
   {
    "code": "year = 2008\ndata = wbdata.get_dataframe(variables,country=\"WLD\")\ndf = data.query(\"date==2018\")\nprint(df.sum(axis=0))",
    "id": "af1387e2c2b04f7c9f37656a7e1522e7",
    "idx": 7,
    "time": "2021-01-26T00:38:48.435Z",
    "type": "execution"
   },
   {
    "id": "af1387e2c2b04f7c9f37656a7e1522e7",
    "time": "2021-01-26T00:38:48.687Z",
    "type": "completion"
   },
   {
    "code": "year = 2008\ndata = wbdata.get_dataframe(variables,country=\"WLD\")\ndf = data.query('date==\"2018\"')\nprint(df.sum(axis=0))",
    "id": "af1387e2c2b04f7c9f37656a7e1522e7",
    "idx": 7,
    "time": "2021-01-26T00:39:04.619Z",
    "type": "execution"
   },
   {
    "id": "af1387e2c2b04f7c9f37656a7e1522e7",
    "time": "2021-01-26T00:39:04.832Z",
    "type": "completion"
   },
   {
    "code": "!pip install wbdata\nimport wbdata\nimport numpy as np\nimport cufflinks as cf\ncf.go_offline()",
    "id": "07ce1e68258844488498de248fceece6",
    "idx": 0,
    "time": "2021-01-26T03:18:02.807Z",
    "type": "execution"
   },
   {
    "code": "wbdata.get_country() ",
    "id": "fe4d30940a5644ef87e04965114ab1c2",
    "idx": 1,
    "time": "2021-01-26T03:18:04.597Z",
    "type": "execution"
   },
   {
    "code": "wbdata.get_source()",
    "id": "baea0c9760004fb0abbbb74ba98932d2",
    "idx": 2,
    "time": "2021-01-26T03:18:05.023Z",
    "type": "execution"
   },
   {
    "id": "07ce1e68258844488498de248fceece6",
    "time": "2021-01-26T03:18:09.532Z",
    "type": "completion"
   },
   {
    "id": "fe4d30940a5644ef87e04965114ab1c2",
    "time": "2021-01-26T03:18:09.560Z",
    "type": "completion"
   },
   {
    "id": "baea0c9760004fb0abbbb74ba98932d2",
    "time": "2021-01-26T03:18:09.612Z",
    "type": "completion"
   },
   {
    "code": "year = \"2008\"\ndate_str = \"date==\" + str(year) + \"\"\ndata = wbdata.get_dataframe(variables,country=\"WLD\")\ndf = data.query(date_str)\nprint(df.sum(axis=0))",
    "id": "e5786e0855c0461791e6b77f2910a7a9",
    "idx": 7,
    "time": "2021-01-26T03:18:43.490Z",
    "type": "execution"
   },
   {
    "id": "e5786e0855c0461791e6b77f2910a7a9",
    "time": "2021-01-26T03:18:43.752Z",
    "type": "completion"
   },
   {
    "code": "age_ranges = []\n\n# Ranges top out at 80, and go in five year increments\nfor i in range(0,80,5):\n    age_ranges.append(f\"{i:02d}\"+f\"{i+4:02d}\")\n\nage_ranges.append(\"80UP\")",
    "id": "8ed21acd881145e59eb190d0cfa9a3d4",
    "idx": 4,
    "time": "2021-01-26T03:18:48.664Z",
    "type": "execution"
   },
   {
    "id": "8ed21acd881145e59eb190d0cfa9a3d4",
    "time": "2021-01-26T03:18:48.723Z",
    "type": "completion"
   },
   {
    "code": "male_variables = {\"SP.POP.\"+age_range+\".MA\":\"Males \"+age_range for age_range in age_ranges}\nfemale_variables = {\"SP.POP.\"+age_range+\".FE\":\"Females \"+age_range for age_range in age_ranges}\n\nvariables = male_variables\nvariables.update(female_variables)",
    "id": "b30cbe300f014213862b0c9da3a17349",
    "idx": 5,
    "time": "2021-01-26T03:18:49.413Z",
    "type": "execution"
   },
   {
    "id": "b30cbe300f014213862b0c9da3a17349",
    "time": "2021-01-26T03:18:49.475Z",
    "type": "completion"
   },
   {
    "code": "year = 2008\nstr(\"data\" + str(\"year\"))",
    "id": "80f3b46728cb4c8489bd3decb082fdfd",
    "idx": 6,
    "time": "2021-01-26T03:18:50.116Z",
    "type": "execution"
   },
   {
    "id": "80f3b46728cb4c8489bd3decb082fdfd",
    "time": "2021-01-26T03:18:50.182Z",
    "type": "completion"
   },
   {
    "code": "year = \"2008\"\ndate_str = \"date==\" + str(year) + \"\"\ndata = wbdata.get_dataframe(variables,country=\"WLD\")\ndf = data.query(date_str)\nprint(df.sum(axis=0))",
    "id": "e5786e0855c0461791e6b77f2910a7a9",
    "idx": 7,
    "time": "2021-01-26T03:18:50.807Z",
    "type": "execution"
   },
   {
    "id": "e5786e0855c0461791e6b77f2910a7a9",
    "time": "2021-01-26T03:18:51.044Z",
    "type": "completion"
   },
   {
    "code": "year = \"2008\"\ndate_str = \"date==\" + str(year) + \"\"\ndata = wbdata.get_dataframe(variables,country=\"WLD\")\ndata['date'] = data['date'].astype(int)\ndf = data.query(date_str)\nprint(df.sum(axis=0))",
    "id": "e5786e0855c0461791e6b77f2910a7a9",
    "idx": 7,
    "time": "2021-01-26T03:19:54.979Z",
    "type": "execution"
   },
   {
    "id": "e5786e0855c0461791e6b77f2910a7a9",
    "time": "2021-01-26T03:19:55.320Z",
    "type": "completion"
   },
   {
    "code": "year = \"2008\"\ndate_str = \"date==\" + str(year) + \"\"\ndata = wbdata.get_dataframe(variables,country=\"WLD\")\ndata.reset_index(inplace=True)\ndata['date'] = data['date'].astype(int)\ndata.set_index(['country','date'],inplace=True)\ndf = data.query(date_str)\nprint(df.sum(axis=0))",
    "id": "e5786e0855c0461791e6b77f2910a7a9",
    "idx": 7,
    "time": "2021-01-26T03:20:15.082Z",
    "type": "execution"
   },
   {
    "id": "e5786e0855c0461791e6b77f2910a7a9",
    "time": "2021-01-26T03:20:15.298Z",
    "type": "completion"
   },
   {
    "code": "year = \"2008\"\ndate_str = \"date==\" + str(year) + \"\"\ndata = wbdata.get_dataframe(variables,country=\"WLD\")\ndata.reset_index(inplace=True)\ndata['date'] = data['date'].astype(int)\ndata.set_index(['date'],inplace=True)\ndf = data.query(date_str)\nprint(df.sum(axis=0))",
    "id": "e5786e0855c0461791e6b77f2910a7a9",
    "idx": 7,
    "time": "2021-01-26T03:20:20.823Z",
    "type": "execution"
   },
   {
    "id": "e5786e0855c0461791e6b77f2910a7a9",
    "time": "2021-01-26T03:20:21.036Z",
    "type": "completion"
   },
   {
    "code": "year = \"2009\"\ndate_str = \"date==\" + str(year) + \"\"\ndata = wbdata.get_dataframe(variables,country=\"WLD\")\ndata.reset_index(inplace=True)\ndata['date'] = data['date'].astype(int)\ndata.set_index(['date'],inplace=True)\ndf = data.query(date_str)\nprint(df.sum(axis=0))",
    "id": "e5786e0855c0461791e6b77f2910a7a9",
    "idx": 7,
    "time": "2021-01-26T03:20:25.228Z",
    "type": "execution"
   },
   {
    "id": "e5786e0855c0461791e6b77f2910a7a9",
    "time": "2021-01-26T03:20:25.471Z",
    "type": "completion"
   },
   {
    "code": "year = \"2009\"\ndate_str = \"date==\" + str(year)\ndata = wbdata.get_dataframe(variables,country=\"WLD\")\ndata.reset_index(inplace=True)\ndata['date'] = data['date'].astype(int)\ndata.set_index(['date'],inplace=True)\ndf = data.query(date_str)\nprint(df.sum(axis=0))",
    "id": "e5786e0855c0461791e6b77f2910a7a9",
    "idx": 7,
    "time": "2021-01-26T03:39:54.181Z",
    "type": "execution"
   },
   {
    "id": "e5786e0855c0461791e6b77f2910a7a9",
    "time": "2021-01-26T03:39:54.438Z",
    "type": "completion"
   },
   {
    "code": "def func(year, population, low, high, location):\n    age_ranges = []\n    for i in range(low,high,5):\n        age_ranges.append(f\"{i:02d}\"+f\"{i+4:02d}\")\n        #if high > 80:\n            #age_ranges.append(\"80UP\")\n    \n    if population == \"Male\":\n        male_variables = {\"SP.POP.\"+age_range+\".MA\":\"Males \"+age_range for age_range in age_ranges}\n        variables = male_variables\n    elif population == \"Female\":\n        female_variables = {\"SP.POP.\"+age_range+\".FE\":\"Females \"+age_range for age_range in age_ranges}\n        variables = female_variables\n    else:\n        male_variables = {\"SP.POP.\"+age_range+\".MA\":\"Males \"+age_range for age_range in age_ranges}\n        female_variables = {\"SP.POP.\"+age_range+\".FE\":\"Females \"+age_range for age_range in age_ranges}\n        variables = male_variables\n        variables.update(female_variables)\n        \n    data = wbdata.get_dataframe(variables,country=location)\n    data.reset_index(inplace=True)\n    data['date'] = data['date'].astype(int)\n    data.set_index(['date'],inplace=True)\n    df = data.query(\"date==\"+str(year))\n    date_str = \"date==\" + str(year)\n    print(df.query(date_str).sum(axis=0))\n    \nfunc(2008, \"Male\", 50, 70, \"WLD\")",
    "id": "80e036ca99644c9f8750932969b344ea",
    "idx": 3,
    "time": "2021-01-26T03:39:59.596Z",
    "type": "execution"
   },
   {
    "id": "80e036ca99644c9f8750932969b344ea",
    "time": "2021-01-26T03:39:59.691Z",
    "type": "completion"
   },
   {
    "code": "def func(year, population, low, high, location):\n    age_ranges = []\n    for i in range(low,high,5):\n        age_ranges.append(f\"{i:02d}\"+f\"{i+4:02d}\")\n        #if high > 80:\n            #age_ranges.append(\"80UP\")\n    \n    if population == \"Male\":\n        male_variables = {\"SP.POP.\"+age_range+\".MA\":\"Males \"+age_range for age_range in age_ranges}\n        variables = male_variables\n    elif population == \"Female\":\n        female_variables = {\"SP.POP.\"+age_range+\".FE\":\"Females \"+age_range for age_range in age_ranges}\n        variables = female_variables\n    else:\n        male_variables = {\"SP.POP.\"+age_range+\".MA\":\"Males \"+age_range for age_range in age_ranges}\n        female_variables = {\"SP.POP.\"+age_range+\".FE\":\"Females \"+age_range for age_range in age_ranges}\n        variables = male_variables\n        variables.update(female_variables)\n        \n    data = wbdata.get_dataframe(variables,country=location)\n    data.reset_index(inplace=True)\n    data['date'] = data['date'].astype(int)\n    data.set_index(['date'],inplace=True)\n    df = data.query(\"date==\"+str(year))\n    date_str = \"date==\" + str(year)\n    print(df.query(date_str).sum(axis=0))\n    \nfunc(2018, \"Male\", 50, 70, \"WLD\")",
    "id": "80e036ca99644c9f8750932969b344ea",
    "idx": 3,
    "time": "2021-01-26T03:40:04.174Z",
    "type": "execution"
   },
   {
    "id": "80e036ca99644c9f8750932969b344ea",
    "time": "2021-01-26T03:40:04.365Z",
    "type": "completion"
   },
   {
    "code": "def func(year, population, low, high, location):\n    age_ranges = []\n    for i in range(low,high,5):\n        age_ranges.append(f\"{i:02d}\"+f\"{i+4:02d}\")\n        if high > 80:\n            age_ranges.append(\"80UP\")\n    \n    if population == \"Male\":\n        male_variables = {\"SP.POP.\"+age_range+\".MA\":\"Males \"+age_range for age_range in age_ranges}\n        variables = male_variables\n    elif population == \"Female\":\n        female_variables = {\"SP.POP.\"+age_range+\".FE\":\"Females \"+age_range for age_range in age_ranges}\n        variables = female_variables\n    else:\n        male_variables = {\"SP.POP.\"+age_range+\".MA\":\"Males \"+age_range for age_range in age_ranges}\n        female_variables = {\"SP.POP.\"+age_range+\".FE\":\"Females \"+age_range for age_range in age_ranges}\n        variables = male_variables\n        variables.update(female_variables)\n        \n    data = wbdata.get_dataframe(variables,country=location)\n    data.reset_index(inplace=True)\n    data['date'] = data['date'].astype(int)\n    data.set_index(['date'],inplace=True)\n    df = data.query(\"date==\"+str(year))\n    date_str = \"date==\" + str(year)\n    print(df.query(date_str).sum(axis=0))\n    \nfunc(2018, \"Male\", 50, 70, \"WLD\")",
    "id": "80e036ca99644c9f8750932969b344ea",
    "idx": 3,
    "time": "2021-01-26T03:40:11.549Z",
    "type": "execution"
   },
   {
    "id": "80e036ca99644c9f8750932969b344ea",
    "time": "2021-01-26T03:40:11.648Z",
    "type": "completion"
   },
   {
    "code": "def func(year, population, low, high, location):\n    age_ranges = []\n    for i in range(low,high,5):\n        age_ranges.append(f\"{i:02d}\"+f\"{i+4:02d}\")\n        if high > 80:\n            age_ranges.append(\"80UP\")\n    \n    if population == \"Male\":\n        male_variables = {\"SP.POP.\"+age_range+\".MA\":\"Males \"+age_range for age_range in age_ranges}\n        variables = male_variables\n    elif population == \"Female\":\n        female_variables = {\"SP.POP.\"+age_range+\".FE\":\"Females \"+age_range for age_range in age_ranges}\n        variables = female_variables\n    else:\n        male_variables = {\"SP.POP.\"+age_range+\".MA\":\"Males \"+age_range for age_range in age_ranges}\n        female_variables = {\"SP.POP.\"+age_range+\".FE\":\"Females \"+age_range for age_range in age_ranges}\n        variables = male_variables\n        variables.update(female_variables)\n        \n    data = wbdata.get_dataframe(variables,country=location)\n    data.reset_index(inplace=True)\n    data['date'] = data['date'].astype(int)\n    data.set_index(['date'],inplace=True)\n    df = data.query(\"date==\"+str(year))\n    date_str = \"date==\" + str(year)\n    print(df.query(date_str).sum(axis=0))\n    \nfunc(2018, \"Male\", 50, 85, \"WLD\")",
    "id": "80e036ca99644c9f8750932969b344ea",
    "idx": 3,
    "time": "2021-01-26T03:40:18.153Z",
    "type": "execution"
   },
   {
    "id": "80e036ca99644c9f8750932969b344ea",
    "time": "2021-01-26T03:40:18.584Z",
    "type": "completion"
   },
   {
    "code": "def func(year, population, low, high, location):\n    age_ranges = []\n    if high > 80:\n        for i in range(low,80,5):\n            age_ranges.append(f\"{i:02d}\"+f\"{i+4:02d}\")\n            age_ranges.append(\"80UP\")\n    else:\n        for i in range(low,80,5):\n            age_ranges.append(f\"{i:02d}\"+f\"{i+4:02d}\")\n    \n    if population == \"Male\":\n        male_variables = {\"SP.POP.\"+age_range+\".MA\":\"Males \"+age_range for age_range in age_ranges}\n        variables = male_variables\n    elif population == \"Female\":\n        female_variables = {\"SP.POP.\"+age_range+\".FE\":\"Females \"+age_range for age_range in age_ranges}\n        variables = female_variables\n    else:\n        male_variables = {\"SP.POP.\"+age_range+\".MA\":\"Males \"+age_range for age_range in age_ranges}\n        female_variables = {\"SP.POP.\"+age_range+\".FE\":\"Females \"+age_range for age_range in age_ranges}\n        variables = male_variables\n        variables.update(female_variables)\n        \n    data = wbdata.get_dataframe(variables,country=location)\n    data.reset_index(inplace=True)\n    data['date'] = data['date'].astype(int)\n    data.set_index(['date'],inplace=True)\n    df = data.query(\"date==\"+str(year))\n    date_str = \"date==\" + str(year)\n    print(df.query(date_str).sum(axis=0))\n    \nfunc(2018, \"Male\", 50, 85, \"WLD\")",
    "id": "80e036ca99644c9f8750932969b344ea",
    "idx": 3,
    "time": "2021-01-26T03:41:48.839Z",
    "type": "execution"
   },
   {
    "id": "80e036ca99644c9f8750932969b344ea",
    "time": "2021-01-26T03:41:48.952Z",
    "type": "completion"
   },
   {
    "code": "def func(year, population, low, high, location):\n    age_ranges = []\n    if high > 80:\n        for i in range(low,80,5):\n            age_ranges.append(f\"{i:02d}\"+f\"{i+4:02d}\")\n        age_ranges.append(\"80UP\")\n    else:\n        for i in range(low,80,5):\n            age_ranges.append(f\"{i:02d}\"+f\"{i+4:02d}\")\n    \n    if population == \"Male\":\n        male_variables = {\"SP.POP.\"+age_range+\".MA\":\"Males \"+age_range for age_range in age_ranges}\n        variables = male_variables\n    elif population == \"Female\":\n        female_variables = {\"SP.POP.\"+age_range+\".FE\":\"Females \"+age_range for age_range in age_ranges}\n        variables = female_variables\n    else:\n        male_variables = {\"SP.POP.\"+age_range+\".MA\":\"Males \"+age_range for age_range in age_ranges}\n        female_variables = {\"SP.POP.\"+age_range+\".FE\":\"Females \"+age_range for age_range in age_ranges}\n        variables = male_variables\n        variables.update(female_variables)\n        \n    data = wbdata.get_dataframe(variables,country=location)\n    data.reset_index(inplace=True)\n    data['date'] = data['date'].astype(int)\n    data.set_index(['date'],inplace=True)\n    df = data.query(\"date==\"+str(year))\n    date_str = \"date==\" + str(year)\n    print(df.query(date_str).sum(axis=0))\n    \nfunc(2018, \"Male\", 50, 85, \"WLD\")",
    "id": "80e036ca99644c9f8750932969b344ea",
    "idx": 3,
    "time": "2021-01-26T03:42:02.716Z",
    "type": "execution"
   },
   {
    "id": "80e036ca99644c9f8750932969b344ea",
    "time": "2021-01-26T03:42:02.815Z",
    "type": "completion"
   },
   {
    "code": "def func(year, population, low, high, location):\n    age_ranges = []\n    if high > 80:\n        for i in range(low,80,5):\n            age_ranges.append(f\"{i:02d}\"+f\"{i+4:02d}\")\n        age_ranges.append(\"80UP\")\n    else:\n        for i in range(low,80,5):\n            age_ranges.append(f\"{i:02d}\"+f\"{i+4:02d}\")\n    \n    if population == \"Male\":\n        male_variables = {\"SP.POP.\"+age_range+\".MA\":\"Males \"+age_range for age_range in age_ranges}\n        variables = male_variables\n    elif population == \"Female\":\n        female_variables = {\"SP.POP.\"+age_range+\".FE\":\"Females \"+age_range for age_range in age_ranges}\n        variables = female_variables\n    else:\n        male_variables = {\"SP.POP.\"+age_range+\".MA\":\"Males \"+age_range for age_range in age_ranges}\n        female_variables = {\"SP.POP.\"+age_range+\".FE\":\"Females \"+age_range for age_range in age_ranges}\n        variables = male_variables\n        variables.update(female_variables)\n        \n    data = wbdata.get_dataframe(variables,country=location)\n    data.reset_index(inplace=True)\n    data['date'] = data['date'].astype(int)\n    data.set_index(['date'],inplace=True)\n    df = data.query(\"date==\"+str(year))\n    date_str = \"date==\" + str(year)\n    print(df.query(date_str).sum(axis=0))\n    \nfunc(2018, \"People\", 50, 85, \"WLD\")",
    "id": "80e036ca99644c9f8750932969b344ea",
    "idx": 3,
    "time": "2021-01-26T03:43:07.453Z",
    "type": "execution"
   },
   {
    "id": "80e036ca99644c9f8750932969b344ea",
    "time": "2021-01-26T03:43:07.584Z",
    "type": "completion"
   },
   {
    "code": "def population_df(year, population, low, high, location):\n    age_ranges = []\n    if high > 80:\n        for i in range(low,80,5):\n            age_ranges.append(f\"{i:02d}\"+f\"{i+4:02d}\")\n        age_ranges.append(\"80UP\")\n    else:\n        for i in range(low,80,5):\n            age_ranges.append(f\"{i:02d}\"+f\"{i+4:02d}\")\n    \n    if population == \"Male\":\n        male_variables = {\"SP.POP.\"+age_range+\".MA\":\"Males \"+age_range for age_range in age_ranges}\n        variables = male_variables\n    elif population == \"Female\":\n        female_variables = {\"SP.POP.\"+age_range+\".FE\":\"Females \"+age_range for age_range in age_ranges}\n        variables = female_variables\n    else:\n        male_variables = {\"SP.POP.\"+age_range+\".MA\":\"Males \"+age_range for age_range in age_ranges}\n        female_variables = {\"SP.POP.\"+age_range+\".FE\":\"Females \"+age_range for age_range in age_ranges}\n        variables = male_variables\n        variables.update(female_variables)\n        \n    data = wbdata.get_dataframe(variables,country=location)\n    data.reset_index(inplace=True)\n    data['date'] = data['date'].astype(int)\n    data.set_index(['date'],inplace=True)\n    df = data.query(\"date==\"+str(year))\n    date_str = \"date==\" + str(year)\n    df = df.query(date_str).sum(axis=0)\n    return df\n\npopulation_df(2018, \"People\", 50, 85, \"WLD\")",
    "id": "843ea518616c45f0aa0e663b84d5d0b9",
    "idx": 5,
    "time": "2021-01-26T03:48:19.461Z",
    "type": "execution"
   },
   {
    "id": "843ea518616c45f0aa0e663b84d5d0b9",
    "time": "2021-01-26T03:48:19.600Z",
    "type": "completion"
   },
   {
    "code": "def population_df(year, population, low, high, location):\n    age_ranges = []\n    if high > 80:\n        for i in range(low,80,5):\n            age_ranges.append(f\"{i:02d}\"+f\"{i+4:02d}\")\n        age_ranges.append(\"80UP\")\n    else:\n        for i in range(low,80,5):\n            age_ranges.append(f\"{i:02d}\"+f\"{i+4:02d}\")\n    \n    if population == \"Male\":\n        male_variables = {\"SP.POP.\"+age_range+\".MA\":\"Males \"+age_range for age_range in age_ranges}\n        variables = male_variables\n    elif population == \"Female\":\n        female_variables = {\"SP.POP.\"+age_range+\".FE\":\"Females \"+age_range for age_range in age_ranges}\n        variables = female_variables\n    else:\n        male_variables = {\"SP.POP.\"+age_range+\".MA\":\"Males \"+age_range for age_range in age_ranges}\n        female_variables = {\"SP.POP.\"+age_range+\".FE\":\"Females \"+age_range for age_range in age_ranges}\n        variables = male_variables\n        variables.update(female_variables)\n        \n    data = wbdata.get_dataframe(variables,country=location)\n    data.reset_index(inplace=True)\n    data['date'] = data['date'].astype(int)\n    data.set_index(['date'],inplace=True)\n    df = data.query(\"date==\"+str(year))\n    date_str = \"date==\" + str(year)\n    df = df.query(date_str).sum(axis=0)\n    final_df = pd.DataFrame(df, columns=[\"Population Age Range\", \"Population Count\"])\n    return df\n\npopulation_df(2018, \"People\", 50, 85, \"WLD\")",
    "id": "843ea518616c45f0aa0e663b84d5d0b9",
    "idx": 5,
    "time": "2021-01-26T03:52:20.382Z",
    "type": "execution"
   },
   {
    "id": "843ea518616c45f0aa0e663b84d5d0b9",
    "time": "2021-01-26T03:52:20.559Z",
    "type": "completion"
   },
   {
    "code": "!pip install wbdata\nimport wbdata\nimport numpy as np\nimport pandas as pd\nimport cufflinks as cf\ncf.go_offline()",
    "id": "07ce1e68258844488498de248fceece6",
    "idx": 0,
    "time": "2021-01-26T03:52:46.243Z",
    "type": "execution"
   },
   {
    "id": "07ce1e68258844488498de248fceece6",
    "time": "2021-01-26T03:52:50.027Z",
    "type": "completion"
   },
   {
    "code": "def population_df(year, population, low, high, location):\n    age_ranges = []\n    if high > 80:\n        for i in range(low,80,5):\n            age_ranges.append(f\"{i:02d}\"+f\"{i+4:02d}\")\n        age_ranges.append(\"80UP\")\n    else:\n        for i in range(low,80,5):\n            age_ranges.append(f\"{i:02d}\"+f\"{i+4:02d}\")\n    \n    if population == \"Male\":\n        male_variables = {\"SP.POP.\"+age_range+\".MA\":\"Males \"+age_range for age_range in age_ranges}\n        variables = male_variables\n    elif population == \"Female\":\n        female_variables = {\"SP.POP.\"+age_range+\".FE\":\"Females \"+age_range for age_range in age_ranges}\n        variables = female_variables\n    else:\n        male_variables = {\"SP.POP.\"+age_range+\".MA\":\"Males \"+age_range for age_range in age_ranges}\n        female_variables = {\"SP.POP.\"+age_range+\".FE\":\"Females \"+age_range for age_range in age_ranges}\n        variables = male_variables\n        variables.update(female_variables)\n        \n    data = wbdata.get_dataframe(variables,country=location)\n    data.reset_index(inplace=True)\n    data['date'] = data['date'].astype(int)\n    data.set_index(['date'],inplace=True)\n    df = data.query(\"date==\"+str(year))\n    date_str = \"date==\" + str(year)\n    df = df.query(date_str).sum(axis=0)\n    final_df = pd.DataFrame(df, columns=[\"Population Age Range\", \"Population Count\"])\n    return df\n\npopulation_df(2018, \"People\", 50, 85, \"WLD\")",
    "id": "843ea518616c45f0aa0e663b84d5d0b9",
    "idx": 5,
    "time": "2021-01-26T03:53:20.198Z",
    "type": "execution"
   },
   {
    "id": "843ea518616c45f0aa0e663b84d5d0b9",
    "time": "2021-01-26T03:53:20.407Z",
    "type": "completion"
   },
   {
    "code": "def population_df(year, population, low, high, location):\n    age_ranges = []\n    if high > 80:\n        for i in range(low,80,5):\n            age_ranges.append(f\"{i:02d}\"+f\"{i+4:02d}\")\n        age_ranges.append(\"80UP\")\n    else:\n        for i in range(low,80,5):\n            age_ranges.append(f\"{i:02d}\"+f\"{i+4:02d}\")\n    \n    if population == \"Male\":\n        male_variables = {\"SP.POP.\"+age_range+\".MA\":\"Males \"+age_range for age_range in age_ranges}\n        variables = male_variables\n    elif population == \"Female\":\n        female_variables = {\"SP.POP.\"+age_range+\".FE\":\"Females \"+age_range for age_range in age_ranges}\n        variables = female_variables\n    else:\n        male_variables = {\"SP.POP.\"+age_range+\".MA\":\"Males \"+age_range for age_range in age_ranges}\n        female_variables = {\"SP.POP.\"+age_range+\".FE\":\"Females \"+age_range for age_range in age_ranges}\n        variables = male_variables\n        variables.update(female_variables)\n        \n    data = wbdata.get_dataframe(variables,country=location)\n    data.reset_index(inplace=True)\n    data['date'] = data['date'].astype(int)\n    data.set_index(['date'],inplace=True)\n    df = data.query(\"date==\"+str(year))\n    date_str = \"date==\" + str(year)\n    df = df.query(date_str).sum(axis=0)\n    #final_df = pd.DataFrame(df, columns=[\"Population Age Range\", \"Population Count\"])\n    return df\n\npopulation_df(2018, \"People\", 50, 85, \"WLD\")",
    "id": "843ea518616c45f0aa0e663b84d5d0b9",
    "idx": 5,
    "time": "2021-01-26T03:53:29.589Z",
    "type": "execution"
   },
   {
    "id": "843ea518616c45f0aa0e663b84d5d0b9",
    "time": "2021-01-26T03:53:29.735Z",
    "type": "completion"
   },
   {
    "code": "variable_labels = {\"SP.POP.TOTL\":\"Population\"}\n\n# Three letter codes come from wbdata.get_country()\ncountries = {\"WLD\":\"World\",\n             \"LIC\":\"Low income\",\n             \"LMC\":\"Low-medium income\",\n             \"UMC\":\"Upper-medium income\",\n             \"HIC\":\"High income\",\n            }\n\ndf = wbdata.get_dataframe(variable_labels, country = countries).squeeze()\n\ndf = df.unstack('country')\n\ndf\n# Date index is of type str",
    "id": "3a2be20e450640ab84134c9c6e18b746",
    "idx": 6,
    "time": "2021-01-26T03:59:51.970Z",
    "type": "execution"
   },
   {
    "id": "3a2be20e450640ab84134c9c6e18b746",
    "time": "2021-01-26T03:59:52.491Z",
    "type": "completion"
   },
   {
    "code": "variable_labels = {\"SP.POP.TOTL\":\"Population\"}\n\n# Three letter codes come from wbdata.get_country()\ncountries = {\"WLD\":\"World\",\n             \"LIC\":\"Low income\",\n             \"LMC\":\"Low-medium income\",\n             \"UMC\":\"Upper-medium income\",\n             \"HIC\":\"High income\",\n            }\n\ndf = wbdata.get_dataframe(variable_labels).squeeze()\n\ndf = df.unstack('country')\n\ndf\n# Date index is of type str",
    "id": "3a2be20e450640ab84134c9c6e18b746",
    "idx": 6,
    "time": "2021-01-26T04:04:16.625Z",
    "type": "execution"
   },
   {
    "id": "3a2be20e450640ab84134c9c6e18b746",
    "time": "2021-01-26T04:04:22.238Z",
    "type": "completion"
   },
   {
    "code": "wbdata.search_indicators(\"population\")",
    "id": "9fbac05598eb4487bf86608c0f8f1c6d",
    "idx": 6,
    "time": "2021-01-26T04:06:59.597Z",
    "type": "execution"
   },
   {
    "id": "9fbac05598eb4487bf86608c0f8f1c6d",
    "time": "2021-01-26T04:07:09.213Z",
    "type": "completion"
   },
   {
    "code": "for i in range(0,80,5):\n    age_ranges.append(f\"{i:02d}\"+f\"{i+4:02d}\")\n\nage_ranges.append(\"80UP\")\n\nmale_variables = {\"SP.POP.\"+age_range+\".MA\":\"Males \"+age_range for age_range in age_ranges}\nfemale_variables = {\"SP.POP.\"+age_range+\".FE\":\"Females \"+age_range for age_range in age_ranges}\n\nvariables = male_variables\nvariables.update(female_variables)\n\ndf = wbdata.get_dataframe(variables,country=\"WLD\")\ndf",
    "id": "7854c605b19744e980247dac1b30463c",
    "idx": 8,
    "time": "2021-01-26T04:10:20.056Z",
    "type": "execution"
   },
   {
    "id": "7854c605b19744e980247dac1b30463c",
    "time": "2021-01-26T04:10:20.393Z",
    "type": "completion"
   },
   {
    "code": "import plotly.offline as py\nimport plotly.graph_objs as go\n\npy.init_notebook_mode(connected=True)\n\n\ndef population_pyramid(dataframe):\n    layout = go.Layout(barmode='overlay',\n                   yaxis=go.layout.YAxis(range=[0, 90], title='Age'),\n                   xaxis=go.layout.XAxis(title='Number'))\n\n    year = 2018\n\n    bins = [go.Bar(x = dataframe.loc[str(year),:].filter(regex=\"Male\").values,\n               y = [int(s[:2])+1 for s in age_ranges],\n               orientation='h',\n               name='Men',\n               marker=dict(color='purple'),\n               hoverinfo='skip'\n               ),\n\n    go.Bar(x = -dataframe.loc[str(year),:].filter(regex=\"Female\").values,\n               y=[int(s[:2])+1 for s in age_ranges],\n               orientation='h',\n               name='Women',\n               marker=dict(color='pink'),\n               hoverinfo='skip',\n               )\n        ]\n    py.iplot(dict(data=bins, layout=layout))\n    \npopulation_pyramid(df)",
    "id": "96f379e2bac947f08520ce6f41b3c491",
    "idx": 10,
    "time": "2021-01-26T04:14:42.664Z",
    "type": "execution"
   },
   {
    "id": "96f379e2bac947f08520ce6f41b3c491",
    "time": "2021-01-26T04:14:43.155Z",
    "type": "completion"
   },
   {
    "code": "import plotly.offline as py\nimport plotly.graph_objs as go\n\npy.init_notebook_mode(connected=True)\n\n\ndef population_pyramid(dataframe):\n    layout = go.Layout(barmode='overlay',\n                   yaxis=go.layout.YAxis(range=[0, 90], title='Age'),\n                   xaxis=go.layout.XAxis(range=[0,300],title='Number'))\n\n    year = 2018\n\n    bins = [go.Bar(x = dataframe.loc[str(year),:].filter(regex=\"Male\").values,\n               y = [int(s[:2])+1 for s in age_ranges],\n               orientation='h',\n               name='Men',\n               marker=dict(color='purple'),\n               hoverinfo='skip'\n               ),\n\n    go.Bar(x = -dataframe.loc[str(year),:].filter(regex=\"Female\").values,\n               y=[int(s[:2])+1 for s in age_ranges],\n               orientation='h',\n               name='Women',\n               marker=dict(color='pink'),\n               hoverinfo='skip',\n               )\n        ]\n    py.iplot(dict(data=bins, layout=layout))\n    \npopulation_pyramid(df)",
    "id": "96f379e2bac947f08520ce6f41b3c491",
    "idx": 10,
    "time": "2021-01-26T04:16:05.726Z",
    "type": "execution"
   },
   {
    "id": "96f379e2bac947f08520ce6f41b3c491",
    "time": "2021-01-26T04:16:05.908Z",
    "type": "completion"
   },
   {
    "code": "import plotly.offline as py\nimport plotly.graph_objs as go\n\npy.init_notebook_mode(connected=True)\n\n\ndef population_pyramid(dataframe):\n    layout = go.Layout(barmode='overlay',\n                   yaxis=go.layout.YAxis(range=[0, 90], title='Age'),\n                   xaxis=go.layout.XAxis(title='Number'))\n\n    year = 2018\n\n    bins = [go.Bar(x = dataframe.loc[str(year),:].filter(regex=\"Male\").values,\n               y = [int(s[:2])+1 for s in age_ranges],\n               orientation='h',\n               name='Men',\n               marker=dict(color='purple'),\n               hoverinfo='skip'\n               ),\n\n    go.Bar(x = -dataframe.loc[str(year),:].filter(regex=\"Female\").values,\n               y=[int(s[:2])+1 for s in age_ranges],\n               orientation='h',\n               name='Women',\n               marker=dict(color='pink'),\n               hoverinfo='skip',\n               )\n        ]\n    py.iplot(dict(data=bins, layout=layout))\n    \npopulation_pyramid(df)",
    "id": "96f379e2bac947f08520ce6f41b3c491",
    "idx": 10,
    "time": "2021-01-26T04:16:11.621Z",
    "type": "execution"
   },
   {
    "id": "96f379e2bac947f08520ce6f41b3c491",
    "time": "2021-01-26T04:16:11.843Z",
    "type": "completion"
   },
   {
    "code": "!pip install wbdata\nimport wbdata\nimport numpy as np\nimport pandas as pd\nimport cufflinks as cf\ncf.go_offline()",
    "id": "ad06bbcad9de461b83f686a12e621074",
    "idx": 0,
    "time": "2021-01-27T06:36:35.097Z",
    "type": "execution"
   },
   {
    "code": "wbdata.get_country() ",
    "id": "b8566735b9044afe89a64a3c67a506a8",
    "idx": 1,
    "time": "2021-01-27T06:36:35.320Z",
    "type": "execution"
   },
   {
    "code": "wbdata.get_source()",
    "id": "fac6be9694c944f4a203a1ee0c6bd7a3",
    "idx": 2,
    "time": "2021-01-27T06:36:36.386Z",
    "type": "execution"
   },
   {
    "code": "def population(year, population, low, high, location):\n    age_ranges = []\n    if high > 80:\n        for i in range(low,80,5):\n            age_ranges.append(f\"{i:02d}\"+f\"{i+4:02d}\")\n        age_ranges.append(\"80UP\")\n    else:\n        for i in range(low,80,5):\n            age_ranges.append(f\"{i:02d}\"+f\"{i+4:02d}\")\n    \n    if population == \"Male\":\n        male_variables = {\"SP.POP.\"+age_range+\".MA\":\"Males \"+age_range for age_range in age_ranges}\n        variables = male_variables\n    elif population == \"Female\":\n        female_variables = {\"SP.POP.\"+age_range+\".FE\":\"Females \"+age_range for age_range in age_ranges}\n        variables = female_variables\n    else:\n        male_variables = {\"SP.POP.\"+age_range+\".MA\":\"Males \"+age_range for age_range in age_ranges}\n        female_variables = {\"SP.POP.\"+age_range+\".FE\":\"Females \"+age_range for age_range in age_ranges}\n        variables = male_variables\n        variables.update(female_variables)\n        \n    data = wbdata.get_dataframe(variables,country=location)\n    data.reset_index(inplace=True)\n    data['date'] = data['date'].astype(int)\n    data.set_index(['date'],inplace=True)\n    df = data.query(\"date==\"+str(year))\n    date_str = \"date==\" + str(year)\n    print(df.query(date_str).sum(axis=0))\n    \npopulation(2018, \"People\", 50, 85, \"WLD\")",
    "id": "fa5c4d8b8af84d6a81aff781a18e3d34",
    "idx": 3,
    "time": "2021-01-27T06:36:37.911Z",
    "type": "execution"
   },
   {
    "code": "import numpy as np\n# wbdata.search_indicators(\"GDP per capita\")\n\nindicators = {\"NY.GDP.PCAP.CD\":\"GDP per capita\",\n              \"SP.DYN.TFRT.IN\":\"Total Fertility Rate\",\n              \"SP.POP.GROW\":\"Population Growth Rate\",\n              \"SP.DYN.AMRT.MA\":\"Male Mortality\",\n              \"SP.DYN.AMRT.FE\":\"Female Mortality\",\n              \"SP.POP.1564.FE.ZS\":\"% Adult Female\",\n              \"SP.POP.TOTL.FE.ZS\":\"% Female\"}\n\ndata = wbdata.get_dataframe(indicators)\n\n# Make years ints instead of strings\ndata.reset_index(inplace=True)\ndata['date'] = data['date'].astype(int)\ndata.set_index(['country','date'],inplace=True)\n\ndf = data.query(\"date==2018\") # Latest year missing some data",
    "id": "66376c50b2f147adb5a531b0667b5da1",
    "idx": 4,
    "time": "2021-01-27T06:36:42.081Z",
    "type": "execution"
   },
   {
    "code": "def population_df(year, population, low, high, location):\n    age_ranges = []\n    if high > 80:\n        for i in range(low,80,5):\n            age_ranges.append(f\"{i:02d}\"+f\"{i+4:02d}\")\n        age_ranges.append(\"80UP\")\n    else:\n        for i in range(low,80,5):\n            age_ranges.append(f\"{i:02d}\"+f\"{i+4:02d}\")\n    \n    if population == \"Male\":\n        male_variables = {\"SP.POP.\"+age_range+\".MA\":\"Males \"+age_range for age_range in age_ranges}\n        variables = male_variables\n    elif population == \"Female\":\n        female_variables = {\"SP.POP.\"+age_range+\".FE\":\"Females \"+age_range for age_range in age_ranges}\n        variables = female_variables\n    else:\n        male_variables = {\"SP.POP.\"+age_range+\".MA\":\"Males \"+age_range for age_range in age_ranges}\n        female_variables = {\"SP.POP.\"+age_range+\".FE\":\"Females \"+age_range for age_range in age_ranges}\n        variables = male_variables\n        variables.update(female_variables)\n        \n    data = wbdata.get_dataframe(variables,country=location)\n    data.reset_index(inplace=True)\n    data['date'] = data['date'].astype(int)\n    data.set_index(['date'],inplace=True)\n    df = data.query(\"date==\"+str(year))\n    date_str = \"date==\" + str(year)\n    df = df.query(date_str).sum(axis=0)\n    #final_df = pd.DataFrame(df, columns=[\"Population Age Range\", \"Population Count\"])\n    return df\n\npopulation_df(2018, \"People\", 50, 85, \"WLD\")",
    "id": "6e72b8daa463496e81d7e825df5304d9",
    "idx": 5,
    "time": "2021-01-27T06:36:42.433Z",
    "type": "execution"
   },
   {
    "id": "ad06bbcad9de461b83f686a12e621074",
    "time": "2021-01-27T06:36:42.577Z",
    "type": "completion"
   },
   {
    "code": "wbdata.search_indicators(\"population\")",
    "id": "b5b7107931ef4877b1574db10b9c6aaa",
    "idx": 6,
    "time": "2021-01-27T06:36:42.625Z",
    "type": "execution"
   },
   {
    "id": "b8566735b9044afe89a64a3c67a506a8",
    "time": "2021-01-27T06:36:42.714Z",
    "type": "completion"
   },
   {
    "id": "fac6be9694c944f4a203a1ee0c6bd7a3",
    "time": "2021-01-27T06:36:42.724Z",
    "type": "completion"
   },
   {
    "id": "fa5c4d8b8af84d6a81aff781a18e3d34",
    "time": "2021-01-27T06:36:42.879Z",
    "type": "completion"
   },
   {
    "code": "variable_labels = {\"SP.POP.TOTL\":\"Population\"}\n\n# Three letter codes come from wbdata.get_country()\ncountries = {\"WLD\":\"World\",\n             \"LIC\":\"Low income\",\n             \"LMC\":\"Low-medium income\",\n             \"UMC\":\"Upper-medium income\",\n             \"HIC\":\"High income\",\n            }\n\ndf = wbdata.get_dataframe(variable_labels).squeeze()\n\ndf = df.unstack('country')\n\ndf\n# Date index is of type str",
    "id": "2ab99acbecbd44508427bc1180bf3caf",
    "idx": 7,
    "time": "2021-01-27T06:36:43.192Z",
    "type": "execution"
   },
   {
    "code": "for i in range(0,80,5):\n    age_ranges.append(f\"{i:02d}\"+f\"{i+4:02d}\")\n\nage_ranges.append(\"80UP\")\n\nmale_variables = {\"SP.POP.\"+age_range+\".MA\":\"Males \"+age_range for age_range in age_ranges}\nfemale_variables = {\"SP.POP.\"+age_range+\".FE\":\"Females \"+age_range for age_range in age_ranges}\n\nvariables = male_variables\nvariables.update(female_variables)\n\ndf = wbdata.get_dataframe(variables,country=\"WLD\")\ndf",
    "id": "abd25ccde5e34513819c5acf0f1e2fdc",
    "idx": 8,
    "time": "2021-01-27T06:36:43.782Z",
    "type": "execution"
   },
   {
    "code": "import plotly.offline as py\nimport plotly.graph_objs as go\n\npy.init_notebook_mode(connected=True)\n\n\ndef population_pyramid(dataframe):\n    layout = go.Layout(barmode='overlay',\n                   yaxis=go.layout.YAxis(range=[0, 90], title='Age'),\n                   xaxis=go.layout.XAxis(title='Number'))\n\n    year = 2018\n\n    bins = [go.Bar(x = dataframe.loc[str(year),:].filter(regex=\"Male\").values,\n               y = [int(s[:2])+1 for s in age_ranges],\n               orientation='h',\n               name='Men',\n               marker=dict(color='purple'),\n               hoverinfo='skip'\n               ),\n\n    go.Bar(x = -dataframe.loc[str(year),:].filter(regex=\"Female\").values,\n               y=[int(s[:2])+1 for s in age_ranges],\n               orientation='h',\n               name='Women',\n               marker=dict(color='pink'),\n               hoverinfo='skip',\n               )\n        ]\n    py.iplot(dict(data=bins, layout=layout))\n    \npopulation_pyramid(df)",
    "id": "f9915e4baab741bfa7642ae1e88810de",
    "idx": 10,
    "time": "2021-01-27T06:36:45.108Z",
    "type": "execution"
   },
   {
    "id": "66376c50b2f147adb5a531b0667b5da1",
    "time": "2021-01-27T06:39:01.334Z",
    "type": "completion"
   },
   {
    "id": "6e72b8daa463496e81d7e825df5304d9",
    "time": "2021-01-27T06:39:01.434Z",
    "type": "completion"
   },
   {
    "id": "b5b7107931ef4877b1574db10b9c6aaa",
    "time": "2021-01-27T06:39:02.221Z",
    "type": "completion"
   },
   {
    "id": "2ab99acbecbd44508427bc1180bf3caf",
    "time": "2021-01-27T06:39:02.238Z",
    "type": "completion"
   },
   {
    "id": "abd25ccde5e34513819c5acf0f1e2fdc",
    "time": "2021-01-27T06:39:02.480Z",
    "type": "completion"
   },
   {
    "id": "f9915e4baab741bfa7642ae1e88810de",
    "time": "2021-01-27T06:39:02.481Z",
    "type": "completion"
   },
   {
    "code": "variable_labels = {\"SP.POP.TOTL\":\"Population\"}\n\nworld_popualtion_df = wbdata.get_dataframe(variable_labels).squeeze()\n\nworld_popualtion_df = world_popualtion_df.unstack('country')\n\nworld_popualtion_df\n# Date index is of type str",
    "id": "2ab99acbecbd44508427bc1180bf3caf",
    "idx": 7,
    "time": "2021-01-27T06:42:29.858Z",
    "type": "execution"
   },
   {
    "id": "2ab99acbecbd44508427bc1180bf3caf",
    "time": "2021-01-27T06:42:30.258Z",
    "type": "completion"
   },
   {
    "code": "age_ranges = []\nfor i in range(0,80,5):\n    age_ranges.append(f\"{i:02d}\"+f\"{i+4:02d}\")\n\nage_ranges.append(\"80UP\")\n\nmale_variables = {\"SP.POP.\"+age_range+\".MA\":\"Males \"+age_range for age_range in age_ranges}\nfemale_variables = {\"SP.POP.\"+age_range+\".FE\":\"Females \"+age_range for age_range in age_ranges}\n\nvariables = male_variables\nvariables.update(female_variables)\n\ndf = wbdata.get_dataframe(variables,country=\"WLD\")\ndf",
    "id": "abd25ccde5e34513819c5acf0f1e2fdc",
    "idx": 8,
    "time": "2021-01-27T06:43:21.280Z",
    "type": "execution"
   },
   {
    "id": "abd25ccde5e34513819c5acf0f1e2fdc",
    "time": "2021-01-27T06:43:21.660Z",
    "type": "completion"
   },
   {
    "code": "import plotly.offline as py\nimport plotly.graph_objs as go\n\npy.init_notebook_mode(connected=True)\n\n\ndef population_pyramid(dataframe):\n    layout = go.Layout(barmode='overlay',\n                   yaxis=go.layout.YAxis(range=[0, 90], title='Age'),\n                   xaxis=go.layout.XAxis(title='Number'))\n\n    year = 2018\n\n    bins = [go.Bar(x = dataframe.loc[str(year),:].filter(regex=\"Male\").values,\n               y = [int(s[:2])+1 for s in age_ranges],\n               orientation='h',\n               name='Men',\n               marker=dict(color='purple'),\n               hoverinfo='skip'\n               ),\n\n    go.Bar(x = -dataframe.loc[str(year),:].filter(regex=\"Female\").values,\n               y=[int(s[:2])+1 for s in age_ranges],\n               orientation='h',\n               name='Women',\n               marker=dict(color='pink'),\n               hoverinfo='skip',\n               )\n        ]\n    py.iplot(dict(data=bins, layout=layout))\n    \npopulation_pyramid(df)",
    "id": "f9915e4baab741bfa7642ae1e88810de",
    "idx": 10,
    "time": "2021-01-27T06:43:30.885Z",
    "type": "execution"
   },
   {
    "id": "f9915e4baab741bfa7642ae1e88810de",
    "time": "2021-01-27T06:43:31.901Z",
    "type": "completion"
   },
   {
    "code": "\ndef animated_population_pyramid(dataframe):\n\n    # Count down by increments of 20 years\n    years = range(2018,1960,-1)\n\n    # This makes a list of graphs, year by year\n    bins = [go.Bar(x = df.loc[str(year),:].filter(regex=\"Male\").values,\n               y = [int(s[:2])+1 for s in age_ranges],\n               orientation='h',\n               name='Men {:d}'.format(year),\n               hoverinfo='skip'\n              )\n        for year in years]\n          \n    bins += [go.Bar(x = -df.loc[str(year),:].filter(regex=\"Female\").values,\n                y=[int(s[:2])+1 for s in age_ranges],\n                orientation='h',\n                name='Women {:d}'.format(year),\n                hoverinfo='skip',\n               )\n         for year in years]\n\n    py.iplot(dict(data=bins, layout=layout)\n         \nanimated_population_pyramid(df)",
    "id": "aa55a2f991d74236b34fe965b3c6b441",
    "idx": 10,
    "time": "2021-01-27T22:44:39.660Z",
    "type": "execution"
   },
   {
    "id": "aa55a2f991d74236b34fe965b3c6b441",
    "time": "2021-01-27T22:44:39.874Z",
    "type": "completion"
   },
   {
    "code": "\ndef animated_population_pyramid(dataframe):\n\n    # Count down by increments of 20 years\n    years = range(2018,1960,-1)\n\n    # This makes a list of graphs, year by year\n    bins = [go.Bar(x = df.loc[str(year),:].filter(regex=\"Male\").values,\n               y = [int(s[:2])+1 for s in age_ranges],\n               orientation='h',\n               name='Men {:d}'.format(year),\n               hoverinfo='skip'\n              )\n        for year in years]\n          \n    bins += [go.Bar(x = -df.loc[str(year),:].filter(regex=\"Female\").values,\n                y=[int(s[:2])+1 for s in age_ranges],\n                orientation='h',\n                name='Women {:d}'.format(year),\n                hoverinfo='skip',\n               )\n         for year in years]\n\n    return py.iplot(dict(data=bins, layout=layout)\n         \nanimated_population_pyramid(df)",
    "id": "aa55a2f991d74236b34fe965b3c6b441",
    "idx": 10,
    "time": "2021-01-27T22:44:50.277Z",
    "type": "execution"
   },
   {
    "id": "aa55a2f991d74236b34fe965b3c6b441",
    "time": "2021-01-27T22:44:53.093Z",
    "type": "completion"
   },
   {
    "code": "\ndef animated_population_pyramid(dataframe):\n\n    # Count down by increments of 20 years\n    years = range(2018,1960,-1)\n\n    # This makes a list of graphs, year by year\n    bins = [go.Bar(x = df.loc[str(year),:].filter(regex=\"Male\").values,\n               y = [int(s[:2])+1 for s in age_ranges],\n               orientation='h',\n               name='Men {:d}'.format(year),\n               hoverinfo='skip'\n              )\n            for year in years]\n          \n    bins += [go.Bar(x = -df.loc[str(year),:].filter(regex=\"Female\").values,\n                y=[int(s[:2])+1 for s in age_ranges],\n                orientation='h',\n                name='Women {:d}'.format(year),\n                hoverinfo='skip',\n               )\n             for year in years]\n\n    return py.iplot(dict(data=bins, layout=layout)\n         \nanimated_population_pyramid(df)",
    "id": "aa55a2f991d74236b34fe965b3c6b441",
    "idx": 10,
    "time": "2021-01-27T22:45:17.646Z",
    "type": "execution"
   },
   {
    "id": "aa55a2f991d74236b34fe965b3c6b441",
    "time": "2021-01-27T22:45:18.124Z",
    "type": "completion"
   },
   {
    "code": "\ndef animated_population_pyramid(dataframe):\n\n    # Count down by increments of 20 years\n    years = range(2018,1960,-1)\n\n    # This makes a list of graphs, year by year\n    bins = [go.Bar(x = df.loc[str(year),:].filter(regex=\"Male\").values,\n               y = [int(s[:2])+1 for s in age_ranges],\n               orientation='h',\n               name='Men {:d}'.format(year),\n               hoverinfo='skip'\n              )\n            for year in years]\n          \n    bins += [go.Bar(x = -df.loc[str(year),:].filter(regex=\"Female\").values,\n                y=[int(s[:2])+1 for s in age_ranges],\n                orientation='h',\n                name='Women {:d}'.format(year),\n                hoverinfo='skip',\n               )\n             for year in years]\n\n    return py.iplot(dict(data=bins, layout=layout))\n         \nanimated_population_pyramid(df)",
    "id": "aa55a2f991d74236b34fe965b3c6b441",
    "idx": 10,
    "time": "2021-01-27T22:45:22.653Z",
    "type": "execution"
   },
   {
    "id": "aa55a2f991d74236b34fe965b3c6b441",
    "time": "2021-01-27T22:45:23.075Z",
    "type": "completion"
   },
   {
    "code": "!pip install wbdata\nimport wbdata\nimport numpy as np\nimport pandas as pd\nimport cufflinks as cf\ncf.go_offline()",
    "id": "ad06bbcad9de461b83f686a12e621074",
    "idx": 0,
    "time": "2021-01-27T22:47:03.888Z",
    "type": "execution"
   },
   {
    "code": "wbdata.get_country() ",
    "id": "b8566735b9044afe89a64a3c67a506a8",
    "idx": 1,
    "time": "2021-01-27T22:47:03.941Z",
    "type": "execution"
   },
   {
    "code": "wbdata.get_source()",
    "id": "fac6be9694c944f4a203a1ee0c6bd7a3",
    "idx": 2,
    "time": "2021-01-27T22:47:03.961Z",
    "type": "execution"
   },
   {
    "code": "def population(year, population, low, high, location):\n    age_ranges = []\n    if high > 80:\n        for i in range(low,80,5):\n            age_ranges.append(f\"{i:02d}\"+f\"{i+4:02d}\")\n        age_ranges.append(\"80UP\")\n    else:\n        for i in range(low,80,5):\n            age_ranges.append(f\"{i:02d}\"+f\"{i+4:02d}\")\n    \n    if population == \"Male\":\n        male_variables = {\"SP.POP.\"+age_range+\".MA\":\"Males \"+age_range for age_range in age_ranges}\n        variables = male_variables\n    elif population == \"Female\":\n        female_variables = {\"SP.POP.\"+age_range+\".FE\":\"Females \"+age_range for age_range in age_ranges}\n        variables = female_variables\n    else:\n        male_variables = {\"SP.POP.\"+age_range+\".MA\":\"Males \"+age_range for age_range in age_ranges}\n        female_variables = {\"SP.POP.\"+age_range+\".FE\":\"Females \"+age_range for age_range in age_ranges}\n        variables = male_variables\n        variables.update(female_variables)\n        \n    data = wbdata.get_dataframe(variables,country=location)\n    data.reset_index(inplace=True)\n    data['date'] = data['date'].astype(int)\n    data.set_index(['date'],inplace=True)\n    df = data.query(\"date==\"+str(year))\n    date_str = \"date==\" + str(year)\n    print(df.query(date_str).sum(axis=0))\n    \npopulation(2018, \"People\", 50, 85, \"WLD\")",
    "id": "fa5c4d8b8af84d6a81aff781a18e3d34",
    "idx": 3,
    "time": "2021-01-27T22:47:03.965Z",
    "type": "execution"
   },
   {
    "code": "import numpy as np\n# wbdata.search_indicators(\"GDP per capita\")\n\nindicators = {\"NY.GDP.PCAP.CD\":\"GDP per capita\",\n              \"SP.DYN.TFRT.IN\":\"Total Fertility Rate\",\n              \"SP.POP.GROW\":\"Population Growth Rate\",\n              \"SP.DYN.AMRT.MA\":\"Male Mortality\",\n              \"SP.DYN.AMRT.FE\":\"Female Mortality\",\n              \"SP.POP.1564.FE.ZS\":\"% Adult Female\",\n              \"SP.POP.TOTL.FE.ZS\":\"% Female\"}\n\ndata = wbdata.get_dataframe(indicators)\n\n# Make years ints instead of strings\ndata.reset_index(inplace=True)\ndata['date'] = data['date'].astype(int)\ndata.set_index(['country','date'],inplace=True)\n\ndf = data.query(\"date==2018\") # Latest year missing some data",
    "id": "66376c50b2f147adb5a531b0667b5da1",
    "idx": 4,
    "time": "2021-01-27T22:47:03.969Z",
    "type": "execution"
   },
   {
    "code": "def population_df(year, population, low, high, location):\n    age_ranges = []\n    if high > 80:\n        for i in range(low,80,5):\n            age_ranges.append(f\"{i:02d}\"+f\"{i+4:02d}\")\n        age_ranges.append(\"80UP\")\n    else:\n        for i in range(low,80,5):\n            age_ranges.append(f\"{i:02d}\"+f\"{i+4:02d}\")\n    \n    if population == \"Male\":\n        male_variables = {\"SP.POP.\"+age_range+\".MA\":\"Males \"+age_range for age_range in age_ranges}\n        variables = male_variables\n    elif population == \"Female\":\n        female_variables = {\"SP.POP.\"+age_range+\".FE\":\"Females \"+age_range for age_range in age_ranges}\n        variables = female_variables\n    else:\n        male_variables = {\"SP.POP.\"+age_range+\".MA\":\"Males \"+age_range for age_range in age_ranges}\n        female_variables = {\"SP.POP.\"+age_range+\".FE\":\"Females \"+age_range for age_range in age_ranges}\n        variables = male_variables\n        variables.update(female_variables)\n        \n    data = wbdata.get_dataframe(variables,country=location)\n    data.reset_index(inplace=True)\n    data['date'] = data['date'].astype(int)\n    data.set_index(['date'],inplace=True)\n    df = data.query(\"date==\"+str(year))\n    date_str = \"date==\" + str(year)\n    df = df.query(date_str).sum(axis=0)\n    #final_df = pd.DataFrame(df, columns=[\"Population Age Range\", \"Population Count\"])\n    return df\n\npopulation_df(2018, \"People\", 50, 85, \"WLD\")",
    "id": "6e72b8daa463496e81d7e825df5304d9",
    "idx": 5,
    "time": "2021-01-27T22:47:03.976Z",
    "type": "execution"
   },
   {
    "code": "wbdata.search_indicators(\"population\")",
    "id": "b5b7107931ef4877b1574db10b9c6aaa",
    "idx": 6,
    "time": "2021-01-27T22:47:04.255Z",
    "type": "execution"
   },
   {
    "code": "variable_labels = {\"SP.POP.TOTL\":\"Population\"}\n\nworld_popualtion_df = wbdata.get_dataframe(variable_labels).squeeze()\n\nworld_popualtion_df = world_popualtion_df.unstack('country')\n\nworld_popualtion_df\n# Date index is of type str",
    "id": "2ab99acbecbd44508427bc1180bf3caf",
    "idx": 7,
    "time": "2021-01-27T22:47:04.299Z",
    "type": "execution"
   },
   {
    "code": "age_ranges = []\nfor i in range(0,80,5):\n    age_ranges.append(f\"{i:02d}\"+f\"{i+4:02d}\")\n\nage_ranges.append(\"80UP\")\n\nmale_variables = {\"SP.POP.\"+age_range+\".MA\":\"Males \"+age_range for age_range in age_ranges}\nfemale_variables = {\"SP.POP.\"+age_range+\".FE\":\"Females \"+age_range for age_range in age_ranges}\n\nvariables = male_variables\nvariables.update(female_variables)\n\ndf = wbdata.get_dataframe(variables,country=\"WLD\")\ndf",
    "id": "abd25ccde5e34513819c5acf0f1e2fdc",
    "idx": 8,
    "time": "2021-01-27T22:47:04.338Z",
    "type": "execution"
   },
   {
    "code": "import plotly.offline as py\nimport plotly.graph_objs as go\n\npy.init_notebook_mode(connected=True)\n\n\ndef population_pyramid(dataframe):\n    layout = go.Layout(barmode='overlay',\n                   yaxis=go.layout.YAxis(range=[0, 90], title='Age'),\n                   xaxis=go.layout.XAxis(title='Number'))\n\n    year = 2018\n\n    bins = [go.Bar(x = dataframe.loc[str(year),:].filter(regex=\"Male\").values,\n               y = [int(s[:2])+1 for s in age_ranges],\n               orientation='h',\n               name='Men',\n               marker=dict(color='purple'),\n               hoverinfo='skip'\n               ),\n\n    go.Bar(x = -dataframe.loc[str(year),:].filter(regex=\"Female\").values,\n               y=[int(s[:2])+1 for s in age_ranges],\n               orientation='h',\n               name='Women',\n               marker=dict(color='pink'),\n               hoverinfo='skip',\n               )\n        ]\n    py.iplot(dict(data=bins, layout=layout))\n    \npopulation_pyramid(df)",
    "id": "f9915e4baab741bfa7642ae1e88810de",
    "idx": 9,
    "time": "2021-01-27T22:47:04.361Z",
    "type": "execution"
   },
   {
    "id": "ad06bbcad9de461b83f686a12e621074",
    "time": "2021-01-27T22:47:10.075Z",
    "type": "completion"
   },
   {
    "id": "b8566735b9044afe89a64a3c67a506a8",
    "time": "2021-01-27T22:47:10.135Z",
    "type": "completion"
   },
   {
    "id": "fac6be9694c944f4a203a1ee0c6bd7a3",
    "time": "2021-01-27T22:47:10.169Z",
    "type": "completion"
   },
   {
    "id": "fa5c4d8b8af84d6a81aff781a18e3d34",
    "time": "2021-01-27T22:47:10.309Z",
    "type": "completion"
   },
   {
    "id": "66376c50b2f147adb5a531b0667b5da1",
    "time": "2021-01-27T22:47:11.884Z",
    "type": "completion"
   },
   {
    "id": "6e72b8daa463496e81d7e825df5304d9",
    "time": "2021-01-27T22:47:12.090Z",
    "type": "completion"
   },
   {
    "id": "b5b7107931ef4877b1574db10b9c6aaa",
    "time": "2021-01-27T22:47:37.228Z",
    "type": "completion"
   },
   {
    "id": "2ab99acbecbd44508427bc1180bf3caf",
    "time": "2021-01-27T22:47:39.741Z",
    "type": "completion"
   },
   {
    "id": "abd25ccde5e34513819c5acf0f1e2fdc",
    "time": "2021-01-27T22:47:40.663Z",
    "type": "completion"
   },
   {
    "id": "f9915e4baab741bfa7642ae1e88810de",
    "time": "2021-01-27T22:47:49.867Z",
    "type": "completion"
   },
   {
    "code": "import plotly.offline as py\nimport plotly.graph_objs as go\n\npy.init_notebook_mode(connected=True)\n\n\ndef population_pyramid(dataframe):\n    layout = go.Layout(barmode='overlay',\n                   yaxis=go.layout.YAxis(range=[0, 90], title='Age'),\n                   xaxis=go.layout.XAxis(title='Number'))\n\n    year = 2018\n\n    bins = [go.Bar(x = dataframe.loc[str(year),:].filter(regex=\"Male\").values,\n               y = [int(s[:2])+1 for s in age_ranges],\n               orientation='h',\n               name='Men',\n               marker=dict(color='purple'),\n               hoverinfo='skip'\n               ),\n\n    go.Bar(x = -dataframe.loc[str(year),:].filter(regex=\"Female\").values,\n               y=[int(s[:2])+1 for s in age_ranges],\n               orientation='h',\n               name='Women',\n               marker=dict(color='pink'),\n               hoverinfo='skip',\n               )\n        ]\n    py.iplot(dict(data=bins, layout=layout))\n    \npopulation_pyramid(df)",
    "id": "f9915e4baab741bfa7642ae1e88810de",
    "idx": 9,
    "time": "2021-01-27T22:48:04.328Z",
    "type": "execution"
   },
   {
    "id": "f9915e4baab741bfa7642ae1e88810de",
    "time": "2021-01-27T22:48:22.357Z",
    "type": "completion"
   },
   {
    "code": "def population_df(year, location):\n    age_ranges = []\n    for i in range(0,80,5):\n        age_ranges.append(f\"{i:02d}\"+f\"{i+4:02d}\")\n    age_ranges.append(\"80UP\")\n\n    male_variables = {\"SP.POP.\"+age_range+\".MA\":\"Males \"+age_range for age_range in age_ranges}\n    female_variables = {\"SP.POP.\"+age_range+\".FE\":\"Females \"+age_range for age_range in age_ranges}\n    variables = male_variables\n    variables.update(female_variables)\n        \n    data = wbdata.get_dataframe(variables,country=location)\n    data.reset_index(inplace=True)\n    data['date'] = data['date'].astype(int)\n    data.set_index(['date'],inplace=True)\n    df = data.query(\"date==\"+str(year))\n    date_str = \"date==\" + str(year)\n    df = df.query(date_str).sum(axis=0)\n    #final_df = pd.DataFrame(df, columns=[\"Population Age Range\", \"Population Count\"])\n    return df\n\npopulation_df(2018, \"WLD\")",
    "id": "6e72b8daa463496e81d7e825df5304d9",
    "idx": 5,
    "time": "2021-01-27T22:58:16.505Z",
    "type": "execution"
   },
   {
    "id": "6e72b8daa463496e81d7e825df5304d9",
    "time": "2021-01-27T22:58:17.014Z",
    "type": "completion"
   },
   {
    "code": "def population_df(year, location):\n    age_ranges = []\n    for i in range(0,80,5):\n        age_ranges.append(f\"{i:02d}\"+f\"{i+4:02d}\")\n    age_ranges.append(\"80UP\")\n\n    male_variables = {\"SP.POP.\"+age_range+\".MA\":\"Males \"+age_range for age_range in age_ranges}\n    female_variables = {\"SP.POP.\"+age_range+\".FE\":\"Females \"+age_range for age_range in age_ranges}\n    variables = male_variables\n    variables.update(female_variables)\n        \n    \"\"\"data = wbdata.get_dataframe(variables,country=location)\n    data.reset_index(inplace=True)\n    data['date'] = data['date'].astype(int)\n    data.set_index(['date'],inplace=True)\n    df = data.query(\"date==\"+str(year))\n    date_str = \"date==\" + str(year)\n    df = df.query(date_str).sum(axis=0)\"\"\"\n    df = wbdata.get_dataframe(variables,country=\"WLD\")\n    #final_df = pd.DataFrame(df, columns=[\"Population Age Range\", \"Population Count\"])\n    return df\n\npopulation_df(2018, \"WLD\")",
    "id": "6e72b8daa463496e81d7e825df5304d9",
    "idx": 5,
    "time": "2021-01-27T22:59:20.823Z",
    "type": "execution"
   },
   {
    "id": "6e72b8daa463496e81d7e825df5304d9",
    "time": "2021-01-27T22:59:21.766Z",
    "type": "completion"
   },
   {
    "code": "def population_df(year, location):\n    age_ranges = []\n    for i in range(0,80,5):\n        age_ranges.append(f\"{i:02d}\"+f\"{i+4:02d}\")\n    age_ranges.append(\"80UP\")\n\n    male_variables = {\"SP.POP.\"+age_range+\".MA\":\"Males \"+age_range for age_range in age_ranges}\n    female_variables = {\"SP.POP.\"+age_range+\".FE\":\"Females \"+age_range for age_range in age_ranges}\n    variables = male_variables\n    variables.update(female_variables)\n        \n    \"\"\"data = wbdata.get_dataframe(variables,country=location)\n    data.reset_index(inplace=True)\n    data['date'] = data['date'].astype(int)\n    data.set_index(['date'],inplace=True)\n    df = data.query(\"date==\"+str(year))\n    date_str = \"date==\" + str(year)\n    df = df.query(date_str).sum(axis=0)\"\"\"\n    df = wbdata.get_dataframe(variables,country=\"WLD\")\n    #final_df = pd.DataFrame(df, columns=[\"Population Age Range\", \"Population Count\"])\n    return df.loc.loc[[str(year)],:]\n\npopulation_df(2018, \"WLD\")",
    "id": "6e72b8daa463496e81d7e825df5304d9",
    "idx": 5,
    "time": "2021-01-27T23:04:08.065Z",
    "type": "execution"
   },
   {
    "id": "6e72b8daa463496e81d7e825df5304d9",
    "time": "2021-01-27T23:04:10.278Z",
    "type": "completion"
   },
   {
    "code": "def population_df(year, location):\n    age_ranges = []\n    for i in range(0,80,5):\n        age_ranges.append(f\"{i:02d}\"+f\"{i+4:02d}\")\n    age_ranges.append(\"80UP\")\n\n    male_variables = {\"SP.POP.\"+age_range+\".MA\":\"Males \"+age_range for age_range in age_ranges}\n    female_variables = {\"SP.POP.\"+age_range+\".FE\":\"Females \"+age_range for age_range in age_ranges}\n    variables = male_variables\n    variables.update(female_variables)\n        \n    \"\"\"data = wbdata.get_dataframe(variables,country=location)\n    data.reset_index(inplace=True)\n    data['date'] = data['date'].astype(int)\n    data.set_index(['date'],inplace=True)\n    df = data.query(\"date==\"+str(year))\n    date_str = \"date==\" + str(year)\n    df = df.query(date_str).sum(axis=0)\"\"\"\n    df = wbdata.get_dataframe(variables,country=\"WLD\")\n    #final_df = pd.DataFrame(df, columns=[\"Population Age Range\", \"Population Count\"])\n    return df.loc[[str(year)],:]\n\npopulation_df(2018, \"WLD\")",
    "id": "6e72b8daa463496e81d7e825df5304d9",
    "idx": 5,
    "time": "2021-01-27T23:04:16.320Z",
    "type": "execution"
   },
   {
    "id": "6e72b8daa463496e81d7e825df5304d9",
    "time": "2021-01-27T23:04:17.098Z",
    "type": "completion"
   },
   {
    "code": "tester = population_df(2018, \"WLD\")\ntester.index()",
    "id": "7b335c6adcb543208a6c0731bab562cb",
    "idx": 11,
    "time": "2021-01-27T23:06:17.779Z",
    "type": "execution"
   },
   {
    "id": "7b335c6adcb543208a6c0731bab562cb",
    "time": "2021-01-27T23:06:18.080Z",
    "type": "completion"
   },
   {
    "code": "tester = population_df(2018, \"WLD\")\ntester.index",
    "id": "7b335c6adcb543208a6c0731bab562cb",
    "idx": 11,
    "time": "2021-01-27T23:10:58.069Z",
    "type": "execution"
   },
   {
    "id": "7b335c6adcb543208a6c0731bab562cb",
    "time": "2021-01-27T23:10:58.327Z",
    "type": "completion"
   },
   {
    "code": "tester = population_df(2018, \"WLD\")\ntester.index[0]",
    "id": "7b335c6adcb543208a6c0731bab562cb",
    "idx": 11,
    "time": "2021-01-27T23:11:01.753Z",
    "type": "execution"
   },
   {
    "id": "7b335c6adcb543208a6c0731bab562cb",
    "time": "2021-01-27T23:11:02.118Z",
    "type": "completion"
   },
   {
    "code": "import plotly.offline as py\nimport plotly.graph_objs as go\n\npy.init_notebook_mode(connected=True)\n\n\ndef population_pyramid(dataframe):\n    layout = go.Layout(barmode='overlay',\n                   yaxis=go.layout.YAxis(range=[0, 90], title='Age'),\n                   xaxis=go.layout.XAxis(title='Number'))\n\n    year = tester.index[0]\n\n    bins = [go.Bar(x = dataframe.loc[str(year),:].filter(regex=\"Male\").values,\n               y = [int(s[:2])+1 for s in age_ranges],\n               orientation='h',\n               name='Men',\n               marker=dict(color='purple'),\n               hoverinfo='skip'\n               ),\n\n    go.Bar(x = -dataframe.loc[str(year),:].filter(regex=\"Female\").values,\n               y=[int(s[:2])+1 for s in age_ranges],\n               orientation='h',\n               name='Women',\n               marker=dict(color='pink'),\n               hoverinfo='skip',\n               )\n        ]\n    py.iplot(dict(data=bins, layout=layout))\n    \npopulation_pyramid(population_df(2018, \"WLD\"))",
    "id": "f9915e4baab741bfa7642ae1e88810de",
    "idx": 9,
    "time": "2021-01-27T23:11:34.085Z",
    "type": "execution"
   },
   {
    "id": "f9915e4baab741bfa7642ae1e88810de",
    "time": "2021-01-27T23:11:34.865Z",
    "type": "completion"
   },
   {
    "code": "!pip install wbdata\nimport wbdata\nimport numpy as np\nimport pandas as pd\nimport cufflinks as cf\ncf.go_offline()",
    "id": "7f591dca89b04e78813362cbd04a75c0",
    "idx": 0,
    "time": "2021-02-01T06:46:49.933Z",
    "type": "execution"
   },
   {
    "code": "wbdata.get_country() ",
    "id": "98cfd70baf204eb29947e3b00c0accd0",
    "idx": 1,
    "time": "2021-02-01T06:46:49.964Z",
    "type": "execution"
   },
   {
    "code": "wbdata.get_source()",
    "id": "1ef7aad49df24ccf810ac980d085d4f9",
    "idx": 2,
    "time": "2021-02-01T06:46:50.040Z",
    "type": "execution"
   },
   {
    "code": "def population(year, population, low, high, location):\n    age_ranges = []\n    if high > 80:\n        for i in range(low,80,5):\n            age_ranges.append(f\"{i:02d}\"+f\"{i+4:02d}\")\n        age_ranges.append(\"80UP\")\n    else:\n        for i in range(low,80,5):\n            age_ranges.append(f\"{i:02d}\"+f\"{i+4:02d}\")\n    \n    if population == \"Male\":\n        male_variables = {\"SP.POP.\"+age_range+\".MA\":\"Males \"+age_range for age_range in age_ranges}\n        variables = male_variables\n    elif population == \"Female\":\n        female_variables = {\"SP.POP.\"+age_range+\".FE\":\"Females \"+age_range for age_range in age_ranges}\n        variables = female_variables\n    else:\n        male_variables = {\"SP.POP.\"+age_range+\".MA\":\"Males \"+age_range for age_range in age_ranges}\n        female_variables = {\"SP.POP.\"+age_range+\".FE\":\"Females \"+age_range for age_range in age_ranges}\n        variables = male_variables\n        variables.update(female_variables)\n        \n    data = wbdata.get_dataframe(variables,country=location)\n    data.reset_index(inplace=True)\n    data['date'] = data['date'].astype(int)\n    data.set_index(['date'],inplace=True)\n    df = data.query(\"date==\"+str(year))\n    date_str = \"date==\" + str(year)\n    print(df.query(date_str).sum(axis=0))\n    \npopulation(2018, \"People\", 50, 85, \"WLD\")",
    "id": "922c0ed9a6f646f7bde47d954e560155",
    "idx": 3,
    "time": "2021-02-01T06:46:50.065Z",
    "type": "execution"
   },
   {
    "code": "import numpy as np\n# wbdata.search_indicators(\"GDP per capita\")\n\nindicators = {\"NY.GDP.PCAP.CD\":\"GDP per capita\",\n              \"SP.DYN.TFRT.IN\":\"Total Fertility Rate\",\n              \"SP.POP.GROW\":\"Population Growth Rate\",\n              \"SP.DYN.AMRT.MA\":\"Male Mortality\",\n              \"SP.DYN.AMRT.FE\":\"Female Mortality\",\n              \"SP.POP.1564.FE.ZS\":\"% Adult Female\",\n              \"SP.POP.TOTL.FE.ZS\":\"% Female\"}\n\ndata = wbdata.get_dataframe(indicators)\n\n# Make years ints instead of strings\ndata.reset_index(inplace=True)\ndata['date'] = data['date'].astype(int)\ndata.set_index(['country','date'],inplace=True)\n\ndf = data.query(\"date==2018\") # Latest year missing some data",
    "id": "1918f31b3438413ab08c7cd07a718860",
    "idx": 4,
    "time": "2021-02-01T06:46:50.072Z",
    "type": "execution"
   },
   {
    "code": "def population_df(year, location):\n    age_ranges = []\n    for i in range(0,80,5):\n        age_ranges.append(f\"{i:02d}\"+f\"{i+4:02d}\")\n    age_ranges.append(\"80UP\")\n\n    male_variables = {\"SP.POP.\"+age_range+\".MA\":\"Males \"+age_range for age_range in age_ranges}\n    female_variables = {\"SP.POP.\"+age_range+\".FE\":\"Females \"+age_range for age_range in age_ranges}\n    variables = male_variables\n    variables.update(female_variables)\n        \n    \"\"\"data = wbdata.get_dataframe(variables,country=location)\n    data.reset_index(inplace=True)\n    data['date'] = data['date'].astype(int)\n    data.set_index(['date'],inplace=True)\n    df = data.query(\"date==\"+str(year))\n    date_str = \"date==\" + str(year)\n    df = df.query(date_str).sum(axis=0)\"\"\"\n    df = wbdata.get_dataframe(variables,country=\"WLD\")\n    #final_df = pd.DataFrame(df, columns=[\"Population Age Range\", \"Population Count\"])\n    return df.loc[[str(year)],:]\n\npopulation_df(2018, \"WLD\")",
    "id": "627b1bef739a485b98a9e356748c905a",
    "idx": 5,
    "time": "2021-02-01T06:46:50.078Z",
    "type": "execution"
   },
   {
    "code": "wbdata.search_indicators(\"population\")",
    "id": "307c29e1794b470287f855ac2fb42239",
    "idx": 6,
    "time": "2021-02-01T06:46:50.110Z",
    "type": "execution"
   },
   {
    "code": "variable_labels = {\"SP.POP.TOTL\":\"Population\"}\n\nworld_popualtion_df = wbdata.get_dataframe(variable_labels).squeeze()\n\nworld_popualtion_df = world_popualtion_df.unstack('country')\n\nworld_popualtion_df\n# Date index is of type str",
    "id": "ab5e397dc6304441ac4d05dcf0ac11ea",
    "idx": 7,
    "time": "2021-02-01T06:46:50.133Z",
    "type": "execution"
   },
   {
    "code": "age_ranges = []\nfor i in range(0,80,5):\n    age_ranges.append(f\"{i:02d}\"+f\"{i+4:02d}\")\n\nage_ranges.append(\"80UP\")\n\nmale_variables = {\"SP.POP.\"+age_range+\".MA\":\"Males \"+age_range for age_range in age_ranges}\nfemale_variables = {\"SP.POP.\"+age_range+\".FE\":\"Females \"+age_range for age_range in age_ranges}\n\nvariables = male_variables\nvariables.update(female_variables)\n\ndf = wbdata.get_dataframe(variables,country=\"WLD\")\ndf",
    "id": "d64d98dba24f44aca011d748a3656bb8",
    "idx": 8,
    "time": "2021-02-01T06:46:50.143Z",
    "type": "execution"
   },
   {
    "code": "import plotly.offline as py\nimport plotly.graph_objs as go\n\npy.init_notebook_mode(connected=True)\n\n\ndef population_pyramid(dataframe):\n    layout = go.Layout(barmode='overlay',\n                   yaxis=go.layout.YAxis(range=[0, 90], title='Age'),\n                   xaxis=go.layout.XAxis(title='Number'))\n\n    year = tester.index[0]\n\n    bins = [go.Bar(x = dataframe.loc[str(year),:].filter(regex=\"Male\").values,\n               y = [int(s[:2])+1 for s in age_ranges],\n               orientation='h',\n               name='Men',\n               marker=dict(color='purple'),\n               hoverinfo='skip'\n               ),\n\n    go.Bar(x = -dataframe.loc[str(year),:].filter(regex=\"Female\").values,\n               y=[int(s[:2])+1 for s in age_ranges],\n               orientation='h',\n               name='Women',\n               marker=dict(color='pink'),\n               hoverinfo='skip',\n               )\n        ]\n    py.iplot(dict(data=bins, layout=layout))\n    \npopulation_pyramid(population_df(2018, \"WLD\"))",
    "id": "bed60c14373a4ed5843a0988d047b0ec",
    "idx": 9,
    "time": "2021-02-01T06:46:50.154Z",
    "type": "execution"
   },
   {
    "code": "\ndef animated_population_pyramid(dataframe):\n\n    # Count down by increments of 20 years\n    years = range(2018,1960,-1)\n\n    # This makes a list of graphs, year by year\n    bins = [go.Bar(x = df.loc[str(year),:].filter(regex=\"Male\").values,\n               y = [int(s[:2])+1 for s in age_ranges],\n               orientation='h',\n               name='Men {:d}'.format(year),\n               hoverinfo='skip'\n              )\n            for year in years]\n          \n    bins += [go.Bar(x = -df.loc[str(year),:].filter(regex=\"Female\").values,\n                y=[int(s[:2])+1 for s in age_ranges],\n                orientation='h',\n                name='Women {:d}'.format(year),\n                hoverinfo='skip',\n               )\n             for year in years]\n\n    return py.iplot(dict(data=bins, layout=layout))\n         \nanimated_population_pyramid(df)",
    "id": "07b380c9c8a4401a8a7802d3ff728b46",
    "idx": 10,
    "time": "2021-02-01T06:46:50.171Z",
    "type": "execution"
   },
   {
    "id": "7f591dca89b04e78813362cbd04a75c0",
    "time": "2021-02-01T06:46:56.137Z",
    "type": "completion"
   },
   {
    "id": "98cfd70baf204eb29947e3b00c0accd0",
    "time": "2021-02-01T06:46:56.154Z",
    "type": "completion"
   },
   {
    "id": "1ef7aad49df24ccf810ac980d085d4f9",
    "time": "2021-02-01T06:46:56.214Z",
    "type": "completion"
   },
   {
    "id": "922c0ed9a6f646f7bde47d954e560155",
    "time": "2021-02-01T06:46:56.318Z",
    "type": "completion"
   },
   {
    "id": "1918f31b3438413ab08c7cd07a718860",
    "time": "2021-02-01T06:46:58.156Z",
    "type": "completion"
   },
   {
    "id": "627b1bef739a485b98a9e356748c905a",
    "time": "2021-02-01T06:46:58.198Z",
    "type": "completion"
   },
   {
    "id": "307c29e1794b470287f855ac2fb42239",
    "time": "2021-02-01T06:46:59.346Z",
    "type": "completion"
   },
   {
    "id": "ab5e397dc6304441ac4d05dcf0ac11ea",
    "time": "2021-02-01T06:46:59.624Z",
    "type": "completion"
   },
   {
    "id": "d64d98dba24f44aca011d748a3656bb8",
    "time": "2021-02-01T06:46:59.635Z",
    "type": "completion"
   },
   {
    "id": "bed60c14373a4ed5843a0988d047b0ec",
    "time": "2021-02-01T06:46:59.726Z",
    "type": "completion"
   },
   {
    "id": "07b380c9c8a4401a8a7802d3ff728b46",
    "time": "2021-02-01T06:46:59.728Z",
    "type": "completion"
   },
   {
    "code": "!pip install wbdata\nimport wbdata\nimport numpy as np\nimport pandas as pd\nimport cufflinks as cf\ncf.go_offline()",
    "id": "f367a1cdf7b34699a3f6b3fb19e57a50",
    "idx": 0,
    "time": "2021-02-01T22:47:29.483Z",
    "type": "execution"
   },
   {
    "code": "wbdata.get_country() ",
    "id": "82b97e3275604c87af22569e215c33a1",
    "idx": 1,
    "time": "2021-02-01T22:47:31.215Z",
    "type": "execution"
   },
   {
    "code": "wbdata.get_source()",
    "id": "5d3a8a936214478a8ebec78d54e8fa66",
    "idx": 2,
    "time": "2021-02-01T22:47:32.267Z",
    "type": "execution"
   },
   {
    "id": "f367a1cdf7b34699a3f6b3fb19e57a50",
    "time": "2021-02-01T22:47:36.399Z",
    "type": "completion"
   },
   {
    "id": "82b97e3275604c87af22569e215c33a1",
    "time": "2021-02-01T22:47:36.533Z",
    "type": "completion"
   },
   {
    "id": "5d3a8a936214478a8ebec78d54e8fa66",
    "time": "2021-02-01T22:47:36.537Z",
    "type": "completion"
   },
   {
    "code": "def population(year, population, low, high, location):\n    age_ranges = []\n    if high > 80:\n        for i in range(low,80,5):\n            age_ranges.append(f\"{i:02d}\"+f\"{i+4:02d}\")\n        age_ranges.append(\"80UP\")\n    else:\n        for i in range(low,80,5):\n            age_ranges.append(f\"{i:02d}\"+f\"{i+4:02d}\")\n    \n    if population == \"Male\":\n        male_variables = {\"SP.POP.\"+age_range+\".MA\":\"Males \"+age_range for age_range in age_ranges}\n        variables = male_variables\n    elif population == \"Female\":\n        female_variables = {\"SP.POP.\"+age_range+\".FE\":\"Females \"+age_range for age_range in age_ranges}\n        variables = female_variables\n    else:\n        male_variables = {\"SP.POP.\"+age_range+\".MA\":\"Males \"+age_range for age_range in age_ranges}\n        female_variables = {\"SP.POP.\"+age_range+\".FE\":\"Females \"+age_range for age_range in age_ranges}\n        variables = male_variables\n        variables.update(female_variables)\n        \n    data = wbdata.get_dataframe(variables,country=location)\n    data.reset_index(inplace=True)\n    data['date'] = data['date'].astype(int)\n    data.set_index(['date'],inplace=True)\n    df = data.query(\"date==\"+str(year))\n    date_str = \"date==\" + str(year)\n    print(df.query(date_str).sum(axis=0))\n    \npopulation(2018, \"People\", 50, 85, \"WLD\")",
    "id": "a60e4d157b7a4b398371b8417523cfb5",
    "idx": 3,
    "time": "2021-02-01T22:51:02.021Z",
    "type": "execution"
   },
   {
    "id": "a60e4d157b7a4b398371b8417523cfb5",
    "time": "2021-02-01T22:51:06.098Z",
    "type": "completion"
   },
   {
    "code": "import numpy as np\n# wbdata.search_indicators(\"GDP per capita\")\n\nindicators = {\"NY.GDP.PCAP.CD\":\"GDP per capita\",\n              \"SP.DYN.TFRT.IN\":\"Total Fertility Rate\",\n              \"SP.POP.GROW\":\"Population Growth Rate\",\n              \"SP.DYN.AMRT.MA\":\"Male Mortality\",\n              \"SP.DYN.AMRT.FE\":\"Female Mortality\",\n              \"SP.POP.1564.FE.ZS\":\"% Adult Female\",\n              \"SP.POP.TOTL.FE.ZS\":\"% Female\"}\n\ndata = wbdata.get_dataframe(indicators)\n\n# Make years ints instead of strings\ndata.reset_index(inplace=True)\ndata['date'] = data['date'].astype(int)\ndata.set_index(['country','date'],inplace=True)\n\ndf = data.query(\"date==2018\") # Latest year missing some data",
    "id": "ebbb17393233492689d8673f6ef55fbb",
    "idx": 4,
    "time": "2021-02-01T22:51:12.239Z",
    "type": "execution"
   },
   {
    "id": "ebbb17393233492689d8673f6ef55fbb",
    "time": "2021-02-01T22:51:13.759Z",
    "type": "completion"
   },
   {
    "code": "def population_df(year, location):\n    age_ranges = []\n    for i in range(0,80,5):\n        age_ranges.append(f\"{i:02d}\"+f\"{i+4:02d}\")\n    age_ranges.append(\"80UP\")\n\n    male_variables = {\"SP.POP.\"+age_range+\".MA\":\"Males \"+age_range for age_range in age_ranges}\n    female_variables = {\"SP.POP.\"+age_range+\".FE\":\"Females \"+age_range for age_range in age_ranges}\n    variables = male_variables\n    variables.update(female_variables)\n        \n    \"\"\"data = wbdata.get_dataframe(variables,country=location)\n    data.reset_index(inplace=True)\n    data['date'] = data['date'].astype(int)\n    data.set_index(['date'],inplace=True)\n    df = data.query(\"date==\"+str(year))\n    date_str = \"date==\" + str(year)\n    df = df.query(date_str).sum(axis=0)\"\"\"\n    df = wbdata.get_dataframe(variables,country=\"WLD\")\n    #final_df = pd.DataFrame(df, columns=[\"Population Age Range\", \"Population Count\"])\n    return df.loc[[str(year)],:]\n\npopulation_df(2018, \"WLD\")",
    "id": "f1eaaff88591492ea3bffdb7142dee87",
    "idx": 5,
    "time": "2021-02-01T22:51:21.848Z",
    "type": "execution"
   },
   {
    "id": "f1eaaff88591492ea3bffdb7142dee87",
    "time": "2021-02-01T22:51:27.383Z",
    "type": "completion"
   },
   {
    "code": "import plotly.offline as py\nimport plotly.graph_objs as go\n\npy.init_notebook_mode(connected=True)\n\n\ndef population_pyramid(dataframe):\n    layout = go.Layout(barmode='overlay',\n                   yaxis=go.layout.YAxis(range=[0, 90], title='Age'),\n                   xaxis=go.layout.XAxis(title='Number'))\n\n    year = tester.index[0]\n\n    bins = [go.Bar(x = dataframe.loc[str(year),:].filter(regex=\"Male\").values,\n               y = [int(s[:2])+1 for s in age_ranges],\n               orientation='h',\n               name='Men',\n               marker=dict(color='purple'),\n               hoverinfo='skip'\n               ),\n\n    go.Bar(x = -dataframe.loc[str(year),:].filter(regex=\"Female\").values,\n               y=[int(s[:2])+1 for s in age_ranges],\n               orientation='h',\n               name='Women',\n               marker=dict(color='pink'),\n               hoverinfo='skip',\n               )\n        ]\n    py.iplot(dict(data=bins, layout=layout))\n    \npopulation_pyramid(population_df(2018, \"WLD\"))",
    "id": "50b8885152234dab8740a97c81d3e1e7",
    "idx": 9,
    "time": "2021-02-01T22:51:40.979Z",
    "type": "execution"
   },
   {
    "id": "50b8885152234dab8740a97c81d3e1e7",
    "time": "2021-02-01T22:51:41.422Z",
    "type": "completion"
   },
   {
    "code": "import plotly.offline as py\nimport plotly.graph_objs as go\n\npy.init_notebook_mode(connected=True)\n\n\ndef population_pyramid(dataframe):\n    layout = go.Layout(barmode='overlay',\n                   yaxis=go.layout.YAxis(range=[0, 90], title='Age'),\n                   xaxis=go.layout.XAxis(title='Number'))\n\n    year = dataframe.index[0]\n\n    bins = [go.Bar(x = dataframe.loc[str(year),:].filter(regex=\"Male\").values,\n               y = [int(s[:2])+1 for s in age_ranges],\n               orientation='h',\n               name='Men',\n               marker=dict(color='purple'),\n               hoverinfo='skip'\n               ),\n\n    go.Bar(x = -dataframe.loc[str(year),:].filter(regex=\"Female\").values,\n               y=[int(s[:2])+1 for s in age_ranges],\n               orientation='h',\n               name='Women',\n               marker=dict(color='pink'),\n               hoverinfo='skip',\n               )\n        ]\n    py.iplot(dict(data=bins, layout=layout))\n    \npopulation_pyramid(population_df(2018, \"WLD\"))",
    "id": "50b8885152234dab8740a97c81d3e1e7",
    "idx": 9,
    "time": "2021-02-01T22:52:18.333Z",
    "type": "execution"
   },
   {
    "id": "50b8885152234dab8740a97c81d3e1e7",
    "time": "2021-02-01T22:52:18.764Z",
    "type": "completion"
   },
   {
    "code": "age_ranges = []\nfor i in range(0,80,5):\n    age_ranges.append(f\"{i:02d}\"+f\"{i+4:02d}\")\n\nage_ranges.append(\"80UP\")\n\nmale_variables = {\"SP.POP.\"+age_range+\".MA\":\"Males \"+age_range for age_range in age_ranges}\nfemale_variables = {\"SP.POP.\"+age_range+\".FE\":\"Females \"+age_range for age_range in age_ranges}\n\nvariables = male_variables\nvariables.update(female_variables)\n\ndf = wbdata.get_dataframe(variables,country=\"WLD\")\ndf",
    "id": "3518b79a3988492d882e6125e23311ba",
    "idx": 8,
    "time": "2021-02-01T22:53:01.245Z",
    "type": "execution"
   },
   {
    "id": "3518b79a3988492d882e6125e23311ba",
    "time": "2021-02-01T22:53:01.501Z",
    "type": "completion"
   },
   {
    "code": "import plotly.offline as py\nimport plotly.graph_objs as go\n\npy.init_notebook_mode(connected=True)\n\n\ndef population_pyramid(dataframe):\n    layout = go.Layout(barmode='overlay',\n                   yaxis=go.layout.YAxis(range=[0, 90], title='Age'),\n                   xaxis=go.layout.XAxis(title='Number'))\n\n    year = dataframe.index[0]\n\n    bins = [go.Bar(x = dataframe.loc[str(year),:].filter(regex=\"Male\").values,\n               y = [int(s[:2])+1 for s in age_ranges],\n               orientation='h',\n               name='Men',\n               marker=dict(color='purple'),\n               hoverinfo='skip'\n               ),\n\n    go.Bar(x = -dataframe.loc[str(year),:].filter(regex=\"Female\").values,\n               y=[int(s[:2])+1 for s in age_ranges],\n               orientation='h',\n               name='Women',\n               marker=dict(color='pink'),\n               hoverinfo='skip',\n               )\n        ]\n    py.iplot(dict(data=bins, layout=layout))\n    \npopulation_pyramid(population_df(2018, \"WLD\"))",
    "id": "50b8885152234dab8740a97c81d3e1e7",
    "idx": 9,
    "time": "2021-02-01T22:53:02.221Z",
    "type": "execution"
   },
   {
    "id": "50b8885152234dab8740a97c81d3e1e7",
    "time": "2021-02-01T22:53:02.618Z",
    "type": "completion"
   },
   {
    "code": "import plotly.offline as py\nimport plotly.graph_objs as go\n\npy.init_notebook_mode(connected=True)\n\n\ndef population_pyramid(dataframe):\n    layout = go.Layout(barmode='overlay',\n                   yaxis=go.layout.YAxis(range=[0, 90], title='Age'),\n                   xaxis=go.layout.XAxis(title='Number'))\n\n    year = dataframe.index[0]\n\n    bins = [go.Bar(x = dataframe.loc[str(year),:].filter(regex=\"Male\").values,\n               y = [int(s[:2])+1 for s in age_ranges],\n               orientation='h',\n               name='Men',\n               marker=dict(color='purple'),\n               hoverinfo='skip'\n               ),\n\n    go.Bar(x = -dataframe.loc[str(year),:].filter(regex=\"Female\").values,\n               y=[int(s[:2])+1 for s in age_ranges],\n               orientation='h',\n               name='Women',\n               marker=dict(color='pink'),\n               hoverinfo='skip',\n               )\n        ]\n    py.iplot(dict(data=bins, layout=layout))\n    \npopulation_pyramid(population_df(2015, \"WLD\"))",
    "id": "50b8885152234dab8740a97c81d3e1e7",
    "idx": 9,
    "time": "2021-02-01T22:53:09.934Z",
    "type": "execution"
   },
   {
    "id": "50b8885152234dab8740a97c81d3e1e7",
    "time": "2021-02-01T22:53:10.274Z",
    "type": "completion"
   },
   {
    "code": "\ndef animated_population_pyramid(dataframe):\n\n    # Count down by increments of 20 years\n    years = range(2018,1960,-1)\n\n    # This makes a list of graphs, year by year\n    bins = [go.Bar(x = df.loc[str(year),:].filter(regex=\"Male\").values,\n               y = [int(s[:2])+1 for s in age_ranges],\n               orientation='h',\n               name='Men {:d}'.format(year),\n               hoverinfo='skip'\n              )\n            for year in years]\n          \n    bins += [go.Bar(x = -df.loc[str(year),:].filter(regex=\"Female\").values,\n                y=[int(s[:2])+1 for s in age_ranges],\n                orientation='h',\n                name='Women {:d}'.format(year),\n                hoverinfo='skip',\n               )\n             for year in years]\n\n    return py.iplot(dict(data=bins, layout=layout))\n         \nanimated_population_pyramid(df)",
    "id": "f9ff2d3edc904d06819904d63607e3b1",
    "idx": 10,
    "time": "2021-02-01T22:53:15.960Z",
    "type": "execution"
   },
   {
    "id": "f9ff2d3edc904d06819904d63607e3b1",
    "time": "2021-02-01T22:53:16.158Z",
    "type": "completion"
   },
   {
    "code": "\ndef animated_population_pyramid(dataframe):\n\n    # Count down by increments of 20 years\n    years = range(2018,1960,-1)\n    \n    layout = go.Layout(barmode='overlay',\n                   yaxis=go.layout.YAxis(range=[0, 90], title='Age'),\n                   xaxis=go.layout.XAxis(title='Number'))\n\n    # This makes a list of graphs, year by year\n    bins = [go.Bar(x = df.loc[str(year),:].filter(regex=\"Male\").values,\n               y = [int(s[:2])+1 for s in age_ranges],\n               orientation='h',\n               name='Men {:d}'.format(year),\n               hoverinfo='skip'\n              )\n            for year in years]\n          \n    bins += [go.Bar(x = -df.loc[str(year),:].filter(regex=\"Female\").values,\n                y=[int(s[:2])+1 for s in age_ranges],\n                orientation='h',\n                name='Women {:d}'.format(year),\n                hoverinfo='skip',\n               )\n             for year in years]\n\n    return py.iplot(dict(data=bins, layout=layout))\n         \nanimated_population_pyramid(df)",
    "id": "f9ff2d3edc904d06819904d63607e3b1",
    "idx": 10,
    "time": "2021-02-01T22:57:29.115Z",
    "type": "execution"
   },
   {
    "id": "f9ff2d3edc904d06819904d63607e3b1",
    "time": "2021-02-01T22:57:30.186Z",
    "type": "completion"
   },
   {
    "code": "\ndef animated_population_pyramid(dataframe):\n\n    # Count down by increments of 20 years\n    years = range(2018,1960,-20)\n    \n    layout = go.Layout(barmode='overlay',\n                   yaxis=go.layout.YAxis(range=[0, 90], title='Age'),\n                   xaxis=go.layout.XAxis(title='Number'))\n\n    # This makes a list of graphs, year by year\n    bins = [go.Bar(x = df.loc[str(year),:].filter(regex=\"Male\").values,\n               y = [int(s[:2])+1 for s in age_ranges],\n               orientation='h',\n               name='Men {:d}'.format(year),\n               hoverinfo='skip'\n              )\n            for year in years]\n          \n    bins += [go.Bar(x = -df.loc[str(year),:].filter(regex=\"Female\").values,\n                y=[int(s[:2])+1 for s in age_ranges],\n                orientation='h',\n                name='Women {:d}'.format(year),\n                hoverinfo='skip',\n               )\n             for year in years]\n\n    return py.iplot(dict(data=bins, layout=layout))\n         \nanimated_population_pyramid(df)",
    "id": "f9ff2d3edc904d06819904d63607e3b1",
    "idx": 10,
    "time": "2021-02-01T22:57:50.257Z",
    "type": "execution"
   },
   {
    "id": "f9ff2d3edc904d06819904d63607e3b1",
    "time": "2021-02-01T22:57:50.403Z",
    "type": "completion"
   },
   {
    "code": "\ndef animated_population_pyramid(dataframe):\n\n    # Count down by increments of 20 years\n    years = range(2018,1960,-10)\n    \n    layout = go.Layout(barmode='overlay',\n                   yaxis=go.layout.YAxis(range=[0, 90], title='Age'),\n                   xaxis=go.layout.XAxis(title='Number'))\n\n    # This makes a list of graphs, year by year\n    bins = [go.Bar(x = df.loc[str(year),:].filter(regex=\"Male\").values,\n               y = [int(s[:2])+1 for s in age_ranges],\n               orientation='h',\n               name='Men {:d}'.format(year),\n               hoverinfo='skip'\n              )\n            for year in years]\n          \n    bins += [go.Bar(x = -df.loc[str(year),:].filter(regex=\"Female\").values,\n                y=[int(s[:2])+1 for s in age_ranges],\n                orientation='h',\n                name='Women {:d}'.format(year),\n                hoverinfo='skip',\n               )\n             for year in years]\n\n    return py.iplot(dict(data=bins, layout=layout))\n         \nanimated_population_pyramid(df)",
    "id": "f9ff2d3edc904d06819904d63607e3b1",
    "idx": 10,
    "time": "2021-02-01T23:09:35.234Z",
    "type": "execution"
   },
   {
    "id": "f9ff2d3edc904d06819904d63607e3b1",
    "time": "2021-02-01T23:09:35.525Z",
    "type": "completion"
   },
   {
    "code": "!pip install wbdata\nimport wbdata\nimport numpy as np\nimport pandas as pd\nimport cufflinks as cf\ncf.go_offline()",
    "id": "3048e1326e2246b887271ebb1c0311ff",
    "idx": 0,
    "time": "2021-02-03T22:18:30.112Z",
    "type": "execution"
   },
   {
    "code": "wbdata.get_country() ",
    "id": "59eda671967e46489ecfa57f9f498289",
    "idx": 1,
    "time": "2021-02-03T22:18:30.116Z",
    "type": "execution"
   },
   {
    "code": "wbdata.get_source()",
    "id": "b2fb7a3c6b1e452c9343b48e398ce37e",
    "idx": 2,
    "time": "2021-02-03T22:18:30.120Z",
    "type": "execution"
   },
   {
    "code": "def population(year, population, low, high, location):\n    age_ranges = []\n    if high > 80:\n        for i in range(low,80,5):\n            age_ranges.append(f\"{i:02d}\"+f\"{i+4:02d}\")\n        age_ranges.append(\"80UP\")\n    else:\n        for i in range(low,80,5):\n            age_ranges.append(f\"{i:02d}\"+f\"{i+4:02d}\")\n    \n    if population == \"Male\":\n        male_variables = {\"SP.POP.\"+age_range+\".MA\":\"Males \"+age_range for age_range in age_ranges}\n        variables = male_variables\n    elif population == \"Female\":\n        female_variables = {\"SP.POP.\"+age_range+\".FE\":\"Females \"+age_range for age_range in age_ranges}\n        variables = female_variables\n    else:\n        male_variables = {\"SP.POP.\"+age_range+\".MA\":\"Males \"+age_range for age_range in age_ranges}\n        female_variables = {\"SP.POP.\"+age_range+\".FE\":\"Females \"+age_range for age_range in age_ranges}\n        variables = male_variables\n        variables.update(female_variables)\n        \n    data = wbdata.get_dataframe(variables,country=location)\n    data.reset_index(inplace=True)\n    data['date'] = data['date'].astype(int)\n    data.set_index(['date'],inplace=True)\n    df = data.query(\"date==\"+str(year))\n    date_str = \"date==\" + str(year)\n    print(df.query(date_str).sum(axis=0))\n    \npopulation(2018, \"People\", 50, 85, \"WLD\")",
    "id": "f97244535a92495f884bb592d51328dc",
    "idx": 3,
    "time": "2021-02-03T22:18:30.122Z",
    "type": "execution"
   },
   {
    "code": "import numpy as np\n# wbdata.search_indicators(\"GDP per capita\")\n\nindicators = {\"NY.GDP.PCAP.CD\":\"GDP per capita\",\n              \"SP.DYN.TFRT.IN\":\"Total Fertility Rate\",\n              \"SP.POP.GROW\":\"Population Growth Rate\",\n              \"SP.DYN.AMRT.MA\":\"Male Mortality\",\n              \"SP.DYN.AMRT.FE\":\"Female Mortality\",\n              \"SP.POP.1564.FE.ZS\":\"% Adult Female\",\n              \"SP.POP.TOTL.FE.ZS\":\"% Female\"}\n\ndata = wbdata.get_dataframe(indicators)\n\n# Make years ints instead of strings\ndata.reset_index(inplace=True)\ndata['date'] = data['date'].astype(int)\ndata.set_index(['country','date'],inplace=True)\n\ndf = data.query(\"date==2018\") # Latest year missing some data",
    "id": "e18f4a6bbe3c449e8eb53dfb767f0c2f",
    "idx": 4,
    "time": "2021-02-03T22:18:30.124Z",
    "type": "execution"
   },
   {
    "code": "def population_df(year, location):\n    age_ranges = []\n    for i in range(0,80,5):\n        age_ranges.append(f\"{i:02d}\"+f\"{i+4:02d}\")\n    age_ranges.append(\"80UP\")\n\n    male_variables = {\"SP.POP.\"+age_range+\".MA\":\"Males \"+age_range for age_range in age_ranges}\n    female_variables = {\"SP.POP.\"+age_range+\".FE\":\"Females \"+age_range for age_range in age_ranges}\n    variables = male_variables\n    variables.update(female_variables)\n        \n    df = wbdata.get_dataframe(variables,country=\"WLD\")\n    #final_df = pd.DataFrame(df, columns=[\"Population Age Range\", \"Population Count\"])\n    return df.loc[[str(year)],:]\n\npopulation_df(2018, \"WLD\")",
    "id": "347440ff601d4cf39a8182ebb0f35970",
    "idx": 5,
    "time": "2021-02-03T22:18:30.138Z",
    "type": "execution"
   },
   {
    "code": "wbdata.search_indicators(\"population\")",
    "id": "678fdb49734046349e6467f34b88942b",
    "idx": 6,
    "time": "2021-02-03T22:18:30.141Z",
    "type": "execution"
   },
   {
    "code": "variable_labels = {\"SP.POP.TOTL\":\"Population\"}\n\nworld_popualtion_df = wbdata.get_dataframe(variable_labels).squeeze()\n\nworld_popualtion_df = world_popualtion_df.unstack('country')\n\nworld_popualtion_df\n# Date index is of type str",
    "id": "3c996b47750b49418b24f603be0eaab5",
    "idx": 7,
    "time": "2021-02-03T22:18:30.144Z",
    "type": "execution"
   },
   {
    "code": "age_ranges = []\nfor i in range(0,80,5):\n    age_ranges.append(f\"{i:02d}\"+f\"{i+4:02d}\")\n\nage_ranges.append(\"80UP\")\n\nmale_variables = {\"SP.POP.\"+age_range+\".MA\":\"Males \"+age_range for age_range in age_ranges}\nfemale_variables = {\"SP.POP.\"+age_range+\".FE\":\"Females \"+age_range for age_range in age_ranges}\n\nvariables = male_variables\nvariables.update(female_variables)\n\ndf = wbdata.get_dataframe(variables,country=\"WLD\")\ndf",
    "id": "78c28dc0330044f1a79f983817d5a511",
    "idx": 8,
    "time": "2021-02-03T22:18:30.156Z",
    "type": "execution"
   },
   {
    "code": "import plotly.offline as py\nimport plotly.graph_objs as go\n\npy.init_notebook_mode(connected=True)\n\n\ndef population_pyramid(dataframe):\n    layout = go.Layout(barmode='overlay',\n                   yaxis=go.layout.YAxis(range=[0, 90], title='Age'),\n                   xaxis=go.layout.XAxis(title='Number'))\n\n    year = dataframe.index[0]\n\n    bins = [go.Bar(x = dataframe.loc[str(year),:].filter(regex=\"Male\").values,\n               y = [int(s[:2])+1 for s in age_ranges],\n               orientation='h',\n               name='Men',\n               marker=dict(color='purple'),\n               hoverinfo='skip'\n               ),\n\n    go.Bar(x = -dataframe.loc[str(year),:].filter(regex=\"Female\").values,\n               y=[int(s[:2])+1 for s in age_ranges],\n               orientation='h',\n               name='Women',\n               marker=dict(color='pink'),\n               hoverinfo='skip',\n               )\n        ]\n    py.iplot(dict(data=bins, layout=layout))\n    \npopulation_pyramid(population_df(2015, \"WLD\"))",
    "id": "32bfdd0260574b2286eb373761e27449",
    "idx": 9,
    "time": "2021-02-03T22:18:30.162Z",
    "type": "execution"
   },
   {
    "code": "\ndef animated_population_pyramid(dataframe):\n\n    # Count down by increments of 20 years\n    years = range(2018,1960,-10)\n    \n    layout = go.Layout(barmode='overlay',\n                   yaxis=go.layout.YAxis(range=[0, 90], title='Age'),\n                   xaxis=go.layout.XAxis(title='Number'))\n\n    # This makes a list of graphs, year by year\n    bins = [go.Bar(x = df.loc[str(year),:].filter(regex=\"Male\").values,\n               y = [int(s[:2])+1 for s in age_ranges],\n               orientation='h',\n               name='Men {:d}'.format(year),\n               hoverinfo='skip'\n              )\n            for year in years]\n          \n    bins += [go.Bar(x = -df.loc[str(year),:].filter(regex=\"Female\").values,\n                y=[int(s[:2])+1 for s in age_ranges],\n                orientation='h',\n                name='Women {:d}'.format(year),\n                hoverinfo='skip',\n               )\n             for year in years]\n\n    return py.iplot(dict(data=bins, layout=layout))\n         \nanimated_population_pyramid(df)",
    "id": "2d34082ae3d24e41b5f75f2e84ec3b99",
    "idx": 10,
    "time": "2021-02-03T22:18:30.165Z",
    "type": "execution"
   },
   {
    "id": "3048e1326e2246b887271ebb1c0311ff",
    "time": "2021-02-03T22:18:38.258Z",
    "type": "completion"
   },
   {
    "id": "59eda671967e46489ecfa57f9f498289",
    "time": "2021-02-03T22:18:38.284Z",
    "type": "completion"
   },
   {
    "id": "b2fb7a3c6b1e452c9343b48e398ce37e",
    "time": "2021-02-03T22:18:38.290Z",
    "type": "completion"
   },
   {
    "id": "f97244535a92495f884bb592d51328dc",
    "time": "2021-02-03T22:18:38.374Z",
    "type": "completion"
   },
   {
    "code": "def population(year, population, low, high, location):\n    age_ranges = []\n    if high > 80:\n        for i in range(low,80,5):\n            age_ranges.append(f\"{i:02d}\"+f\"{i+4:02d}\")\n        age_ranges.append(\"80UP\")\n    else:\n        for i in range(low,80,5):\n            age_ranges.append(f\"{i:02d}\"+f\"{i+4:02d}\")\n    \n    if population == \"Male\" || population == \"Males\":\n        male_variables = {\"SP.POP.\"+age_range+\".MA\":\"Males \"+age_range for age_range in age_ranges}\n        variables = male_variables\n    elif population == \"Female\" || population == \"Females\":\n        female_variables = {\"SP.POP.\"+age_range+\".FE\":\"Females \"+age_range for age_range in age_ranges}\n        variables = female_variables\n    else:\n        male_variables = {\"SP.POP.\"+age_range+\".MA\":\"Males \"+age_range for age_range in age_ranges}\n        female_variables = {\"SP.POP.\"+age_range+\".FE\":\"Females \"+age_range for age_range in age_ranges}\n        variables = male_variables\n        variables.update(female_variables)\n        \n    data = wbdata.get_dataframe(variables,country=location)\n    data.reset_index(inplace=True)\n    data['date'] = data['date'].astype(int)\n    data.set_index(['date'],inplace=True)\n    df = data.query(\"date==\"+str(year))\n    date_str = \"date==\" + str(year)\n    print(df.query(date_str).sum(axis=0))\n    \npopulation(1966, \"Males\", 18, 26, \"USA\")",
    "id": "f97244535a92495f884bb592d51328dc",
    "idx": 3,
    "time": "2021-02-03T22:19:19.712Z",
    "type": "execution"
   },
   {
    "id": "e18f4a6bbe3c449e8eb53dfb767f0c2f",
    "time": "2021-02-03T22:19:44.336Z",
    "type": "completion"
   },
   {
    "id": "347440ff601d4cf39a8182ebb0f35970",
    "time": "2021-02-03T22:19:44.346Z",
    "type": "completion"
   },
   {
    "id": "678fdb49734046349e6467f34b88942b",
    "time": "2021-02-03T22:19:44.353Z",
    "type": "completion"
   },
   {
    "id": "3c996b47750b49418b24f603be0eaab5",
    "time": "2021-02-03T22:19:44.363Z",
    "type": "completion"
   },
   {
    "id": "78c28dc0330044f1a79f983817d5a511",
    "time": "2021-02-03T22:19:44.365Z",
    "type": "completion"
   },
   {
    "id": "32bfdd0260574b2286eb373761e27449",
    "time": "2021-02-03T22:19:44.367Z",
    "type": "completion"
   },
   {
    "id": "2d34082ae3d24e41b5f75f2e84ec3b99",
    "time": "2021-02-03T22:19:44.367Z",
    "type": "completion"
   },
   {
    "id": "f97244535a92495f884bb592d51328dc",
    "time": "2021-02-03T22:19:44.375Z",
    "type": "completion"
   },
   {
    "code": "!pip install wbdata\nimport wbdata\nimport numpy as np\nimport pandas as pd\nimport cufflinks as cf\ncf.go_offline()",
    "id": "3048e1326e2246b887271ebb1c0311ff",
    "idx": 0,
    "time": "2021-02-03T22:19:46.962Z",
    "type": "execution"
   },
   {
    "code": "wbdata.get_country() ",
    "id": "59eda671967e46489ecfa57f9f498289",
    "idx": 1,
    "time": "2021-02-03T22:19:48.193Z",
    "type": "execution"
   },
   {
    "code": "wbdata.get_source()",
    "id": "b2fb7a3c6b1e452c9343b48e398ce37e",
    "idx": 2,
    "time": "2021-02-03T22:19:48.661Z",
    "type": "execution"
   },
   {
    "id": "3048e1326e2246b887271ebb1c0311ff",
    "time": "2021-02-03T22:19:50.565Z",
    "type": "completion"
   },
   {
    "id": "59eda671967e46489ecfa57f9f498289",
    "time": "2021-02-03T22:19:50.589Z",
    "type": "completion"
   },
   {
    "id": "b2fb7a3c6b1e452c9343b48e398ce37e",
    "time": "2021-02-03T22:19:50.596Z",
    "type": "completion"
   },
   {
    "code": "def population(year, population, low, high, location):\n    age_ranges = []\n    if high > 80:\n        for i in range(low,80,5):\n            age_ranges.append(f\"{i:02d}\"+f\"{i+4:02d}\")\n        age_ranges.append(\"80UP\")\n    else:\n        for i in range(low,80,5):\n            age_ranges.append(f\"{i:02d}\"+f\"{i+4:02d}\")\n    \n    if population == \"Male\" || population == \"Males\":\n        male_variables = {\"SP.POP.\"+age_range+\".MA\":\"Males \"+age_range for age_range in age_ranges}\n        variables = male_variables\n    elif population == \"Female\" || population == \"Females\":\n        female_variables = {\"SP.POP.\"+age_range+\".FE\":\"Females \"+age_range for age_range in age_ranges}\n        variables = female_variables\n    else:\n        male_variables = {\"SP.POP.\"+age_range+\".MA\":\"Males \"+age_range for age_range in age_ranges}\n        female_variables = {\"SP.POP.\"+age_range+\".FE\":\"Females \"+age_range for age_range in age_ranges}\n        variables = male_variables\n        variables.update(female_variables)\n        \n    data = wbdata.get_dataframe(variables,country=location)\n    data.reset_index(inplace=True)\n    data['date'] = data['date'].astype(int)\n    data.set_index(['date'],inplace=True)\n    df = data.query(\"date==\"+str(year))\n    date_str = \"date==\" + str(year)\n    print(df.query(date_str).sum(axis=0))\n    \npopulation(1966, \"Males\", 18, 26, \"USA\")",
    "id": "f97244535a92495f884bb592d51328dc",
    "idx": 3,
    "time": "2021-02-03T22:19:52.756Z",
    "type": "execution"
   },
   {
    "id": "f97244535a92495f884bb592d51328dc",
    "time": "2021-02-03T22:19:52.816Z",
    "type": "completion"
   },
   {
    "code": "def population(year, population, low, high, location):\n    age_ranges = []\n    if high > 80:\n        for i in range(low,80,5):\n            age_ranges.append(f\"{i:02d}\"+f\"{i+4:02d}\")\n        age_ranges.append(\"80UP\")\n    else:\n        for i in range(low,80,5):\n            age_ranges.append(f\"{i:02d}\"+f\"{i+4:02d}\")\n    \n    if population == \"Male\" or population == \"Males\":\n        male_variables = {\"SP.POP.\"+age_range+\".MA\":\"Males \"+age_range for age_range in age_ranges}\n        variables = male_variables\n    elif population == \"Female\" or population == \"Females\":\n        female_variables = {\"SP.POP.\"+age_range+\".FE\":\"Females \"+age_range for age_range in age_ranges}\n        variables = female_variables\n    else:\n        male_variables = {\"SP.POP.\"+age_range+\".MA\":\"Males \"+age_range for age_range in age_ranges}\n        female_variables = {\"SP.POP.\"+age_range+\".FE\":\"Females \"+age_range for age_range in age_ranges}\n        variables = male_variables\n        variables.update(female_variables)\n        \n    data = wbdata.get_dataframe(variables,country=location)\n    data.reset_index(inplace=True)\n    data['date'] = data['date'].astype(int)\n    data.set_index(['date'],inplace=True)\n    df = data.query(\"date==\"+str(year))\n    date_str = \"date==\" + str(year)\n    print(df.query(date_str).sum(axis=0))\n    \npopulation(1966, \"Males\", 18, 26, \"USA\")",
    "id": "f97244535a92495f884bb592d51328dc",
    "idx": 3,
    "time": "2021-02-03T22:20:06.399Z",
    "type": "execution"
   },
   {
    "id": "f97244535a92495f884bb592d51328dc",
    "time": "2021-02-03T22:20:06.779Z",
    "type": "completion"
   },
   {
    "code": "def population(year, population, low, high, location):\n    age_ranges = []\n    if high > 80:\n        for i in range(low,80,5):\n            age_ranges.append(f\"{i:02d}\"+f\"{i+4:02d}\")\n        age_ranges.append(\"80UP\")\n    else:\n        for i in range(low,80,5):\n            age_ranges.append(f\"{i:02d}\"+f\"{i+4:02d}\")\n    \n    if population == \"Male\" or population == \"Males\":\n        male_variables = {\"SP.POP.\"+age_range+\".MA\":\"Males \"+age_range for age_range in age_ranges}\n        variables = male_variables\n    elif population == \"Female\" or population == \"Females\":\n        female_variables = {\"SP.POP.\"+age_range+\".FE\":\"Females \"+age_range for age_range in age_ranges}\n        variables = female_variables\n    else:\n        male_variables = {\"SP.POP.\"+age_range+\".MA\":\"Males \"+age_range for age_range in age_ranges}\n        female_variables = {\"SP.POP.\"+age_range+\".FE\":\"Females \"+age_range for age_range in age_ranges}\n        variables = male_variables\n        variables.update(female_variables)\n        \n    data = wbdata.get_dataframe(variables,country=location)\n    data.reset_index(inplace=True)\n    data['date'] = data['date'].astype(int)\n    data.set_index(['date'],inplace=True)\n    df = data.query(\"date==\"+str(year))\n    date_str = \"date==\" + str(year)\n    print(df.query(date_str).sum(axis=0))\n    \npopulation(1966, \"Males\", 18, 26, \"WLD\")",
    "id": "f97244535a92495f884bb592d51328dc",
    "idx": 3,
    "time": "2021-02-03T22:20:46.359Z",
    "type": "execution"
   },
   {
    "id": "f97244535a92495f884bb592d51328dc",
    "time": "2021-02-03T22:20:46.820Z",
    "type": "completion"
   },
   {
    "code": "def population(year, population, low, high, location):\n    age_ranges = []\n    if high > 80:\n        for i in range(low,80,5):\n            age_ranges.append(f\"{i:02d}\"+f\"{i+4:02d}\")\n        age_ranges.append(\"80UP\")\n    else:\n        for i in range(low,high,5):\n            age_ranges.append(f\"{i:02d}\"+f\"{i+4:02d}\")\n    \n    if population == \"Male\" or population == \"Males\":\n        male_variables = {\"SP.POP.\"+age_range+\".MA\":\"Males \"+age_range for age_range in age_ranges}\n        variables = male_variables\n    elif population == \"Female\" or population == \"Females\":\n        female_variables = {\"SP.POP.\"+age_range+\".FE\":\"Females \"+age_range for age_range in age_ranges}\n        variables = female_variables\n    else:\n        male_variables = {\"SP.POP.\"+age_range+\".MA\":\"Males \"+age_range for age_range in age_ranges}\n        female_variables = {\"SP.POP.\"+age_range+\".FE\":\"Females \"+age_range for age_range in age_ranges}\n        variables = male_variables\n        variables.update(female_variables)\n        \n    data = wbdata.get_dataframe(variables,country=location)\n    data.reset_index(inplace=True)\n    data['date'] = data['date'].astype(int)\n    data.set_index(['date'],inplace=True)\n    df = data.query(\"date==\"+str(year))\n    date_str = \"date==\" + str(year)\n    print(df.query(date_str).sum(axis=0))\n    \npopulation(1966, \"Males\", 18, 26, \"WLD\")",
    "id": "f97244535a92495f884bb592d51328dc",
    "idx": 3,
    "time": "2021-02-03T22:21:25.429Z",
    "type": "execution"
   },
   {
    "id": "f97244535a92495f884bb592d51328dc",
    "time": "2021-02-03T22:21:25.567Z",
    "type": "completion"
   },
   {
    "code": "def population(year, population, low, high, location):\n    age_ranges = []\n    if high > 80:\n        for i in range(low,80,5):\n            age_ranges.append(f\"{i:02d}\"+f\"{i+4:02d}\")\n        age_ranges.append(\"80UP\")\n    else:\n        for i in range(low,high,5):\n            age_ranges.append(f\"{i:02d}\"+f\"{i+4:02d}\")\n    \n    if population == \"Male\" or population == \"Males\":\n        male_variables = {\"SP.POP.\"+age_range+\".MA\":\"Males \"+age_range for age_range in age_ranges}\n        variables = male_variables\n    elif population == \"Female\" or population == \"Females\":\n        female_variables = {\"SP.POP.\"+age_range+\".FE\":\"Females \"+age_range for age_range in age_ranges}\n        variables = female_variables\n    else:\n        male_variables = {\"SP.POP.\"+age_range+\".MA\":\"Males \"+age_range for age_range in age_ranges}\n        female_variables = {\"SP.POP.\"+age_range+\".FE\":\"Females \"+age_range for age_range in age_ranges}\n        variables = male_variables\n        variables.update(female_variables)\n        \n    data = wbdata.get_dataframe(variables,country=location)\n    data.reset_index(inplace=True)\n    data['date'] = data['date'].astype(int)\n    data.set_index(['date'],inplace=True)\n    df = data.query(\"date==\"+str(year))\n    date_str = \"date==\" + str(year)\n    print(df.query(date_str).sum(axis=0))\n    \npopulation(1966, \"People\", 18, 26, \"WLD\")",
    "id": "f97244535a92495f884bb592d51328dc",
    "idx": 3,
    "time": "2021-02-03T22:22:12.743Z",
    "type": "execution"
   },
   {
    "id": "f97244535a92495f884bb592d51328dc",
    "time": "2021-02-03T22:22:12.889Z",
    "type": "completion"
   },
   {
    "code": "def population(year, population, low, high, location):\n    age_ranges = []\n    if high > 80:\n        for i in range(low,80,5):\n            age_ranges.append(f\"{i:02d}\"+f\"{i+4:02d}\")\n        age_ranges.append(\"80UP\")\n    else:\n        for i in range(low,high,5):\n            age_ranges.append(f\"{i:02d}\"+f\"{i+4:02d}\")\n    \n    if population == \"Male\" or population == \"Males\":\n        male_variables = {\"SP.POP.\"+age_range+\".MA\":\"Males \"+age_range for age_range in age_ranges}\n        variables = male_variables\n    elif population == \"Female\" or population == \"Females\":\n        female_variables = {\"SP.POP.\"+age_range+\".FE\":\"Females \"+age_range for age_range in age_ranges}\n        variables = female_variables\n    else:\n        male_variables = {\"SP.POP.\"+age_range+\".MA\":\"Males \"+age_range for age_range in age_ranges}\n        female_variables = {\"SP.POP.\"+age_range+\".FE\":\"Females \"+age_range for age_range in age_ranges}\n        variables = male_variables\n        variables.update(female_variables)\n        \n    data = wbdata.get_dataframe(variables,country=location)\n    data.reset_index(inplace=True)\n    data['date'] = data['date'].astype(int)\n    data.set_index(['date'],inplace=True)\n    df = data.query(\"date==\"+str(year))\n    date_str = \"date==\" + str(year)\n    print(df.query(date_str).sum(axis=0))\n    \npopulation(2018, \"People\", 18, 26, \"WLD\")",
    "id": "f97244535a92495f884bb592d51328dc",
    "idx": 3,
    "time": "2021-02-03T22:22:24.363Z",
    "type": "execution"
   },
   {
    "id": "f97244535a92495f884bb592d51328dc",
    "time": "2021-02-03T22:22:24.501Z",
    "type": "completion"
   },
   {
    "code": "def population(year, population, low, high, location):\n    age_ranges = []\n    if high > 80:\n        for i in range(low,80,5):\n            age_ranges.append(f\"{i:02d}\"+f\"{i+4:02d}\")\n        age_ranges.append(\"80UP\")\n    else:\n        for i in range(low,high,5):\n            age_ranges.append(f\"{i:02d}\"+f\"{i+4:02d}\")\n    \n    if population == \"Male\" or population == \"Males\":\n        male_variables = {\"SP.POP.\"+age_range+\".MA\":\"Males \"+age_range for age_range in age_ranges}\n        variables = male_variables\n    elif population == \"Female\" or population == \"Females\":\n        female_variables = {\"SP.POP.\"+age_range+\".FE\":\"Females \"+age_range for age_range in age_ranges}\n        variables = female_variables\n    else:\n        male_variables = {\"SP.POP.\"+age_range+\".MA\":\"Males \"+age_range for age_range in age_ranges}\n        female_variables = {\"SP.POP.\"+age_range+\".FE\":\"Females \"+age_range for age_range in age_ranges}\n        variables = male_variables\n        variables.update(female_variables)\n        \n    data = wbdata.get_dataframe(variables,country=location)\n    data.reset_index(inplace=True)\n    data['date'] = data['date'].astype(int)\n    data.set_index(['date'],inplace=True)\n    df = data.query(\"date==\"+str(year))\n    date_str = \"date==\" + str(year)\n    print(df.query(date_str).sum(axis=0))\n    \npopulation(2018, \"People\", 15, 30, \"WLD\")",
    "id": "f97244535a92495f884bb592d51328dc",
    "idx": 3,
    "time": "2021-02-03T22:22:57.084Z",
    "type": "execution"
   },
   {
    "id": "f97244535a92495f884bb592d51328dc",
    "time": "2021-02-03T22:22:57.203Z",
    "type": "completion"
   },
   {
    "code": "def population(year, population, low, high, location):\n    age_ranges = []\n    if high > 80:\n        for i in range(low,80,5):\n            age_ranges.append(f\"{i:02d}\"+f\"{i+4:02d}\")\n        age_ranges.append(\"80UP\")\n    else:\n        for i in range(low,high,5):\n            age_ranges.append(f\"{i:02d}\"+f\"{i+4:02d}\")\n    \n    if population == \"Male\" or population == \"Males\":\n        male_variables = {\"SP.POP.\"+age_range+\".MA\":\"Males \"+age_range for age_range in age_ranges}\n        variables = male_variables\n    elif population == \"Female\" or population == \"Females\":\n        female_variables = {\"SP.POP.\"+age_range+\".FE\":\"Females \"+age_range for age_range in age_ranges}\n        variables = female_variables\n    else:\n        male_variables = {\"SP.POP.\"+age_range+\".MA\":\"Males \"+age_range for age_range in age_ranges}\n        female_variables = {\"SP.POP.\"+age_range+\".FE\":\"Females \"+age_range for age_range in age_ranges}\n        variables = male_variables\n        variables.update(female_variables)\n        \n    data = wbdata.get_dataframe(variables,country=location)\n    data.reset_index(inplace=True)\n    data['date'] = data['date'].astype(int)\n    data.set_index(['date'],inplace=True)\n    df = data.query(\"date==\"+str(year))\n    date_str = \"date==\" + str(year)\n    print(df.query(date_str).sum(axis=0))\n    \npopulation(1966, \"Males\", 15, 30, \"USA\")",
    "id": "f97244535a92495f884bb592d51328dc",
    "idx": 3,
    "time": "2021-02-03T22:23:36.938Z",
    "type": "execution"
   },
   {
    "id": "f97244535a92495f884bb592d51328dc",
    "time": "2021-02-03T22:23:37.875Z",
    "type": "completion"
   },
   {
    "code": "def population(year, population, low, high, location):\n    age_ranges = []\n    if high > 80:\n        for i in range(low,80,1):\n            age_ranges.append(f\"{i:02d}\"+f\"{i+4:02d}\")\n        age_ranges.append(\"80UP\")\n    else:\n        for i in range(low,high,1):\n            age_ranges.append(f\"{i:02d}\"+f\"{i+4:02d}\")\n    \n    if population == \"Male\" or population == \"Males\":\n        male_variables = {\"SP.POP.\"+age_range+\".MA\":\"Males \"+age_range for age_range in age_ranges}\n        variables = male_variables\n    elif population == \"Female\" or population == \"Females\":\n        female_variables = {\"SP.POP.\"+age_range+\".FE\":\"Females \"+age_range for age_range in age_ranges}\n        variables = female_variables\n    else:\n        male_variables = {\"SP.POP.\"+age_range+\".MA\":\"Males \"+age_range for age_range in age_ranges}\n        female_variables = {\"SP.POP.\"+age_range+\".FE\":\"Females \"+age_range for age_range in age_ranges}\n        variables = male_variables\n        variables.update(female_variables)\n        \n    data = wbdata.get_dataframe(variables,country=location)\n    data.reset_index(inplace=True)\n    data['date'] = data['date'].astype(int)\n    data.set_index(['date'],inplace=True)\n    df = data.query(\"date==\"+str(year))\n    date_str = \"date==\" + str(year)\n    print(df.query(date_str).sum(axis=0))\n    \npopulation(1966, \"Males\", 15, 30, \"USA\")",
    "id": "f97244535a92495f884bb592d51328dc",
    "idx": 3,
    "time": "2021-02-03T22:23:43.438Z",
    "type": "execution"
   },
   {
    "id": "f97244535a92495f884bb592d51328dc",
    "time": "2021-02-03T22:23:43.852Z",
    "type": "completion"
   },
   {
    "code": "def population(year, population, low, high, location):\n    age_ranges = []\n    if high > 80:\n        for i in range(low,80,1):\n            age_ranges.append(f\"{i:02d}\"+f\"{i+1:02d}\")\n        age_ranges.append(\"80UP\")\n    else:\n        for i in range(low,high,1):\n            age_ranges.append(f\"{i:02d}\"+f\"{i+1:02d}\")\n    \n    if population == \"Male\" or population == \"Males\":\n        male_variables = {\"SP.POP.\"+age_range+\".MA\":\"Males \"+age_range for age_range in age_ranges}\n        variables = male_variables\n    elif population == \"Female\" or population == \"Females\":\n        female_variables = {\"SP.POP.\"+age_range+\".FE\":\"Females \"+age_range for age_range in age_ranges}\n        variables = female_variables\n    else:\n        male_variables = {\"SP.POP.\"+age_range+\".MA\":\"Males \"+age_range for age_range in age_ranges}\n        female_variables = {\"SP.POP.\"+age_range+\".FE\":\"Females \"+age_range for age_range in age_ranges}\n        variables = male_variables\n        variables.update(female_variables)\n        \n    data = wbdata.get_dataframe(variables,country=location)\n    data.reset_index(inplace=True)\n    data['date'] = data['date'].astype(int)\n    data.set_index(['date'],inplace=True)\n    df = data.query(\"date==\"+str(year))\n    date_str = \"date==\" + str(year)\n    print(df.query(date_str).sum(axis=0))\n    \npopulation(1966, \"Males\", 15, 30, \"USA\")",
    "id": "f97244535a92495f884bb592d51328dc",
    "idx": 3,
    "time": "2021-02-03T22:24:10.449Z",
    "type": "execution"
   },
   {
    "id": "f97244535a92495f884bb592d51328dc",
    "time": "2021-02-03T22:24:10.885Z",
    "type": "completion"
   },
   {
    "code": "def population(year, population, low, high, location):\n    age_ranges = []\n    if high > 80:\n        for i in range(low,80,5):\n            age_ranges.append(f\"{i:02d}\"+f\"{i+4:02d}\")\n        age_ranges.append(\"80UP\")\n    else:\n        for i in range(low,high,5):\n            age_ranges.append(f\"{i:02d}\"+f\"{i+4:02d}\")\n    \n    if population == \"Male\" or population == \"Males\":\n        male_variables = {\"SP.POP.\"+age_range+\".MA\":\"Males \"+age_range for age_range in age_ranges}\n        variables = male_variables\n    elif population == \"Female\" or population == \"Females\":\n        female_variables = {\"SP.POP.\"+age_range+\".FE\":\"Females \"+age_range for age_range in age_ranges}\n        variables = female_variables\n    else:\n        male_variables = {\"SP.POP.\"+age_range+\".MA\":\"Males \"+age_range for age_range in age_ranges}\n        female_variables = {\"SP.POP.\"+age_range+\".FE\":\"Females \"+age_range for age_range in age_ranges}\n        variables = male_variables\n        variables.update(female_variables)\n        \n    data = wbdata.get_dataframe(variables,country=location)\n    data.reset_index(inplace=True)\n    data['date'] = data['date'].astype(int)\n    data.set_index(['date'],inplace=True)\n    df = data.query(\"date==\"+str(year))\n    date_str = \"date==\" + str(year)\n    print(df.query(date_str).sum(axis=0))\n    \npopulation(1966, \"Males\", 15, 30, \"USA\")",
    "id": "f97244535a92495f884bb592d51328dc",
    "idx": 4,
    "time": "2021-02-03T22:24:30.227Z",
    "type": "execution"
   },
   {
    "id": "f97244535a92495f884bb592d51328dc",
    "time": "2021-02-03T22:24:30.346Z",
    "type": "completion"
   },
   {
    "code": "def population(year, population, low, high, location):\n    age_ranges = []\n    if high > 80:\n        for i in range(low,80,5):\n            age_ranges.append(f\"{i:02d}\"+f\"{i:02d}\")\n        age_ranges.append(\"80UP\")\n    else:\n        for i in range(low,high,5):\n            age_ranges.append(f\"{i:02d}\"+f\"{i:02d}\")\n    \n    if population == \"Male\" or population == \"Males\":\n        male_variables = {\"SP.POP.\"+age_range+\".MA\":\"Males \"+age_range for age_range in age_ranges}\n        variables = male_variables\n    elif population == \"Female\" or population == \"Females\":\n        female_variables = {\"SP.POP.\"+age_range+\".FE\":\"Females \"+age_range for age_range in age_ranges}\n        variables = female_variables\n    else:\n        male_variables = {\"SP.POP.\"+age_range+\".MA\":\"Males \"+age_range for age_range in age_ranges}\n        female_variables = {\"SP.POP.\"+age_range+\".FE\":\"Females \"+age_range for age_range in age_ranges}\n        variables = male_variables\n        variables.update(female_variables)\n        \n    data = wbdata.get_dataframe(variables,country=location)\n    data.reset_index(inplace=True)\n    data['date'] = data['date'].astype(int)\n    data.set_index(['date'],inplace=True)\n    df = data.query(\"date==\"+str(year))\n    date_str = \"date==\" + str(year)\n    print(df.query(date_str).sum(axis=0))\n    \npopulation(1966, \"Males\", 15, 30, \"USA\")",
    "id": "f97244535a92495f884bb592d51328dc",
    "idx": 4,
    "time": "2021-02-03T22:24:58.821Z",
    "type": "execution"
   },
   {
    "id": "f97244535a92495f884bb592d51328dc",
    "time": "2021-02-03T22:24:59.331Z",
    "type": "completion"
   },
   {
    "code": "def population(year, population, low, high, location):\n    age_ranges = []\n    if high > 80:\n        for i in range(low,80,5):\n            age_ranges.append(f\"{i:02d}\"+f\"{i+4:02d}\")\n        age_ranges.append(\"80UP\")\n    else:\n        for i in range(low,high,5):\n            age_ranges.append(f\"{i:02d}\"+f\"{i+4:02d}\")\n    \n    if population == \"Male\" or population == \"Males\":\n        male_variables = {\"SP.POP.\"+age_range+\".MA\":\"Males \"+age_range for age_range in age_ranges}\n        variables = male_variables\n    elif population == \"Female\" or population == \"Females\":\n        female_variables = {\"SP.POP.\"+age_range+\".FE\":\"Females \"+age_range for age_range in age_ranges}\n        variables = female_variables\n    else:\n        male_variables = {\"SP.POP.\"+age_range+\".MA\":\"Males \"+age_range for age_range in age_ranges}\n        female_variables = {\"SP.POP.\"+age_range+\".FE\":\"Females \"+age_range for age_range in age_ranges}\n        variables = male_variables\n        variables.update(female_variables)\n        \n    data = wbdata.get_dataframe(variables,country=location)\n    data.reset_index(inplace=True)\n    data['date'] = data['date'].astype(int)\n    data.set_index(['date'],inplace=True)\n    df = data.query(\"date==\"+str(year))\n    date_str = \"date==\" + str(year)\n    print(df.query(date_str).sum(axis=0))\n    \npopulation(1966, \"Males\", 15, 30, \"USA\")",
    "id": "df742be01a5746f5814f53249639a868",
    "idx": 3,
    "time": "2021-02-03T22:26:01.495Z",
    "type": "execution"
   },
   {
    "id": "df742be01a5746f5814f53249639a868",
    "time": "2021-02-03T22:26:01.587Z",
    "type": "completion"
   },
   {
    "code": "def population(year, population, low, high, location):\n    age_ranges = []\n    if high > 80:\n        for i in range(low,80,5):\n            age_ranges.append(f\"{i:02d}\")\n        age_ranges.append(\"80UP\")\n    else:\n        for i in range(low,high,5):\n            age_ranges.append(f\"{i:02d}\")\n    \n    if population == \"Male\" or population == \"Males\":\n        male_variables = {\"SP.POP.\"+age_range+\".MA\":\"Males \"+age_range for age_range in age_ranges}\n        variables = male_variables\n    elif population == \"Female\" or population == \"Females\":\n        female_variables = {\"SP.POP.\"+age_range+\".FE\":\"Females \"+age_range for age_range in age_ranges}\n        variables = female_variables\n    else:\n        male_variables = {\"SP.POP.\"+age_range+\".MA\":\"Males \"+age_range for age_range in age_ranges}\n        female_variables = {\"SP.POP.\"+age_range+\".FE\":\"Females \"+age_range for age_range in age_ranges}\n        variables = male_variables\n        variables.update(female_variables)\n        \n    data = wbdata.get_dataframe(variables,country=location)\n    data.reset_index(inplace=True)\n    data['date'] = data['date'].astype(int)\n    data.set_index(['date'],inplace=True)\n    df = data.query(\"date==\"+str(year))\n    date_str = \"date==\" + str(year)\n    print(df.query(date_str).sum(axis=0))\n    \npopulation(1966, \"Males\", 15, 30, \"USA\")",
    "id": "f97244535a92495f884bb592d51328dc",
    "idx": 4,
    "time": "2021-02-03T22:26:20.654Z",
    "type": "execution"
   },
   {
    "id": "f97244535a92495f884bb592d51328dc",
    "time": "2021-02-03T22:26:21.112Z",
    "type": "completion"
   },
   {
    "code": "def population(year, population, low, high, location):\n    age_ranges = []\n    if high > 80:\n        for i in range(low,80,1):\n            age_ranges.append(f\"{i:02d}\")\n        age_ranges.append(\"80UP\")\n    else:\n        for i in range(low,high,1):\n            age_ranges.append(f\"{i:02d}\")\n    \n    if population == \"Male\" or population == \"Males\":\n        male_variables = {\"SP.POP.\"+age_range+\".MA\":\"Males \"+age_range for age_range in age_ranges}\n        variables = male_variables\n    elif population == \"Female\" or population == \"Females\":\n        female_variables = {\"SP.POP.\"+age_range+\".FE\":\"Females \"+age_range for age_range in age_ranges}\n        variables = female_variables\n    else:\n        male_variables = {\"SP.POP.\"+age_range+\".MA\":\"Males \"+age_range for age_range in age_ranges}\n        female_variables = {\"SP.POP.\"+age_range+\".FE\":\"Females \"+age_range for age_range in age_ranges}\n        variables = male_variables\n        variables.update(female_variables)\n        \n    data = wbdata.get_dataframe(variables,country=location)\n    data.reset_index(inplace=True)\n    data['date'] = data['date'].astype(int)\n    data.set_index(['date'],inplace=True)\n    df = data.query(\"date==\"+str(year))\n    date_str = \"date==\" + str(year)\n    print(df.query(date_str).sum(axis=0))\n    \npopulation(1966, \"Males\", 15, 30, \"USA\")",
    "id": "f97244535a92495f884bb592d51328dc",
    "idx": 4,
    "time": "2021-02-03T22:26:39.011Z",
    "type": "execution"
   },
   {
    "id": "f97244535a92495f884bb592d51328dc",
    "time": "2021-02-03T22:26:39.152Z",
    "type": "completion"
   },
   {
    "code": "def population(year, population, low, high, location):\n    age_ranges = []\n    if high > 80:\n        for i in range(low,80,1):\n            age_ranges.append(f\"{i:02d}\"+f\"{i:02d}\")\n        age_ranges.append(\"80UP\")\n    else:\n        for i in range(low,high,1):\n            age_ranges.append(f\"{i:02d}\"+f\"{i:02d}\")\n    \n    if population == \"Male\" or population == \"Males\":\n        male_variables = {\"SP.POP.\"+age_range+\".MA\":\"Males \"+age_range for age_range in age_ranges}\n        variables = male_variables\n    elif population == \"Female\" or population == \"Females\":\n        female_variables = {\"SP.POP.\"+age_range+\".FE\":\"Females \"+age_range for age_range in age_ranges}\n        variables = female_variables\n    else:\n        male_variables = {\"SP.POP.\"+age_range+\".MA\":\"Males \"+age_range for age_range in age_ranges}\n        female_variables = {\"SP.POP.\"+age_range+\".FE\":\"Females \"+age_range for age_range in age_ranges}\n        variables = male_variables\n        variables.update(female_variables)\n        \n    data = wbdata.get_dataframe(variables,country=location)\n    data.reset_index(inplace=True)\n    data['date'] = data['date'].astype(int)\n    data.set_index(['date'],inplace=True)\n    df = data.query(\"date==\"+str(year))\n    date_str = \"date==\" + str(year)\n    print(df.query(date_str).sum(axis=0))\n    \npopulation(1966, \"Males\", 15, 30, \"USA\")",
    "id": "f97244535a92495f884bb592d51328dc",
    "idx": 4,
    "time": "2021-02-03T22:26:52.110Z",
    "type": "execution"
   },
   {
    "id": "f97244535a92495f884bb592d51328dc",
    "time": "2021-02-03T22:26:52.276Z",
    "type": "completion"
   },
   {
    "code": "def population(year, population, low, high, location):\n    age_ranges = []\n    if high > 80:\n        for i in range(low,80,1):\n            age_ranges.append(f\"{i:02d}\"+f\"{i:02d}\")\n        age_ranges.append(\"80UP\")\n    else:\n        for i in range(low,high,1):\n            age_ranges.append(f\"{i:02d}\"+f\"{i:02d}\")\n    \n    if population == \"Male\" or population == \"Males\":\n        male_variables = {\"SP.POP.\"+age_range+\".MA\":\"Males \"+age_range for age_range in age_ranges}\n        variables = male_variables\n    elif population == \"Female\" or population == \"Females\":\n        female_variables = {\"SP.POP.\"+age_range+\".FE\":\"Females \"+age_range for age_range in age_ranges}\n        variables = female_variables\n    else:\n        male_variables = {\"SP.POP.\"+age_range+\".MA\":\"Males \"+age_range for age_range in age_ranges}\n        female_variables = {\"SP.POP.\"+age_range+\".FE\":\"Females \"+age_range for age_range in age_ranges}\n        variables = male_variables\n        variables.update(female_variables)\n        \n    data = wbdata.get_dataframe(variables,country=location)\n    data.reset_index(inplace=True)\n    data['date'] = data['date'].astype(int)\n    data.set_index(['date'],inplace=True)\n    df = data.query(\"date==\"+str(year))\n    date_str = \"date==\" + str(year)\n    print(df.query(date_str).sum(axis=0))\n    \npopulation(1966, \"Males\", 15, 30, \"USA\")",
    "id": "f97244535a92495f884bb592d51328dc",
    "idx": 4,
    "time": "2021-02-03T22:27:10.008Z",
    "type": "execution"
   },
   {
    "id": "f97244535a92495f884bb592d51328dc",
    "time": "2021-02-03T22:27:10.142Z",
    "type": "completion"
   },
   {
    "code": "def population(year, population, low, high, location):\n    age_ranges = []\n    if high > 80:\n        for i in range(low,80,1):\n            age_ranges.append(f\"{i:02d}\")\n        age_ranges.append(\"80UP\")\n    else:\n        for i in range(low,high,1):\n            age_ranges.append(f\"{i:02d}\")\n    \n    if population == \"Male\" or population == \"Males\":\n        male_variables = {\"SP.POP.\"+age_range+\".MA\":\"Males \"+age_range for age_range in age_ranges}\n        variables = male_variables\n    elif population == \"Female\" or population == \"Females\":\n        female_variables = {\"SP.POP.\"+age_range+\".FE\":\"Females \"+age_range for age_range in age_ranges}\n        variables = female_variables\n    else:\n        male_variables = {\"SP.POP.\"+age_range+\".MA\":\"Males \"+age_range for age_range in age_ranges}\n        female_variables = {\"SP.POP.\"+age_range+\".FE\":\"Females \"+age_range for age_range in age_ranges}\n        variables = male_variables\n        variables.update(female_variables)\n        \n    data = wbdata.get_dataframe(variables,country=location)\n    data.reset_index(inplace=True)\n    data['date'] = data['date'].astype(int)\n    data.set_index(['date'],inplace=True)\n    df = data.query(\"date==\"+str(year))\n    date_str = \"date==\" + str(year)\n    print(variables)\n    print(df.query(date_str).sum(axis=0))\n    \npopulation(1966, \"Males\", 15, 30, \"USA\")",
    "id": "f97244535a92495f884bb592d51328dc",
    "idx": 4,
    "time": "2021-02-03T22:30:33.868Z",
    "type": "execution"
   },
   {
    "id": "f97244535a92495f884bb592d51328dc",
    "time": "2021-02-03T22:30:34.009Z",
    "type": "completion"
   },
   {
    "code": "def population(year, population, low, high, location):\n    age_ranges = []\n    if high > 80:\n        for i in range(low,80,1):\n            age_ranges.append(f\"{i:02d}\")\n        age_ranges.append(\"80UP\")\n    else:\n        for i in range(low,high,1):\n            age_ranges.append(f\"{i:02d}\")\n    \n    if population == \"Male\" or population == \"Males\":\n        male_variables = {\"SP.POP.\"+age_range+\".MA\":\"Males \"+age_range for age_range in age_ranges}\n        variables = male_variables\n    elif population == \"Female\" or population == \"Females\":\n        female_variables = {\"SP.POP.\"+age_range+\".FE\":\"Females \"+age_range for age_range in age_ranges}\n        variables = female_variables\n    else:\n        male_variables = {\"SP.POP.\"+age_range+\".MA\":\"Males \"+age_range for age_range in age_ranges}\n        female_variables = {\"SP.POP.\"+age_range+\".FE\":\"Females \"+age_range for age_range in age_ranges}\n        variables = male_variables\n        variables.update(female_variables)\n        \n    data = wbdata.get_dataframe(variables,country=location)\n    data.reset_index(inplace=True)\n    data['date'] = data['date'].astype(int)\n    data.set_index(['date'],inplace=True)\n    df = data.query(\"date==\"+str(year))\n    date_str = \"date==\" + str(year)\n    print(age_ranges)\n    print(df.query(date_str).sum(axis=0))\n    \npopulation(1966, \"Males\", 15, 30, \"USA\")",
    "id": "f97244535a92495f884bb592d51328dc",
    "idx": 4,
    "time": "2021-02-03T22:30:41.569Z",
    "type": "execution"
   },
   {
    "id": "f97244535a92495f884bb592d51328dc",
    "time": "2021-02-03T22:30:41.708Z",
    "type": "completion"
   },
   {
    "code": "def population(year, population, low, high, location):\n    age_ranges = []\n    if high > 80:\n        for i in range(low,80,5):\n            age_ranges.append(f\"{i:02d}\"+f\"{i+4:02d}\")\n        age_ranges.append(\"80UP\")\n    else:\n        for i in range(low,high,5):\n            age_ranges.append(f\"{i:02d}\"+f\"{i+4:02d}\")\n    \n    if population == \"Male\" or population == \"Males\":\n        male_variables = {\"SP.POP.\"+age_range+\".MA\":\"Males \"+age_range for age_range in age_ranges}\n        variables = male_variables\n    elif population == \"Female\" or population == \"Females\":\n        female_variables = {\"SP.POP.\"+age_range+\".FE\":\"Females \"+age_range for age_range in age_ranges}\n        variables = female_variables\n    else:\n        male_variables = {\"SP.POP.\"+age_range+\".MA\":\"Males \"+age_range for age_range in age_ranges}\n        female_variables = {\"SP.POP.\"+age_range+\".FE\":\"Females \"+age_range for age_range in age_ranges}\n        variables = male_variables\n        variables.update(female_variables)\n        \n    data = wbdata.get_dataframe(variables,country=location)\n    data.reset_index(inplace=True)\n    data['date'] = data['date'].astype(int)\n    data.set_index(['date'],inplace=True)\n    df = data.query(\"date==\"+str(year))\n    date_str = \"date==\" + str(year)\n        print(age_ranges)\n    print(df.query(date_str).sum(axis=0))\n    \npopulation(1966, \"Males\", 15, 30, \"USA\")",
    "id": "df742be01a5746f5814f53249639a868",
    "idx": 3,
    "time": "2021-02-03T22:30:50.728Z",
    "type": "execution"
   },
   {
    "id": "df742be01a5746f5814f53249639a868",
    "time": "2021-02-03T22:30:50.818Z",
    "type": "completion"
   },
   {
    "code": "def population(year, population, low, high, location):\n    age_ranges = []\n    if high > 80:\n        for i in range(low,80,5):\n            age_ranges.append(f\"{i:02d}\"+f\"{i+4:02d}\")\n        age_ranges.append(\"80UP\")\n    else:\n        for i in range(low,high,5):\n            age_ranges.append(f\"{i:02d}\"+f\"{i+4:02d}\")\n    \n    if population == \"Male\" or population == \"Males\":\n        male_variables = {\"SP.POP.\"+age_range+\".MA\":\"Males \"+age_range for age_range in age_ranges}\n        variables = male_variables\n    elif population == \"Female\" or population == \"Females\":\n        female_variables = {\"SP.POP.\"+age_range+\".FE\":\"Females \"+age_range for age_range in age_ranges}\n        variables = female_variables\n    else:\n        male_variables = {\"SP.POP.\"+age_range+\".MA\":\"Males \"+age_range for age_range in age_ranges}\n        female_variables = {\"SP.POP.\"+age_range+\".FE\":\"Females \"+age_range for age_range in age_ranges}\n        variables = male_variables\n        variables.update(female_variables)\n        \n    data = wbdata.get_dataframe(variables,country=location)\n    data.reset_index(inplace=True)\n    data['date'] = data['date'].astype(int)\n    data.set_index(['date'],inplace=True)\n    df = data.query(\"date==\"+str(year))\n    date_str = \"date==\" + str(year)\n    print(age_ranges)\n    print(df.query(date_str).sum(axis=0))\n    \npopulation(1966, \"Males\", 15, 30, \"USA\")",
    "id": "df742be01a5746f5814f53249639a868",
    "idx": 3,
    "time": "2021-02-03T22:30:53.625Z",
    "type": "execution"
   },
   {
    "id": "df742be01a5746f5814f53249639a868",
    "time": "2021-02-03T22:30:53.737Z",
    "type": "completion"
   },
   {
    "code": "def population(year, population, low, high, location):\n    age_ranges = []\n    if high > 80:\n        for i in range(low,80,1):\n            age_ranges.append(f\"{i:02d}\"+f\"{i+1:02d}\")\n        age_ranges.append(\"80UP\")\n    else:\n        for i in range(low,high,1):\n            age_ranges.append(f\"{i:02d}\"+f\"{i+1:02d}\")\n    \n    if population == \"Male\" or population == \"Males\":\n        male_variables = {\"SP.POP.\"+age_range+\".MA\":\"Males \"+age_range for age_range in age_ranges}\n        variables = male_variables\n    elif population == \"Female\" or population == \"Females\":\n        female_variables = {\"SP.POP.\"+age_range+\".FE\":\"Females \"+age_range for age_range in age_ranges}\n        variables = female_variables\n    else:\n        male_variables = {\"SP.POP.\"+age_range+\".MA\":\"Males \"+age_range for age_range in age_ranges}\n        female_variables = {\"SP.POP.\"+age_range+\".FE\":\"Females \"+age_range for age_range in age_ranges}\n        variables = male_variables\n        variables.update(female_variables)\n        \n    data = wbdata.get_dataframe(variables,country=location)\n    data.reset_index(inplace=True)\n    data['date'] = data['date'].astype(int)\n    data.set_index(['date'],inplace=True)\n    df = data.query(\"date==\"+str(year))\n    date_str = \"date==\" + str(year)\n    print(df.query(date_str).sum(axis=0))\n    \npopulation(1966, \"Males\", 15, 30, \"USA\")",
    "id": "f97244535a92495f884bb592d51328dc",
    "idx": 4,
    "time": "2021-02-03T22:31:48.742Z",
    "type": "execution"
   },
   {
    "id": "f97244535a92495f884bb592d51328dc",
    "time": "2021-02-03T22:31:48.877Z",
    "type": "completion"
   },
   {
    "code": "def population(year, population, low, high, location):\n    age_ranges = []\n    if high > 80:\n        for i in range(low,80,2):\n            age_ranges.append(f\"{i:02d}\"+f\"{i+1:02d}\")\n        age_ranges.append(\"80UP\")\n    else:\n        for i in range(low,high,2):\n            age_ranges.append(f\"{i:02d}\"+f\"{i+1:02d}\")\n    \n    if population == \"Male\" or population == \"Males\":\n        male_variables = {\"SP.POP.\"+age_range+\".MA\":\"Males \"+age_range for age_range in age_ranges}\n        variables = male_variables\n    elif population == \"Female\" or population == \"Females\":\n        female_variables = {\"SP.POP.\"+age_range+\".FE\":\"Females \"+age_range for age_range in age_ranges}\n        variables = female_variables\n    else:\n        male_variables = {\"SP.POP.\"+age_range+\".MA\":\"Males \"+age_range for age_range in age_ranges}\n        female_variables = {\"SP.POP.\"+age_range+\".FE\":\"Females \"+age_range for age_range in age_ranges}\n        variables = male_variables\n        variables.update(female_variables)\n        \n    data = wbdata.get_dataframe(variables,country=location)\n    data.reset_index(inplace=True)\n    data['date'] = data['date'].astype(int)\n    data.set_index(['date'],inplace=True)\n    df = data.query(\"date==\"+str(year))\n    date_str = \"date==\" + str(year)\n    print(df.query(date_str).sum(axis=0))\n    \npopulation(1966, \"Males\", 15, 30, \"USA\")",
    "id": "f97244535a92495f884bb592d51328dc",
    "idx": 4,
    "time": "2021-02-03T22:32:18.301Z",
    "type": "execution"
   },
   {
    "id": "f97244535a92495f884bb592d51328dc",
    "time": "2021-02-03T22:32:18.453Z",
    "type": "completion"
   },
   {
    "code": "def population(year, population, low, high, location):\n    age_ranges = []\n    if high > 80:\n        for i in range(low,80,2):\n            age_ranges.append(f\"{i:02d}\"+f\"{i+1:02d}\")\n        age_ranges.append(\"80UP\")\n    else:\n        for i in range(low,high,2):\n            age_ranges.append(f\"{i:02d}\"+f\"{i+1:02d}\")\n    \n    if population == \"Male\" or population == \"Males\":\n        male_variables = {\"SP.POP.\"+age_range+\".MA\":\"Males \"+age_range for age_range in age_ranges}\n        variables = male_variables\n    elif population == \"Female\" or population == \"Females\":\n        female_variables = {\"SP.POP.\"+age_range+\".FE\":\"Females \"+age_range for age_range in age_ranges}\n        variables = female_variables\n    else:\n        male_variables = {\"SP.POP.\"+age_range+\".MA\":\"Males \"+age_range for age_range in age_ranges}\n        female_variables = {\"SP.POP.\"+age_range+\".FE\":\"Females \"+age_range for age_range in age_ranges}\n        variables = male_variables\n        variables.update(female_variables)\n        \n    data = wbdata.get_dataframe(variables,country=location)\n    data.reset_index(inplace=True)\n    data['date'] = data['date'].astype(int)\n    data.set_index(['date'],inplace=True)\n    df = data.query(\"date==\"+str(year))\n    date_str = \"date==\" + str(year)\n    print(age_ranges)\n    print(df.query(date_str).sum(axis=0))\n    \npopulation(1966, \"Males\", 15, 30, \"USA\")",
    "id": "f97244535a92495f884bb592d51328dc",
    "idx": 4,
    "time": "2021-02-03T22:32:51.335Z",
    "type": "execution"
   },
   {
    "id": "f97244535a92495f884bb592d51328dc",
    "time": "2021-02-03T22:32:51.474Z",
    "type": "completion"
   },
   {
    "code": "def population(year, population, low, high, location):\n    age_ranges = []\n    if high > 80:\n        for i in range(low,80,2):\n            age_ranges.append(f\"{i:02d}\"+f\"{i+1:02d}\")\n        age_ranges.append(\"80UP\")\n    else:\n        for i in range(low,high,2):\n            age_ranges.append(f\"{i:02d}\"+f\"{i+1:02d}\")\n    \n    if population == \"Male\" or population == \"Males\":\n        male_variables = {\"SP.POP.\"+age_range+\".MA\":\"Males \"+age_range for age_range in age_ranges}\n        variables = male_variables\n    elif population == \"Female\" or population == \"Females\":\n        female_variables = {\"SP.POP.\"+age_range+\".FE\":\"Females \"+age_range for age_range in age_ranges}\n        variables = female_variables\n    else:\n        male_variables = {\"SP.POP.\"+age_range+\".MA\":\"Males \"+age_range for age_range in age_ranges}\n        female_variables = {\"SP.POP.\"+age_range+\".FE\":\"Females \"+age_range for age_range in age_ranges}\n        variables = male_variables\n        variables.update(female_variables)\n        \n    #data = wbdata.get_dataframe(variables,country=location)\n    data.reset_index(inplace=True)\n    data['date'] = data['date'].astype(int)\n    data.set_index(['date'],inplace=True)\n    df = data.query(\"date==\"+str(year))\n    date_str = \"date==\" + str(year)\n    print(age_ranges)\n    print(df.query(date_str).sum(axis=0))\n    \npopulation(1966, \"Males\", 15, 30, \"USA\")",
    "id": "f97244535a92495f884bb592d51328dc",
    "idx": 4,
    "time": "2021-02-03T22:32:58.213Z",
    "type": "execution"
   },
   {
    "id": "f97244535a92495f884bb592d51328dc",
    "time": "2021-02-03T22:32:58.362Z",
    "type": "completion"
   },
   {
    "code": "def population(year, population, low, high, location):\n    age_ranges = []\n    if high > 80:\n        for i in range(low,80,2):\n            age_ranges.append(f\"{i:02d}\"+f\"{i+1:02d}\")\n        age_ranges.append(\"80UP\")\n    else:\n        for i in range(low,high,2):\n            age_ranges.append(f\"{i:02d}\"+f\"{i+1:02d}\")\n    \n    if population == \"Male\" or population == \"Males\":\n        male_variables = {\"SP.POP.\"+age_range+\".MA\":\"Males \"+age_range for age_range in age_ranges}\n        variables = male_variables\n    elif population == \"Female\" or population == \"Females\":\n        female_variables = {\"SP.POP.\"+age_range+\".FE\":\"Females \"+age_range for age_range in age_ranges}\n        variables = female_variables\n    else:\n        male_variables = {\"SP.POP.\"+age_range+\".MA\":\"Males \"+age_range for age_range in age_ranges}\n        female_variables = {\"SP.POP.\"+age_range+\".FE\":\"Females \"+age_range for age_range in age_ranges}\n        variables = male_variables\n        variables.update(female_variables)\n        \n    #data = wbdata.get_dataframe(variables,country=location)\n    #data.reset_index(inplace=True)\n    #data['date'] = data['date'].astype(int)\n    #data.set_index(['date'],inplace=True)\n    #df = data.query(\"date==\"+str(year))\n    #date_str = \"date==\" + str(year)\n    print(age_ranges)\n    #print(df.query(date_str).sum(axis=0))\n    \npopulation(1966, \"Males\", 15, 30, \"USA\")",
    "id": "f97244535a92495f884bb592d51328dc",
    "idx": 4,
    "time": "2021-02-03T22:33:06.344Z",
    "type": "execution"
   },
   {
    "id": "f97244535a92495f884bb592d51328dc",
    "time": "2021-02-03T22:33:06.407Z",
    "type": "completion"
   },
   {
    "code": "def population(year, population, low, high, location):\n    age_ranges = []\n    if high > 80:\n        for i in range(low,80,1):\n            age_ranges.append(f\"{i:02d}\")\n        age_ranges.append(\"80UP\")\n    else:\n        for i in range(low,high,1):\n            age_ranges.append(f\"{i:02d}\")\n    \n    if population == \"Male\" or population == \"Males\":\n        male_variables = {\"SP.POP.\"+age_range+\".MA\":\"Males \"+age_range for age_range in age_ranges}\n        variables = male_variables\n    elif population == \"Female\" or population == \"Females\":\n        female_variables = {\"SP.POP.\"+age_range+\".FE\":\"Females \"+age_range for age_range in age_ranges}\n        variables = female_variables\n    else:\n        male_variables = {\"SP.POP.\"+age_range+\".MA\":\"Males \"+age_range for age_range in age_ranges}\n        female_variables = {\"SP.POP.\"+age_range+\".FE\":\"Females \"+age_range for age_range in age_ranges}\n        variables = male_variables\n        variables.update(female_variables)\n        \n    #data = wbdata.get_dataframe(variables,country=location)\n    #data.reset_index(inplace=True)\n    #data['date'] = data['date'].astype(int)\n    #data.set_index(['date'],inplace=True)\n    #df = data.query(\"date==\"+str(year))\n    #date_str = \"date==\" + str(year)\n    print(age_ranges)\n    #print(df.query(date_str).sum(axis=0))\n    \npopulation(1966, \"Males\", 15, 30, \"USA\")",
    "id": "f97244535a92495f884bb592d51328dc",
    "idx": 4,
    "time": "2021-02-03T22:33:21.967Z",
    "type": "execution"
   },
   {
    "id": "f97244535a92495f884bb592d51328dc",
    "time": "2021-02-03T22:33:22.028Z",
    "type": "completion"
   },
   {
    "code": "def population(year, population, low, high, location):\n    age_ranges = []\n    if high > 80:\n        for i in range(low,80,2):\n            age_ranges.append(f\"{i:02d}\"+f\"{i+1:02d}\")\n        age_ranges.append(\"80UP\")\n    else:\n        for i in range(low,high,2):\n            age_ranges.append(f\"{i:02d}\"+f\"{i+1:02d}\")\n    \n    if population == \"Male\" or population == \"Males\":\n        male_variables = {\"SP.POP.\"+age_range+\".MA\":\"Males \"+age_range for age_range in age_ranges}\n        variables = male_variables\n    elif population == \"Female\" or population == \"Females\":\n        female_variables = {\"SP.POP.\"+age_range+\".FE\":\"Females \"+age_range for age_range in age_ranges}\n        variables = female_variables\n    else:\n        male_variables = {\"SP.POP.\"+age_range+\".MA\":\"Males \"+age_range for age_range in age_ranges}\n        female_variables = {\"SP.POP.\"+age_range+\".FE\":\"Females \"+age_range for age_range in age_ranges}\n        variables = male_variables\n        variables.update(female_variables)\n        \n    #data = wbdata.get_dataframe(variables,country=location)\n    #data.reset_index(inplace=True)\n    #data['date'] = data['date'].astype(int)\n    #data.set_index(['date'],inplace=True)\n    #df = data.query(\"date==\"+str(year))\n    #date_str = \"date==\" + str(year)\n    print(age_ranges)\n    #print(df.query(date_str).sum(axis=0))\n    \npopulation(1966, \"Males\", 15, 30, \"USA\")",
    "id": "f97244535a92495f884bb592d51328dc",
    "idx": 4,
    "time": "2021-02-03T22:34:12.444Z",
    "type": "execution"
   },
   {
    "id": "f97244535a92495f884bb592d51328dc",
    "time": "2021-02-03T22:34:12.518Z",
    "type": "completion"
   },
   {
    "code": "def population(year, population, low, high, location):\n    age_ranges = []\n    if high > 80:\n        for i in range(low,80,2):\n            age_ranges.append(f\"{i:02d}\"+f\"{i+1:02d}\")\n        age_ranges.append(\"80UP\")\n    else:\n        for i in range(low,high,2):\n            age_ranges.append(f\"{i:02d}\"+f\"{i+1:02d}\")\n    \n    if population == \"Male\" or population == \"Males\":\n        male_variables = {\"SP.POP.\"+age_range+\".MA\":\"Males \"+age_range for age_range in age_ranges}\n        variables = male_variables\n    elif population == \"Female\" or population == \"Females\":\n        female_variables = {\"SP.POP.\"+age_range+\".FE\":\"Females \"+age_range for age_range in age_ranges}\n        variables = female_variables\n    else:\n        male_variables = {\"SP.POP.\"+age_range+\".MA\":\"Males \"+age_range for age_range in age_ranges}\n        female_variables = {\"SP.POP.\"+age_range+\".FE\":\"Females \"+age_range for age_range in age_ranges}\n        variables = male_variables\n        variables.update(female_variables)\n        \n    #data = wbdata.get_dataframe(variables,country=location)\n    #data.reset_index(inplace=True)\n    #data['date'] = data['date'].astype(int)\n    #data.set_index(['date'],inplace=True)\n    #df = data.query(\"date==\"+str(year))\n    #date_str = \"date==\" + str(year)\n    print(age_ranges)\n    #print(df.query(date_str).sum(axis=0))\n    \npopulation(1966, \"Males\", 18, 26, \"USA\")",
    "id": "f97244535a92495f884bb592d51328dc",
    "idx": 4,
    "time": "2021-02-03T22:35:41.484Z",
    "type": "execution"
   },
   {
    "id": "f97244535a92495f884bb592d51328dc",
    "time": "2021-02-03T22:35:41.548Z",
    "type": "completion"
   },
   {
    "code": "def population(year, population, low, high, location):\n    age_ranges = []\n    if high > 80:\n        for i in range(low,80,2):\n            age_ranges.append(f\"{i:02d}\"+f\"{i+1:02d}\")\n        age_ranges.append(\"80UP\")\n    else:\n        for i in range(low,high,2):\n            age_ranges.append(f\"{i:02d}\"+f\"{i+1:02d}\")\n    \n    if population == \"Male\" or population == \"Males\":\n        male_variables = {\"SP.POP.\"+age_range+\".MA\":\"Males \"+age_range for age_range in age_ranges}\n        variables = male_variables\n    elif population == \"Female\" or population == \"Females\":\n        female_variables = {\"SP.POP.\"+age_range+\".FE\":\"Females \"+age_range for age_range in age_ranges}\n        variables = female_variables\n    else:\n        male_variables = {\"SP.POP.\"+age_range+\".MA\":\"Males \"+age_range for age_range in age_ranges}\n        female_variables = {\"SP.POP.\"+age_range+\".FE\":\"Females \"+age_range for age_range in age_ranges}\n        variables = male_variables\n        variables.update(female_variables)\n        \n    #data = wbdata.get_dataframe(variables,country=location)\n    #data.reset_index(inplace=True)\n    #data['date'] = data['date'].astype(int)\n    #data.set_index(['date'],inplace=True)\n    #df = data.query(\"date==\"+str(year))\n    #date_str = \"date==\" + str(year)\n    print(age_ranges)\n    #print(df.query(date_str).sum(axis=0))\n    \npopulation(1966, \"Males\", 18, 26, \"USA\")",
    "id": "f97244535a92495f884bb592d51328dc",
    "idx": 4,
    "time": "2021-02-03T22:48:54.978Z",
    "type": "execution"
   },
   {
    "id": "f97244535a92495f884bb592d51328dc",
    "time": "2021-02-03T22:48:55.043Z",
    "type": "completion"
   },
   {
    "code": "def population(year, population, low, high, location):\n    age_ranges = []\n    if high > 80:\n        for i in range(low,80,5):\n            age_ranges.append(f\"{i:02d}\"+f\"{i+4:02d}\")\n        age_ranges.append(\"80UP\")\n    else:\n        for i in range(low,high,5):\n            age_ranges.append(f\"{i:02d}\"+f\"{i+4:02d}\")\n    \n    if population == \"Male\" or population == \"Males\":\n        male_variables = {\"SP.POP.\"+age_range+\".MA\":\"Males \"+age_range for age_range in age_ranges}\n        variables = male_variables\n    elif population == \"Female\" or population == \"Females\":\n        female_variables = {\"SP.POP.\"+age_range+\".FE\":\"Females \"+age_range for age_range in age_ranges}\n        variables = female_variables\n    else:\n        male_variables = {\"SP.POP.\"+age_range+\".MA\":\"Males \"+age_range for age_range in age_ranges}\n        female_variables = {\"SP.POP.\"+age_range+\".FE\":\"Females \"+age_range for age_range in age_ranges}\n        variables = male_variables\n        variables.update(female_variables)\n        \n    data = wbdata.get_dataframe(variables,country=location)\n    data.reset_index(inplace=True)\n    data['date'] = data['date'].astype(int)\n    data.set_index(['date'],inplace=True)\n    df = data.query(\"date==\"+str(year))\n    date_str = \"date==\" + str(year)\n    print(age_ranges)\n    print(df.query(date_str).sum(axis=0))\n    \npopulation(1966, \"Males\", 15, 30, \"USA\")",
    "id": "df742be01a5746f5814f53249639a868",
    "idx": 3,
    "time": "2021-02-03T22:49:57.253Z",
    "type": "execution"
   },
   {
    "id": "df742be01a5746f5814f53249639a868",
    "time": "2021-02-03T22:49:57.400Z",
    "type": "completion"
   },
   {
    "code": "def population(year, population, low, high, location):\n    age_ranges = []\n    if high > 80:\n        for i in range(low,80,5):\n            age_ranges.append(f\"{i:02d}\"+f\"{i+4:02d}\")\n        age_ranges.append(\"80UP\")\n    else:\n        for i in range(low,high,5):\n            age_ranges.append(f\"{i:02d}\"+f\"{i+4:02d}\")\n    \n    if population == \"Male\" or population == \"Males\":\n        male_variables = {\"SP.POP.\"+age_range+\".MA\":\"Males \"+age_range for age_range in age_ranges}\n        variables = male_variables\n    elif population == \"Female\" or population == \"Females\":\n        female_variables = {\"SP.POP.\"+age_range+\".FE\":\"Females \"+age_range for age_range in age_ranges}\n        variables = female_variables\n    else:\n        male_variables = {\"SP.POP.\"+age_range+\".MA\":\"Males \"+age_range for age_range in age_ranges}\n        female_variables = {\"SP.POP.\"+age_range+\".FE\":\"Females \"+age_range for age_range in age_ranges}\n        variables = male_variables\n        variables.update(female_variables)\n        \n    data = wbdata.get_dataframe(variables,country=location)\n    data.reset_index(inplace=True)\n    data['date'] = data['date'].astype(int)\n    data.set_index(['date'],inplace=True)\n    df = data.query(\"date==\"+str(year))\n    date_str = \"date==\" + str(year)\n    print(age_ranges)\n    print(df.query(date_str).sum(axis=0))\n    \npopulation(1966, \"Males\", 15, 26, \"USA\")",
    "id": "df742be01a5746f5814f53249639a868",
    "idx": 3,
    "time": "2021-02-03T22:51:23.056Z",
    "type": "execution"
   },
   {
    "id": "df742be01a5746f5814f53249639a868",
    "time": "2021-02-03T22:51:23.187Z",
    "type": "completion"
   },
   {
    "code": "def population(year, population, low, high, location):\n    age_ranges = []\n    if high > 80:\n        for i in range(low,80,5):\n            age_ranges.append(f\"{i:02d}\"+f\"{i+4:02d}\")\n        age_ranges.append(\"80UP\")\n    else:\n        for i in range(low,high,5):\n            age_ranges.append(f\"{i:02d}\"+f\"{i+4:02d}\")\n    \n    if population == \"Male\" or population == \"Males\":\n        male_variables = {\"SP.POP.\"+age_range+\".MA\":\"Males \"+age_range for age_range in age_ranges}\n        variables = male_variables\n    elif population == \"Female\" or population == \"Females\":\n        female_variables = {\"SP.POP.\"+age_range+\".FE\":\"Females \"+age_range for age_range in age_ranges}\n        variables = female_variables\n    else:\n        male_variables = {\"SP.POP.\"+age_range+\".MA\":\"Males \"+age_range for age_range in age_ranges}\n        female_variables = {\"SP.POP.\"+age_range+\".FE\":\"Females \"+age_range for age_range in age_ranges}\n        variables = male_variables\n        variables.update(female_variables)\n        \n    data = wbdata.get_dataframe(variables,country=location)\n    data.reset_index(inplace=True)\n    data['date'] = data['date'].astype(int)\n    data.set_index(['date'],inplace=True)\n    df = data.query(\"date==\"+str(year))\n    date_str = \"date==\" + str(year)\n    print(age_ranges)\n    print(df.query(date_str).sum(axis=0))\n    \npopulation(1966, \"Males\", 18, 30, \"USA\")",
    "id": "df742be01a5746f5814f53249639a868",
    "idx": 3,
    "time": "2021-02-03T22:51:33.195Z",
    "type": "execution"
   },
   {
    "id": "df742be01a5746f5814f53249639a868",
    "time": "2021-02-03T22:51:33.333Z",
    "type": "completion"
   },
   {
    "code": "def population(year, population, low, high, location):\n    age_ranges = []\n    if high > 80:\n        for i in range(low,80,5):\n            age_ranges.append(f\"{i:02d}\"+f\"{i+4:02d}\")\n        age_ranges.append(\"80UP\")\n    else:\n        for i in range(low,high,5):\n            age_ranges.append(f\"{i:02d}\"+f\"{i+4:02d}\")\n    \n    if population == \"Male\" or population == \"Males\":\n        male_variables = {\"SP.POP.\"+age_range+\".MA\":\"Males \"+age_range for age_range in age_ranges}\n        variables = male_variables\n    elif population == \"Female\" or population == \"Females\":\n        female_variables = {\"SP.POP.\"+age_range+\".FE\":\"Females \"+age_range for age_range in age_ranges}\n        variables = female_variables\n    else:\n        male_variables = {\"SP.POP.\"+age_range+\".MA\":\"Males \"+age_range for age_range in age_ranges}\n        female_variables = {\"SP.POP.\"+age_range+\".FE\":\"Females \"+age_range for age_range in age_ranges}\n        variables = male_variables\n        variables.update(female_variables)\n        \n    data = wbdata.get_dataframe(variables,country=location)\n    data.reset_index(inplace=True)\n    data['date'] = data['date'].astype(int)\n    data.set_index(['date'],inplace=True)\n    df = data.query(\"date==\"+str(year))\n    date_str = \"date==\" + str(year)\n    print(age_ranges)\n    print(df.query(date_str).sum(axis=0))\n    \npopulation(1966, \"Males\", 15, 30, \"USA\")",
    "id": "df742be01a5746f5814f53249639a868",
    "idx": 3,
    "time": "2021-02-03T22:51:37.787Z",
    "type": "execution"
   },
   {
    "id": "df742be01a5746f5814f53249639a868",
    "time": "2021-02-03T22:51:37.872Z",
    "type": "completion"
   },
   {
    "code": "def population(year, population, low, high, location):\n    age_ranges = []\n    if high > 80:\n        for i in range(low,80,5):\n            age_ranges.append(f\"{i:02d}\"+f\"{i+4:02d}\")\n        age_ranges.append(\"80UP\")\n    else:\n        for i in range(low,high,5):\n            age_ranges.append(f\"{i:02d}\"+f\"{i+4:02d}\")\n    \n    if population == \"Male\" or population == \"Males\":\n        male_variables = {\"SP.POP.\"+age_range+\".MA\":\"Males \"+age_range for age_range in age_ranges}\n        variables = male_variables\n    elif population == \"Female\" or population == \"Females\":\n        female_variables = {\"SP.POP.\"+age_range+\".FE\":\"Females \"+age_range for age_range in age_ranges}\n        variables = female_variables\n    else:\n        male_variables = {\"SP.POP.\"+age_range+\".MA\":\"Males \"+age_range for age_range in age_ranges}\n        female_variables = {\"SP.POP.\"+age_range+\".FE\":\"Females \"+age_range for age_range in age_ranges}\n        variables = male_variables\n        variables.update(female_variables)\n        \n    data = wbdata.get_dataframe(variables,country=location)\n    data.reset_index(inplace=True)\n    data['date'] = data['date'].astype(int)\n    data.set_index(['date'],inplace=True)\n    df = data.query(\"date==\"+str(year))\n    date_str = \"date==\" + str(year)\n    print(age_ranges)\n    print(df.query(date_str).sum(axis=0))\n    \npopulation(1966, \"Males\", 15, 26, \"USA\")",
    "id": "df742be01a5746f5814f53249639a868",
    "idx": 3,
    "time": "2021-02-03T23:02:20.956Z",
    "type": "execution"
   },
   {
    "id": "df742be01a5746f5814f53249639a868",
    "time": "2021-02-03T23:02:21.064Z",
    "type": "completion"
   },
   {
    "code": "80 % 5",
    "id": "1dd0408f46954164b5a78297df4abe06",
    "idx": 3,
    "time": "2021-02-03T23:02:56.572Z",
    "type": "execution"
   },
   {
    "id": "1dd0408f46954164b5a78297df4abe06",
    "time": "2021-02-03T23:02:56.635Z",
    "type": "completion"
   },
   {
    "code": "80 % 5 == 0",
    "id": "1dd0408f46954164b5a78297df4abe06",
    "idx": 3,
    "time": "2021-02-03T23:02:59.645Z",
    "type": "execution"
   },
   {
    "id": "1dd0408f46954164b5a78297df4abe06",
    "time": "2021-02-03T23:02:59.707Z",
    "type": "completion"
   },
   {
    "code": "26 % 5 == 0",
    "id": "1dd0408f46954164b5a78297df4abe06",
    "idx": 3,
    "time": "2021-02-03T23:03:37.284Z",
    "type": "execution"
   },
   {
    "id": "1dd0408f46954164b5a78297df4abe06",
    "time": "2021-02-03T23:03:37.515Z",
    "type": "completion"
   },
   {
    "code": "26 % 5",
    "id": "1dd0408f46954164b5a78297df4abe06",
    "idx": 3,
    "time": "2021-02-03T23:03:40.577Z",
    "type": "execution"
   },
   {
    "id": "1dd0408f46954164b5a78297df4abe06",
    "time": "2021-02-03T23:03:40.644Z",
    "type": "completion"
   },
   {
    "code": "def tester(low, high):\n    age_ranges = []\n    for i in range(low,high,5):\n        while i != high - (high%5):\n            age_ranges.append(f\"{i:02d}\"+f\"{i+4:02d}\")\n        age_ranges.append(f\"{i:02d}\"+f\"{i+(high%5):02d}\")\n    return age_ranges\n\ntester(15, 26)",
    "id": "a40bc539204e416d98dddacd7bb20368",
    "idx": 4,
    "time": "2021-02-03T23:05:46.361Z",
    "type": "execution"
   },
   {
    "code": "!pip install wbdata\nimport wbdata\nimport numpy as np\nimport pandas as pd\nimport cufflinks as cf\ncf.go_offline()",
    "id": "3048e1326e2246b887271ebb1c0311ff",
    "idx": 0,
    "time": "2021-02-03T23:06:05.724Z",
    "type": "execution"
   },
   {
    "id": "3048e1326e2246b887271ebb1c0311ff",
    "time": "2021-02-03T23:06:12.464Z",
    "type": "completion"
   },
   {
    "code": "26 % 5",
    "id": "1dd0408f46954164b5a78297df4abe06",
    "idx": 1,
    "time": "2021-02-03T23:06:13.050Z",
    "type": "execution"
   },
   {
    "id": "1dd0408f46954164b5a78297df4abe06",
    "time": "2021-02-03T23:06:13.111Z",
    "type": "completion"
   },
   {
    "code": "def tester(low, high):\n    age_ranges = []\n    for i in range(low,high,5):\n        while i != high - (high%5):\n            age_ranges.append(f\"{i:02d}\"+f\"{i+4:02d}\")\n        age_ranges.append(f\"{i:02d}\"+f\"{i+(high%5):02d}\")\n    return age_ranges\n\ntester(15, 26)",
    "id": "a40bc539204e416d98dddacd7bb20368",
    "idx": 2,
    "time": "2021-02-03T23:06:14.884Z",
    "type": "execution"
   },
   {
    "code": "!pip install wbdata\nimport wbdata\nimport numpy as np\nimport pandas as pd\nimport cufflinks as cf\ncf.go_offline()",
    "id": "3048e1326e2246b887271ebb1c0311ff",
    "idx": 0,
    "time": "2021-02-03T23:07:00.430Z",
    "type": "execution"
   },
   {
    "code": "26 % 5",
    "id": "1dd0408f46954164b5a78297df4abe06",
    "idx": 1,
    "time": "2021-02-03T23:07:00.437Z",
    "type": "execution"
   },
   {
    "id": "3048e1326e2246b887271ebb1c0311ff",
    "time": "2021-02-03T23:07:06.879Z",
    "type": "completion"
   },
   {
    "id": "1dd0408f46954164b5a78297df4abe06",
    "time": "2021-02-03T23:07:06.891Z",
    "type": "completion"
   },
   {
    "code": "def tester(low, high):\n    age_ranges = []\n    for i in range(low,high,5):\n        if i != high - (high%5):\n            age_ranges.append(f\"{i:02d}\"+f\"{i+4:02d}\")\n        else:\n            age_ranges.append(f\"{i:02d}\"+f\"{i+(high%5):02d}\")\n    return age_ranges\n\ntester(15, 26)",
    "id": "a40bc539204e416d98dddacd7bb20368",
    "idx": 2,
    "time": "2021-02-03T23:07:08.241Z",
    "type": "execution"
   },
   {
    "id": "a40bc539204e416d98dddacd7bb20368",
    "time": "2021-02-03T23:07:08.300Z",
    "type": "completion"
   },
   {
    "id": "a40bc539204e416d98dddacd7bb20368",
    "time": "2021-02-03T23:07:08.300Z",
    "type": "completion"
   },
   {
    "id": "a40bc539204e416d98dddacd7bb20368",
    "time": "2021-02-03T23:07:08.300Z",
    "type": "completion"
   },
   {
    "code": "def population(year, population, low, high, location):\n    age_ranges = []\n    if high > 80:\n        for i in range(low,80,5):\n            age_ranges.append(f\"{i:02d}\"+f\"{i+1:02d}\")\n        age_ranges.append(\"80UP\")\n    else:\n        for i in range(low,80,5):\n            if i != high - (high%5):\n                age_ranges.append(f\"{i:02d}\"+f\"{i+4:02d}\")\n            else:\n                age_ranges.append(f\"{i:02d}\"+f\"{i+(high%5):02d}\")\n    \n    if population == \"Male\" or population == \"Males\":\n        male_variables = {\"SP.POP.\"+age_range+\".MA\":\"Males \"+age_range for age_range in age_ranges}\n        variables = male_variables\n    elif population == \"Female\" or population == \"Females\":\n        female_variables = {\"SP.POP.\"+age_range+\".FE\":\"Females \"+age_range for age_range in age_ranges}\n        variables = female_variables\n    else:\n        male_variables = {\"SP.POP.\"+age_range+\".MA\":\"Males \"+age_range for age_range in age_ranges}\n        female_variables = {\"SP.POP.\"+age_range+\".FE\":\"Females \"+age_range for age_range in age_ranges}\n        variables = male_variables\n        variables.update(female_variables)\n        \n    data = wbdata.get_dataframe(variables,country=location)\n    data.reset_index(inplace=True)\n    data['date'] = data['date'].astype(int)\n    data.set_index(['date'],inplace=True)\n    df = data.query(\"date==\"+str(year))\n    date_str = \"date==\" + str(year)\n    print(age_ranges)\n    print(df.query(date_str).sum(axis=0))\n    \npopulation(1966, \"Males\", 18, 26, \"USA\")",
    "id": "f97244535a92495f884bb592d51328dc",
    "idx": 4,
    "time": "2021-02-03T23:08:28.245Z",
    "type": "execution"
   },
   {
    "id": "f97244535a92495f884bb592d51328dc",
    "time": "2021-02-03T23:08:28.558Z",
    "type": "completion"
   },
   {
    "code": "def population(year, population, low, high, location):\n    age_ranges = []\n    if high > 80:\n        for i in range(low,80,5):\n            age_ranges.append(f\"{i:02d}\"+f\"{i+4:02d}\")\n        age_ranges.append(\"80UP\")\n    else:\n        if high % 5 == 0:\n            for i in range(low,high,5):\n                age_ranges.append(f\"{i:02d}\"+f\"{i+4:02d}\")\n        else:\n            for i in range(low,high,5):\n                age_ranges.append(f\"{i:02d}\"+f\"{i+4:02d}\")\n    \n    if population == \"Male\" or population == \"Males\":\n        male_variables = {\"SP.POP.\"+age_range+\".MA\":\"Males \"+age_range for age_range in age_ranges}\n        variables = male_variables\n    elif population == \"Female\" or population == \"Females\":\n        female_variables = {\"SP.POP.\"+age_range+\".FE\":\"Females \"+age_range for age_range in age_ranges}\n        variables = female_variables\n    else:\n        male_variables = {\"SP.POP.\"+age_range+\".MA\":\"Males \"+age_range for age_range in age_ranges}\n        female_variables = {\"SP.POP.\"+age_range+\".FE\":\"Females \"+age_range for age_range in age_ranges}\n        variables = male_variables\n        variables.update(female_variables)\n        \n    data = wbdata.get_dataframe(variables,country=location)\n    data.reset_index(inplace=True)\n    data['date'] = data['date'].astype(int)\n    data.set_index(['date'],inplace=True)\n    df = data.query(\"date==\"+str(year))\n    date_str = \"date==\" + str(year)\n    print(age_ranges)\n    print(df.query(date_str).sum(axis=0))\n    \npopulation(1966, \"Males\", 15, 30, \"USA\")",
    "id": "df742be01a5746f5814f53249639a868",
    "idx": 3,
    "time": "2021-02-03T23:08:37.411Z",
    "type": "execution"
   },
   {
    "id": "df742be01a5746f5814f53249639a868",
    "time": "2021-02-03T23:08:37.524Z",
    "type": "completion"
   },
   {
    "code": "def population(year, population, low, high, location):\n    age_ranges = []\n    if high > 80:\n        for i in range(low,80,5):\n            age_ranges.append(f\"{i:02d}\"+f\"{i+1:02d}\")\n        age_ranges.append(\"80UP\")\n    else:\n        for i in range(low,80,5):\n            if i != high - (high%5):\n                age_ranges.append(f\"{i:02d}\"+f\"{i+4:02d}\")\n            else:\n                age_ranges.append(f\"{i:02d}\"+f\"{i+(high%5):02d}\")\n    \n    if population == \"Male\" or population == \"Males\":\n        male_variables = {\"SP.POP.\"+age_range+\".MA\":\"Males \"+age_range for age_range in age_ranges}\n        variables = male_variables\n    elif population == \"Female\" or population == \"Females\":\n        female_variables = {\"SP.POP.\"+age_range+\".FE\":\"Females \"+age_range for age_range in age_ranges}\n        variables = female_variables\n    else:\n        male_variables = {\"SP.POP.\"+age_range+\".MA\":\"Males \"+age_range for age_range in age_ranges}\n        female_variables = {\"SP.POP.\"+age_range+\".FE\":\"Females \"+age_range for age_range in age_ranges}\n        variables = male_variables\n        variables.update(female_variables)\n        \n    data = wbdata.get_dataframe(variables,country=location)\n    data.reset_index(inplace=True)\n    data['date'] = data['date'].astype(int)\n    data.set_index(['date'],inplace=True)\n    df = data.query(\"date==\"+str(year))\n    date_str = \"date==\" + str(year)\n    print(age_ranges)\n    print(df.query(date_str).sum(axis=0))\n    \npopulation(1966, \"Males\", 18, 30, \"USA\")",
    "id": "f97244535a92495f884bb592d51328dc",
    "idx": 4,
    "time": "2021-02-03T23:08:47.665Z",
    "type": "execution"
   },
   {
    "id": "f97244535a92495f884bb592d51328dc",
    "time": "2021-02-03T23:08:47.801Z",
    "type": "completion"
   },
   {
    "code": "def population(year, population, low, high, location):\n    age_ranges = []\n    if high > 80:\n        for i in range(low,80,5):\n            age_ranges.append(f\"{i:02d}\"+f\"{i+1:02d}\")\n        age_ranges.append(\"80UP\")\n    else:\n        for i in range(low,high,5):\n            if i != high - (high%5):\n                age_ranges.append(f\"{i:02d}\"+f\"{i+4:02d}\")\n            else:\n                age_ranges.append(f\"{i:02d}\"+f\"{i+(high%5):02d}\")\n    \n    if population == \"Male\" or population == \"Males\":\n        male_variables = {\"SP.POP.\"+age_range+\".MA\":\"Males \"+age_range for age_range in age_ranges}\n        variables = male_variables\n    elif population == \"Female\" or population == \"Females\":\n        female_variables = {\"SP.POP.\"+age_range+\".FE\":\"Females \"+age_range for age_range in age_ranges}\n        variables = female_variables\n    else:\n        male_variables = {\"SP.POP.\"+age_range+\".MA\":\"Males \"+age_range for age_range in age_ranges}\n        female_variables = {\"SP.POP.\"+age_range+\".FE\":\"Females \"+age_range for age_range in age_ranges}\n        variables = male_variables\n        variables.update(female_variables)\n        \n    data = wbdata.get_dataframe(variables,country=location)\n    data.reset_index(inplace=True)\n    data['date'] = data['date'].astype(int)\n    data.set_index(['date'],inplace=True)\n    df = data.query(\"date==\"+str(year))\n    date_str = \"date==\" + str(year)\n    print(age_ranges)\n    print(df.query(date_str).sum(axis=0))\n    \npopulation(1966, \"Males\", 18, 30, \"USA\")",
    "id": "f97244535a92495f884bb592d51328dc",
    "idx": 4,
    "time": "2021-02-03T23:08:58.659Z",
    "type": "execution"
   },
   {
    "id": "f97244535a92495f884bb592d51328dc",
    "time": "2021-02-03T23:08:59.056Z",
    "type": "completion"
   },
   {
    "code": "def population(year, population, low, high, location):\n    age_ranges = []\n    if high > 80:\n        for i in range(low,80,5):\n            age_ranges.append(f\"{i:02d}\"+f\"{i+1:02d}\")\n        age_ranges.append(\"80UP\")\n    else:\n        for i in range(low,high,5):\n            if i != (high - (high%5)):\n                age_ranges.append(f\"{i:02d}\"+f\"{i+4:02d}\")\n            else:\n                age_ranges.append(f\"{i:02d}\"+f\"{i+(high%5):02d}\")\n    \n    if population == \"Male\" or population == \"Males\":\n        male_variables = {\"SP.POP.\"+age_range+\".MA\":\"Males \"+age_range for age_range in age_ranges}\n        variables = male_variables\n    elif population == \"Female\" or population == \"Females\":\n        female_variables = {\"SP.POP.\"+age_range+\".FE\":\"Females \"+age_range for age_range in age_ranges}\n        variables = female_variables\n    else:\n        male_variables = {\"SP.POP.\"+age_range+\".MA\":\"Males \"+age_range for age_range in age_ranges}\n        female_variables = {\"SP.POP.\"+age_range+\".FE\":\"Females \"+age_range for age_range in age_ranges}\n        variables = male_variables\n        variables.update(female_variables)\n        \n    data = wbdata.get_dataframe(variables,country=location)\n    data.reset_index(inplace=True)\n    data['date'] = data['date'].astype(int)\n    data.set_index(['date'],inplace=True)\n    df = data.query(\"date==\"+str(year))\n    date_str = \"date==\" + str(year)\n    print(age_ranges)\n    print(df.query(date_str).sum(axis=0))\n    \npopulation(1966, \"Males\", 15, 30, \"USA\")",
    "id": "f97244535a92495f884bb592d51328dc",
    "idx": 4,
    "time": "2021-02-03T23:09:39.555Z",
    "type": "execution"
   },
   {
    "id": "f97244535a92495f884bb592d51328dc",
    "time": "2021-02-03T23:09:39.685Z",
    "type": "completion"
   },
   {
    "code": "def population(year, population, low, high, location):\n    age_ranges = []\n    if high > 80:\n        for i in range(low,80,5):\n            age_ranges.append(f\"{i:02d}\"+f\"{i+1:02d}\")\n        age_ranges.append(\"80UP\")\n    else:\n        for i in range(low,high,5):\n            if i != (high - (high%5)):\n                age_ranges.append(f\"{i:02d}\"+f\"{i+4:02d}\")\n            else:\n                age_ranges.append(f\"{i:02d}\"+f\"{i+(high%5):02d}\")\n    \n    if population == \"Male\" or population == \"Males\":\n        male_variables = {\"SP.POP.\"+age_range+\".MA\":\"Males \"+age_range for age_range in age_ranges}\n        variables = male_variables\n    elif population == \"Female\" or population == \"Females\":\n        female_variables = {\"SP.POP.\"+age_range+\".FE\":\"Females \"+age_range for age_range in age_ranges}\n        variables = female_variables\n    else:\n        male_variables = {\"SP.POP.\"+age_range+\".MA\":\"Males \"+age_range for age_range in age_ranges}\n        female_variables = {\"SP.POP.\"+age_range+\".FE\":\"Females \"+age_range for age_range in age_ranges}\n        variables = male_variables\n        variables.update(female_variables)\n        \n    data = wbdata.get_dataframe(variables,country=location)\n    data.reset_index(inplace=True)\n    data['date'] = data['date'].astype(int)\n    data.set_index(['date'],inplace=True)\n    df = data.query(\"date==\"+str(year))\n    date_str = \"date==\" + str(year)\n    print(age_ranges)\n    print(df.query(date_str).sum(axis=0))\n    \npopulation(1966, \"Males\", 18, 28, \"USA\")",
    "id": "f97244535a92495f884bb592d51328dc",
    "idx": 4,
    "time": "2021-02-03T23:09:46.896Z",
    "type": "execution"
   },
   {
    "id": "f97244535a92495f884bb592d51328dc",
    "time": "2021-02-03T23:09:47.030Z",
    "type": "completion"
   },
   {
    "code": "def population(year, population, low, high, location):\n    age_ranges = []\n    if high > 80:\n        for i in range(low,80,5):\n            age_ranges.append(f\"{i:02d}\"+f\"{i+1:02d}\")\n        age_ranges.append(\"80UP\")\n    else:\n        for i in range(low,high,5):\n            if i != (high - (high%5)):\n                age_ranges.append(f\"{i:02d}\"+f\"{i+4:02d}\")\n            else:\n                age_ranges.append(f\"{i:02d}\"+f\"{i+(high%5):02d}\")\n    \n    if population == \"Male\" or population == \"Males\":\n        male_variables = {\"SP.POP.\"+age_range+\".MA\":\"Males \"+age_range for age_range in age_ranges}\n        variables = male_variables\n    elif population == \"Female\" or population == \"Females\":\n        female_variables = {\"SP.POP.\"+age_range+\".FE\":\"Females \"+age_range for age_range in age_ranges}\n        variables = female_variables\n    else:\n        male_variables = {\"SP.POP.\"+age_range+\".MA\":\"Males \"+age_range for age_range in age_ranges}\n        female_variables = {\"SP.POP.\"+age_range+\".FE\":\"Females \"+age_range for age_range in age_ranges}\n        variables = male_variables\n        variables.update(female_variables)\n        \n    data = wbdata.get_dataframe(variables,country=location)\n    data.reset_index(inplace=True)\n    data['date'] = data['date'].astype(int)\n    data.set_index(['date'],inplace=True)\n    df = data.query(\"date==\"+str(year))\n    date_str = \"date==\" + str(year)\n    print(age_ranges)\n    print(df.query(date_str).sum(axis=0))\n    \npopulation(1966, \"Males\", 18, 27, \"USA\")",
    "id": "f97244535a92495f884bb592d51328dc",
    "idx": 4,
    "time": "2021-02-03T23:09:52.437Z",
    "type": "execution"
   },
   {
    "id": "f97244535a92495f884bb592d51328dc",
    "time": "2021-02-03T23:09:52.564Z",
    "type": "completion"
   },
   {
    "code": "def population(year, population, low, high, location):\n    age_ranges = []\n    if high > 80:\n        for i in range(low,80,5):\n            age_ranges.append(f\"{i:02d}\"+f\"{i+1:02d}\")\n        age_ranges.append(\"80UP\")\n    else:\n        for i in range(low,high,5):\n            if i != (high - (high%5)):\n                age_ranges.append(f\"{i:02d}\"+f\"{i+4:02d}\")\n            else:\n                age_ranges.append(f\"{i:02d}\"+f\"{i+(high%5):02d}\")\n    \n    if population == \"Male\" or population == \"Males\":\n        male_variables = {\"SP.POP.\"+age_range+\".MA\":\"Males \"+age_range for age_range in age_ranges}\n        variables = male_variables\n    elif population == \"Female\" or population == \"Females\":\n        female_variables = {\"SP.POP.\"+age_range+\".FE\":\"Females \"+age_range for age_range in age_ranges}\n        variables = female_variables\n    else:\n        male_variables = {\"SP.POP.\"+age_range+\".MA\":\"Males \"+age_range for age_range in age_ranges}\n        female_variables = {\"SP.POP.\"+age_range+\".FE\":\"Females \"+age_range for age_range in age_ranges}\n        variables = male_variables\n        variables.update(female_variables)\n        \n    data = wbdata.get_dataframe(variables,country=location)\n    data.reset_index(inplace=True)\n    data['date'] = data['date'].astype(int)\n    data.set_index(['date'],inplace=True)\n    df = data.query(\"date==\"+str(year))\n    date_str = \"date==\" + str(year)\n    print(age_ranges)\n    print(df.query(date_str).sum(axis=0))\n    \npopulation(1966, \"Males\", 18, 29, \"USA\")",
    "id": "f97244535a92495f884bb592d51328dc",
    "idx": 4,
    "time": "2021-02-03T23:09:55.134Z",
    "type": "execution"
   },
   {
    "id": "f97244535a92495f884bb592d51328dc",
    "time": "2021-02-03T23:09:55.265Z",
    "type": "completion"
   },
   {
    "code": "def population(year, population, low, high, location):\n    age_ranges = []\n    if high > 80:\n        for i in range(low,80,5):\n            age_ranges.append(f\"{i:02d}\"+f\"{i+1:02d}\")\n        age_ranges.append(\"80UP\")\n    else:\n        for i in range(low,high,5):\n            if i != (high - (high%5)):\n                age_ranges.append(f\"{i:02d}\"+f\"{i+4:02d}\")\n            else:\n                age_ranges.append(f\"{i:02d}\"+f\"{i+(high%5):02d}\")\n    \n    if population == \"Male\" or population == \"Males\":\n        male_variables = {\"SP.POP.\"+age_range+\".MA\":\"Males \"+age_range for age_range in age_ranges}\n        variables = male_variables\n    elif population == \"Female\" or population == \"Females\":\n        female_variables = {\"SP.POP.\"+age_range+\".FE\":\"Females \"+age_range for age_range in age_ranges}\n        variables = female_variables\n    else:\n        male_variables = {\"SP.POP.\"+age_range+\".MA\":\"Males \"+age_range for age_range in age_ranges}\n        female_variables = {\"SP.POP.\"+age_range+\".FE\":\"Females \"+age_range for age_range in age_ranges}\n        variables = male_variables\n        variables.update(female_variables)\n        \n    data = wbdata.get_dataframe(variables,country=location)\n    data.reset_index(inplace=True)\n    data['date'] = data['date'].astype(int)\n    data.set_index(['date'],inplace=True)\n    df = data.query(\"date==\"+str(year))\n    date_str = \"date==\" + str(year)\n    print(age_ranges)\n    print(df.query(date_str).sum(axis=0))\n    \npopulation(1966, \"Males\", 15, 30, \"USA\")",
    "id": "f97244535a92495f884bb592d51328dc",
    "idx": 4,
    "time": "2021-02-03T23:10:03.995Z",
    "type": "execution"
   },
   {
    "id": "f97244535a92495f884bb592d51328dc",
    "time": "2021-02-03T23:10:04.081Z",
    "type": "completion"
   },
   {
    "code": "26 % 18",
    "id": "1dd0408f46954164b5a78297df4abe06",
    "idx": 1,
    "time": "2021-02-03T23:10:14.369Z",
    "type": "execution"
   },
   {
    "id": "1dd0408f46954164b5a78297df4abe06",
    "time": "2021-02-03T23:10:14.530Z",
    "type": "completion"
   },
   {
    "code": "(26 % 18) -5",
    "id": "1dd0408f46954164b5a78297df4abe06",
    "idx": 1,
    "time": "2021-02-03T23:10:47.223Z",
    "type": "execution"
   },
   {
    "id": "1dd0408f46954164b5a78297df4abe06",
    "time": "2021-02-03T23:10:47.290Z",
    "type": "completion"
   },
   {
    "code": "def tester(low, high):\n    age_ranges = []\n    for i in range(low,high,5):\n        if i != high - (high%5):\n            age_ranges.append(f\"{i:02d}\"+f\"{i+4:02d}\")\n        else:\n            age_ranges.append(f\"{i:02d}\"+f\"{i+(high%5):02d}\")\n    return age_ranges\n\ntester(18, 26)",
    "id": "a40bc539204e416d98dddacd7bb20368",
    "idx": 2,
    "time": "2021-02-03T23:11:17.650Z",
    "type": "execution"
   },
   {
    "id": "a40bc539204e416d98dddacd7bb20368",
    "time": "2021-02-03T23:11:17.717Z",
    "type": "completion"
   },
   {
    "code": "def tester(low, high):\n    age_ranges = []\n    for i in range(low,high,5):\n        if i != high - (high%5):\n            age_ranges.append(f\"{i:02d}\"+f\"{i+4:02d}\")\n        else:\n            age_ranges.append(f\"{i:02d}\"+f\"{i+((high%low)-5):02d}\")\n    return age_ranges\n\ntester(18, 26)",
    "id": "a40bc539204e416d98dddacd7bb20368",
    "idx": 2,
    "time": "2021-02-03T23:11:43.582Z",
    "type": "execution"
   },
   {
    "id": "a40bc539204e416d98dddacd7bb20368",
    "time": "2021-02-03T23:11:43.667Z",
    "type": "completion"
   },
   {
    "code": "(28 % 18)",
    "id": "e43872d80db04f5a81a21575a4f8c8a1",
    "idx": 2,
    "time": "2021-02-03T23:12:25.889Z",
    "type": "execution"
   },
   {
    "id": "e43872d80db04f5a81a21575a4f8c8a1",
    "time": "2021-02-03T23:12:25.946Z",
    "type": "completion"
   },
   {
    "code": "(28 % 18) - 5",
    "id": "e43872d80db04f5a81a21575a4f8c8a1",
    "idx": 2,
    "time": "2021-02-03T23:12:28.914Z",
    "type": "execution"
   },
   {
    "id": "e43872d80db04f5a81a21575a4f8c8a1",
    "time": "2021-02-03T23:12:28.974Z",
    "type": "completion"
   },
   {
    "code": "def tester(low, high):\n    age_ranges = []\n    for i in range(low,high,5):\n        if  (high % low) - 5 == 5:\n            age_ranges.append(f\"{i:02d}\"+f\"{i+4:02d}\")\n        else:\n            age_ranges.append(f\"{i:02d}\"+f\"{i+((high%low)-5):02d}\")\n    return age_ranges\n\ntester(18, 26)",
    "id": "a40bc539204e416d98dddacd7bb20368",
    "idx": 3,
    "time": "2021-02-03T23:13:06.953Z",
    "type": "execution"
   },
   {
    "id": "a40bc539204e416d98dddacd7bb20368",
    "time": "2021-02-03T23:13:07.037Z",
    "type": "completion"
   },
   {
    "code": "(21 % 18) - 5",
    "id": "e43872d80db04f5a81a21575a4f8c8a1",
    "idx": 2,
    "time": "2021-02-03T23:13:22.646Z",
    "type": "execution"
   },
   {
    "id": "e43872d80db04f5a81a21575a4f8c8a1",
    "time": "2021-02-03T23:13:22.706Z",
    "type": "completion"
   },
   {
    "code": "(22 % 18) - 5",
    "id": "e43872d80db04f5a81a21575a4f8c8a1",
    "idx": 2,
    "time": "2021-02-03T23:13:24.986Z",
    "type": "execution"
   },
   {
    "id": "e43872d80db04f5a81a21575a4f8c8a1",
    "time": "2021-02-03T23:13:25.045Z",
    "type": "completion"
   },
   {
    "code": "(20 % 18) - 5",
    "id": "e43872d80db04f5a81a21575a4f8c8a1",
    "idx": 2,
    "time": "2021-02-03T23:13:29.228Z",
    "type": "execution"
   },
   {
    "id": "e43872d80db04f5a81a21575a4f8c8a1",
    "time": "2021-02-03T23:13:29.319Z",
    "type": "completion"
   },
   {
    "code": "(19 % 18) - 5",
    "id": "e43872d80db04f5a81a21575a4f8c8a1",
    "idx": 2,
    "time": "2021-02-03T23:13:32.209Z",
    "type": "execution"
   },
   {
    "id": "e43872d80db04f5a81a21575a4f8c8a1",
    "time": "2021-02-03T23:13:32.267Z",
    "type": "completion"
   },
   {
    "code": "(23 % 18) - 5",
    "id": "e43872d80db04f5a81a21575a4f8c8a1",
    "idx": 2,
    "time": "2021-02-03T23:13:41.224Z",
    "type": "execution"
   },
   {
    "id": "e43872d80db04f5a81a21575a4f8c8a1",
    "time": "2021-02-03T23:13:41.284Z",
    "type": "completion"
   },
   {
    "code": "(28 % 18) - 5",
    "id": "e43872d80db04f5a81a21575a4f8c8a1",
    "idx": 2,
    "time": "2021-02-03T23:13:44.918Z",
    "type": "execution"
   },
   {
    "id": "e43872d80db04f5a81a21575a4f8c8a1",
    "time": "2021-02-03T23:13:44.980Z",
    "type": "completion"
   },
   {
    "code": "(33 % 18) - 5",
    "id": "e43872d80db04f5a81a21575a4f8c8a1",
    "idx": 2,
    "time": "2021-02-03T23:13:48.670Z",
    "type": "execution"
   },
   {
    "id": "e43872d80db04f5a81a21575a4f8c8a1",
    "time": "2021-02-03T23:13:48.746Z",
    "type": "completion"
   },
   {
    "code": "((33 % 18) - 5) % 5",
    "id": "e43872d80db04f5a81a21575a4f8c8a1",
    "idx": 2,
    "time": "2021-02-03T23:13:58.991Z",
    "type": "execution"
   },
   {
    "id": "e43872d80db04f5a81a21575a4f8c8a1",
    "time": "2021-02-03T23:13:59.281Z",
    "type": "completion"
   },
   {
    "code": "((28 % 18) - 5) % 5",
    "id": "e43872d80db04f5a81a21575a4f8c8a1",
    "idx": 2,
    "time": "2021-02-03T23:14:02.391Z",
    "type": "execution"
   },
   {
    "id": "e43872d80db04f5a81a21575a4f8c8a1",
    "time": "2021-02-03T23:14:02.450Z",
    "type": "completion"
   },
   {
    "code": "((23 % 18) - 5) % 5",
    "id": "e43872d80db04f5a81a21575a4f8c8a1",
    "idx": 2,
    "time": "2021-02-03T23:14:04.390Z",
    "type": "execution"
   },
   {
    "id": "e43872d80db04f5a81a21575a4f8c8a1",
    "time": "2021-02-03T23:14:04.457Z",
    "type": "completion"
   },
   {
    "code": "def tester(low, high):\n    age_ranges = []\n    for i in range(low,high,5):\n        if  ((high % low) - 5) % 5 == 0:\n            age_ranges.append(f\"{i:02d}\"+f\"{i+4:02d}\")\n        else:\n            age_ranges.append(f\"{i:02d}\"+f\"{i+((high%low)-5):02d}\")\n    return age_ranges\n\ntester(18, 26)",
    "id": "a40bc539204e416d98dddacd7bb20368",
    "idx": 3,
    "time": "2021-02-03T23:14:17.615Z",
    "type": "execution"
   },
   {
    "id": "a40bc539204e416d98dddacd7bb20368",
    "time": "2021-02-03T23:14:17.680Z",
    "type": "completion"
   },
   {
    "code": "((22 % 18) - 5) % 5",
    "id": "e43872d80db04f5a81a21575a4f8c8a1",
    "idx": 2,
    "time": "2021-02-03T23:14:33.072Z",
    "type": "execution"
   },
   {
    "id": "e43872d80db04f5a81a21575a4f8c8a1",
    "time": "2021-02-03T23:14:33.135Z",
    "type": "completion"
   },
   {
    "code": "for i in range(low,high,5):\n    print(i)",
    "id": "ade989656a0f486f83501c7eeab305f8",
    "idx": 3,
    "time": "2021-02-03T23:15:10.147Z",
    "type": "execution"
   },
   {
    "id": "ade989656a0f486f83501c7eeab305f8",
    "time": "2021-02-03T23:15:10.213Z",
    "type": "completion"
   },
   {
    "code": "for i in range(18,26,5):\n    print(i)",
    "id": "ade989656a0f486f83501c7eeab305f8",
    "idx": 3,
    "time": "2021-02-03T23:15:16.410Z",
    "type": "execution"
   },
   {
    "id": "ade989656a0f486f83501c7eeab305f8",
    "time": "2021-02-03T23:15:16.524Z",
    "type": "completion"
   },
   {
    "code": "def tester(low, high):\n    age_ranges = []\n    for i in range(low,high,5):\n        if  ((i % low) - 5) % 5 == 0:\n            age_ranges.append(f\"{i:02d}\"+f\"{i+4:02d}\")\n        else:\n            age_ranges.append(f\"{i:02d}\"+f\"{i+((high%low)-5):02d}\")\n    return age_ranges\n\ntester(18, 26)",
    "id": "a40bc539204e416d98dddacd7bb20368",
    "idx": 4,
    "time": "2021-02-03T23:15:31.521Z",
    "type": "execution"
   },
   {
    "id": "a40bc539204e416d98dddacd7bb20368",
    "time": "2021-02-03T23:15:31.579Z",
    "type": "completion"
   },
   {
    "code": "def tester(low, high):\n    age_ranges = []\n    for i in range(low,high,5):\n        if  ((i % low) - 5) % 5 == 0:\n            age_ranges.append(f\"{i:02d}\"+f\"{i+4:02d}\")\n        else:\n            age_ranges.append(f\"{i:02d}\"+f\"{i+((high%low)-6):02d}\")\n    return age_ranges\n\ntester(18, 26)",
    "id": "a40bc539204e416d98dddacd7bb20368",
    "idx": 4,
    "time": "2021-02-03T23:15:44.092Z",
    "type": "execution"
   },
   {
    "id": "a40bc539204e416d98dddacd7bb20368",
    "time": "2021-02-03T23:15:44.168Z",
    "type": "completion"
   },
   {
    "code": "age_ranges[1]",
    "id": "32221b015f084fcaa2a5eda51f48490a",
    "idx": 5,
    "time": "2021-02-03T23:18:43.196Z",
    "type": "execution"
   },
   {
    "id": "32221b015f084fcaa2a5eda51f48490a",
    "time": "2021-02-03T23:18:43.400Z",
    "type": "completion"
   },
   {
    "code": "def tester(low, high):\n    age_ranges = []\n    for i in range(low,high,5):\n        if  ((i % low) - 5) % 5 == 0:\n            age_ranges.append(f\"{i:02d}\"+f\"{i+4:02d}\")\n        else:\n            age_ranges.append(f\"{i:02d}\"+f\"{i+((high%low)-5):02d}\")\n    return age_ranges\n\nage_ranges = tester(18, 26)\nage_ranges",
    "id": "a40bc539204e416d98dddacd7bb20368",
    "idx": 4,
    "time": "2021-02-03T23:18:53.892Z",
    "type": "execution"
   },
   {
    "id": "a40bc539204e416d98dddacd7bb20368",
    "time": "2021-02-03T23:18:53.956Z",
    "type": "completion"
   },
   {
    "code": "age_ranges[1]",
    "id": "32221b015f084fcaa2a5eda51f48490a",
    "idx": 5,
    "time": "2021-02-03T23:18:54.287Z",
    "type": "execution"
   },
   {
    "id": "32221b015f084fcaa2a5eda51f48490a",
    "time": "2021-02-03T23:18:54.380Z",
    "type": "completion"
   },
   {
    "code": "age_ranges[:-1]",
    "id": "32221b015f084fcaa2a5eda51f48490a",
    "idx": 5,
    "time": "2021-02-03T23:18:59.110Z",
    "type": "execution"
   },
   {
    "id": "32221b015f084fcaa2a5eda51f48490a",
    "time": "2021-02-03T23:18:59.173Z",
    "type": "completion"
   },
   {
    "code": "age_ranges[:1]",
    "id": "32221b015f084fcaa2a5eda51f48490a",
    "idx": 5,
    "time": "2021-02-03T23:19:01.874Z",
    "type": "execution"
   },
   {
    "id": "32221b015f084fcaa2a5eda51f48490a",
    "time": "2021-02-03T23:19:02.060Z",
    "type": "completion"
   },
   {
    "code": "age_ranges[1:]",
    "id": "32221b015f084fcaa2a5eda51f48490a",
    "idx": 5,
    "time": "2021-02-03T23:19:06.013Z",
    "type": "execution"
   },
   {
    "id": "32221b015f084fcaa2a5eda51f48490a",
    "time": "2021-02-03T23:19:06.073Z",
    "type": "completion"
   },
   {
    "code": "def tester(low, high):\n    age_ranges = []\n    for i in range(low,high,5):\n        if  ((i % low) - 5) % 5 == 0:\n            age_ranges.append(f\"{i:02d}\"+f\"{i+4:02d}\")\n        else:\n            age_ranges.append(f\"{i:02d}\"+f\"{i+((high%low)-5):02d}\")\n    return age_ranges\n\nage_ranges = tester(18, 56)\nage_ranges",
    "id": "a40bc539204e416d98dddacd7bb20368",
    "idx": 4,
    "time": "2021-02-03T23:19:11.135Z",
    "type": "execution"
   },
   {
    "id": "a40bc539204e416d98dddacd7bb20368",
    "time": "2021-02-03T23:19:11.211Z",
    "type": "completion"
   },
   {
    "code": "age_ranges[1:]",
    "id": "32221b015f084fcaa2a5eda51f48490a",
    "idx": 5,
    "time": "2021-02-03T23:19:12.730Z",
    "type": "execution"
   },
   {
    "id": "32221b015f084fcaa2a5eda51f48490a",
    "time": "2021-02-03T23:19:12.792Z",
    "type": "completion"
   },
   {
    "code": "age_ranges[-1]",
    "id": "32221b015f084fcaa2a5eda51f48490a",
    "idx": 5,
    "time": "2021-02-03T23:19:16.509Z",
    "type": "execution"
   },
   {
    "id": "32221b015f084fcaa2a5eda51f48490a",
    "time": "2021-02-03T23:19:16.610Z",
    "type": "completion"
   },
   {
    "code": "age_ranges[-1][:2]",
    "id": "32221b015f084fcaa2a5eda51f48490a",
    "idx": 5,
    "time": "2021-02-03T23:21:11.780Z",
    "type": "execution"
   },
   {
    "id": "32221b015f084fcaa2a5eda51f48490a",
    "time": "2021-02-03T23:21:11.857Z",
    "type": "completion"
   },
   {
    "code": "age_ranges[-1][2:]",
    "id": "32221b015f084fcaa2a5eda51f48490a",
    "idx": 5,
    "time": "2021-02-03T23:21:24.589Z",
    "type": "execution"
   },
   {
    "id": "32221b015f084fcaa2a5eda51f48490a",
    "time": "2021-02-03T23:21:24.686Z",
    "type": "completion"
   },
   {
    "code": "type(age_ranges[-1][2:])",
    "id": "32221b015f084fcaa2a5eda51f48490a",
    "idx": 5,
    "time": "2021-02-03T23:21:51.731Z",
    "type": "execution"
   },
   {
    "id": "32221b015f084fcaa2a5eda51f48490a",
    "time": "2021-02-03T23:21:51.825Z",
    "type": "completion"
   },
   {
    "code": "test_str = age_ranges[-1][2:]\ntest_char = chr(input(test_str))\ntest_char",
    "id": "32221b015f084fcaa2a5eda51f48490a",
    "idx": 5,
    "time": "2021-02-03T23:25:47.531Z",
    "type": "execution"
   },
   {
    "code": "test_str = age_ranges[-1][2:]\ntest_char = chr((test_str)\ntest_char",
    "id": "32221b015f084fcaa2a5eda51f48490a",
    "idx": 5,
    "time": "2021-02-03T23:25:54.228Z",
    "type": "execution"
   },
   {
    "code": "test_str = age_ranges[-1][2:]\ntest_char = chr(test_str)\ntest_char",
    "id": "32221b015f084fcaa2a5eda51f48490a",
    "idx": 5,
    "time": "2021-02-03T23:25:58.877Z",
    "type": "execution"
   },
   {
    "id": "32221b015f084fcaa2a5eda51f48490a",
    "time": "2021-02-03T23:26:01.742Z",
    "type": "completion"
   },
   {
    "id": "32221b015f084fcaa2a5eda51f48490a",
    "time": "2021-02-03T23:26:01.742Z",
    "type": "completion"
   },
   {
    "id": "32221b015f084fcaa2a5eda51f48490a",
    "time": "2021-02-03T23:26:01.743Z",
    "type": "completion"
   },
   {
    "code": "test_str = age_ranges[-1][2:]\ntest_char = chr(test_str)\ntest_char",
    "id": "32221b015f084fcaa2a5eda51f48490a",
    "idx": 5,
    "time": "2021-02-03T23:26:02.974Z",
    "type": "execution"
   },
   {
    "id": "32221b015f084fcaa2a5eda51f48490a",
    "time": "2021-02-03T23:26:03.125Z",
    "type": "completion"
   },
   {
    "code": "test_str = age_ranges[-1][2:]\ntest_char = chr(int(test_str))\ntest_char",
    "id": "32221b015f084fcaa2a5eda51f48490a",
    "idx": 5,
    "time": "2021-02-03T23:26:08.254Z",
    "type": "execution"
   },
   {
    "id": "32221b015f084fcaa2a5eda51f48490a",
    "time": "2021-02-03T23:26:08.331Z",
    "type": "completion"
   },
   {
    "code": "test_str = age_ranges[-1][2:]\ntest_char = chr(int(test_str))\ntest_str",
    "id": "32221b015f084fcaa2a5eda51f48490a",
    "idx": 5,
    "time": "2021-02-03T23:26:14.446Z",
    "type": "execution"
   },
   {
    "id": "32221b015f084fcaa2a5eda51f48490a",
    "time": "2021-02-03T23:26:14.531Z",
    "type": "completion"
   },
   {
    "code": "test_str = age_ranges[-1][2:]\ntest_char = chr(int(test_str))\ntest_char",
    "id": "32221b015f084fcaa2a5eda51f48490a",
    "idx": 5,
    "time": "2021-02-03T23:26:18.991Z",
    "type": "execution"
   },
   {
    "id": "32221b015f084fcaa2a5eda51f48490a",
    "time": "2021-02-03T23:26:19.096Z",
    "type": "completion"
   },
   {
    "code": "test_str = age_ranges[-1][2:]\ntest_char = int(test_str)\ntest_char",
    "id": "32221b015f084fcaa2a5eda51f48490a",
    "idx": 5,
    "time": "2021-02-03T23:26:47.160Z",
    "type": "execution"
   },
   {
    "id": "32221b015f084fcaa2a5eda51f48490a",
    "time": "2021-02-03T23:26:47.271Z",
    "type": "completion"
   },
   {
    "code": "def tester_2(low, high):\n    age_ranges = []\n    for i in range(low,high,5):\n            age_ranges.append(f\"{i:02d}\"+f\"{i+4:02d}\")\n    test_str = age_ranges[-1][2:]\n    test_int = int(test_str)\n    if test_int > high:\n        age_ranges[-1][2:] = high\n    return age_ranges\n\nage_ranges = tester_2(18, 56)\nage_ranges",
    "id": "8e61c94d87734cba8a027ce90d18eafb",
    "idx": 5,
    "time": "2021-02-03T23:29:05.938Z",
    "type": "execution"
   },
   {
    "id": "8e61c94d87734cba8a027ce90d18eafb",
    "time": "2021-02-03T23:29:06.015Z",
    "type": "completion"
   },
   {
    "code": "def tester_2(low, high):\n    age_ranges = []\n    for i in range(low,high,5):\n            age_ranges.append(f\"{i:02d}\"+f\"{i+4:02d}\")\n    test_str = age_ranges[-1][2:]\n    test_int = int(test_str)\n    if test_int > high:\n        age_ranges[-1][2:] = str(high)\n    return age_ranges\n\nage_ranges = tester_2(18, 56)\nage_ranges",
    "id": "8e61c94d87734cba8a027ce90d18eafb",
    "idx": 5,
    "time": "2021-02-03T23:29:20.914Z",
    "type": "execution"
   },
   {
    "id": "8e61c94d87734cba8a027ce90d18eafb",
    "time": "2021-02-03T23:29:20.989Z",
    "type": "completion"
   },
   {
    "code": "def tester_2(low, high):\n    age_ranges = []\n    for i in range(low,high,5):\n            age_ranges.append(f\"{i:02d}\"+f\"{i+4:02d}\")\n    test_str = age_ranges[-1][2:]\n    test_int = int(test_str)\n    if test_int > high:\n        age_ranges[-1][2:] == str(high)\n    return age_ranges\n\nage_ranges = tester_2(18, 56)\nage_ranges",
    "id": "8e61c94d87734cba8a027ce90d18eafb",
    "idx": 5,
    "time": "2021-02-03T23:29:27.027Z",
    "type": "execution"
   },
   {
    "id": "8e61c94d87734cba8a027ce90d18eafb",
    "time": "2021-02-03T23:29:27.085Z",
    "type": "completion"
   },
   {
    "code": "def tester_2(low, high):\n    age_ranges = []\n    for i in range(low,high,5):\n            age_ranges.append(f\"{i:02d}\"+f\"{i+4:02d}\")\n    test_str = age_ranges[-1][2:]\n    test_int = int(test_str)\n    if test_int > high:\n        age_ranges[-1]string.replace(test_str, str(high))\n    return age_ranges\n\nage_ranges = tester_2(18, 56)\nage_ranges",
    "id": "8e61c94d87734cba8a027ce90d18eafb",
    "idx": 5,
    "time": "2021-02-03T23:30:38.764Z",
    "type": "execution"
   },
   {
    "id": "8e61c94d87734cba8a027ce90d18eafb",
    "time": "2021-02-03T23:30:38.830Z",
    "type": "completion"
   },
   {
    "code": "def tester_2(low, high):\n    age_ranges = []\n    for i in range(low,high,5):\n            age_ranges.append(f\"{i:02d}\"+f\"{i+4:02d}\")\n    test_str = age_ranges[-1][2:]\n    test_int = int(test_str)\n    if test_int > high:\n        age_ranges[-1].replace(test_str, str(high))\n    return age_ranges\n\nage_ranges = tester_2(18, 56)\nage_ranges",
    "id": "8e61c94d87734cba8a027ce90d18eafb",
    "idx": 5,
    "time": "2021-02-03T23:30:44.160Z",
    "type": "execution"
   },
   {
    "id": "8e61c94d87734cba8a027ce90d18eafb",
    "time": "2021-02-03T23:30:44.249Z",
    "type": "completion"
   },
   {
    "code": "!pip install wbdata\nimport wbdata\nimport numpy as np\nimport pandas as pd\nimport cufflinks as cf\ncf.go_offline()",
    "id": "f0a42ce9e12046638219d25b6a284089",
    "idx": 0,
    "time": "2021-02-08T23:06:18.223Z",
    "type": "execution"
   },
   {
    "code": "(26 % 18) -5",
    "id": "dd7619fcb98b4102839c68410f87ecc1",
    "idx": 1,
    "time": "2021-02-08T23:06:18.248Z",
    "type": "execution"
   },
   {
    "code": "((22 % 18) - 5) % 5",
    "id": "cb2214dffab346c1913ea2a2ed4683d3",
    "idx": 2,
    "time": "2021-02-08T23:06:18.251Z",
    "type": "execution"
   },
   {
    "code": "for i in range(18,26,5):\n    print(i)",
    "id": "9adb9b3977f349499429adba83a45a46",
    "idx": 3,
    "time": "2021-02-08T23:06:18.253Z",
    "type": "execution"
   },
   {
    "code": "def tester(low, high):\n    age_ranges = []\n    for i in range(low,high,5):\n        if  ((i % low) - 5) % 5 == 0:\n            age_ranges.append(f\"{i:02d}\"+f\"{i+4:02d}\")\n        else:\n            age_ranges.append(f\"{i:02d}\"+f\"{i+((high%low)-5):02d}\")\n    return age_ranges\n\nage_ranges = tester(18, 56)\nage_ranges",
    "id": "c97b377e86d0420d8d1abe6bf3074d00",
    "idx": 4,
    "time": "2021-02-08T23:06:18.264Z",
    "type": "execution"
   },
   {
    "code": "def tester_2(low, high):\n    age_ranges = []\n    for i in range(low,high,5):\n            age_ranges.append(f\"{i:02d}\"+f\"{i+4:02d}\")\n    test_str = age_ranges[-1][2:]\n    test_int = int(test_str)\n    if test_int > high:\n        age_ranges[-1].replace(test_str, str(high))\n    return age_ranges\n\nage_ranges = tester_2(18, 56)\nage_ranges",
    "id": "68850109482749938c6b2badb11dd1c9",
    "idx": 5,
    "time": "2021-02-08T23:06:18.266Z",
    "type": "execution"
   },
   {
    "code": "test_str = age_ranges[-1][2:]\ntest_int = int(test_str)\ntest_int",
    "id": "15b31914f011404381753d619b2ac6d3",
    "idx": 6,
    "time": "2021-02-08T23:06:18.269Z",
    "type": "execution"
   },
   {
    "code": "def population(year, population, low, high, location):\n    age_ranges = []\n    if high > 80:\n        for i in range(low,80,5):\n            age_ranges.append(f\"{i:02d}\"+f\"{i+4:02d}\")\n        age_ranges.append(\"80UP\")\n    else:\n        if high % 5 == 0:\n            for i in range(low,high,5):\n                age_ranges.append(f\"{i:02d}\"+f\"{i+4:02d}\")\n        else:\n            for i in range(low,high,5):\n                age_ranges.append(f\"{i:02d}\"+f\"{i+4:02d}\")\n    \n    if population == \"Male\" or population == \"Males\":\n        male_variables = {\"SP.POP.\"+age_range+\".MA\":\"Males \"+age_range for age_range in age_ranges}\n        variables = male_variables\n    elif population == \"Female\" or population == \"Females\":\n        female_variables = {\"SP.POP.\"+age_range+\".FE\":\"Females \"+age_range for age_range in age_ranges}\n        variables = female_variables\n    else:\n        male_variables = {\"SP.POP.\"+age_range+\".MA\":\"Males \"+age_range for age_range in age_ranges}\n        female_variables = {\"SP.POP.\"+age_range+\".FE\":\"Females \"+age_range for age_range in age_ranges}\n        variables = male_variables\n        variables.update(female_variables)\n        \n    data = wbdata.get_dataframe(variables,country=location)\n    data.reset_index(inplace=True)\n    data['date'] = data['date'].astype(int)\n    data.set_index(['date'],inplace=True)\n    df = data.query(\"date==\"+str(year))\n    date_str = \"date==\" + str(year)\n    print(age_ranges)\n    print(df.query(date_str).sum(axis=0))\n    \npopulation(1966, \"Males\", 15, 30, \"USA\")",
    "id": "4488175287df4998a3d8f75f6a9f4bf8",
    "idx": 7,
    "time": "2021-02-08T23:06:18.274Z",
    "type": "execution"
   },
   {
    "code": "def population(year, population, low, high, location):\n    age_ranges = []\n    if high > 80:\n        for i in range(low,80,5):\n            age_ranges.append(f\"{i:02d}\"+f\"{i+1:02d}\")\n        age_ranges.append(\"80UP\")\n    else:\n        for i in range(low,high,5):\n            if i != (high - (high%5)):\n                age_ranges.append(f\"{i:02d}\"+f\"{i+4:02d}\")\n            else:\n                age_ranges.append(f\"{i:02d}\"+f\"{i+(high%5):02d}\")\n    \n    if population == \"Male\" or population == \"Males\":\n        male_variables = {\"SP.POP.\"+age_range+\".MA\":\"Males \"+age_range for age_range in age_ranges}\n        variables = male_variables\n    elif population == \"Female\" or population == \"Females\":\n        female_variables = {\"SP.POP.\"+age_range+\".FE\":\"Females \"+age_range for age_range in age_ranges}\n        variables = female_variables\n    else:\n        male_variables = {\"SP.POP.\"+age_range+\".MA\":\"Males \"+age_range for age_range in age_ranges}\n        female_variables = {\"SP.POP.\"+age_range+\".FE\":\"Females \"+age_range for age_range in age_ranges}\n        variables = male_variables\n        variables.update(female_variables)\n        \n    data = wbdata.get_dataframe(variables,country=location)\n    data.reset_index(inplace=True)\n    data['date'] = data['date'].astype(int)\n    data.set_index(['date'],inplace=True)\n    df = data.query(\"date==\"+str(year))\n    date_str = \"date==\" + str(year)\n    print(age_ranges)\n    print(df.query(date_str).sum(axis=0))\n    \npopulation(1966, \"Males\", 15, 30, \"USA\")",
    "id": "0d5cd36e186449198cf80cb820c6da44",
    "idx": 8,
    "time": "2021-02-08T23:06:18.278Z",
    "type": "execution"
   },
   {
    "code": "import numpy as np\n# wbdata.search_indicators(\"GDP per capita\")\n\nindicators = {\"NY.GDP.PCAP.CD\":\"GDP per capita\",\n              \"SP.DYN.TFRT.IN\":\"Total Fertility Rate\",\n              \"SP.POP.GROW\":\"Population Growth Rate\",\n              \"SP.DYN.AMRT.MA\":\"Male Mortality\",\n              \"SP.DYN.AMRT.FE\":\"Female Mortality\",\n              \"SP.POP.1564.FE.ZS\":\"% Adult Female\",\n              \"SP.POP.TOTL.FE.ZS\":\"% Female\"}\n\ndata = wbdata.get_dataframe(indicators)\n\n# Make years ints instead of strings\ndata.reset_index(inplace=True)\ndata['date'] = data['date'].astype(int)\ndata.set_index(['country','date'],inplace=True)\n\ndf = data.query(\"date==2018\") # Latest year missing some data",
    "id": "831db824dede4b8a9cd143ca04bd2d1c",
    "idx": 9,
    "time": "2021-02-08T23:06:18.283Z",
    "type": "execution"
   },
   {
    "code": "def population_df(year, location):\n    age_ranges = []\n    for i in range(0,80,5):\n        age_ranges.append(f\"{i:02d}\"+f\"{i+4:02d}\")\n    age_ranges.append(\"80UP\")\n\n    male_variables = {\"SP.POP.\"+age_range+\".MA\":\"Males \"+age_range for age_range in age_ranges}\n    female_variables = {\"SP.POP.\"+age_range+\".FE\":\"Females \"+age_range for age_range in age_ranges}\n    variables = male_variables\n    variables.update(female_variables)\n        \n    df = wbdata.get_dataframe(variables,country=\"WLD\")\n    #final_df = pd.DataFrame(df, columns=[\"Population Age Range\", \"Population Count\"])\n    return df.loc[[str(year)],:]\n\npopulation_df(2018, \"WLD\")",
    "id": "5d704ffb27bb429ba75ae2ec4b43ea90",
    "idx": 10,
    "time": "2021-02-08T23:06:18.287Z",
    "type": "execution"
   },
   {
    "code": "wbdata.search_indicators(\"population\")",
    "id": "75122602c970482eb32ae5d984af7464",
    "idx": 11,
    "time": "2021-02-08T23:06:18.289Z",
    "type": "execution"
   },
   {
    "code": "variable_labels = {\"SP.POP.TOTL\":\"Population\"}\n\nworld_popualtion_df = wbdata.get_dataframe(variable_labels).squeeze()\n\nworld_popualtion_df = world_popualtion_df.unstack('country')\n\nworld_popualtion_df\n# Date index is of type str",
    "id": "47cdacbcf1dc4fdf8b55d04c48477952",
    "idx": 12,
    "time": "2021-02-08T23:06:18.292Z",
    "type": "execution"
   },
   {
    "code": "age_ranges = []\nfor i in range(0,80,5):\n    age_ranges.append(f\"{i:02d}\"+f\"{i+4:02d}\")\n\nage_ranges.append(\"80UP\")\n\nmale_variables = {\"SP.POP.\"+age_range+\".MA\":\"Males \"+age_range for age_range in age_ranges}\nfemale_variables = {\"SP.POP.\"+age_range+\".FE\":\"Females \"+age_range for age_range in age_ranges}\n\nvariables = male_variables\nvariables.update(female_variables)\n\ndf = wbdata.get_dataframe(variables,country=\"WLD\")\ndf",
    "id": "15c2401af2b34b078dcbe332faa37e8d",
    "idx": 13,
    "time": "2021-02-08T23:06:18.296Z",
    "type": "execution"
   },
   {
    "code": "import plotly.offline as py\nimport plotly.graph_objs as go\n\npy.init_notebook_mode(connected=True)\n\n\ndef population_pyramid(dataframe):\n    layout = go.Layout(barmode='overlay',\n                   yaxis=go.layout.YAxis(range=[0, 90], title='Age'),\n                   xaxis=go.layout.XAxis(title='Number'))\n\n    year = dataframe.index[0]\n\n    bins = [go.Bar(x = dataframe.loc[str(year),:].filter(regex=\"Male\").values,\n               y = [int(s[:2])+1 for s in age_ranges],\n               orientation='h',\n               name='Men',\n               marker=dict(color='purple'),\n               hoverinfo='skip'\n               ),\n\n    go.Bar(x = -dataframe.loc[str(year),:].filter(regex=\"Female\").values,\n               y=[int(s[:2])+1 for s in age_ranges],\n               orientation='h',\n               name='Women',\n               marker=dict(color='pink'),\n               hoverinfo='skip',\n               )\n        ]\n    py.iplot(dict(data=bins, layout=layout))\n    \npopulation_pyramid(population_df(2015, \"WLD\"))",
    "id": "99cf7b8574a8425f965fcfbf803d4a35",
    "idx": 14,
    "time": "2021-02-08T23:06:18.299Z",
    "type": "execution"
   },
   {
    "code": "\ndef animated_population_pyramid(dataframe):\n\n    # Count down by increments of 20 years\n    years = range(2018,1960,-10)\n    \n    layout = go.Layout(barmode='overlay',\n                   yaxis=go.layout.YAxis(range=[0, 90], title='Age'),\n                   xaxis=go.layout.XAxis(title='Number'))\n\n    # This makes a list of graphs, year by year\n    bins = [go.Bar(x = df.loc[str(year),:].filter(regex=\"Male\").values,\n               y = [int(s[:2])+1 for s in age_ranges],\n               orientation='h',\n               name='Men {:d}'.format(year),\n               hoverinfo='skip'\n              )\n            for year in years]\n          \n    bins += [go.Bar(x = -df.loc[str(year),:].filter(regex=\"Female\").values,\n                y=[int(s[:2])+1 for s in age_ranges],\n                orientation='h',\n                name='Women {:d}'.format(year),\n                hoverinfo='skip',\n               )\n             for year in years]\n\n    return py.iplot(dict(data=bins, layout=layout))\n         \nanimated_population_pyramid(df)",
    "id": "38024601d539467f881fd6bac882a98c",
    "idx": 15,
    "time": "2021-02-08T23:06:18.301Z",
    "type": "execution"
   },
   {
    "id": "f0a42ce9e12046638219d25b6a284089",
    "time": "2021-02-08T23:06:27.869Z",
    "type": "completion"
   },
   {
    "id": "dd7619fcb98b4102839c68410f87ecc1",
    "time": "2021-02-08T23:06:27.884Z",
    "type": "completion"
   },
   {
    "id": "cb2214dffab346c1913ea2a2ed4683d3",
    "time": "2021-02-08T23:06:27.920Z",
    "type": "completion"
   },
   {
    "id": "9adb9b3977f349499429adba83a45a46",
    "time": "2021-02-08T23:06:27.935Z",
    "type": "completion"
   },
   {
    "id": "c97b377e86d0420d8d1abe6bf3074d00",
    "time": "2021-02-08T23:06:28.012Z",
    "type": "completion"
   },
   {
    "id": "68850109482749938c6b2badb11dd1c9",
    "time": "2021-02-08T23:06:28.015Z",
    "type": "completion"
   },
   {
    "id": "15b31914f011404381753d619b2ac6d3",
    "time": "2021-02-08T23:06:28.033Z",
    "type": "completion"
   },
   {
    "id": "4488175287df4998a3d8f75f6a9f4bf8",
    "time": "2021-02-08T23:06:28.173Z",
    "type": "completion"
   },
   {
    "id": "0d5cd36e186449198cf80cb820c6da44",
    "time": "2021-02-08T23:06:28.182Z",
    "type": "completion"
   },
   {
    "id": "831db824dede4b8a9cd143ca04bd2d1c",
    "time": "2021-02-08T23:06:54.632Z",
    "type": "completion"
   },
   {
    "id": "5d704ffb27bb429ba75ae2ec4b43ea90",
    "time": "2021-02-08T23:07:06.900Z",
    "type": "completion"
   },
   {
    "id": "75122602c970482eb32ae5d984af7464",
    "time": "2021-02-08T23:07:38.871Z",
    "type": "completion"
   },
   {
    "id": "47cdacbcf1dc4fdf8b55d04c48477952",
    "time": "2021-02-08T23:07:56.957Z",
    "type": "completion"
   },
   {
    "id": "15c2401af2b34b078dcbe332faa37e8d",
    "time": "2021-02-08T23:07:57.261Z",
    "type": "completion"
   },
   {
    "id": "99cf7b8574a8425f965fcfbf803d4a35",
    "time": "2021-02-08T23:07:58.143Z",
    "type": "completion"
   },
   {
    "id": "38024601d539467f881fd6bac882a98c",
    "time": "2021-02-08T23:07:58.154Z",
    "type": "completion"
   },
   {
    "code": "wbdata.get_country()",
    "id": "343c0065266c498588676ed2d2f95a93",
    "idx": 7,
    "time": "2021-02-08T23:10:08.747Z",
    "type": "execution"
   },
   {
    "id": "343c0065266c498588676ed2d2f95a93",
    "time": "2021-02-08T23:10:09.527Z",
    "type": "completion"
   },
   {
    "code": "!pip install wbdata\nimport wbdata\nimport numpy as np\nimport pandas as pd\nimport cufflinks as cf\ncf.go_offline()",
    "id": "f0a42ce9e12046638219d25b6a284089",
    "idx": 0,
    "time": "2021-02-08T23:12:33.096Z",
    "type": "execution"
   },
   {
    "code": "(26 % 18) -5",
    "id": "dd7619fcb98b4102839c68410f87ecc1",
    "idx": 1,
    "time": "2021-02-08T23:12:33.105Z",
    "type": "execution"
   },
   {
    "code": "((22 % 18) - 5) % 5",
    "id": "cb2214dffab346c1913ea2a2ed4683d3",
    "idx": 2,
    "time": "2021-02-08T23:12:33.107Z",
    "type": "execution"
   },
   {
    "code": "for i in range(18,26,5):\n    print(i)",
    "id": "9adb9b3977f349499429adba83a45a46",
    "idx": 3,
    "time": "2021-02-08T23:12:33.110Z",
    "type": "execution"
   },
   {
    "code": "def tester(low, high):\n    age_ranges = []\n    for i in range(low,high,5):\n        if  ((i % low) - 5) % 5 == 0:\n            age_ranges.append(f\"{i:02d}\"+f\"{i+4:02d}\")\n        else:\n            age_ranges.append(f\"{i:02d}\"+f\"{i+((high%low)-5):02d}\")\n    return age_ranges\n\nage_ranges = tester(18, 56)\nage_ranges",
    "id": "c97b377e86d0420d8d1abe6bf3074d00",
    "idx": 4,
    "time": "2021-02-08T23:12:33.113Z",
    "type": "execution"
   },
   {
    "code": "def tester_2(low, high):\n    age_ranges = []\n    for i in range(low,high,5):\n            age_ranges.append(f\"{i:02d}\"+f\"{i+4:02d}\")\n    test_str = age_ranges[-1][2:]\n    test_int = int(test_str)\n    if test_int > high:\n        age_ranges[-1].replace(test_str, str(high))\n    return age_ranges\n\nage_ranges = tester_2(18, 56)\nage_ranges",
    "id": "68850109482749938c6b2badb11dd1c9",
    "idx": 5,
    "time": "2021-02-08T23:12:33.117Z",
    "type": "execution"
   },
   {
    "code": "test_str = age_ranges[-1][2:]\ntest_int = int(test_str)\ntest_int",
    "id": "15b31914f011404381753d619b2ac6d3",
    "idx": 6,
    "time": "2021-02-08T23:12:33.120Z",
    "type": "execution"
   },
   {
    "code": "wbdata.get_country()",
    "id": "343c0065266c498588676ed2d2f95a93",
    "idx": 7,
    "time": "2021-02-08T23:12:33.123Z",
    "type": "execution"
   },
   {
    "code": "def population(year, population, low, high, location):\n    age_ranges = []\n    if high > 80:\n        for i in range(low,80,5):\n            age_ranges.append(f\"{i:02d}\"+f\"{i+4:02d}\")\n        age_ranges.append(\"80UP\")\n    else:\n        if high % 5 == 0:\n            for i in range(low,high,5):\n                age_ranges.append(f\"{i:02d}\"+f\"{i+4:02d}\")\n        else:\n            for i in range(low,high,5):\n                age_ranges.append(f\"{i:02d}\"+f\"{i+4:02d}\")\n    \n    if population == \"Male\" or population == \"Males\":\n        male_variables = {\"SP.POP.\"+age_range+\".MA\":\"Males \"+age_range for age_range in age_ranges}\n        variables = male_variables\n    elif population == \"Female\" or population == \"Females\":\n        female_variables = {\"SP.POP.\"+age_range+\".FE\":\"Females \"+age_range for age_range in age_ranges}\n        variables = female_variables\n    else:\n        male_variables = {\"SP.POP.\"+age_range+\".MA\":\"Males \"+age_range for age_range in age_ranges}\n        female_variables = {\"SP.POP.\"+age_range+\".FE\":\"Females \"+age_range for age_range in age_ranges}\n        variables = male_variables\n        variables.update(female_variables)\n        \n    data = wbdata.get_dataframe(variables,country=location)\n    data.reset_index(inplace=True)\n    data['date'] = data['date'].astype(int)\n    data.set_index(['date'],inplace=True)\n    df = data.query(\"date==\"+str(year))\n    date_str = \"date==\" + str(year)\n    print(age_ranges)\n    print(df.query(date_str).sum(axis=0))\n    \npopulation(1966, \"Males\", 15, 45, \"GBR\")",
    "id": "4488175287df4998a3d8f75f6a9f4bf8",
    "idx": 8,
    "time": "2021-02-08T23:12:33.125Z",
    "type": "execution"
   },
   {
    "code": "def population(year, population, low, high, location):\n    age_ranges = []\n    if high > 80:\n        for i in range(low,80,5):\n            age_ranges.append(f\"{i:02d}\"+f\"{i+1:02d}\")\n        age_ranges.append(\"80UP\")\n    else:\n        for i in range(low,high,5):\n            if i != (high - (high%5)):\n                age_ranges.append(f\"{i:02d}\"+f\"{i+4:02d}\")\n            else:\n                age_ranges.append(f\"{i:02d}\"+f\"{i+(high%5):02d}\")\n    \n    if population == \"Male\" or population == \"Males\":\n        male_variables = {\"SP.POP.\"+age_range+\".MA\":\"Males \"+age_range for age_range in age_ranges}\n        variables = male_variables\n    elif population == \"Female\" or population == \"Females\":\n        female_variables = {\"SP.POP.\"+age_range+\".FE\":\"Females \"+age_range for age_range in age_ranges}\n        variables = female_variables\n    else:\n        male_variables = {\"SP.POP.\"+age_range+\".MA\":\"Males \"+age_range for age_range in age_ranges}\n        female_variables = {\"SP.POP.\"+age_range+\".FE\":\"Females \"+age_range for age_range in age_ranges}\n        variables = male_variables\n        variables.update(female_variables)\n        \n    data = wbdata.get_dataframe(variables,country=location)\n    data.reset_index(inplace=True)\n    data['date'] = data['date'].astype(int)\n    data.set_index(['date'],inplace=True)\n    df = data.query(\"date==\"+str(year))\n    date_str = \"date==\" + str(year)\n    print(age_ranges)\n    print(df.query(date_str).sum(axis=0))\n    \npopulation(1966, \"Males\", 15, 45, \"GBR\")",
    "id": "0d5cd36e186449198cf80cb820c6da44",
    "idx": 9,
    "time": "2021-02-08T23:12:33.127Z",
    "type": "execution"
   },
   {
    "code": "import numpy as np\n# wbdata.search_indicators(\"GDP per capita\")\n\nindicators = {\"NY.GDP.PCAP.CD\":\"GDP per capita\",\n              \"SP.DYN.TFRT.IN\":\"Total Fertility Rate\",\n              \"SP.POP.GROW\":\"Population Growth Rate\",\n              \"SP.DYN.AMRT.MA\":\"Male Mortality\",\n              \"SP.DYN.AMRT.FE\":\"Female Mortality\",\n              \"SP.POP.1564.FE.ZS\":\"% Adult Female\",\n              \"SP.POP.TOTL.FE.ZS\":\"% Female\"}\n\ndata = wbdata.get_dataframe(indicators)\n\n# Make years ints instead of strings\ndata.reset_index(inplace=True)\ndata['date'] = data['date'].astype(int)\ndata.set_index(['country','date'],inplace=True)\n\ndf = data.query(\"date==2018\") # Latest year missing some data",
    "id": "831db824dede4b8a9cd143ca04bd2d1c",
    "idx": 10,
    "time": "2021-02-08T23:12:33.131Z",
    "type": "execution"
   },
   {
    "code": "def population_df(year, location):\n    age_ranges = []\n    for i in range(0,80,5):\n        age_ranges.append(f\"{i:02d}\"+f\"{i+4:02d}\")\n    age_ranges.append(\"80UP\")\n\n    male_variables = {\"SP.POP.\"+age_range+\".MA\":\"Males \"+age_range for age_range in age_ranges}\n    female_variables = {\"SP.POP.\"+age_range+\".FE\":\"Females \"+age_range for age_range in age_ranges}\n    variables = male_variables\n    variables.update(female_variables)\n        \n    df = wbdata.get_dataframe(variables,country=\"WLD\")\n    #final_df = pd.DataFrame(df, columns=[\"Population Age Range\", \"Population Count\"])\n    return df.loc[[str(year)],:]\n\npopulation_df(2018, \"GBR\")",
    "id": "5d704ffb27bb429ba75ae2ec4b43ea90",
    "idx": 11,
    "time": "2021-02-08T23:12:33.134Z",
    "type": "execution"
   },
   {
    "code": "wbdata.search_indicators(\"population\")",
    "id": "75122602c970482eb32ae5d984af7464",
    "idx": 12,
    "time": "2021-02-08T23:12:33.189Z",
    "type": "execution"
   },
   {
    "code": "variable_labels = {\"SP.POP.TOTL\":\"Population\"}\n\nworld_popualtion_df = wbdata.get_dataframe(variable_labels).squeeze()\n\nworld_popualtion_df = world_popualtion_df.unstack('country')\n\nworld_popualtion_df\n# Date index is of type str",
    "id": "47cdacbcf1dc4fdf8b55d04c48477952",
    "idx": 13,
    "time": "2021-02-08T23:12:33.192Z",
    "type": "execution"
   },
   {
    "code": "age_ranges = []\nfor i in range(0,80,5):\n    age_ranges.append(f\"{i:02d}\"+f\"{i+4:02d}\")\n\nage_ranges.append(\"80UP\")\n\nmale_variables = {\"SP.POP.\"+age_range+\".MA\":\"Males \"+age_range for age_range in age_ranges}\nfemale_variables = {\"SP.POP.\"+age_range+\".FE\":\"Females \"+age_range for age_range in age_ranges}\n\nvariables = male_variables\nvariables.update(female_variables)\n\ndf = wbdata.get_dataframe(variables,country=\"WLD\")\ndf",
    "id": "15c2401af2b34b078dcbe332faa37e8d",
    "idx": 14,
    "time": "2021-02-08T23:12:33.199Z",
    "type": "execution"
   },
   {
    "code": "import plotly.offline as py\nimport plotly.graph_objs as go\n\npy.init_notebook_mode(connected=True)\n\n\ndef population_pyramid(dataframe):\n    layout = go.Layout(barmode='overlay',\n                   yaxis=go.layout.YAxis(range=[0, 90], title='Age'),\n                   xaxis=go.layout.XAxis(title='Number'))\n\n    year = dataframe.index[0]\n\n    bins = [go.Bar(x = dataframe.loc[str(year),:].filter(regex=\"Male\").values,\n               y = [int(s[:2])+1 for s in age_ranges],\n               orientation='h',\n               name='Men',\n               marker=dict(color='purple'),\n               hoverinfo='skip'\n               ),\n\n    go.Bar(x = -dataframe.loc[str(year),:].filter(regex=\"Female\").values,\n               y=[int(s[:2])+1 for s in age_ranges],\n               orientation='h',\n               name='Women',\n               marker=dict(color='pink'),\n               hoverinfo='skip',\n               )\n        ]\n    py.iplot(dict(data=bins, layout=layout))\n    \npopulation_pyramid(population_df(2015, \"GBR\"))",
    "id": "99cf7b8574a8425f965fcfbf803d4a35",
    "idx": 15,
    "time": "2021-02-08T23:12:33.213Z",
    "type": "execution"
   },
   {
    "code": "\ndef animated_population_pyramid(dataframe):\n\n    # Count down by increments of 20 years\n    years = range(2018,1960,-10)\n    \n    layout = go.Layout(barmode='overlay',\n                   yaxis=go.layout.YAxis(range=[0, 90], title='Age'),\n                   xaxis=go.layout.XAxis(title='Number'))\n\n    # This makes a list of graphs, year by year\n    bins = [go.Bar(x = df.loc[str(year),:].filter(regex=\"Male\").values,\n               y = [int(s[:2])+1 for s in age_ranges],\n               orientation='h',\n               name='Men {:d}'.format(year),\n               hoverinfo='skip'\n              )\n            for year in years]\n          \n    bins += [go.Bar(x = -df.loc[str(year),:].filter(regex=\"Female\").values,\n                y=[int(s[:2])+1 for s in age_ranges],\n                orientation='h',\n                name='Women {:d}'.format(year),\n                hoverinfo='skip',\n               )\n             for year in years]\n\n    return py.iplot(dict(data=bins, layout=layout))\n         \nanimated_population_pyramid(df)",
    "id": "38024601d539467f881fd6bac882a98c",
    "idx": 16,
    "time": "2021-02-08T23:12:33.220Z",
    "type": "execution"
   },
   {
    "id": "f0a42ce9e12046638219d25b6a284089",
    "time": "2021-02-08T23:12:38.102Z",
    "type": "completion"
   },
   {
    "id": "dd7619fcb98b4102839c68410f87ecc1",
    "time": "2021-02-08T23:12:38.140Z",
    "type": "completion"
   },
   {
    "id": "cb2214dffab346c1913ea2a2ed4683d3",
    "time": "2021-02-08T23:12:38.176Z",
    "type": "completion"
   },
   {
    "id": "9adb9b3977f349499429adba83a45a46",
    "time": "2021-02-08T23:12:38.186Z",
    "type": "completion"
   },
   {
    "id": "c97b377e86d0420d8d1abe6bf3074d00",
    "time": "2021-02-08T23:12:38.225Z",
    "type": "completion"
   },
   {
    "id": "68850109482749938c6b2badb11dd1c9",
    "time": "2021-02-08T23:12:38.246Z",
    "type": "completion"
   },
   {
    "id": "15b31914f011404381753d619b2ac6d3",
    "time": "2021-02-08T23:12:38.250Z",
    "type": "completion"
   },
   {
    "id": "343c0065266c498588676ed2d2f95a93",
    "time": "2021-02-08T23:12:38.324Z",
    "type": "completion"
   },
   {
    "id": "4488175287df4998a3d8f75f6a9f4bf8",
    "time": "2021-02-08T23:12:42.479Z",
    "type": "completion"
   },
   {
    "id": "0d5cd36e186449198cf80cb820c6da44",
    "time": "2021-02-08T23:12:42.532Z",
    "type": "completion"
   },
   {
    "id": "831db824dede4b8a9cd143ca04bd2d1c",
    "time": "2021-02-08T23:12:44.702Z",
    "type": "completion"
   },
   {
    "id": "5d704ffb27bb429ba75ae2ec4b43ea90",
    "time": "2021-02-08T23:12:44.982Z",
    "type": "completion"
   },
   {
    "id": "75122602c970482eb32ae5d984af7464",
    "time": "2021-02-08T23:12:45.552Z",
    "type": "completion"
   },
   {
    "id": "47cdacbcf1dc4fdf8b55d04c48477952",
    "time": "2021-02-08T23:12:45.670Z",
    "type": "completion"
   },
   {
    "id": "15c2401af2b34b078dcbe332faa37e8d",
    "time": "2021-02-08T23:12:45.865Z",
    "type": "completion"
   },
   {
    "id": "99cf7b8574a8425f965fcfbf803d4a35",
    "time": "2021-02-08T23:12:46.147Z",
    "type": "completion"
   },
   {
    "id": "38024601d539467f881fd6bac882a98c",
    "time": "2021-02-08T23:12:46.385Z",
    "type": "completion"
   },
   {
    "code": "age_ranges = []\nfor i in range(0,80,5):\n    age_ranges.append(f\"{i:02d}\"+f\"{i+4:02d}\")\n\nage_ranges.append(\"80UP\")\n\nmale_variables = {\"SP.POP.\"+age_range+\".MA\":\"Males \"+age_range for age_range in age_ranges}\nfemale_variables = {\"SP.POP.\"+age_range+\".FE\":\"Females \"+age_range for age_range in age_ranges}\n\nvariables = male_variables\nvariables.update(female_variables)",
    "id": "aa65bed91e47499e875c80d46861f303",
    "idx": 8,
    "time": "2021-02-17T03:31:06.461Z",
    "type": "execution"
   },
   {
    "id": "aa65bed91e47499e875c80d46861f303",
    "time": "2021-02-17T03:31:06.610Z",
    "type": "completion"
   },
   {
    "code": "def population(year, population, low, high, location):\n    age_ranges = []\n    if high > 80:\n        for i in range(low,80,5):\n            age_ranges.append(f\"{i:02d}\"+f\"{i+4:02d}\")\n        age_ranges.append(\"80UP\")\n    else:\n        if high % 5 == 0:\n            for i in range(low,high,5):\n                age_ranges.append(f\"{i:02d}\"+f\"{i+4:02d}\")\n        else:\n            for i in range(low,high,5):\n                age_ranges.append(f\"{i:02d}\"+f\"{i+4:02d}\")\n    \n    if population == \"Male\" or population == \"Males\":\n        male_variables = {\"SP.POP.\"+age_range+\".MA\":\"Males \"+age_range for age_range in age_ranges}\n        variables = male_variables\n    elif population == \"Female\" or population == \"Females\":\n        female_variables = {\"SP.POP.\"+age_range+\".FE\":\"Females \"+age_range for age_range in age_ranges}\n        variables = female_variables\n    else:\n        male_variables = {\"SP.POP.\"+age_range+\".MA\":\"Males \"+age_range for age_range in age_ranges}\n        female_variables = {\"SP.POP.\"+age_range+\".FE\":\"Females \"+age_range for age_range in age_ranges}\n        variables = male_variables\n        variables.update(female_variables)\n        \n    data = wbdata.get_dataframe(variables,country=location)\n    data.reset_index(inplace=True)\n    data['date'] = data['date'].astype(int)\n    data.set_index(['date'],inplace=True)\n    df = data.query(\"date==\"+str(year))\n    date_str = \"date==\" + str(year)\n    print(age_ranges)\n    print(df.query(date_str).sum(axis=0))\n    \npopulation(2008, \"All\", 15, 85, \"GBR\")",
    "id": "d75f7961d34b4b8884571a3031acc81e",
    "idx": 4,
    "time": "2021-02-17T03:35:32.882Z",
    "type": "execution"
   },
   {
    "id": "d75f7961d34b4b8884571a3031acc81e",
    "time": "2021-02-17T03:35:33.456Z",
    "type": "completion"
   },
   {
    "code": "!pip install wbdata\nimport wbdata\nimport numpy as np\nimport pandas as pd\nimport cufflinks as cf\ncf.go_offline()",
    "id": "4fcfafcab0d0425f83da5cdedf347e6c",
    "idx": 2,
    "time": "2021-02-17T03:35:37.775Z",
    "type": "execution"
   },
   {
    "code": "def population(year, population, low, high, location):\n    age_ranges = []\n    if high > 80:\n        for i in range(low,80,5):\n            age_ranges.append(f\"{i:02d}\"+f\"{i+4:02d}\")\n        age_ranges.append(\"80UP\")\n    else:\n        if high % 5 == 0:\n            for i in range(low,high,5):\n                age_ranges.append(f\"{i:02d}\"+f\"{i+4:02d}\")\n        else:\n            for i in range(low,high,5):\n                age_ranges.append(f\"{i:02d}\"+f\"{i+4:02d}\")\n    \n    if population == \"Male\" or population == \"Males\":\n        male_variables = {\"SP.POP.\"+age_range+\".MA\":\"Males \"+age_range for age_range in age_ranges}\n        variables = male_variables\n    elif population == \"Female\" or population == \"Females\":\n        female_variables = {\"SP.POP.\"+age_range+\".FE\":\"Females \"+age_range for age_range in age_ranges}\n        variables = female_variables\n    else:\n        male_variables = {\"SP.POP.\"+age_range+\".MA\":\"Males \"+age_range for age_range in age_ranges}\n        female_variables = {\"SP.POP.\"+age_range+\".FE\":\"Females \"+age_range for age_range in age_ranges}\n        variables = male_variables\n        variables.update(female_variables)\n        \n    data = wbdata.get_dataframe(variables,country=location)\n    data.reset_index(inplace=True)\n    data['date'] = data['date'].astype(int)\n    data.set_index(['date'],inplace=True)\n    df = data.query(\"date==\"+str(year))\n    date_str = \"date==\" + str(year)\n    print(age_ranges)\n    print(df.query(date_str).sum(axis=0))\n    \npopulation(2008, \"All\", 15, 85, \"GBR\")",
    "id": "d75f7961d34b4b8884571a3031acc81e",
    "idx": 4,
    "time": "2021-02-17T03:35:39.123Z",
    "type": "execution"
   },
   {
    "code": "def population_df(year, location):\n    age_ranges = []\n    for i in range(0,80,5):\n        age_ranges.append(f\"{i:02d}\"+f\"{i+4:02d}\")\n    age_ranges.append(\"80UP\")\n\n    male_variables = {\"SP.POP.\"+age_range+\".MA\":\"Males \"+age_range for age_range in age_ranges}\n    female_variables = {\"SP.POP.\"+age_range+\".FE\":\"Females \"+age_range for age_range in age_ranges}\n    variables = male_variables\n    variables.update(female_variables)\n        \n    df = wbdata.get_dataframe(variables,country=\"WLD\")\n    #final_df = pd.DataFrame(df, columns=[\"Population Age Range\", \"Population Count\"])\n    return df.loc[[str(year)],:]\n\npopulation_df(2008, \"GBR\")",
    "id": "918ca9d718e14f7297d0fa414948db12",
    "idx": 6,
    "time": "2021-02-17T03:35:43.980Z",
    "type": "execution"
   },
   {
    "code": "age_ranges = []\nfor i in range(0,80,5):\n    age_ranges.append(f\"{i:02d}\"+f\"{i+4:02d}\")\n\nage_ranges.append(\"80UP\")\n\nmale_variables = {\"SP.POP.\"+age_range+\".MA\":\"Males \"+age_range for age_range in age_ranges}\nfemale_variables = {\"SP.POP.\"+age_range+\".FE\":\"Females \"+age_range for age_range in age_ranges}\n\nvariables = male_variables\nvariables.update(female_variables)\n\ndf = wbdata.get_dataframe(variables,country=\"GBR\")\ndf",
    "id": "aa65bed91e47499e875c80d46861f303",
    "idx": 8,
    "time": "2021-02-17T03:35:53.932Z",
    "type": "execution"
   },
   {
    "code": "import plotly.offline as py\nimport plotly.graph_objs as go\n\npy.init_notebook_mode(connected=True)\n\n\ndef population_pyramid(dataframe):\n    layout = go.Layout(barmode='overlay',\n                   yaxis=go.layout.YAxis(range=[0, 90], title='Age'),\n                   xaxis=go.layout.XAxis(title='Number'))\n\n    year = dataframe.index[0]\n\n    bins = [go.Bar(x = dataframe.loc[str(year),:].filter(regex=\"Male\").values,\n               y = [int(s[:2])+1 for s in age_ranges],\n               orientation='h',\n               name='Men',\n               marker=dict(color='purple'),\n               hoverinfo='skip'\n               ),\n\n    go.Bar(x = -dataframe.loc[str(year),:].filter(regex=\"Female\").values,\n               y=[int(s[:2])+1 for s in age_ranges],\n               orientation='h',\n               name='Women',\n               marker=dict(color='pink'),\n               hoverinfo='skip',\n               )\n        ]\n    py.iplot(dict(data=bins, layout=layout))\n    \npopulation_pyramid(population_df(2008, \"GBR\"))",
    "id": "8acd37df5ffe4c498b808d02a1da6762",
    "idx": 10,
    "time": "2021-02-17T03:36:00.212Z",
    "type": "execution"
   },
   {
    "code": "\ndef animated_population_pyramid(dataframe):\n\n    # Count down by increments of 20 years\n    years = range(2018,1960,-10)\n    \n    layout = go.Layout(barmode='overlay',\n                   yaxis=go.layout.YAxis(range=[0, 90], title='Age'),\n                   xaxis=go.layout.XAxis(title='Number'))\n\n    # This makes a list of graphs, year by year\n    bins = [go.Bar(x = df.loc[str(year),:].filter(regex=\"Male\").values,\n               y = [int(s[:2])+1 for s in age_ranges],\n               orientation='h',\n               name='Men {:d}'.format(year),\n               hoverinfo='skip'\n              )\n            for year in years]\n          \n    bins += [go.Bar(x = -df.loc[str(year),:].filter(regex=\"Female\").values,\n                y=[int(s[:2])+1 for s in age_ranges],\n                orientation='h',\n                name='Women {:d}'.format(year),\n                hoverinfo='skip',\n               )\n             for year in years]\n\n    return py.iplot(dict(data=bins, layout=layout))\n         \nanimated_population_pyramid(df)",
    "id": "c3aa5eed353443648dd1cc4ac032aa64",
    "idx": 12,
    "time": "2021-02-17T03:36:04.656Z",
    "type": "execution"
   },
   {
    "id": "4fcfafcab0d0425f83da5cdedf347e6c",
    "time": "2021-02-17T03:36:05.649Z",
    "type": "completion"
   },
   {
    "id": "d75f7961d34b4b8884571a3031acc81e",
    "time": "2021-02-17T03:36:18.288Z",
    "type": "completion"
   },
   {
    "id": "918ca9d718e14f7297d0fa414948db12",
    "time": "2021-02-17T03:36:26.802Z",
    "type": "completion"
   },
   {
    "id": "aa65bed91e47499e875c80d46861f303",
    "time": "2021-02-17T03:36:30.200Z",
    "type": "completion"
   },
   {
    "id": "8acd37df5ffe4c498b808d02a1da6762",
    "time": "2021-02-17T03:36:31.171Z",
    "type": "completion"
   },
   {
    "id": "c3aa5eed353443648dd1cc4ac032aa64",
    "time": "2021-02-17T03:36:31.615Z",
    "type": "completion"
   },
   {
    "code": "def population(year, population, low, high, location):\n    age_ranges = []\n    if high > 80:\n        for i in range(low,80,5):\n            age_ranges.append(f\"{i:02d}\"+f\"{i+4:02d}\")\n        age_ranges.append(\"80UP\")\n    else:\n        if high % 5 == 0:\n            for i in range(low,high,5):\n                age_ranges.append(f\"{i:02d}\"+f\"{i+4:02d}\")\n        else:\n            for i in range(low,high,5):\n                age_ranges.append(f\"{i:02d}\"+f\"{i+4:02d}\")\n    \n    if population == \"Male\" or population == \"Males\":\n        male_variables = {\"SP.POP.\"+age_range+\".MA\":\"Males \"+age_range for age_range in age_ranges}\n        variables = male_variables\n    elif population == \"Female\" or population == \"Females\":\n        female_variables = {\"SP.POP.\"+age_range+\".FE\":\"Females \"+age_range for age_range in age_ranges}\n        variables = female_variables\n    else:\n        male_variables = {\"SP.POP.\"+age_range+\".MA\":\"Males \"+age_range for age_range in age_ranges}\n        female_variables = {\"SP.POP.\"+age_range+\".FE\":\"Females \"+age_range for age_range in age_ranges}\n        variables = male_variables\n        variables.update(female_variables)\n        \n    data = wbdata.get_dataframe(variables,country=location)\n    data.reset_index(inplace=True)\n    data['date'] = data['date'].astype(int)\n    data.set_index(['date'],inplace=True)\n    df = data.query(\"date==\"+str(year))\n    date_str = \"date==\" + str(year)\n    print(df.query(date_str).sum(axis=0))\n    \npopulation(2008, \"All\", 15, 85, \"GBR\")",
    "id": "d75f7961d34b4b8884571a3031acc81e",
    "idx": 4,
    "time": "2021-02-17T03:38:19.723Z",
    "type": "execution"
   },
   {
    "code": "!pip install wbdata\nimport wbdata\nimport numpy as np\nimport pandas as pd\nimport cufflinks as cf\ncf.go_offline()",
    "id": "81a9aef592374e56b3764a9a854ea404",
    "idx": 2,
    "time": "2021-02-17T05:44:33.472Z",
    "type": "execution"
   },
   {
    "code": "def population(year, population, low, high, location):\n    age_ranges = []\n    if high > 80:\n        for i in range(low,80,5):\n            age_ranges.append(f\"{i:02d}\"+f\"{i+4:02d}\")\n        age_ranges.append(\"80UP\")\n    else:\n        if high % 5 == 0:\n            for i in range(low,high,5):\n                age_ranges.append(f\"{i:02d}\"+f\"{i+4:02d}\")\n        else:\n            for i in range(low,high,5):\n                age_ranges.append(f\"{i:02d}\"+f\"{i+4:02d}\")\n    \n    if population == \"Male\" or population == \"Males\":\n        male_variables = {\"SP.POP.\"+age_range+\".MA\":\"Males \"+age_range for age_range in age_ranges}\n        variables = male_variables\n    elif population == \"Female\" or population == \"Females\":\n        female_variables = {\"SP.POP.\"+age_range+\".FE\":\"Females \"+age_range for age_range in age_ranges}\n        variables = female_variables\n    else:\n        male_variables = {\"SP.POP.\"+age_range+\".MA\":\"Males \"+age_range for age_range in age_ranges}\n        female_variables = {\"SP.POP.\"+age_range+\".FE\":\"Females \"+age_range for age_range in age_ranges}\n        variables = male_variables\n        variables.update(female_variables)\n        \n    data = wbdata.get_dataframe(variables,country=location)\n    data.reset_index(inplace=True)\n    data['date'] = data['date'].astype(int)\n    data.set_index(['date'],inplace=True)\n    df = data.query(\"date==\"+str(year))\n    date_str = \"date==\" + str(year)\n    print(df.query(date_str).sum(axis=0))\n    \npopulation(2008, \"All\", 15, 85, \"GBR\")",
    "id": "2fb9c198eb74486c8e7774e7f8407f4e",
    "idx": 4,
    "time": "2021-02-17T05:44:33.477Z",
    "type": "execution"
   },
   {
    "code": "def population_df(year, location):\n    age_ranges = []\n    for i in range(0,80,5):\n        age_ranges.append(f\"{i:02d}\"+f\"{i+4:02d}\")\n    age_ranges.append(\"80UP\")\n\n    male_variables = {\"SP.POP.\"+age_range+\".MA\":\"Males \"+age_range for age_range in age_ranges}\n    female_variables = {\"SP.POP.\"+age_range+\".FE\":\"Females \"+age_range for age_range in age_ranges}\n    variables = male_variables\n    variables.update(female_variables)\n        \n    df = wbdata.get_dataframe(variables,country=\"WLD\")\n    #final_df = pd.DataFrame(df, columns=[\"Population Age Range\", \"Population Count\"])\n    return df.loc[[str(year)],:]\n\npopulation_df(2008, \"GBR\")",
    "id": "1d74e635c39543d4852825e32ef5c341",
    "idx": 6,
    "time": "2021-02-17T05:44:33.481Z",
    "type": "execution"
   },
   {
    "code": "age_ranges = []\nfor i in range(0,80,5):\n    age_ranges.append(f\"{i:02d}\"+f\"{i+4:02d}\")\n\nage_ranges.append(\"80UP\")\n\nmale_variables = {\"SP.POP.\"+age_range+\".MA\":\"Males \"+age_range for age_range in age_ranges}\nfemale_variables = {\"SP.POP.\"+age_range+\".FE\":\"Females \"+age_range for age_range in age_ranges}\n\nvariables = male_variables\nvariables.update(female_variables)\n\ndf = wbdata.get_dataframe(variables,country=\"GBR\")\ndf",
    "id": "7fe6a0dd18b2434e9092fa3380307187",
    "idx": 8,
    "time": "2021-02-17T05:44:33.488Z",
    "type": "execution"
   },
   {
    "code": "import plotly.offline as py\nimport plotly.graph_objs as go\n\npy.init_notebook_mode(connected=True)\n\n\ndef population_pyramid(dataframe):\n    layout = go.Layout(barmode='overlay',\n                   yaxis=go.layout.YAxis(range=[0, 90], title='Age'),\n                   xaxis=go.layout.XAxis(title='Number'))\n\n    year = dataframe.index[0]\n\n    bins = [go.Bar(x = dataframe.loc[str(year),:].filter(regex=\"Male\").values,\n               y = [int(s[:2])+1 for s in age_ranges],\n               orientation='h',\n               name='Men',\n               marker=dict(color='purple'),\n               hoverinfo='skip'\n               ),\n\n    go.Bar(x = -dataframe.loc[str(year),:].filter(regex=\"Female\").values,\n               y=[int(s[:2])+1 for s in age_ranges],\n               orientation='h',\n               name='Women',\n               marker=dict(color='pink'),\n               hoverinfo='skip',\n               )\n        ]\n    py.iplot(dict(data=bins, layout=layout))\n    \npopulation_pyramid(population_df(2008, \"GBR\"))",
    "id": "cd187a5eb6e74a0a893916128f509d7d",
    "idx": 10,
    "time": "2021-02-17T05:44:33.491Z",
    "type": "execution"
   },
   {
    "code": "\ndef animated_population_pyramid(dataframe):\n\n    # Count down by increments of 20 years\n    years = range(2018,1960,-10)\n    \n    layout = go.Layout(barmode='overlay',\n                   yaxis=go.layout.YAxis(range=[0, 90], title='Age'),\n                   xaxis=go.layout.XAxis(title='Number'))\n\n    # This makes a list of graphs, year by year\n    bins = [go.Bar(x = df.loc[str(year),:].filter(regex=\"Male\").values,\n               y = [int(s[:2])+1 for s in age_ranges],\n               orientation='h',\n               name='Men {:d}'.format(year),\n               hoverinfo='skip'\n              )\n            for year in years]\n          \n    bins += [go.Bar(x = -df.loc[str(year),:].filter(regex=\"Female\").values,\n                y=[int(s[:2])+1 for s in age_ranges],\n                orientation='h',\n                name='Women {:d}'.format(year),\n                hoverinfo='skip',\n               )\n             for year in years]\n\n    return py.iplot(dict(data=bins, layout=layout))\n         \nanimated_population_pyramid(df)",
    "id": "730ca26581ed466cbe0f6f25d035964b",
    "idx": 12,
    "time": "2021-02-17T05:44:33.494Z",
    "type": "execution"
   },
   {
    "id": "81a9aef592374e56b3764a9a854ea404",
    "time": "2021-02-17T05:44:41.774Z",
    "type": "completion"
   },
   {
    "id": "2fb9c198eb74486c8e7774e7f8407f4e",
    "time": "2021-02-17T05:44:41.923Z",
    "type": "completion"
   },
   {
    "id": "1d74e635c39543d4852825e32ef5c341",
    "time": "2021-02-17T05:44:42.211Z",
    "type": "completion"
   },
   {
    "id": "7fe6a0dd18b2434e9092fa3380307187",
    "time": "2021-02-17T05:44:42.447Z",
    "type": "completion"
   },
   {
    "id": "cd187a5eb6e74a0a893916128f509d7d",
    "time": "2021-02-17T05:44:43.494Z",
    "type": "completion"
   },
   {
    "id": "730ca26581ed466cbe0f6f25d035964b",
    "time": "2021-02-17T05:44:43.555Z",
    "type": "completion"
   }
  ],
  "kernelspec": {
   "display_name": "Python 3",
   "language": "python",
   "name": "python3"
  },
  "language_info": {
   "codemirror_mode": {
    "name": "ipython",
    "version": 3
   },
   "file_extension": ".py",
   "mimetype": "text/x-python",
   "name": "python",
   "nbconvert_exporter": "python",
   "pygments_lexer": "ipython3",
   "version": "3.8.6"
  }
 },
 "nbformat": 4,
 "nbformat_minor": 4
}
